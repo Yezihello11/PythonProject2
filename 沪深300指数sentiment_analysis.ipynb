{
 "cells": [
  {
   "metadata": {},
   "cell_type": "markdown",
   "source": "## Import",
   "id": "a65a1519c4b0321e"
  },
  {
   "metadata": {
    "ExecuteTime": {
     "end_time": "2025-05-25T15:47:01.782575Z",
     "start_time": "2025-05-25T15:46:51.687507Z"
    }
   },
   "cell_type": "code",
   "source": [
    "import numpy as np\n",
    "import pandas as pd\n",
    "import re\n",
    "import matplotlib.pyplot as plt\n",
    "from datetime import datetime\n",
    "from scipy.stats import zscore, pearsonr\n",
    "from statsmodels.tsa.stattools import grangercausalitytests\n",
    "import jieba\n",
    "from snownlp import SnowNLP\n",
    "import tushare as ts\n",
    "import akshare as ak\n",
    "from statsmodels.tsa.stattools import adfuller, coint, kpss, grangercausalitytests\n",
    "from statsmodels.tsa.vector_ar.vecm import coint_johansen\n",
    "import statsmodels.api as sm\n",
    "from linearmodels.panel import PanelOLS, RandomEffects, compare\n",
    "from linearmodels.iv import IV2SLS\n",
    "from scipy import stats\n",
    "from statsmodels.stats.outliers_influence import variance_inflation_factor"
   ],
   "id": "8ca5801a2a5ac11d",
   "outputs": [],
   "execution_count": 1
  },
  {
   "metadata": {},
   "cell_type": "markdown",
   "source": "## Package",
   "id": "9416f2b83874bfa6"
  },
  {
   "metadata": {
    "ExecuteTime": {
     "end_time": "2025-05-25T15:47:21.098453Z",
     "start_time": "2025-05-25T15:47:21.091293Z"
    }
   },
   "cell_type": "code",
   "source": [
    "def test_stationarity(series, alpha=0.05):\n",
    "    # ADF检验\n",
    "    adf_result = adfuller(series.dropna())\n",
    "    print(f\"ADF Statistic: {adf_result[0]:.4f}\")\n",
    "    print(f\"ADF p-value: {adf_result[1]:.4f}\")\n",
    "    print(\"ADF结论: 序列平稳\" if adf_result[1] < alpha else \"ADF结论: 序列非平稳\")\n",
    "\n",
    "    # KPSS检验\n",
    "    kpss_result = kpss(series.dropna())\n",
    "    print(f\"\\nKPSS Statistic: {kpss_result[0]:.4f}\")\n",
    "    print(f\"KPSS p-value: {kpss_result[1]:.4f}\")\n",
    "    print(\"KPSS结论: 序列趋势平稳\" if kpss_result[1] > alpha else \"KPSS结论: 序列存在单位根\")"
   ],
   "id": "1d5b4b52f48793eb",
   "outputs": [],
   "execution_count": 2
  },
  {
   "metadata": {
    "ExecuteTime": {
     "end_time": "2025-05-25T15:47:22.756994Z",
     "start_time": "2025-05-25T15:47:22.750567Z"
    }
   },
   "cell_type": "code",
   "source": [
    "def winsorize_series(series, lower=0.01, upper=0.99):\n",
    "    \"\"\"\n",
    "    对收益率序列进行缩尾处理\n",
    "    :param series: pandas Series, 收益率序列\n",
    "    :param lower: 下缩尾分位数（默认1%）\n",
    "    :param upper: 上缩尾分位数（默认99%）\n",
    "    :return: 缩尾后的Series\n",
    "    \"\"\"\n",
    "    # 计算分位数边界\n",
    "    lower_bound = series.quantile(lower)\n",
    "    upper_bound = series.quantile(upper)\n",
    "\n",
    "    # 执行缩尾（极端值替换为边界值）\n",
    "    return series.clip(lower=lower_bound, upper=upper_bound)"
   ],
   "id": "d4ab29ea5eca8ff3",
   "outputs": [],
   "execution_count": 3
  },
  {
   "metadata": {
    "ExecuteTime": {
     "end_time": "2025-05-25T15:47:23.026509Z",
     "start_time": "2025-05-25T15:47:23.019281Z"
    }
   },
   "cell_type": "code",
   "source": [
    "def get_stock_data(stock_id, start_time, end_time):\n",
    "    ## 个股数据\n",
    "\n",
    "    pro = ts.pro_api('2876ea85cb005fb5fa17c809a98174f2d5aae8b1f830110a5ead6211')\n",
    "    # 拉取数据\n",
    "\n",
    "    # 拉取数据\n",
    "    stock_daily_basic = pro.daily_basic(**{\n",
    "        \"ts_code\": stock_id,\n",
    "        \"trade_date\": \"\",\n",
    "        \"start_date\": start_time,\n",
    "        \"end_date\": end_time,\n",
    "        \"limit\": \"\",\n",
    "        \"offset\": \"\"\n",
    "    }, fields=[\n",
    "        \"ts_code\",\n",
    "        \"trade_date\",\n",
    "        \"turnover_rate\",\n",
    "        \"pe\",\n",
    "        \"pb\"\n",
    "    ])\n",
    "\n",
    "    # 拉取数据\n",
    "    stock_daily = pro.daily(**{\n",
    "        \"ts_code\": stock_id,\n",
    "        \"trade_date\": \"\",\n",
    "        \"start_date\": start_time,\n",
    "        \"end_date\": end_time,\n",
    "        \"offset\": \"\",\n",
    "        \"limit\": \"\"\n",
    "    }, fields=[\n",
    "        \"ts_code\",\n",
    "        \"trade_date\",\n",
    "        \"open\",\n",
    "        \"high\",\n",
    "        \"low\",\n",
    "        \"close\",\n",
    "        \"vol\",\n",
    "        \"amount\"\n",
    "    ])\n",
    "\n",
    "    if stock_daily.empty:\n",
    "        print(f'{stock_id} stock 行情数据 is empty')\n",
    "    if stock_daily_basic.empty:\n",
    "        print(f'{stock_id} stock 每日指标 is empty')\n",
    "    stock = stock_daily.merge(stock_daily_basic, how='left', on=['ts_code', 'trade_date'])\n",
    "    return stock"
   ],
   "id": "4417db536fe6cfc8",
   "outputs": [],
   "execution_count": 4
  },
  {
   "metadata": {
    "ExecuteTime": {
     "end_time": "2025-05-25T15:47:23.460284Z",
     "start_time": "2025-05-25T15:47:23.452264Z"
    }
   },
   "cell_type": "code",
   "source": [
    "def sentiment_analysis(text, sentiment_dict):\n",
    "    words = list(jieba.cut(text))\n",
    "\n",
    "    # 原始 counts = 0\n",
    "    nums = 0\n",
    "    for word in words:\n",
    "        if word in sentiment_dict:\n",
    "            nums += 1\n",
    "    return nums"
   ],
   "id": "71bbb9c07a93a9f8",
   "outputs": [],
   "execution_count": 5
  },
  {
   "metadata": {
    "ExecuteTime": {
     "end_time": "2025-05-25T15:47:23.807055Z",
     "start_time": "2025-05-25T15:47:23.799239Z"
    }
   },
   "cell_type": "code",
   "source": [
    "def SentimentIndex(df, stock):\n",
    "    trade_date = stock['trade_date'].tolist()\n",
    "    trade_date = sorted(trade_date)\n",
    "    for i in range(len(trade_date) - 1):\n",
    "        start_time = pd.to_datetime(trade_date[i].strftime('%Y%m%d') + ' ' + '15:00')\n",
    "        end_time = pd.to_datetime((trade_date[i + 1].strftime('%Y%m%d') + ' ' + '15:00'))\n",
    "        df_sentiment = df[(df['post_datetime'] > start_time) & (df['post_datetime'] <= end_time)]\n",
    "        if df_sentiment.empty:\n",
    "            continue\n",
    "        else:\n",
    "            sentiment_index = (sum(df_sentiment['pos_num']) - sum(df_sentiment['neg_num'])) / sum(\n",
    "                df_sentiment['word_num'])\n",
    "            stock.loc[stock['trade_date'] == pd.to_datetime(trade_date[i + 1]).strftime(\n",
    "                '%Y%m%d'), 'sentiment_index'] = sentiment_index\n",
    "            snownlp_index = (sum(df_sentiment['snownlp'])/len(df_sentiment['snownlp']))\n",
    "            stock.loc[stock['trade_date'] == pd.to_datetime(trade_date[i+1]).strftime('%Y%m%d'), 'snownlp_index'] = snownlp_index\n",
    "    return stock"
   ],
   "id": "7b00848d4d42a51f",
   "outputs": [],
   "execution_count": 6
  },
  {
   "metadata": {},
   "cell_type": "markdown",
   "source": "",
   "id": "c78d8d0005f60f8c"
  },
  {
   "metadata": {
    "ExecuteTime": {
     "end_time": "2025-05-25T15:47:24.828649Z",
     "start_time": "2025-05-25T15:47:24.782397Z"
    }
   },
   "cell_type": "code",
   "source": [
    "txt_file = 'Sentiment dict plus.txt'\n",
    "\n",
    "# 初始化分类容器\n",
    "positive_words = []\n",
    "negative_words = []\n",
    "\n",
    "# 读取并处理文件\n",
    "try:\n",
    "    with open(txt_file, \"r\", encoding=\"utf-8\") as file:\n",
    "        for line_num, line in enumerate(file, 1):\n",
    "            # 清理并分割行内容\n",
    "            cleaned_line = line.strip()\n",
    "            if not cleaned_line:\n",
    "                continue  # 跳过空行\n",
    "\n",
    "            # 分割词语和数值（兼容空格/制表符分隔）\n",
    "            parts = cleaned_line.split(maxsplit=1)  # 最多分割一次\n",
    "            if len(parts) != 2:\n",
    "                print(f\"第 {line_num} 行格式错误：{line}\")\n",
    "                continue\n",
    "\n",
    "            word, score = parts\n",
    "            try:\n",
    "                score = int(score)\n",
    "            except ValueError:\n",
    "                print(f\"第 {line_num} 行数值格式错误：{score}\")\n",
    "                continue\n",
    "\n",
    "            # 分类存储\n",
    "            if score == 1:\n",
    "                positive_words.append(word)\n",
    "            elif score == -1:\n",
    "                negative_words.append(word)\n",
    "            else:\n",
    "                print(f\"第 {line_num} 行发现无效数值：{score}\")\n",
    "\n",
    "except FileNotFoundError:\n",
    "    print(\"错误：未找到文件 financial_words.txt\")\n",
    "except Exception as e:\n",
    "    print(f\"发生未知错误：{str(e)}\")\n",
    "\n",
    "# 输出统计结果\n",
    "print(f\"\\n积极词汇（共 {len(positive_words)} 个）：\")\n",
    "print(\", \".join(positive_words[:3]) + (\"...\" if len(positive_words) > 3 else \"\"))\n",
    "\n",
    "print(f\"\\n消极词汇（共 {len(negative_words)} 个）：\")\n",
    "print(\", \".join(negative_words[:3]) + (\"...\" if len(negative_words) > 3 else \"\"))"
   ],
   "id": "3a7aa95e6acfb02b",
   "outputs": [
    {
     "name": "stdout",
     "output_type": "stream",
     "text": [
      "\n",
      "积极词汇（共 3645 个）：\n",
      "安定, 安康, 帮助...\n",
      "\n",
      "消极词汇（共 6177 个）：\n",
      "败坏名声, 被没收的, 变节...\n"
     ]
    }
   ],
   "execution_count": 7
  },
  {
   "metadata": {
    "ExecuteTime": {
     "end_time": "2025-05-25T15:47:27.380549Z",
     "start_time": "2025-05-25T15:47:27.287278Z"
    }
   },
   "cell_type": "code",
   "source": [
    "post_info = 'post_info.post_zssh000300_old.csv'\n",
    "initial_df = pd.read_csv(post_info)"
   ],
   "id": "702ca2760b978dd6",
   "outputs": [],
   "execution_count": 8
  },
  {
   "metadata": {
    "ExecuteTime": {
     "end_time": "2025-05-25T15:47:28.074203Z",
     "start_time": "2025-05-25T15:47:28.049804Z"
    }
   },
   "cell_type": "code",
   "source": "initial_df = initial_df[initial_df['post_url'].str.contains('zssh000300', na=False)].copy()",
   "id": "bed7cb9c4da07545",
   "outputs": [],
   "execution_count": 9
  },
  {
   "metadata": {
    "ExecuteTime": {
     "end_time": "2025-05-25T15:47:28.246032Z",
     "start_time": "2025-05-25T15:47:28.236791Z"
    }
   },
   "cell_type": "code",
   "source": "len(initial_df)",
   "id": "9300b891d040ba3a",
   "outputs": [
    {
     "data": {
      "text/plain": [
       "8969"
      ]
     },
     "execution_count": 10,
     "metadata": {},
     "output_type": "execute_result"
    }
   ],
   "execution_count": 10
  },
  {
   "metadata": {
    "ExecuteTime": {
     "end_time": "2025-05-25T15:47:29.370777Z",
     "start_time": "2025-05-25T15:47:29.339967Z"
    }
   },
   "cell_type": "code",
   "source": [
    "initial_df['post_datetime'] = pd.to_datetime(initial_df[\"post_date\"] + \" \" + initial_df[\"post_time\"])\n",
    "initial_df = initial_df.sort_values(by=['post_datetime'], ascending=True)"
   ],
   "id": "3f4e48516a664aff",
   "outputs": [],
   "execution_count": 11
  },
  {
   "metadata": {
    "ExecuteTime": {
     "end_time": "2025-05-25T15:47:29.538887Z",
     "start_time": "2025-05-25T15:47:29.528837Z"
    }
   },
   "cell_type": "code",
   "source": "initial_df = initial_df.dropna()",
   "id": "1914f13508318281",
   "outputs": [],
   "execution_count": 12
  },
  {
   "metadata": {
    "ExecuteTime": {
     "end_time": "2025-05-25T15:47:29.702924Z",
     "start_time": "2025-05-25T15:47:29.673051Z"
    }
   },
   "cell_type": "code",
   "source": [
    "# delete unwanted columns\n",
    "df = initial_df.drop(columns=['_id', 'post_url', 'post_author', 'post_time'])\n",
    "df.head(1)"
   ],
   "id": "32bd1ee37da8e6e5",
   "outputs": [
    {
     "data": {
      "text/plain": [
       "                                    post_title post_view  comment_num  \\\n",
       "10588  人工智能ETF159819行业紧紧把握科技创新发展趋势积极拥抱生成式人工智能相       135            0   \n",
       "\n",
       "        post_date       post_datetime  \n",
       "10588  2023-08-07 2023-08-07 12:31:00  "
      ],
      "text/html": [
       "<div>\n",
       "<style scoped>\n",
       "    .dataframe tbody tr th:only-of-type {\n",
       "        vertical-align: middle;\n",
       "    }\n",
       "\n",
       "    .dataframe tbody tr th {\n",
       "        vertical-align: top;\n",
       "    }\n",
       "\n",
       "    .dataframe thead th {\n",
       "        text-align: right;\n",
       "    }\n",
       "</style>\n",
       "<table border=\"1\" class=\"dataframe\">\n",
       "  <thead>\n",
       "    <tr style=\"text-align: right;\">\n",
       "      <th></th>\n",
       "      <th>post_title</th>\n",
       "      <th>post_view</th>\n",
       "      <th>comment_num</th>\n",
       "      <th>post_date</th>\n",
       "      <th>post_datetime</th>\n",
       "    </tr>\n",
       "  </thead>\n",
       "  <tbody>\n",
       "    <tr>\n",
       "      <th>10588</th>\n",
       "      <td>人工智能ETF159819行业紧紧把握科技创新发展趋势积极拥抱生成式人工智能相</td>\n",
       "      <td>135</td>\n",
       "      <td>0</td>\n",
       "      <td>2023-08-07</td>\n",
       "      <td>2023-08-07 12:31:00</td>\n",
       "    </tr>\n",
       "  </tbody>\n",
       "</table>\n",
       "</div>"
      ]
     },
     "execution_count": 13,
     "metadata": {},
     "output_type": "execute_result"
    }
   ],
   "execution_count": 13
  },
  {
   "metadata": {
    "ExecuteTime": {
     "end_time": "2025-05-25T15:47:29.805807Z",
     "start_time": "2025-05-25T15:47:29.791960Z"
    }
   },
   "cell_type": "code",
   "source": "df['post_date'] = pd.to_datetime(df['post_date'])",
   "id": "259d84db465fdd4a",
   "outputs": [],
   "execution_count": 14
  },
  {
   "metadata": {
    "ExecuteTime": {
     "end_time": "2025-05-25T15:47:50.308715Z",
     "start_time": "2025-05-25T15:47:29.893640Z"
    }
   },
   "cell_type": "code",
   "source": [
    "df['pos_num'] = df['post_title'].apply(sentiment_analysis, args=(positive_words,))\n",
    "df['neg_num'] = df['post_title'].apply(sentiment_analysis, args=(negative_words,))\n",
    "df['word_num'] = df['post_title'].apply(len)"
   ],
   "id": "607adc863b531ded",
   "outputs": [
    {
     "name": "stderr",
     "output_type": "stream",
     "text": [
      "Building prefix dict from C:\\ProgramData\\anaconda3\\Lib\\site-packages\\jieba\\dict.txt ...\n",
      "Loading model from cache C:\\Users\\ADMINI~1\\AppData\\Local\\Temp\\jieba.cache\n",
      "Loading model cost 1.2534399032592773 seconds.\n",
      "Prefix dict has been built succesfully.\n"
     ]
    }
   ],
   "execution_count": 15
  },
  {
   "metadata": {
    "ExecuteTime": {
     "end_time": "2025-05-25T15:48:17.513987Z",
     "start_time": "2025-05-25T15:47:50.317705Z"
    }
   },
   "cell_type": "code",
   "source": "df['snownlp'] = df['post_title'].apply(lambda x: SnowNLP(x).sentiments)",
   "id": "fb70b0e79e7ac10f",
   "outputs": [],
   "execution_count": 16
  },
  {
   "metadata": {
    "ExecuteTime": {
     "end_time": "2025-05-25T15:48:17.549135Z",
     "start_time": "2025-05-25T15:48:17.531659Z"
    }
   },
   "cell_type": "code",
   "source": "df.head(2)",
   "id": "9cf638ea420e5475",
   "outputs": [
    {
     "data": {
      "text/plain": [
       "                                    post_title post_view  comment_num  \\\n",
       "10588  人工智能ETF159819行业紧紧把握科技创新发展趋势积极拥抱生成式人工智能相       135            0   \n",
       "10587  对市场8月份人工智能ETF159819行情持乐观态度大概率会走出触底回升行情，       117            0   \n",
       "\n",
       "       post_date       post_datetime  pos_num  neg_num  word_num   snownlp  \n",
       "10588 2023-08-07 2023-08-07 12:31:00        2        0        39  0.999983  \n",
       "10587 2023-08-07 2023-08-07 12:35:00        2        0        39  0.998474  "
      ],
      "text/html": [
       "<div>\n",
       "<style scoped>\n",
       "    .dataframe tbody tr th:only-of-type {\n",
       "        vertical-align: middle;\n",
       "    }\n",
       "\n",
       "    .dataframe tbody tr th {\n",
       "        vertical-align: top;\n",
       "    }\n",
       "\n",
       "    .dataframe thead th {\n",
       "        text-align: right;\n",
       "    }\n",
       "</style>\n",
       "<table border=\"1\" class=\"dataframe\">\n",
       "  <thead>\n",
       "    <tr style=\"text-align: right;\">\n",
       "      <th></th>\n",
       "      <th>post_title</th>\n",
       "      <th>post_view</th>\n",
       "      <th>comment_num</th>\n",
       "      <th>post_date</th>\n",
       "      <th>post_datetime</th>\n",
       "      <th>pos_num</th>\n",
       "      <th>neg_num</th>\n",
       "      <th>word_num</th>\n",
       "      <th>snownlp</th>\n",
       "    </tr>\n",
       "  </thead>\n",
       "  <tbody>\n",
       "    <tr>\n",
       "      <th>10588</th>\n",
       "      <td>人工智能ETF159819行业紧紧把握科技创新发展趋势积极拥抱生成式人工智能相</td>\n",
       "      <td>135</td>\n",
       "      <td>0</td>\n",
       "      <td>2023-08-07</td>\n",
       "      <td>2023-08-07 12:31:00</td>\n",
       "      <td>2</td>\n",
       "      <td>0</td>\n",
       "      <td>39</td>\n",
       "      <td>0.999983</td>\n",
       "    </tr>\n",
       "    <tr>\n",
       "      <th>10587</th>\n",
       "      <td>对市场8月份人工智能ETF159819行情持乐观态度大概率会走出触底回升行情，</td>\n",
       "      <td>117</td>\n",
       "      <td>0</td>\n",
       "      <td>2023-08-07</td>\n",
       "      <td>2023-08-07 12:35:00</td>\n",
       "      <td>2</td>\n",
       "      <td>0</td>\n",
       "      <td>39</td>\n",
       "      <td>0.998474</td>\n",
       "    </tr>\n",
       "  </tbody>\n",
       "</table>\n",
       "</div>"
      ]
     },
     "execution_count": 17,
     "metadata": {},
     "output_type": "execute_result"
    }
   ],
   "execution_count": 17
  },
  {
   "metadata": {
    "ExecuteTime": {
     "end_time": "2025-05-25T15:48:17.810707Z",
     "start_time": "2025-05-25T15:48:17.586303Z"
    }
   },
   "cell_type": "code",
   "source": [
    "ts.set_token('2876ea85cb005fb5fa17c809a98174f2d5aae8b1f830110a5ead6211')\n",
    "pro = ts.pro_api()\n",
    "# 拉取数据\n",
    "m2_yoy = pro.cn_m(**{\n",
    "    \"m\": \"\",\n",
    "    \"start_m\": 202301,\n",
    "    \"end_m\": 202505,\n",
    "    \"limit\": \"\",\n",
    "    \"offset\": \"\"\n",
    "}, fields=[\n",
    "    \"month\",\n",
    "    \"m2_yoy\"\n",
    "])\n",
    "print(m2_yoy)\n",
    "\n"
   ],
   "id": "9214abe11d5e332b",
   "outputs": [
    {
     "name": "stdout",
     "output_type": "stream",
     "text": [
      "     month  m2_yoy\n",
      "0   202503     7.0\n",
      "1   202502     7.0\n",
      "2   202501     7.0\n",
      "3   202412     7.3\n",
      "4   202411     7.1\n",
      "5   202410     7.5\n",
      "6   202409     6.8\n",
      "7   202408     6.3\n",
      "8   202407     6.3\n",
      "9   202406     6.2\n",
      "10  202405     7.0\n",
      "11  202404     7.2\n",
      "12  202403     8.3\n",
      "13  202402     8.7\n",
      "14  202401     8.7\n",
      "15  202312     9.7\n",
      "16  202311    10.0\n",
      "17  202310    10.3\n",
      "18  202309    10.3\n",
      "19  202308    10.6\n",
      "20  202307    10.7\n",
      "21  202306    11.3\n",
      "22  202305    11.6\n",
      "23  202304    12.4\n",
      "24  202303    12.7\n",
      "25  202302    12.9\n",
      "26  202301    12.6\n"
     ]
    }
   ],
   "execution_count": 18
  },
  {
   "metadata": {
    "ExecuteTime": {
     "end_time": "2025-05-25T15:48:17.836755Z",
     "start_time": "2025-05-25T15:48:17.831454Z"
    }
   },
   "cell_type": "code",
   "source": "m2_yoy = m2_yoy.sort_values(by='month', ascending=True)",
   "id": "2467c7d24f357052",
   "outputs": [],
   "execution_count": 19
  },
  {
   "metadata": {
    "ExecuteTime": {
     "end_time": "2025-05-25T15:48:17.866097Z",
     "start_time": "2025-05-25T15:48:17.859063Z"
    }
   },
   "cell_type": "code",
   "source": "m2_yoy['m2_yoy_adjusted'] = m2_yoy['m2_yoy'].rolling(window=12, center=True).mean()",
   "id": "e028b61ea46a8005",
   "outputs": [],
   "execution_count": 20
  },
  {
   "metadata": {
    "ExecuteTime": {
     "end_time": "2025-05-25T15:48:17.886150Z",
     "start_time": "2025-05-25T15:48:17.880632Z"
    }
   },
   "cell_type": "code",
   "source": "m2_yoy['m2_yoy_lag_3'] = m2_yoy['m2_yoy_adjusted'].shift(3)",
   "id": "c649c2652678cd05",
   "outputs": [],
   "execution_count": 21
  },
  {
   "metadata": {
    "ExecuteTime": {
     "end_time": "2025-05-25T15:48:17.904863Z",
     "start_time": "2025-05-25T15:48:17.897873Z"
    }
   },
   "cell_type": "code",
   "source": [
    "m2_yoy = m2_yoy.ffill()\n",
    "m2_yoy = m2_yoy.bfill()"
   ],
   "id": "725e5acf43e8b5b2",
   "outputs": [],
   "execution_count": 22
  },
  {
   "metadata": {
    "ExecuteTime": {
     "end_time": "2025-05-25T15:48:17.918893Z",
     "start_time": "2025-05-25T15:48:17.912944Z"
    }
   },
   "cell_type": "code",
   "source": [
    "m2_yoy = m2_yoy[['month', 'm2_yoy_lag_3']].copy()\n",
    "m2_yoy = m2_yoy.rename(columns={'m2_yoy_lag_3': 'm2_yoy'})"
   ],
   "id": "71235f686f69aa4f",
   "outputs": [],
   "execution_count": 23
  },
  {
   "metadata": {
    "ExecuteTime": {
     "end_time": "2025-05-25T15:48:17.931665Z",
     "start_time": "2025-05-25T15:48:17.926877Z"
    }
   },
   "cell_type": "code",
   "source": "m2_yoy = m2_yoy.set_index('month')['m2_yoy'].to_dict()",
   "id": "dc5e22c5322b9c4",
   "outputs": [],
   "execution_count": 24
  },
  {
   "metadata": {
    "ExecuteTime": {
     "end_time": "2025-05-25T15:48:17.944253Z",
     "start_time": "2025-05-25T15:48:17.940739Z"
    }
   },
   "cell_type": "code",
   "source": "m2_yoy['202504'] = m2_yoy['202503']",
   "id": "8c0eb5c37501d87d",
   "outputs": [],
   "execution_count": 25
  },
  {
   "metadata": {
    "ExecuteTime": {
     "end_time": "2025-05-25T15:48:17.961054Z",
     "start_time": "2025-05-25T15:48:17.956259Z"
    }
   },
   "cell_type": "code",
   "source": "m2_yoy",
   "id": "63c84a2e04b212b1",
   "outputs": [
    {
     "data": {
      "text/plain": [
       "{'202301': 11.258333333333333,\n",
       " '202302': 11.258333333333333,\n",
       " '202303': 11.258333333333333,\n",
       " '202304': 11.258333333333333,\n",
       " '202305': 11.258333333333333,\n",
       " '202306': 11.258333333333333,\n",
       " '202307': 11.258333333333333,\n",
       " '202308': 11.258333333333333,\n",
       " '202309': 11.258333333333333,\n",
       " '202310': 11.258333333333333,\n",
       " '202311': 10.933333333333335,\n",
       " '202312': 10.583333333333334,\n",
       " '202401': 10.216666666666667,\n",
       " '202402': 9.783333333333333,\n",
       " '202403': 9.4,\n",
       " '202404': 8.975,\n",
       " '202405': 8.608333333333333,\n",
       " '202406': 8.25,\n",
       " '202407': 7.958333333333333,\n",
       " '202408': 7.724999999999999,\n",
       " '202409': 7.483333333333333,\n",
       " '202410': 7.283333333333334,\n",
       " '202411': 7.141666666666667,\n",
       " '202412': 7.0,\n",
       " '202501': 6.891666666666667,\n",
       " '202502': 6.891666666666667,\n",
       " '202503': 6.891666666666667,\n",
       " '202504': 6.891666666666667}"
      ]
     },
     "execution_count": 26,
     "metadata": {},
     "output_type": "execute_result"
    }
   ],
   "execution_count": 26
  },
  {
   "metadata": {
    "ExecuteTime": {
     "end_time": "2025-05-25T15:48:18.322885Z",
     "start_time": "2025-05-25T15:48:17.989656Z"
    }
   },
   "cell_type": "code",
   "source": [
    "## HS300指数日线数据\n",
    "ts.set_token('2876ea85cb005fb5fa17c809a98174f2d5aae8b1f830110a5ead6211')\n",
    "pro = ts.pro_api()\n",
    "\n",
    "# 拉取数据\n",
    "HS300 = pro.index_daily(**{\n",
    "    \"ts_code\": \"000300.SH\",\n",
    "    \"trade_date\": \"\",\n",
    "    \"start_date\": 20230808,\n",
    "    \"end_date\": 20250418,\n",
    "    \"limit\": \"\",\n",
    "    \"offset\": \"\"\n",
    "}, fields=[\n",
    "    \"ts_code\",\n",
    "    \"trade_date\",\n",
    "    \"close\",\n",
    "    \"open\",\n",
    "    \"high\",\n",
    "    \"low\",\n",
    "    \"pre_close\",\n",
    "    \"change\",\n",
    "    \"pct_chg\",\n",
    "    \"vol\",\n",
    "    \"amount\"\n",
    "])\n",
    "print(HS300)\n",
    "\n"
   ],
   "id": "68424296d2467ff9",
   "outputs": [
    {
     "name": "stdout",
     "output_type": "stream",
     "text": [
      "       ts_code trade_date      close       open       high        low  \\\n",
      "0    000300.SH   20250418  3772.5230  3760.0425  3782.0443  3754.4072   \n",
      "1    000300.SH   20250417  3772.2221  3755.0862  3779.1253  3749.5040   \n",
      "2    000300.SH   20250416  3772.8204  3757.8757  3775.1661  3721.6025   \n",
      "3    000300.SH   20250415  3761.2348  3756.4788  3764.4860  3737.8495   \n",
      "4    000300.SH   20250414  3759.1422  3772.0407  3776.6344  3754.0330   \n",
      "..         ...        ...        ...        ...        ...        ...   \n",
      "405  000300.SH   20230814  3855.9061  3840.8872  3859.4718  3814.0711   \n",
      "406  000300.SH   20230811  3884.2538  3977.9834  3977.9834  3884.2538   \n",
      "407  000300.SH   20230810  3975.7166  3962.8569  3976.4637  3945.3869   \n",
      "408  000300.SH   20230809  3967.5652  3967.3566  3982.1091  3961.8434   \n",
      "409  000300.SH   20230808  3979.7322  3980.0423  4002.2904  3963.4632   \n",
      "\n",
      "     pre_close   change  pct_chg          vol        amount  \n",
      "0    3772.2221   0.3009   0.0080  102948509.0  1.731094e+08  \n",
      "1    3772.8204  -0.5983  -0.0159  122371002.0  2.090123e+08  \n",
      "2    3761.2348  11.5856   0.3080  156359006.0  2.617111e+08  \n",
      "3    3759.1422   2.0926   0.0557  134006040.0  2.286046e+08  \n",
      "4    3750.5167   8.6255   0.2300  164462403.0  2.925713e+08  \n",
      "..         ...      ...      ...          ...           ...  \n",
      "405  3884.2538 -28.3477  -0.7298  115966336.0  1.976238e+08  \n",
      "406  3975.7166 -91.4628  -2.3005  126082931.0  2.035463e+08  \n",
      "407  3967.5652   8.1514   0.2055   97176849.0  1.756467e+08  \n",
      "408  3979.7322 -12.1670  -0.3057   94640269.0  1.743942e+08  \n",
      "409  3990.1531 -10.4209  -0.2612  109871699.0  2.026113e+08  \n",
      "\n",
      "[410 rows x 11 columns]\n"
     ]
    }
   ],
   "execution_count": 27
  },
  {
   "metadata": {
    "ExecuteTime": {
     "end_time": "2025-05-25T15:48:18.507497Z",
     "start_time": "2025-05-25T15:48:18.335856Z"
    }
   },
   "cell_type": "code",
   "source": [
    "ts.set_token('2876ea85cb005fb5fa17c809a98174f2d5aae8b1f830110a5ead6211')\n",
    "pro = ts.pro_api()\n",
    "\n",
    "# 拉取数据\n",
    "HS300_basic = pro.index_dailybasic(**{\n",
    "    \"trade_date\": \"\",\n",
    "    \"ts_code\": \"000300.SH\",\n",
    "    \"start_date\": 20230808,\n",
    "    \"end_date\": 20250418,\n",
    "    \"limit\": \"\",\n",
    "    \"offset\": \"\"\n",
    "}, fields=[\n",
    "    \"ts_code\",\n",
    "    \"trade_date\",\n",
    "    \"total_mv\",\n",
    "    \"float_mv\",\n",
    "    \"turnover_rate\",\n",
    "    \"pe\",\n",
    "    \"pb\",\n",
    "    \"total_share\"\n",
    "])\n",
    "print(HS300_basic)\n",
    "\n"
   ],
   "id": "f641b17e3c2727b0",
   "outputs": [
    {
     "name": "stdout",
     "output_type": "stream",
     "text": [
      "       ts_code trade_date      total_mv      float_mv  turnover_rate     pe  \\\n",
      "0    000300.SH   20250418  5.593480e+13  4.198855e+13           0.32  12.10   \n",
      "1    000300.SH   20250417  5.586207e+13  4.197099e+13           0.38  12.09   \n",
      "2    000300.SH   20250416  5.586239e+13  4.197110e+13           0.48  12.09   \n",
      "3    000300.SH   20250415  5.550268e+13  4.172010e+13           0.41  12.01   \n",
      "4    000300.SH   20250414  5.531078e+13  4.160352e+13           0.50  11.96   \n",
      "..         ...        ...           ...           ...            ...    ...   \n",
      "405  000300.SH   20230814  4.973195e+13  3.821329e+13           0.38  11.89   \n",
      "406  000300.SH   20230811  5.007981e+13  3.848109e+13           0.41  11.97   \n",
      "407  000300.SH   20230810  5.113598e+13  3.934532e+13           0.32  12.23   \n",
      "408  000300.SH   20230809  5.099382e+13  3.926694e+13           0.31  12.19   \n",
      "409  000300.SH   20230808  5.114554e+13  3.938285e+13           0.36  12.23   \n",
      "\n",
      "       pb   total_share  \n",
      "0    1.31  4.210865e+12  \n",
      "1    1.31  4.210550e+12  \n",
      "2    1.32  4.210550e+12  \n",
      "3    1.31  4.210561e+12  \n",
      "4    1.30  4.210561e+12  \n",
      "..    ...           ...  \n",
      "405  1.36  4.065991e+12  \n",
      "406  1.37  4.065991e+12  \n",
      "407  1.40  4.065827e+12  \n",
      "408  1.40  4.065827e+12  \n",
      "409  1.40  4.065758e+12  \n",
      "\n",
      "[410 rows x 8 columns]\n"
     ]
    }
   ],
   "execution_count": 28
  },
  {
   "metadata": {
    "ExecuteTime": {
     "end_time": "2025-05-25T15:48:18.531402Z",
     "start_time": "2025-05-25T15:48:18.521801Z"
    }
   },
   "cell_type": "code",
   "source": "HS300 = HS300.merge(HS300_basic, how='left', on=['ts_code', 'trade_date'])",
   "id": "9ba84eace94981f9",
   "outputs": [],
   "execution_count": 29
  },
  {
   "metadata": {
    "ExecuteTime": {
     "end_time": "2025-05-25T15:48:18.557450Z",
     "start_time": "2025-05-25T15:48:18.550831Z"
    }
   },
   "cell_type": "code",
   "source": "HS300['trade_date'] = pd.to_datetime(HS300['trade_date'])",
   "id": "ad62542ce3583c38",
   "outputs": [],
   "execution_count": 30
  },
  {
   "metadata": {
    "ExecuteTime": {
     "end_time": "2025-05-25T15:48:18.577788Z",
     "start_time": "2025-05-25T15:48:18.567690Z"
    }
   },
   "cell_type": "code",
   "source": "HS300 = HS300.sort_values(by='trade_date', ascending=True)",
   "id": "37ca1760f78df5f1",
   "outputs": [],
   "execution_count": 31
  },
  {
   "metadata": {
    "ExecuteTime": {
     "end_time": "2025-05-25T15:48:18.598480Z",
     "start_time": "2025-05-25T15:48:18.587677Z"
    }
   },
   "cell_type": "code",
   "source": "HS300['m2_yoy'] = HS300['trade_date'].apply(lambda x: m2_yoy[x.strftime('%Y%m')])",
   "id": "110d757cc6fe120c",
   "outputs": [],
   "execution_count": 32
  },
  {
   "metadata": {
    "ExecuteTime": {
     "end_time": "2025-05-25T15:48:18.619639Z",
     "start_time": "2025-05-25T15:48:18.610113Z"
    }
   },
   "cell_type": "code",
   "source": [
    "missing_values = HS300.isnull().sum()\n",
    "missing_values"
   ],
   "id": "a910e9ded8723e92",
   "outputs": [
    {
     "data": {
      "text/plain": [
       "ts_code          0\n",
       "trade_date       0\n",
       "close            0\n",
       "open             0\n",
       "high             0\n",
       "low              0\n",
       "pre_close        0\n",
       "change           0\n",
       "pct_chg          0\n",
       "vol              0\n",
       "amount           0\n",
       "total_mv         0\n",
       "float_mv         0\n",
       "turnover_rate    0\n",
       "pe               0\n",
       "pb               0\n",
       "total_share      0\n",
       "m2_yoy           0\n",
       "dtype: int64"
      ]
     },
     "execution_count": 33,
     "metadata": {},
     "output_type": "execute_result"
    }
   ],
   "execution_count": 33
  },
  {
   "metadata": {
    "ExecuteTime": {
     "end_time": "2025-05-25T15:48:19.715340Z",
     "start_time": "2025-05-25T15:48:18.650466Z"
    }
   },
   "cell_type": "code",
   "source": "result = SentimentIndex(df, HS300)",
   "id": "c755ec84dacd14ac",
   "outputs": [],
   "execution_count": 34
  },
  {
   "metadata": {
    "ExecuteTime": {
     "end_time": "2025-05-25T15:48:19.732830Z",
     "start_time": "2025-05-25T15:48:19.724731Z"
    }
   },
   "cell_type": "code",
   "source": "result['agreement_index'] = result['sentiment_index'].apply(lambda x: 1 - np.sqrt(1 - x ** 2))",
   "id": "876441184b37bff",
   "outputs": [],
   "execution_count": 35
  },
  {
   "metadata": {},
   "cell_type": "markdown",
   "source": "",
   "id": "ac7b4982a752e44c"
  },
  {
   "metadata": {
    "ExecuteTime": {
     "end_time": "2025-05-25T15:48:19.750377Z",
     "start_time": "2025-05-25T15:48:19.744441Z"
    }
   },
   "cell_type": "code",
   "source": "result = result[~result['sentiment_index'].isna()].reset_index(drop=True)",
   "id": "fb0fbb20219fc1c5",
   "outputs": [],
   "execution_count": 36
  },
  {
   "metadata": {
    "ExecuteTime": {
     "end_time": "2025-05-25T15:48:19.768169Z",
     "start_time": "2025-05-25T15:48:19.759952Z"
    }
   },
   "cell_type": "code",
   "source": "result['sentiment_index_lag_1'] = result['sentiment_index'].shift(1).fillna(0)",
   "id": "2dab73e0fed48732",
   "outputs": [],
   "execution_count": 37
  },
  {
   "metadata": {
    "ExecuteTime": {
     "end_time": "2025-05-25T15:48:19.783563Z",
     "start_time": "2025-05-25T15:48:19.776047Z"
    }
   },
   "cell_type": "code",
   "source": "result['return'] = np.log(result['close'] / result['close'].shift(1)) * 100",
   "id": "77e9fa5e90916c60",
   "outputs": [],
   "execution_count": 38
  },
  {
   "metadata": {
    "ExecuteTime": {
     "end_time": "2025-05-25T15:48:19.820828Z",
     "start_time": "2025-05-25T15:48:19.799991Z"
    }
   },
   "cell_type": "code",
   "source": "result.head(2)",
   "id": "5dc5a57dcc1b2da",
   "outputs": [
    {
     "data": {
      "text/plain": [
       "     ts_code trade_date      close       open       high        low  \\\n",
       "0  000300.SH 2023-08-09  3967.5652  3967.3566  3982.1091  3961.8434   \n",
       "1  000300.SH 2023-08-10  3975.7166  3962.8569  3976.4637  3945.3869   \n",
       "\n",
       "   pre_close   change  pct_chg         vol  ...  turnover_rate     pe   pb  \\\n",
       "0  3979.7322 -12.1670  -0.3057  94640269.0  ...           0.31  12.19  1.4   \n",
       "1  3967.5652   8.1514   0.2055  97176849.0  ...           0.32  12.23  1.4   \n",
       "\n",
       "    total_share     m2_yoy  sentiment_index  snownlp_index  agreement_index  \\\n",
       "0  4.065827e+12  11.258333         0.023569       0.634315         0.000278   \n",
       "1  4.065827e+12  11.258333         0.010249       0.580220         0.000053   \n",
       "\n",
       "   sentiment_index_lag_1   return  \n",
       "0               0.000000      NaN  \n",
       "1               0.023569  0.20524  \n",
       "\n",
       "[2 rows x 23 columns]"
      ],
      "text/html": [
       "<div>\n",
       "<style scoped>\n",
       "    .dataframe tbody tr th:only-of-type {\n",
       "        vertical-align: middle;\n",
       "    }\n",
       "\n",
       "    .dataframe tbody tr th {\n",
       "        vertical-align: top;\n",
       "    }\n",
       "\n",
       "    .dataframe thead th {\n",
       "        text-align: right;\n",
       "    }\n",
       "</style>\n",
       "<table border=\"1\" class=\"dataframe\">\n",
       "  <thead>\n",
       "    <tr style=\"text-align: right;\">\n",
       "      <th></th>\n",
       "      <th>ts_code</th>\n",
       "      <th>trade_date</th>\n",
       "      <th>close</th>\n",
       "      <th>open</th>\n",
       "      <th>high</th>\n",
       "      <th>low</th>\n",
       "      <th>pre_close</th>\n",
       "      <th>change</th>\n",
       "      <th>pct_chg</th>\n",
       "      <th>vol</th>\n",
       "      <th>...</th>\n",
       "      <th>turnover_rate</th>\n",
       "      <th>pe</th>\n",
       "      <th>pb</th>\n",
       "      <th>total_share</th>\n",
       "      <th>m2_yoy</th>\n",
       "      <th>sentiment_index</th>\n",
       "      <th>snownlp_index</th>\n",
       "      <th>agreement_index</th>\n",
       "      <th>sentiment_index_lag_1</th>\n",
       "      <th>return</th>\n",
       "    </tr>\n",
       "  </thead>\n",
       "  <tbody>\n",
       "    <tr>\n",
       "      <th>0</th>\n",
       "      <td>000300.SH</td>\n",
       "      <td>2023-08-09</td>\n",
       "      <td>3967.5652</td>\n",
       "      <td>3967.3566</td>\n",
       "      <td>3982.1091</td>\n",
       "      <td>3961.8434</td>\n",
       "      <td>3979.7322</td>\n",
       "      <td>-12.1670</td>\n",
       "      <td>-0.3057</td>\n",
       "      <td>94640269.0</td>\n",
       "      <td>...</td>\n",
       "      <td>0.31</td>\n",
       "      <td>12.19</td>\n",
       "      <td>1.4</td>\n",
       "      <td>4.065827e+12</td>\n",
       "      <td>11.258333</td>\n",
       "      <td>0.023569</td>\n",
       "      <td>0.634315</td>\n",
       "      <td>0.000278</td>\n",
       "      <td>0.000000</td>\n",
       "      <td>NaN</td>\n",
       "    </tr>\n",
       "    <tr>\n",
       "      <th>1</th>\n",
       "      <td>000300.SH</td>\n",
       "      <td>2023-08-10</td>\n",
       "      <td>3975.7166</td>\n",
       "      <td>3962.8569</td>\n",
       "      <td>3976.4637</td>\n",
       "      <td>3945.3869</td>\n",
       "      <td>3967.5652</td>\n",
       "      <td>8.1514</td>\n",
       "      <td>0.2055</td>\n",
       "      <td>97176849.0</td>\n",
       "      <td>...</td>\n",
       "      <td>0.32</td>\n",
       "      <td>12.23</td>\n",
       "      <td>1.4</td>\n",
       "      <td>4.065827e+12</td>\n",
       "      <td>11.258333</td>\n",
       "      <td>0.010249</td>\n",
       "      <td>0.580220</td>\n",
       "      <td>0.000053</td>\n",
       "      <td>0.023569</td>\n",
       "      <td>0.20524</td>\n",
       "    </tr>\n",
       "  </tbody>\n",
       "</table>\n",
       "<p>2 rows × 23 columns</p>\n",
       "</div>"
      ]
     },
     "execution_count": 39,
     "metadata": {},
     "output_type": "execute_result"
    }
   ],
   "execution_count": 39
  },
  {
   "metadata": {
    "ExecuteTime": {
     "end_time": "2025-05-25T15:48:19.852253Z",
     "start_time": "2025-05-25T15:48:19.846665Z"
    }
   },
   "cell_type": "code",
   "source": [
    "result['return'] = result['return'].fillna(0)\n",
    "result['volatility'] = (result['high'] - result['low']) / ((result['high'] + result['low']) / 2) * 100"
   ],
   "id": "8729d9b55d2d7ccf",
   "outputs": [],
   "execution_count": 40
  },
  {
   "metadata": {
    "ExecuteTime": {
     "end_time": "2025-05-25T15:48:19.868969Z",
     "start_time": "2025-05-25T15:48:19.863231Z"
    }
   },
   "cell_type": "code",
   "source": "result = result.rename(columns={'return': 'returns'}).copy()",
   "id": "ef22dc421550b2af",
   "outputs": [],
   "execution_count": 41
  },
  {
   "metadata": {
    "ExecuteTime": {
     "end_time": "2025-05-25T15:48:19.895337Z",
     "start_time": "2025-05-25T15:48:19.877969Z"
    }
   },
   "cell_type": "code",
   "source": [
    "result['returns_new'] = winsorize_series(result['returns'])\n",
    "result['log_volatility'] = np.log(result['volatility'] + 1e-5).pipe(lambda x: (x - x.mean()) / x.std())\n",
    "result['turnover_rate_new'] = result['turnover_rate'].apply(lambda x: np.log(1 + x))\n",
    "result['pe_new'] = winsorize_series(result['pe'], lower=0.01, upper=0.99)\n",
    "result['pb_new'] = winsorize_series(result['pb'], lower=0.01, upper=0.99)"
   ],
   "id": "5fd809344e1d31c4",
   "outputs": [],
   "execution_count": 42
  },
  {
   "metadata": {
    "ExecuteTime": {
     "end_time": "2025-05-25T15:48:19.909355Z",
     "start_time": "2025-05-25T15:48:19.904389Z"
    }
   },
   "cell_type": "code",
   "source": "result['vol'] = result['vol'] / 1e6  # (百万)",
   "id": "d034f1437d23c519",
   "outputs": [],
   "execution_count": 43
  },
  {
   "metadata": {
    "ExecuteTime": {
     "end_time": "2025-05-25T15:48:19.925333Z",
     "start_time": "2025-05-25T15:48:19.919744Z"
    }
   },
   "cell_type": "code",
   "source": "len(result)",
   "id": "ad3b3471f9d8710c",
   "outputs": [
    {
     "data": {
      "text/plain": [
       "409"
      ]
     },
     "execution_count": 44,
     "metadata": {},
     "output_type": "execute_result"
    }
   ],
   "execution_count": 44
  },
  {
   "metadata": {
    "ExecuteTime": {
     "end_time": "2025-05-25T15:48:19.960335Z",
     "start_time": "2025-05-25T15:48:19.952087Z"
    }
   },
   "cell_type": "code",
   "source": "result['volatility'].describe()",
   "id": "423a8d27cde06c59",
   "outputs": [
    {
     "data": {
      "text/plain": [
       "count    409.000000\n",
       "mean       1.355402\n",
       "std        0.908618\n",
       "min        0.360828\n",
       "25%        0.846813\n",
       "50%        1.097468\n",
       "75%        1.499679\n",
       "max        8.332997\n",
       "Name: volatility, dtype: float64"
      ]
     },
     "execution_count": 45,
     "metadata": {},
     "output_type": "execute_result"
    }
   ],
   "execution_count": 45
  },
  {
   "metadata": {
    "ExecuteTime": {
     "end_time": "2025-05-25T15:48:19.991916Z",
     "start_time": "2025-05-25T15:48:19.984199Z"
    }
   },
   "cell_type": "code",
   "source": "result['m2_yoy'].describe()",
   "id": "21594c88bc245b17",
   "outputs": [
    {
     "data": {
      "text/plain": [
       "count    409.000000\n",
       "mean       8.705949\n",
       "std        1.614093\n",
       "min        6.891667\n",
       "25%        7.141667\n",
       "50%        8.250000\n",
       "75%       10.216667\n",
       "max       11.258333\n",
       "Name: m2_yoy, dtype: float64"
      ]
     },
     "execution_count": 46,
     "metadata": {},
     "output_type": "execute_result"
    }
   ],
   "execution_count": 46
  },
  {
   "metadata": {
    "ExecuteTime": {
     "end_time": "2025-05-25T15:48:28.669013Z",
     "start_time": "2025-05-25T15:48:28.660415Z"
    }
   },
   "cell_type": "code",
   "source": [
    "data_processed = result[\n",
    "    ['trade_date', 'sentiment_index', 'agreement_index', 'vol', 'returns_new', 'volatility', 'log_volatility', 'pe_new',\n",
    "     'pb_new', 'turnover_rate_new', 'sentiment_index_lag_1', 'm2_yoy', 'snownlp_index']].copy()"
   ],
   "id": "8f36b3c88d133102",
   "outputs": [],
   "execution_count": 47
  },
  {
   "metadata": {
    "ExecuteTime": {
     "end_time": "2025-05-25T15:48:30.010089Z",
     "start_time": "2025-05-25T15:48:29.988717Z"
    }
   },
   "cell_type": "code",
   "source": "data_processed.head(2)",
   "id": "ff01694a863ffb38",
   "outputs": [
    {
     "data": {
      "text/plain": [
       "  trade_date  sentiment_index  agreement_index        vol  returns_new  \\\n",
       "0 2023-08-09         0.023569         0.000278  94.640269      0.00000   \n",
       "1 2023-08-10         0.010249         0.000053  97.176849      0.20524   \n",
       "\n",
       "   volatility  log_volatility  pe_new  pb_new  turnover_rate_new  \\\n",
       "0    0.510217       -1.691940   12.19     1.4           0.270027   \n",
       "1    0.784584       -0.820835   12.23     1.4           0.277632   \n",
       "\n",
       "   sentiment_index_lag_1     m2_yoy  snownlp_index  \n",
       "0               0.000000  11.258333       0.634315  \n",
       "1               0.023569  11.258333       0.580220  "
      ],
      "text/html": [
       "<div>\n",
       "<style scoped>\n",
       "    .dataframe tbody tr th:only-of-type {\n",
       "        vertical-align: middle;\n",
       "    }\n",
       "\n",
       "    .dataframe tbody tr th {\n",
       "        vertical-align: top;\n",
       "    }\n",
       "\n",
       "    .dataframe thead th {\n",
       "        text-align: right;\n",
       "    }\n",
       "</style>\n",
       "<table border=\"1\" class=\"dataframe\">\n",
       "  <thead>\n",
       "    <tr style=\"text-align: right;\">\n",
       "      <th></th>\n",
       "      <th>trade_date</th>\n",
       "      <th>sentiment_index</th>\n",
       "      <th>agreement_index</th>\n",
       "      <th>vol</th>\n",
       "      <th>returns_new</th>\n",
       "      <th>volatility</th>\n",
       "      <th>log_volatility</th>\n",
       "      <th>pe_new</th>\n",
       "      <th>pb_new</th>\n",
       "      <th>turnover_rate_new</th>\n",
       "      <th>sentiment_index_lag_1</th>\n",
       "      <th>m2_yoy</th>\n",
       "      <th>snownlp_index</th>\n",
       "    </tr>\n",
       "  </thead>\n",
       "  <tbody>\n",
       "    <tr>\n",
       "      <th>0</th>\n",
       "      <td>2023-08-09</td>\n",
       "      <td>0.023569</td>\n",
       "      <td>0.000278</td>\n",
       "      <td>94.640269</td>\n",
       "      <td>0.00000</td>\n",
       "      <td>0.510217</td>\n",
       "      <td>-1.691940</td>\n",
       "      <td>12.19</td>\n",
       "      <td>1.4</td>\n",
       "      <td>0.270027</td>\n",
       "      <td>0.000000</td>\n",
       "      <td>11.258333</td>\n",
       "      <td>0.634315</td>\n",
       "    </tr>\n",
       "    <tr>\n",
       "      <th>1</th>\n",
       "      <td>2023-08-10</td>\n",
       "      <td>0.010249</td>\n",
       "      <td>0.000053</td>\n",
       "      <td>97.176849</td>\n",
       "      <td>0.20524</td>\n",
       "      <td>0.784584</td>\n",
       "      <td>-0.820835</td>\n",
       "      <td>12.23</td>\n",
       "      <td>1.4</td>\n",
       "      <td>0.277632</td>\n",
       "      <td>0.023569</td>\n",
       "      <td>11.258333</td>\n",
       "      <td>0.580220</td>\n",
       "    </tr>\n",
       "  </tbody>\n",
       "</table>\n",
       "</div>"
      ]
     },
     "execution_count": 48,
     "metadata": {},
     "output_type": "execute_result"
    }
   ],
   "execution_count": 48
  },
  {
   "metadata": {
    "ExecuteTime": {
     "end_time": "2025-05-25T15:48:30.672900Z",
     "start_time": "2025-05-25T15:48:30.345724Z"
    }
   },
   "cell_type": "code",
   "source": [
    "for column in data_processed.columns:\n",
    "    print(f\"\\n=== {column} 平稳性检验 ===\")\n",
    "    test_stationarity(data_processed[column])"
   ],
   "id": "136291ce11b76b",
   "outputs": [
    {
     "name": "stdout",
     "output_type": "stream",
     "text": [
      "\n",
      "=== trade_date 平稳性检验 ===\n",
      "ADF Statistic: 5.9313\n",
      "ADF p-value: 1.0000\n",
      "ADF结论: 序列非平稳\n",
      "\n",
      "KPSS Statistic: 3.2465\n",
      "KPSS p-value: 0.0100\n",
      "KPSS结论: 序列存在单位根\n",
      "\n",
      "=== sentiment_index 平稳性检验 ===\n",
      "ADF Statistic: -4.5751\n",
      "ADF p-value: 0.0001\n",
      "ADF结论: 序列平稳\n",
      "\n",
      "KPSS Statistic: 0.2273\n",
      "KPSS p-value: 0.1000\n",
      "KPSS结论: 序列趋势平稳\n",
      "\n",
      "=== agreement_index 平稳性检验 ===\n",
      "ADF Statistic: -12.2284\n",
      "ADF p-value: 0.0000\n",
      "ADF结论: 序列平稳\n",
      "\n",
      "KPSS Statistic: 0.1822\n",
      "KPSS p-value: 0.1000\n",
      "KPSS结论: 序列趋势平稳\n",
      "\n",
      "=== vol 平稳性检验 ===\n",
      "ADF Statistic: -2.0924\n",
      "ADF p-value: 0.2476\n",
      "ADF结论: 序列非平稳\n",
      "\n",
      "KPSS Statistic: 1.2049\n",
      "KPSS p-value: 0.0100\n",
      "KPSS结论: 序列存在单位根\n",
      "\n",
      "=== returns_new 平稳性检验 ===\n",
      "ADF Statistic: -11.5261\n",
      "ADF p-value: 0.0000\n",
      "ADF结论: 序列平稳\n",
      "\n",
      "KPSS Statistic: 0.1837\n",
      "KPSS p-value: 0.1000\n",
      "KPSS结论: 序列趋势平稳\n",
      "\n",
      "=== volatility 平稳性检验 ===\n",
      "ADF Statistic: -4.9723\n",
      "ADF p-value: 0.0000\n",
      "ADF结论: 序列平稳\n",
      "\n",
      "KPSS Statistic: 0.2579\n",
      "KPSS p-value: 0.1000\n",
      "KPSS结论: 序列趋势平稳\n",
      "\n",
      "=== log_volatility 平稳性检验 ===\n",
      "ADF Statistic: -4.7732\n",
      "ADF p-value: 0.0001\n",
      "ADF结论: 序列平稳\n",
      "\n",
      "KPSS Statistic: 0.2820\n",
      "KPSS p-value: 0.1000\n",
      "KPSS结论: 序列趋势平稳\n",
      "\n",
      "=== pe_new 平稳性检验 ===\n",
      "ADF Statistic: -1.9173\n",
      "ADF p-value: 0.3240\n",
      "ADF结论: 序列非平稳\n",
      "\n",
      "KPSS Statistic: 1.9541\n",
      "KPSS p-value: 0.0100\n",
      "KPSS结论: 序列存在单位根\n",
      "\n",
      "=== pb_new 平稳性检验 ===\n",
      "ADF Statistic: -2.4888\n",
      "ADF p-value: 0.1182\n",
      "ADF结论: 序列非平稳\n",
      "\n",
      "KPSS Statistic: 1.2572\n",
      "KPSS p-value: 0.0100\n",
      "KPSS结论: 序列存在单位根\n",
      "\n",
      "=== turnover_rate_new 平稳性检验 ===\n",
      "ADF Statistic: -2.0460\n",
      "ADF p-value: 0.2668\n",
      "ADF结论: 序列非平稳\n",
      "\n",
      "KPSS Statistic: 1.1723\n",
      "KPSS p-value: 0.0100\n",
      "KPSS结论: 序列存在单位根\n",
      "\n",
      "=== sentiment_index_lag_1 平稳性检验 ===\n",
      "ADF Statistic: -4.5392\n",
      "ADF p-value: 0.0002\n",
      "ADF结论: 序列平稳\n",
      "\n",
      "KPSS Statistic: 0.2274\n",
      "KPSS p-value: 0.1000\n",
      "KPSS结论: 序列趋势平稳\n",
      "\n",
      "=== m2_yoy 平稳性检验 ===\n",
      "ADF Statistic: -1.2163\n",
      "ADF p-value: 0.6665\n",
      "ADF结论: 序列非平稳\n",
      "\n",
      "KPSS Statistic: 3.1710\n",
      "KPSS p-value: 0.0100\n",
      "KPSS结论: 序列存在单位根\n",
      "\n",
      "=== snownlp_index 平稳性检验 ===\n",
      "ADF Statistic: -7.5667\n",
      "ADF p-value: 0.0000\n",
      "ADF结论: 序列平稳\n",
      "\n",
      "KPSS Statistic: 0.1579\n",
      "KPSS p-value: 0.1000\n",
      "KPSS结论: 序列趋势平稳\n"
     ]
    },
    {
     "name": "stderr",
     "output_type": "stream",
     "text": [
      "C:\\Users\\Administrator\\AppData\\Local\\Temp\\ipykernel_39556\\2839035517.py:9: InterpolationWarning: The test statistic is outside of the range of p-values available in the\n",
      "look-up table. The actual p-value is smaller than the p-value returned.\n",
      "\n",
      "  kpss_result = kpss(series.dropna())\n",
      "C:\\Users\\Administrator\\AppData\\Local\\Temp\\ipykernel_39556\\2839035517.py:9: InterpolationWarning: The test statistic is outside of the range of p-values available in the\n",
      "look-up table. The actual p-value is greater than the p-value returned.\n",
      "\n",
      "  kpss_result = kpss(series.dropna())\n",
      "C:\\Users\\Administrator\\AppData\\Local\\Temp\\ipykernel_39556\\2839035517.py:9: InterpolationWarning: The test statistic is outside of the range of p-values available in the\n",
      "look-up table. The actual p-value is greater than the p-value returned.\n",
      "\n",
      "  kpss_result = kpss(series.dropna())\n",
      "C:\\Users\\Administrator\\AppData\\Local\\Temp\\ipykernel_39556\\2839035517.py:9: InterpolationWarning: The test statistic is outside of the range of p-values available in the\n",
      "look-up table. The actual p-value is smaller than the p-value returned.\n",
      "\n",
      "  kpss_result = kpss(series.dropna())\n",
      "C:\\Users\\Administrator\\AppData\\Local\\Temp\\ipykernel_39556\\2839035517.py:9: InterpolationWarning: The test statistic is outside of the range of p-values available in the\n",
      "look-up table. The actual p-value is greater than the p-value returned.\n",
      "\n",
      "  kpss_result = kpss(series.dropna())\n",
      "C:\\Users\\Administrator\\AppData\\Local\\Temp\\ipykernel_39556\\2839035517.py:9: InterpolationWarning: The test statistic is outside of the range of p-values available in the\n",
      "look-up table. The actual p-value is greater than the p-value returned.\n",
      "\n",
      "  kpss_result = kpss(series.dropna())\n",
      "C:\\Users\\Administrator\\AppData\\Local\\Temp\\ipykernel_39556\\2839035517.py:9: InterpolationWarning: The test statistic is outside of the range of p-values available in the\n",
      "look-up table. The actual p-value is greater than the p-value returned.\n",
      "\n",
      "  kpss_result = kpss(series.dropna())\n",
      "C:\\Users\\Administrator\\AppData\\Local\\Temp\\ipykernel_39556\\2839035517.py:9: InterpolationWarning: The test statistic is outside of the range of p-values available in the\n",
      "look-up table. The actual p-value is smaller than the p-value returned.\n",
      "\n",
      "  kpss_result = kpss(series.dropna())\n",
      "C:\\Users\\Administrator\\AppData\\Local\\Temp\\ipykernel_39556\\2839035517.py:9: InterpolationWarning: The test statistic is outside of the range of p-values available in the\n",
      "look-up table. The actual p-value is smaller than the p-value returned.\n",
      "\n",
      "  kpss_result = kpss(series.dropna())\n",
      "C:\\Users\\Administrator\\AppData\\Local\\Temp\\ipykernel_39556\\2839035517.py:9: InterpolationWarning: The test statistic is outside of the range of p-values available in the\n",
      "look-up table. The actual p-value is smaller than the p-value returned.\n",
      "\n",
      "  kpss_result = kpss(series.dropna())\n",
      "C:\\Users\\Administrator\\AppData\\Local\\Temp\\ipykernel_39556\\2839035517.py:9: InterpolationWarning: The test statistic is outside of the range of p-values available in the\n",
      "look-up table. The actual p-value is greater than the p-value returned.\n",
      "\n",
      "  kpss_result = kpss(series.dropna())\n",
      "C:\\Users\\Administrator\\AppData\\Local\\Temp\\ipykernel_39556\\2839035517.py:9: InterpolationWarning: The test statistic is outside of the range of p-values available in the\n",
      "look-up table. The actual p-value is smaller than the p-value returned.\n",
      "\n",
      "  kpss_result = kpss(series.dropna())\n",
      "C:\\Users\\Administrator\\AppData\\Local\\Temp\\ipykernel_39556\\2839035517.py:9: InterpolationWarning: The test statistic is outside of the range of p-values available in the\n",
      "look-up table. The actual p-value is greater than the p-value returned.\n",
      "\n",
      "  kpss_result = kpss(series.dropna())\n"
     ]
    }
   ],
   "execution_count": 49
  },
  {
   "metadata": {
    "ExecuteTime": {
     "end_time": "2025-05-25T15:48:31.378603Z",
     "start_time": "2025-05-25T15:48:31.369464Z"
    }
   },
   "cell_type": "code",
   "source": [
    "for column in ['pe_new', 'pb_new', 'turnover_rate_new', 'vol', 'm2_yoy']:\n",
    "    data_processed[column] = data_processed[column].diff()"
   ],
   "id": "110743c7d72d154b",
   "outputs": [],
   "execution_count": 50
  },
  {
   "metadata": {
    "ExecuteTime": {
     "end_time": "2025-05-25T15:48:31.714196Z",
     "start_time": "2025-05-25T15:48:31.608479Z"
    }
   },
   "cell_type": "code",
   "source": [
    "for column in ['pe_new', 'pb_new', 'turnover_rate_new', 'vol', 'm2_yoy']:\n",
    "    print(f\"\\n=== {column} 平稳性检验 ===\")\n",
    "    test_stationarity(data_processed[column])"
   ],
   "id": "eb1a3d9165fded3b",
   "outputs": [
    {
     "name": "stdout",
     "output_type": "stream",
     "text": [
      "\n",
      "=== pe_new 平稳性检验 ===\n",
      "ADF Statistic: -8.8101\n",
      "ADF p-value: 0.0000\n",
      "ADF结论: 序列平稳\n",
      "\n",
      "KPSS Statistic: 0.0991\n",
      "KPSS p-value: 0.1000\n",
      "KPSS结论: 序列趋势平稳\n",
      "\n",
      "=== pb_new 平稳性检验 ===\n",
      "ADF Statistic: -12.8356\n",
      "ADF p-value: 0.0000\n",
      "ADF结论: 序列平稳\n",
      "\n",
      "KPSS Statistic: 0.1476\n",
      "KPSS p-value: 0.1000\n",
      "KPSS结论: 序列趋势平稳\n",
      "\n",
      "=== turnover_rate_new 平稳性检验 ===\n",
      "ADF Statistic: -7.6441\n",
      "ADF p-value: 0.0000\n",
      "ADF结论: 序列平稳\n",
      "\n",
      "KPSS Statistic: 0.0761\n",
      "KPSS p-value: 0.1000\n",
      "KPSS结论: 序列趋势平稳\n",
      "\n",
      "=== vol 平稳性检验 ===\n",
      "ADF Statistic: -7.8461\n",
      "ADF p-value: 0.0000\n",
      "ADF结论: 序列平稳\n",
      "\n",
      "KPSS Statistic: 0.0608\n",
      "KPSS p-value: 0.1000\n",
      "KPSS结论: 序列趋势平稳\n",
      "\n",
      "=== m2_yoy 平稳性检验 ===\n",
      "ADF Statistic: -20.8179\n",
      "ADF p-value: 0.0000\n",
      "ADF结论: 序列平稳\n",
      "\n",
      "KPSS Statistic: 0.3147\n",
      "KPSS p-value: 0.1000\n",
      "KPSS结论: 序列趋势平稳\n"
     ]
    },
    {
     "name": "stderr",
     "output_type": "stream",
     "text": [
      "C:\\Users\\Administrator\\AppData\\Local\\Temp\\ipykernel_39556\\2839035517.py:9: InterpolationWarning: The test statistic is outside of the range of p-values available in the\n",
      "look-up table. The actual p-value is greater than the p-value returned.\n",
      "\n",
      "  kpss_result = kpss(series.dropna())\n",
      "C:\\Users\\Administrator\\AppData\\Local\\Temp\\ipykernel_39556\\2839035517.py:9: InterpolationWarning: The test statistic is outside of the range of p-values available in the\n",
      "look-up table. The actual p-value is greater than the p-value returned.\n",
      "\n",
      "  kpss_result = kpss(series.dropna())\n",
      "C:\\Users\\Administrator\\AppData\\Local\\Temp\\ipykernel_39556\\2839035517.py:9: InterpolationWarning: The test statistic is outside of the range of p-values available in the\n",
      "look-up table. The actual p-value is greater than the p-value returned.\n",
      "\n",
      "  kpss_result = kpss(series.dropna())\n",
      "C:\\Users\\Administrator\\AppData\\Local\\Temp\\ipykernel_39556\\2839035517.py:9: InterpolationWarning: The test statistic is outside of the range of p-values available in the\n",
      "look-up table. The actual p-value is greater than the p-value returned.\n",
      "\n",
      "  kpss_result = kpss(series.dropna())\n",
      "C:\\Users\\Administrator\\AppData\\Local\\Temp\\ipykernel_39556\\2839035517.py:9: InterpolationWarning: The test statistic is outside of the range of p-values available in the\n",
      "look-up table. The actual p-value is greater than the p-value returned.\n",
      "\n",
      "  kpss_result = kpss(series.dropna())\n"
     ]
    }
   ],
   "execution_count": 51
  },
  {
   "metadata": {
    "ExecuteTime": {
     "end_time": "2025-05-25T15:48:32.236568Z",
     "start_time": "2025-05-25T15:48:32.230725Z"
    }
   },
   "cell_type": "code",
   "source": "data_processed = data_processed.fillna(0)",
   "id": "a784816293940301",
   "outputs": [],
   "execution_count": 52
  },
  {
   "metadata": {
    "ExecuteTime": {
     "end_time": "2025-05-25T15:48:32.535514Z",
     "start_time": "2025-05-25T15:48:32.526166Z"
    }
   },
   "cell_type": "code",
   "source": [
    "# 初步数据处理，标注化\n",
    "# 1.1 Z-Score标准化（适用于收益率、波动率）\n",
    "cols_to_standardize = ['returns_new', 'log_volatility', 'sentiment_index', 'sentiment_index_lag_1', 'volatility', 'snownlp_index']\n",
    "data_std = data_processed[cols_to_standardize].apply(lambda x: (x - x.mean()) / x.std())"
   ],
   "id": "3b9b9ab1446b70c7",
   "outputs": [],
   "execution_count": 53
  },
  {
   "metadata": {
    "ExecuteTime": {
     "end_time": "2025-05-25T15:48:32.800832Z",
     "start_time": "2025-05-25T15:48:32.796635Z"
    }
   },
   "cell_type": "code",
   "source": [
    "cols_to_minmax = []\n",
    "# data_minmax = data[cols_to_minmax].apply(lambda x: (x - x.min())/(x.max() - x.min()))"
   ],
   "id": "9da70fa702401a6f",
   "outputs": [],
   "execution_count": 54
  },
  {
   "metadata": {
    "ExecuteTime": {
     "end_time": "2025-05-25T15:48:33.702904Z",
     "start_time": "2025-05-25T15:48:33.694892Z"
    }
   },
   "cell_type": "code",
   "source": [
    "data_processed = pd.concat([data_processed.drop(columns=cols_to_standardize + cols_to_minmax),\n",
    "                            data_std], axis=1)"
   ],
   "id": "b524739e218c0c00",
   "outputs": [],
   "execution_count": 55
  },
  {
   "metadata": {
    "ExecuteTime": {
     "end_time": "2025-05-25T15:48:33.967617Z",
     "start_time": "2025-05-25T15:48:33.956924Z"
    }
   },
   "cell_type": "code",
   "source": "data_processed['log_volatility'].describe()",
   "id": "1a2fd88cb2ee8e25",
   "outputs": [
    {
     "data": {
      "text/plain": [
       "count    4.090000e+02\n",
       "mean    -2.605902e-17\n",
       "std      1.000000e+00\n",
       "min     -2.393232e+00\n",
       "25%     -6.663260e-01\n",
       "50%     -1.414527e-01\n",
       "75%      4.906389e-01\n",
       "max      3.962350e+00\n",
       "Name: log_volatility, dtype: float64"
      ]
     },
     "execution_count": 56,
     "metadata": {},
     "output_type": "execute_result"
    }
   ],
   "execution_count": 56
  },
  {
   "metadata": {
    "ExecuteTime": {
     "end_time": "2025-05-25T16:08:41.776030Z",
     "start_time": "2025-05-25T16:08:41.694204Z"
    }
   },
   "cell_type": "code",
   "source": [
    "variables = ['returns_new', 'log_volatility', 'sentiment_index', 'pb_new', 'pe_new', 'turnover_rate_new', 'm2_yoy']\n",
    "\n",
    "# 创建空的相关系数和 p 值矩阵\n",
    "corr_matrix = pd.DataFrame(index=variables, columns=variables, dtype=float)\n",
    "pval_matrix = pd.DataFrame(index=variables, columns=variables, dtype=float)\n",
    "\n",
    "# 计算两两相关性与 p 值\n",
    "for var1 in variables:\n",
    "    for var2 in variables:\n",
    "        corr, pval = pearsonr(data_processed[var1], data_processed[var2])\n",
    "        corr_matrix.loc[var1, var2] = corr\n",
    "        pval_matrix.loc[var1, var2] = pval\n",
    "\n",
    "# 可视化输出结果\n",
    "print(\"=== 相关系数矩阵 ===\")\n",
    "print(corr_matrix.round(3))\n",
    "\n",
    "print(\"\\n=== P值矩阵（显著性水平）===\")\n",
    "print(pval_matrix.round(3))"
   ],
   "id": "f66b03d8bd4889dc",
   "outputs": [
    {
     "name": "stdout",
     "output_type": "stream",
     "text": [
      "=== 相关系数矩阵 ===\n",
      "                   returns_new  log_volatility  sentiment_index  pb_new  \\\n",
      "returns_new              1.000           0.224            0.165   0.838   \n",
      "log_volatility           0.224           1.000            0.077   0.116   \n",
      "sentiment_index          0.165           0.077            1.000   0.090   \n",
      "pb_new                   0.838           0.116            0.090   1.000   \n",
      "pe_new                   0.881           0.142            0.123   0.906   \n",
      "turnover_rate_new        0.323           0.435            0.030   0.203   \n",
      "m2_yoy                  -0.047          -0.034           -0.056  -0.011   \n",
      "\n",
      "                   pe_new  turnover_rate_new  m2_yoy  \n",
      "returns_new         0.881              0.323  -0.047  \n",
      "log_volatility      0.142              0.435  -0.034  \n",
      "sentiment_index     0.123              0.030  -0.056  \n",
      "pb_new              0.906              0.203  -0.011  \n",
      "pe_new              1.000              0.258  -0.037  \n",
      "turnover_rate_new   0.258              1.000  -0.031  \n",
      "m2_yoy             -0.037             -0.031   1.000  \n",
      "\n",
      "=== P值矩阵（显著性水平）===\n",
      "                   returns_new  log_volatility  sentiment_index  pb_new  \\\n",
      "returns_new              0.000           0.000            0.001   0.000   \n",
      "log_volatility           0.000           0.000            0.121   0.019   \n",
      "sentiment_index          0.001           0.121            0.000   0.070   \n",
      "pb_new                   0.000           0.019            0.070   0.000   \n",
      "pe_new                   0.000           0.004            0.013   0.000   \n",
      "turnover_rate_new        0.000           0.000            0.541   0.000   \n",
      "m2_yoy                   0.340           0.489            0.261   0.826   \n",
      "\n",
      "                   pe_new  turnover_rate_new  m2_yoy  \n",
      "returns_new         0.000              0.000   0.340  \n",
      "log_volatility      0.004              0.000   0.489  \n",
      "sentiment_index     0.013              0.541   0.261  \n",
      "pb_new              0.000              0.000   0.826  \n",
      "pe_new              0.000              0.000   0.460  \n",
      "turnover_rate_new   0.000              0.000   0.531  \n",
      "m2_yoy              0.460              0.531   0.000  \n"
     ]
    }
   ],
   "execution_count": 59
  },
  {
   "metadata": {
    "ExecuteTime": {
     "end_time": "2025-05-25T15:51:05.748478Z",
     "start_time": "2025-05-25T15:51:05.732363Z"
    }
   },
   "cell_type": "code",
   "source": [
    "significance_matrix = corr_matrix.round(3).astype(str) + pval_matrix.applymap(lambda p:\n",
    "    '***' if p < 0.01 else '**' if p < 0.05 else '*' if p < 0.1 else '')\n",
    "print(significance_matrix)"
   ],
   "id": "a6737bc478abaf47",
   "outputs": [
    {
     "name": "stdout",
     "output_type": "stream",
     "text": [
      "                      returns_new log_volatility sentiment_index    pb_new  \\\n",
      "returns_new                1.0***       0.224***        0.165***  0.838***   \n",
      "log_volatility           0.224***         1.0***           0.077   0.116**   \n",
      "sentiment_index          0.165***          0.077          1.0***     0.09*   \n",
      "pb_new                   0.838***        0.116**           0.09*    1.0***   \n",
      "pe_new                   0.881***       0.142***         0.123**  0.906***   \n",
      "turnover_rate_new        0.323***       0.435***            0.03  0.203***   \n",
      "m2_yoy                     -0.047         -0.034          -0.056    -0.011   \n",
      "sentiment_index_lag_1       0.013         -0.045        0.168***    -0.017   \n",
      "snownlp_index               0.077      -0.129***        0.412***     0.058   \n",
      "\n",
      "                         pe_new turnover_rate_new  m2_yoy  \\\n",
      "returns_new            0.881***          0.323***  -0.047   \n",
      "log_volatility         0.142***          0.435***  -0.034   \n",
      "sentiment_index         0.123**              0.03  -0.056   \n",
      "pb_new                 0.906***          0.203***  -0.011   \n",
      "pe_new                   1.0***          0.258***  -0.037   \n",
      "turnover_rate_new      0.258***            1.0***  -0.031   \n",
      "m2_yoy                   -0.037            -0.031  1.0***   \n",
      "sentiment_index_lag_1    -0.009            -0.053  0.087*   \n",
      "snownlp_index             0.064            -0.036  -0.065   \n",
      "\n",
      "                      sentiment_index_lag_1 snownlp_index  \n",
      "returns_new                           0.013         0.077  \n",
      "log_volatility                       -0.045     -0.129***  \n",
      "sentiment_index                    0.168***      0.412***  \n",
      "pb_new                               -0.017         0.058  \n",
      "pe_new                               -0.009         0.064  \n",
      "turnover_rate_new                    -0.053        -0.036  \n",
      "m2_yoy                               0.087*        -0.065  \n",
      "sentiment_index_lag_1                1.0***      0.152***  \n",
      "snownlp_index                      0.152***        1.0***  \n"
     ]
    },
    {
     "name": "stderr",
     "output_type": "stream",
     "text": [
      "C:\\Users\\Administrator\\AppData\\Local\\Temp\\ipykernel_39556\\2060424128.py:1: FutureWarning: DataFrame.applymap has been deprecated. Use DataFrame.map instead.\n",
      "  significance_matrix = corr_matrix.round(3).astype(str) + pval_matrix.applymap(lambda p:\n"
     ]
    }
   ],
   "execution_count": 58
  },
  {
   "metadata": {
    "ExecuteTime": {
     "end_time": "2025-05-10T08:01:02.648018Z",
     "start_time": "2025-05-10T08:01:02.620516Z"
    }
   },
   "cell_type": "code",
   "source": "data_processed[['returns_new', 'log_volatility', 'sentiment_index', 'pb_new', 'pe_new', 'turnover_rate_new', 'm2_yoy', 'sentiment_index_lag_1','snownlp_index']].corr()",
   "id": "db7c1d74ab03b233",
   "outputs": [
    {
     "data": {
      "text/plain": [
       "                       returns_new  log_volatility  sentiment_index    pb_new  \\\n",
       "returns_new               1.000000        0.223819         0.165013  0.838278   \n",
       "log_volatility            0.223819        1.000000         0.076819  0.115505   \n",
       "sentiment_index           0.165013        0.076819         1.000000  0.089726   \n",
       "pb_new                    0.838278        0.115505         0.089726  1.000000   \n",
       "pe_new                    0.880583        0.141544         0.122560  0.906296   \n",
       "turnover_rate_new         0.323064        0.435001         0.030306  0.202773   \n",
       "m2_yoy                   -0.047296       -0.034320        -0.055663 -0.010927   \n",
       "sentiment_index_lag_1     0.012967       -0.044703         0.167548 -0.017291   \n",
       "snownlp_index             0.076805       -0.128523         0.412027  0.057626   \n",
       "\n",
       "                         pe_new  turnover_rate_new    m2_yoy  \\\n",
       "returns_new            0.880583           0.323064 -0.047296   \n",
       "log_volatility         0.141544           0.435001 -0.034320   \n",
       "sentiment_index        0.122560           0.030306 -0.055663   \n",
       "pb_new                 0.906296           0.202773 -0.010927   \n",
       "pe_new                 1.000000           0.257529 -0.036617   \n",
       "turnover_rate_new      0.257529           1.000000 -0.031053   \n",
       "m2_yoy                -0.036617          -0.031053  1.000000   \n",
       "sentiment_index_lag_1 -0.009070          -0.053413  0.087494   \n",
       "snownlp_index          0.064283          -0.035518 -0.065197   \n",
       "\n",
       "                       sentiment_index_lag_1  snownlp_index  \n",
       "returns_new                         0.012967       0.076805  \n",
       "log_volatility                     -0.044703      -0.128523  \n",
       "sentiment_index                     0.167548       0.412027  \n",
       "pb_new                             -0.017291       0.057626  \n",
       "pe_new                             -0.009070       0.064283  \n",
       "turnover_rate_new                  -0.053413      -0.035518  \n",
       "m2_yoy                              0.087494      -0.065197  \n",
       "sentiment_index_lag_1               1.000000       0.152018  \n",
       "snownlp_index                       0.152018       1.000000  "
      ],
      "text/html": [
       "<div>\n",
       "<style scoped>\n",
       "    .dataframe tbody tr th:only-of-type {\n",
       "        vertical-align: middle;\n",
       "    }\n",
       "\n",
       "    .dataframe tbody tr th {\n",
       "        vertical-align: top;\n",
       "    }\n",
       "\n",
       "    .dataframe thead th {\n",
       "        text-align: right;\n",
       "    }\n",
       "</style>\n",
       "<table border=\"1\" class=\"dataframe\">\n",
       "  <thead>\n",
       "    <tr style=\"text-align: right;\">\n",
       "      <th></th>\n",
       "      <th>returns_new</th>\n",
       "      <th>log_volatility</th>\n",
       "      <th>sentiment_index</th>\n",
       "      <th>pb_new</th>\n",
       "      <th>pe_new</th>\n",
       "      <th>turnover_rate_new</th>\n",
       "      <th>m2_yoy</th>\n",
       "      <th>sentiment_index_lag_1</th>\n",
       "      <th>snownlp_index</th>\n",
       "    </tr>\n",
       "  </thead>\n",
       "  <tbody>\n",
       "    <tr>\n",
       "      <th>returns_new</th>\n",
       "      <td>1.000000</td>\n",
       "      <td>0.223819</td>\n",
       "      <td>0.165013</td>\n",
       "      <td>0.838278</td>\n",
       "      <td>0.880583</td>\n",
       "      <td>0.323064</td>\n",
       "      <td>-0.047296</td>\n",
       "      <td>0.012967</td>\n",
       "      <td>0.076805</td>\n",
       "    </tr>\n",
       "    <tr>\n",
       "      <th>log_volatility</th>\n",
       "      <td>0.223819</td>\n",
       "      <td>1.000000</td>\n",
       "      <td>0.076819</td>\n",
       "      <td>0.115505</td>\n",
       "      <td>0.141544</td>\n",
       "      <td>0.435001</td>\n",
       "      <td>-0.034320</td>\n",
       "      <td>-0.044703</td>\n",
       "      <td>-0.128523</td>\n",
       "    </tr>\n",
       "    <tr>\n",
       "      <th>sentiment_index</th>\n",
       "      <td>0.165013</td>\n",
       "      <td>0.076819</td>\n",
       "      <td>1.000000</td>\n",
       "      <td>0.089726</td>\n",
       "      <td>0.122560</td>\n",
       "      <td>0.030306</td>\n",
       "      <td>-0.055663</td>\n",
       "      <td>0.167548</td>\n",
       "      <td>0.412027</td>\n",
       "    </tr>\n",
       "    <tr>\n",
       "      <th>pb_new</th>\n",
       "      <td>0.838278</td>\n",
       "      <td>0.115505</td>\n",
       "      <td>0.089726</td>\n",
       "      <td>1.000000</td>\n",
       "      <td>0.906296</td>\n",
       "      <td>0.202773</td>\n",
       "      <td>-0.010927</td>\n",
       "      <td>-0.017291</td>\n",
       "      <td>0.057626</td>\n",
       "    </tr>\n",
       "    <tr>\n",
       "      <th>pe_new</th>\n",
       "      <td>0.880583</td>\n",
       "      <td>0.141544</td>\n",
       "      <td>0.122560</td>\n",
       "      <td>0.906296</td>\n",
       "      <td>1.000000</td>\n",
       "      <td>0.257529</td>\n",
       "      <td>-0.036617</td>\n",
       "      <td>-0.009070</td>\n",
       "      <td>0.064283</td>\n",
       "    </tr>\n",
       "    <tr>\n",
       "      <th>turnover_rate_new</th>\n",
       "      <td>0.323064</td>\n",
       "      <td>0.435001</td>\n",
       "      <td>0.030306</td>\n",
       "      <td>0.202773</td>\n",
       "      <td>0.257529</td>\n",
       "      <td>1.000000</td>\n",
       "      <td>-0.031053</td>\n",
       "      <td>-0.053413</td>\n",
       "      <td>-0.035518</td>\n",
       "    </tr>\n",
       "    <tr>\n",
       "      <th>m2_yoy</th>\n",
       "      <td>-0.047296</td>\n",
       "      <td>-0.034320</td>\n",
       "      <td>-0.055663</td>\n",
       "      <td>-0.010927</td>\n",
       "      <td>-0.036617</td>\n",
       "      <td>-0.031053</td>\n",
       "      <td>1.000000</td>\n",
       "      <td>0.087494</td>\n",
       "      <td>-0.065197</td>\n",
       "    </tr>\n",
       "    <tr>\n",
       "      <th>sentiment_index_lag_1</th>\n",
       "      <td>0.012967</td>\n",
       "      <td>-0.044703</td>\n",
       "      <td>0.167548</td>\n",
       "      <td>-0.017291</td>\n",
       "      <td>-0.009070</td>\n",
       "      <td>-0.053413</td>\n",
       "      <td>0.087494</td>\n",
       "      <td>1.000000</td>\n",
       "      <td>0.152018</td>\n",
       "    </tr>\n",
       "    <tr>\n",
       "      <th>snownlp_index</th>\n",
       "      <td>0.076805</td>\n",
       "      <td>-0.128523</td>\n",
       "      <td>0.412027</td>\n",
       "      <td>0.057626</td>\n",
       "      <td>0.064283</td>\n",
       "      <td>-0.035518</td>\n",
       "      <td>-0.065197</td>\n",
       "      <td>0.152018</td>\n",
       "      <td>1.000000</td>\n",
       "    </tr>\n",
       "  </tbody>\n",
       "</table>\n",
       "</div>"
      ]
     },
     "execution_count": 124,
     "metadata": {},
     "output_type": "execute_result"
    }
   ],
   "execution_count": 124
  },
  {
   "metadata": {
    "ExecuteTime": {
     "end_time": "2025-05-10T08:56:13.961416Z",
     "start_time": "2025-05-10T08:56:13.956512Z"
    }
   },
   "cell_type": "code",
   "source": "data_processed_pos = data_processed[data_processed['sentiment_index'] > 0].copy()",
   "id": "7d5ccc06813d260a",
   "outputs": [],
   "execution_count": 134
  },
  {
   "metadata": {
    "ExecuteTime": {
     "end_time": "2025-05-10T08:56:14.350891Z",
     "start_time": "2025-05-10T08:56:14.346313Z"
    }
   },
   "cell_type": "code",
   "source": "data_processed_neg = data_processed[data_processed['sentiment_index'] < 0].copy()",
   "id": "f9515624493a4768",
   "outputs": [],
   "execution_count": 135
  },
  {
   "metadata": {
    "ExecuteTime": {
     "end_time": "2025-05-10T08:01:29.997786Z",
     "start_time": "2025-05-10T08:01:29.955679Z"
    }
   },
   "cell_type": "code",
   "source": [
    "y_return = data_processed['returns_new']\n",
    "X = sm.add_constant(data_processed[['snownlp_index', 'pe_new', 'pb_new', 'turnover_rate_new', 'm2_yoy']])\n",
    "\n",
    "model_return_ols = sm.OLS(y_return, X).fit()\n",
    "\n",
    "print(\"对数收益率 OLS 回归结果:\")\n",
    "print(model_return_ols.summary())"
   ],
   "id": "79ea2a1923feff4f",
   "outputs": [
    {
     "name": "stdout",
     "output_type": "stream",
     "text": [
      "对数收益率 OLS 回归结果:\n",
      "                            OLS Regression Results                            \n",
      "==============================================================================\n",
      "Dep. Variable:            returns_new   R-squared:                       0.797\n",
      "Model:                            OLS   Adj. R-squared:                  0.794\n",
      "Method:                 Least Squares   F-statistic:                     316.3\n",
      "Date:                Sat, 10 May 2025   Prob (F-statistic):          4.91e-137\n",
      "Time:                        16:01:29   Log-Likelihood:                -253.86\n",
      "No. Observations:                 409   AIC:                             519.7\n",
      "Df Residuals:                     403   BIC:                             543.8\n",
      "Df Model:                           5                                         \n",
      "Covariance Type:            nonrobust                                         \n",
      "=====================================================================================\n",
      "                        coef    std err          t      P>|t|      [0.025      0.975]\n",
      "-------------------------------------------------------------------------------------\n",
      "const                 0.0021      0.023      0.093      0.926      -0.043       0.047\n",
      "snownlp_index         0.0253      0.023      1.119      0.264      -0.019       0.070\n",
      "pe_new                5.0803      0.439     11.571      0.000       4.217       5.943\n",
      "pb_new               18.4938      4.002      4.622      0.000      10.627      26.361\n",
      "turnover_rate_new     1.8238      0.379      4.809      0.000       1.078       2.569\n",
      "m2_yoy               -0.2841      0.387     -0.734      0.463      -1.045       0.477\n",
      "==============================================================================\n",
      "Omnibus:                       86.399   Durbin-Watson:                   2.281\n",
      "Prob(Omnibus):                  0.000   Jarque-Bera (JB):             1567.852\n",
      "Skew:                           0.263   Prob(JB):                         0.00\n",
      "Kurtosis:                      12.577   Cond. No.                         179.\n",
      "==============================================================================\n",
      "\n",
      "Notes:\n",
      "[1] Standard Errors assume that the covariance matrix of the errors is correctly specified.\n"
     ]
    }
   ],
   "execution_count": 125
  },
  {
   "metadata": {
    "ExecuteTime": {
     "end_time": "2025-05-10T08:02:07.661126Z",
     "start_time": "2025-05-10T08:02:07.628878Z"
    }
   },
   "cell_type": "code",
   "source": [
    "y_return = data_processed['returns_new']\n",
    "X = sm.add_constant(data_processed[['sentiment_index', 'pe_new', 'pb_new', 'turnover_rate_new', 'm2_yoy']])\n",
    "\n",
    "model_return_ols = sm.OLS(y_return, X).fit()\n",
    "\n",
    "print(\"对数收益率 OLS 回归结果:\")\n",
    "print(model_return_ols.summary())"
   ],
   "id": "24c6fd5566c8e3df",
   "outputs": [
    {
     "name": "stdout",
     "output_type": "stream",
     "text": [
      "对数收益率 OLS 回归结果:\n",
      "                            OLS Regression Results                            \n",
      "==============================================================================\n",
      "Dep. Variable:            returns_new   R-squared:                       0.800\n",
      "Model:                            OLS   Adj. R-squared:                  0.798\n",
      "Method:                 Least Squares   F-statistic:                     322.7\n",
      "Date:                Sat, 10 May 2025   Prob (F-statistic):          1.94e-138\n",
      "Time:                        16:02:07   Log-Likelihood:                -250.57\n",
      "No. Observations:                 409   AIC:                             513.1\n",
      "Df Residuals:                     403   BIC:                             537.2\n",
      "Df Model:                           5                                         \n",
      "Covariance Type:            nonrobust                                         \n",
      "=====================================================================================\n",
      "                        coef    std err          t      P>|t|      [0.025      0.975]\n",
      "-------------------------------------------------------------------------------------\n",
      "const                 0.0025      0.023      0.110      0.913      -0.042       0.047\n",
      "sentiment_index       0.0628      0.022      2.792      0.005       0.019       0.107\n",
      "pe_new                4.9817      0.437     11.394      0.000       4.122       5.841\n",
      "pb_new               19.0232      3.974      4.787      0.000      11.210      26.836\n",
      "turnover_rate_new     1.8066      0.376      4.810      0.000       1.068       2.545\n",
      "m2_yoy               -0.2592      0.384     -0.676      0.500      -1.014       0.495\n",
      "==============================================================================\n",
      "Omnibus:                       86.926   Durbin-Watson:                   2.331\n",
      "Prob(Omnibus):                  0.000   Jarque-Bera (JB):             1651.182\n",
      "Skew:                           0.241   Prob(JB):                         0.00\n",
      "Kurtosis:                      12.831   Cond. No.                         180.\n",
      "==============================================================================\n",
      "\n",
      "Notes:\n",
      "[1] Standard Errors assume that the covariance matrix of the errors is correctly specified.\n"
     ]
    }
   ],
   "execution_count": 127
  },
  {
   "metadata": {
    "ExecuteTime": {
     "end_time": "2025-05-10T08:56:48.565470Z",
     "start_time": "2025-05-10T08:56:48.546814Z"
    }
   },
   "cell_type": "code",
   "source": [
    "y_volatility = data_processed_pos['log_volatility']\n",
    "X = sm.add_constant(\n",
    "    data_processed_pos[['snownlp_index', 'pe_new', 'pb_new', 'm2_yoy', 'turnover_rate_new']])\n",
    "\n",
    "model_return_ols = sm.OLS(y_volatility, X).fit()\n",
    "\n",
    "print(\"波动率 回归结果:\")\n",
    "print(model_return_ols.summary())"
   ],
   "id": "c05d487850b47f46",
   "outputs": [
    {
     "name": "stdout",
     "output_type": "stream",
     "text": [
      "波动率 回归结果:\n",
      "                            OLS Regression Results                            \n",
      "==============================================================================\n",
      "Dep. Variable:         log_volatility   R-squared:                       0.298\n",
      "Model:                            OLS   Adj. R-squared:                  0.280\n",
      "Method:                 Least Squares   F-statistic:                     16.24\n",
      "Date:                Sat, 10 May 2025   Prob (F-statistic):           2.47e-13\n",
      "Time:                        16:56:48   Log-Likelihood:                -256.66\n",
      "No. Observations:                 197   AIC:                             525.3\n",
      "Df Residuals:                     191   BIC:                             545.0\n",
      "Df Model:                           5                                         \n",
      "Covariance Type:            nonrobust                                         \n",
      "=====================================================================================\n",
      "                        coef    std err          t      P>|t|      [0.025      0.975]\n",
      "-------------------------------------------------------------------------------------\n",
      "const                 0.0428      0.072      0.594      0.553      -0.099       0.185\n",
      "snownlp_index        -0.1590      0.069     -2.300      0.023      -0.295      -0.023\n",
      "pe_new                5.7877      1.409      4.107      0.000       3.008       8.567\n",
      "pb_new              -33.5604     12.484     -2.688      0.008     -58.185      -8.936\n",
      "m2_yoy                0.4475      1.109      0.404      0.687      -1.740       2.635\n",
      "turnover_rate_new     4.1381      1.150      3.599      0.000       1.870       6.406\n",
      "==============================================================================\n",
      "Omnibus:                       23.256   Durbin-Watson:                   1.201\n",
      "Prob(Omnibus):                  0.000   Jarque-Bera (JB):               29.344\n",
      "Skew:                           0.780   Prob(JB):                     4.25e-07\n",
      "Kurtosis:                       4.068   Cond. No.                         231.\n",
      "==============================================================================\n",
      "\n",
      "Notes:\n",
      "[1] Standard Errors assume that the covariance matrix of the errors is correctly specified.\n"
     ]
    }
   ],
   "execution_count": 136
  },
  {
   "metadata": {
    "ExecuteTime": {
     "end_time": "2025-05-10T09:00:11.538866Z",
     "start_time": "2025-05-10T09:00:11.522478Z"
    }
   },
   "cell_type": "code",
   "source": [
    "y_volatility = data_processed_neg['log_volatility']\n",
    "X = sm.add_constant(\n",
    "    data_processed_neg[['sentiment_index', 'pe_new', 'pb_new', 'turnover_rate_new']])\n",
    "\n",
    "model_return_ols = sm.OLS(y_volatility, X).fit()\n",
    "\n",
    "print(\"波动率 回归结果:\")\n",
    "print(model_return_ols.summary())"
   ],
   "id": "873aa1a0e3244db5",
   "outputs": [
    {
     "name": "stdout",
     "output_type": "stream",
     "text": [
      "波动率 回归结果:\n",
      "                            OLS Regression Results                            \n",
      "==============================================================================\n",
      "Dep. Variable:         log_volatility   R-squared:                       0.257\n",
      "Model:                            OLS   Adj. R-squared:                  0.243\n",
      "Method:                 Least Squares   F-statistic:                     17.92\n",
      "Date:                Sat, 10 May 2025   Prob (F-statistic):           1.20e-12\n",
      "Time:                        17:00:11   Log-Likelihood:                -254.30\n",
      "No. Observations:                 212   AIC:                             518.6\n",
      "Df Residuals:                     207   BIC:                             535.4\n",
      "Df Model:                           4                                         \n",
      "Covariance Type:            nonrobust                                         \n",
      "=====================================================================================\n",
      "                        coef    std err          t      P>|t|      [0.025      0.975]\n",
      "-------------------------------------------------------------------------------------\n",
      "const                 0.0152      0.090      0.170      0.865      -0.161       0.192\n",
      "sentiment_index       0.1257      0.091      1.378      0.170      -0.054       0.306\n",
      "pe_new               -3.7240      1.047     -3.557      0.000      -5.788      -1.660\n",
      "pb_new               21.7729      9.531      2.284      0.023       2.982      40.564\n",
      "turnover_rate_new     6.9681      0.972      7.169      0.000       5.052       8.884\n",
      "==============================================================================\n",
      "Omnibus:                        7.919   Durbin-Watson:                   1.295\n",
      "Prob(Omnibus):                  0.019   Jarque-Bera (JB):                7.863\n",
      "Skew:                           0.402   Prob(JB):                       0.0196\n",
      "Kurtosis:                       3.494   Cond. No.                         226.\n",
      "==============================================================================\n",
      "\n",
      "Notes:\n",
      "[1] Standard Errors assume that the covariance matrix of the errors is correctly specified.\n"
     ]
    }
   ],
   "execution_count": 141
  },
  {
   "metadata": {
    "ExecuteTime": {
     "end_time": "2025-05-10T07:57:59.862425Z",
     "start_time": "2025-05-10T07:57:59.820157Z"
    }
   },
   "cell_type": "code",
   "source": [
    "y_volatility = data_processed['log_volatility']\n",
    "X = sm.add_constant(\n",
    "    data_processed[['sentiment_index', 'agreement_index', 'pe_new', 'pb_new', 'm2_yoy', 'turnover_rate_new']])\n",
    "\n",
    "model_return_ols = sm.OLS(y_volatility, X).fit()\n",
    "\n",
    "print(\"波动率 回归结果:\")\n",
    "print(model_return_ols.summary())"
   ],
   "id": "b051fd4bcd97116e",
   "outputs": [
    {
     "name": "stdout",
     "output_type": "stream",
     "text": [
      "波动率 回归结果:\n",
      "                            OLS Regression Results                            \n",
      "==============================================================================\n",
      "Dep. Variable:         log_volatility   R-squared:                       0.195\n",
      "Model:                            OLS   Adj. R-squared:                  0.183\n",
      "Method:                 Least Squares   F-statistic:                     16.21\n",
      "Date:                Sat, 10 May 2025   Prob (F-statistic):           9.77e-17\n",
      "Time:                        15:57:59   Log-Likelihood:                -535.52\n",
      "No. Observations:                 409   AIC:                             1085.\n",
      "Df Residuals:                     402   BIC:                             1113.\n",
      "Df Model:                           6                                         \n",
      "Covariance Type:            nonrobust                                         \n",
      "=====================================================================================\n",
      "                        coef    std err          t      P>|t|      [0.025      0.975]\n",
      "-------------------------------------------------------------------------------------\n",
      "const                 0.0184      0.058      0.319      0.750      -0.095       0.132\n",
      "sentiment_index       0.0740      0.051      1.463      0.144      -0.025       0.173\n",
      "agreement_index    -118.1738    195.183     -0.605      0.545    -501.880     265.532\n",
      "pe_new                0.1750      0.885      0.198      0.843      -1.565       1.915\n",
      "pb_new                0.3057      8.033      0.038      0.970     -15.486      16.097\n",
      "m2_yoy               -0.2836      0.771     -0.368      0.713      -1.800       1.233\n",
      "turnover_rate_new     6.8806      0.761      9.046      0.000       5.385       8.376\n",
      "==============================================================================\n",
      "Omnibus:                       65.982   Durbin-Watson:                   0.938\n",
      "Prob(Omnibus):                  0.000   Jarque-Bera (JB):              123.267\n",
      "Skew:                           0.909   Prob(JB):                     1.71e-27\n",
      "Kurtosis:                       4.983   Cond. No.                     4.37e+03\n",
      "==============================================================================\n",
      "\n",
      "Notes:\n",
      "[1] Standard Errors assume that the covariance matrix of the errors is correctly specified.\n",
      "[2] The condition number is large, 4.37e+03. This might indicate that there are\n",
      "strong multicollinearity or other numerical problems.\n"
     ]
    }
   ],
   "execution_count": 95
  },
  {
   "metadata": {
    "ExecuteTime": {
     "end_time": "2025-05-10T07:58:01.612778Z",
     "start_time": "2025-05-10T07:58:01.592307Z"
    }
   },
   "cell_type": "code",
   "source": [
    "# VIF计算\n",
    "vif_data = pd.DataFrame()\n",
    "X = data_processed[['sentiment_index_lag_1', 'pe_new', 'turnover_rate_new']].copy()\n",
    "vif_data[\"Variable\"] = X.columns\n",
    "vif_data[\"VIF\"] = [variance_inflation_factor(X.values, i) for i in range(X.shape[1])]"
   ],
   "id": "4b274dd631f46bcb",
   "outputs": [],
   "execution_count": 96
  },
  {
   "metadata": {
    "ExecuteTime": {
     "end_time": "2025-05-10T07:58:02.218479Z",
     "start_time": "2025-05-10T07:58:02.205221Z"
    }
   },
   "cell_type": "code",
   "source": "vif_data",
   "id": "240d217c08c81e9f",
   "outputs": [
    {
     "data": {
      "text/plain": [
       "                Variable       VIF\n",
       "0  sentiment_index_lag_1  1.002885\n",
       "1                 pe_new  1.071057\n",
       "2      turnover_rate_new  1.074033"
      ],
      "text/html": [
       "<div>\n",
       "<style scoped>\n",
       "    .dataframe tbody tr th:only-of-type {\n",
       "        vertical-align: middle;\n",
       "    }\n",
       "\n",
       "    .dataframe tbody tr th {\n",
       "        vertical-align: top;\n",
       "    }\n",
       "\n",
       "    .dataframe thead th {\n",
       "        text-align: right;\n",
       "    }\n",
       "</style>\n",
       "<table border=\"1\" class=\"dataframe\">\n",
       "  <thead>\n",
       "    <tr style=\"text-align: right;\">\n",
       "      <th></th>\n",
       "      <th>Variable</th>\n",
       "      <th>VIF</th>\n",
       "    </tr>\n",
       "  </thead>\n",
       "  <tbody>\n",
       "    <tr>\n",
       "      <th>0</th>\n",
       "      <td>sentiment_index_lag_1</td>\n",
       "      <td>1.002885</td>\n",
       "    </tr>\n",
       "    <tr>\n",
       "      <th>1</th>\n",
       "      <td>pe_new</td>\n",
       "      <td>1.071057</td>\n",
       "    </tr>\n",
       "    <tr>\n",
       "      <th>2</th>\n",
       "      <td>turnover_rate_new</td>\n",
       "      <td>1.074033</td>\n",
       "    </tr>\n",
       "  </tbody>\n",
       "</table>\n",
       "</div>"
      ]
     },
     "execution_count": 97,
     "metadata": {},
     "output_type": "execute_result"
    }
   ],
   "execution_count": 97
  },
  {
   "metadata": {
    "ExecuteTime": {
     "end_time": "2025-05-10T06:24:15.369953Z",
     "start_time": "2025-05-10T06:24:15.316359Z"
    }
   },
   "cell_type": "code",
   "source": [
    "# Grange sentiment_index --> returns_new\n",
    "test_data = data_processed[['returns_new', 'sentiment_index']].dropna()\n",
    "granger_test = grangercausalitytests(test_data, maxlag=8)"
   ],
   "id": "3cc3d9e57e64e64e",
   "outputs": [
    {
     "name": "stdout",
     "output_type": "stream",
     "text": [
      "\n",
      "Granger Causality\n",
      "number of lags (no zero) 1\n",
      "ssr based F test:         F=11.2962 , p=0.0009  , df_denom=405, df_num=1\n",
      "ssr based chi2 test:   chi2=11.3799 , p=0.0007  , df=1\n",
      "likelihood ratio test: chi2=11.2241 , p=0.0008  , df=1\n",
      "parameter F test:         F=11.2962 , p=0.0009  , df_denom=405, df_num=1\n",
      "\n",
      "Granger Causality\n",
      "number of lags (no zero) 2\n",
      "ssr based F test:         F=12.0038 , p=0.0000  , df_denom=402, df_num=2\n",
      "ssr based chi2 test:   chi2=24.3062 , p=0.0000  , df=2\n",
      "likelihood ratio test: chi2=23.6081 , p=0.0000  , df=2\n",
      "parameter F test:         F=12.0038 , p=0.0000  , df_denom=402, df_num=2\n",
      "\n",
      "Granger Causality\n",
      "number of lags (no zero) 3\n",
      "ssr based F test:         F=8.8222  , p=0.0000  , df_denom=399, df_num=3\n",
      "ssr based chi2 test:   chi2=26.9310 , p=0.0000  , df=3\n",
      "likelihood ratio test: chi2=26.0755 , p=0.0000  , df=3\n",
      "parameter F test:         F=8.8222  , p=0.0000  , df_denom=399, df_num=3\n",
      "\n",
      "Granger Causality\n",
      "number of lags (no zero) 4\n",
      "ssr based F test:         F=6.6403  , p=0.0000  , df_denom=396, df_num=4\n",
      "ssr based chi2 test:   chi2=27.1649 , p=0.0000  , df=4\n",
      "likelihood ratio test: chi2=26.2926 , p=0.0000  , df=4\n",
      "parameter F test:         F=6.6403  , p=0.0000  , df_denom=396, df_num=4\n",
      "\n",
      "Granger Causality\n",
      "number of lags (no zero) 5\n",
      "ssr based F test:         F=5.8469  , p=0.0000  , df_denom=393, df_num=5\n",
      "ssr based chi2 test:   chi2=30.0525 , p=0.0000  , df=5\n",
      "likelihood ratio test: chi2=28.9873 , p=0.0000  , df=5\n",
      "parameter F test:         F=5.8469  , p=0.0000  , df_denom=393, df_num=5\n",
      "\n",
      "Granger Causality\n",
      "number of lags (no zero) 6\n",
      "ssr based F test:         F=4.7709  , p=0.0001  , df_denom=390, df_num=6\n",
      "ssr based chi2 test:   chi2=29.5797 , p=0.0000  , df=6\n",
      "likelihood ratio test: chi2=28.5445 , p=0.0001  , df=6\n",
      "parameter F test:         F=4.7709  , p=0.0001  , df_denom=390, df_num=6\n",
      "\n",
      "Granger Causality\n",
      "number of lags (no zero) 7\n",
      "ssr based F test:         F=4.1033  , p=0.0002  , df_denom=387, df_num=7\n",
      "ssr based chi2 test:   chi2=29.8362 , p=0.0001  , df=7\n",
      "likelihood ratio test: chi2=28.7809 , p=0.0002  , df=7\n",
      "parameter F test:         F=4.1033  , p=0.0002  , df_denom=387, df_num=7\n",
      "\n",
      "Granger Causality\n",
      "number of lags (no zero) 8\n",
      "ssr based F test:         F=3.7537  , p=0.0003  , df_denom=384, df_num=8\n",
      "ssr based chi2 test:   chi2=31.3587 , p=0.0001  , df=8\n",
      "likelihood ratio test: chi2=30.1929 , p=0.0002  , df=8\n",
      "parameter F test:         F=3.7537  , p=0.0003  , df_denom=384, df_num=8\n"
     ]
    }
   ],
   "execution_count": 118
  },
  {
   "metadata": {
    "ExecuteTime": {
     "end_time": "2025-05-10T06:24:17.916656Z",
     "start_time": "2025-05-10T06:24:17.875146Z"
    }
   },
   "cell_type": "code",
   "source": [
    "# Grange returns_new --> sentiment_index\n",
    "test_data = data_processed[['sentiment_index', 'returns_new']].dropna()\n",
    "granger_test = grangercausalitytests(test_data, maxlag=8)"
   ],
   "id": "df62ccdaf8f63267",
   "outputs": [
    {
     "name": "stdout",
     "output_type": "stream",
     "text": [
      "\n",
      "Granger Causality\n",
      "number of lags (no zero) 1\n",
      "ssr based F test:         F=0.0004  , p=0.9849  , df_denom=405, df_num=1\n",
      "ssr based chi2 test:   chi2=0.0004  , p=0.9848  , df=1\n",
      "likelihood ratio test: chi2=0.0004  , p=0.9848  , df=1\n",
      "parameter F test:         F=0.0004  , p=0.9849  , df_denom=405, df_num=1\n",
      "\n",
      "Granger Causality\n",
      "number of lags (no zero) 2\n",
      "ssr based F test:         F=0.6416  , p=0.5270  , df_denom=402, df_num=2\n",
      "ssr based chi2 test:   chi2=1.2993  , p=0.5222  , df=2\n",
      "likelihood ratio test: chi2=1.2972  , p=0.5228  , df=2\n",
      "parameter F test:         F=0.6416  , p=0.5270  , df_denom=402, df_num=2\n",
      "\n",
      "Granger Causality\n",
      "number of lags (no zero) 3\n",
      "ssr based F test:         F=0.6865  , p=0.5607  , df_denom=399, df_num=3\n",
      "ssr based chi2 test:   chi2=2.0956  , p=0.5528  , df=3\n",
      "likelihood ratio test: chi2=2.0902  , p=0.5539  , df=3\n",
      "parameter F test:         F=0.6865  , p=0.5607  , df_denom=399, df_num=3\n",
      "\n",
      "Granger Causality\n",
      "number of lags (no zero) 4\n",
      "ssr based F test:         F=0.9116  , p=0.4571  , df_denom=396, df_num=4\n",
      "ssr based chi2 test:   chi2=3.7292  , p=0.4439  , df=4\n",
      "likelihood ratio test: chi2=3.7121  , p=0.4464  , df=4\n",
      "parameter F test:         F=0.9116  , p=0.4571  , df_denom=396, df_num=4\n",
      "\n",
      "Granger Causality\n",
      "number of lags (no zero) 5\n",
      "ssr based F test:         F=1.2018  , p=0.3075  , df_denom=393, df_num=5\n",
      "ssr based chi2 test:   chi2=6.1774  , p=0.2893  , df=5\n",
      "likelihood ratio test: chi2=6.1307  , p=0.2937  , df=5\n",
      "parameter F test:         F=1.2018  , p=0.3075  , df_denom=393, df_num=5\n",
      "\n",
      "Granger Causality\n",
      "number of lags (no zero) 6\n",
      "ssr based F test:         F=1.0517  , p=0.3913  , df_denom=390, df_num=6\n",
      "ssr based chi2 test:   chi2=6.5202  , p=0.3675  , df=6\n",
      "likelihood ratio test: chi2=6.4681  , p=0.3728  , df=6\n",
      "parameter F test:         F=1.0517  , p=0.3913  , df_denom=390, df_num=6\n",
      "\n",
      "Granger Causality\n",
      "number of lags (no zero) 7\n",
      "ssr based F test:         F=1.0721  , p=0.3806  , df_denom=387, df_num=7\n",
      "ssr based chi2 test:   chi2=7.7959  , p=0.3509  , df=7\n",
      "likelihood ratio test: chi2=7.7213  , p=0.3578  , df=7\n",
      "parameter F test:         F=1.0721  , p=0.3806  , df_denom=387, df_num=7\n",
      "\n",
      "Granger Causality\n",
      "number of lags (no zero) 8\n",
      "ssr based F test:         F=1.5404  , p=0.1415  , df_denom=384, df_num=8\n",
      "ssr based chi2 test:   chi2=12.8689 , p=0.1164  , df=8\n",
      "likelihood ratio test: chi2=12.6667 , p=0.1238  , df=8\n",
      "parameter F test:         F=1.5404  , p=0.1415  , df_denom=384, df_num=8\n"
     ]
    }
   ],
   "execution_count": 119
  },
  {
   "metadata": {
    "ExecuteTime": {
     "end_time": "2025-05-10T06:24:18.419123Z",
     "start_time": "2025-05-10T06:24:18.358301Z"
    }
   },
   "cell_type": "code",
   "source": [
    "# Grange sentiment --> log_volatility\n",
    "test_data = data_processed[['log_volatility', 'sentiment_index']].dropna()\n",
    "granger_test = grangercausalitytests(test_data, maxlag=8)"
   ],
   "id": "6372f0a5f772cc09",
   "outputs": [
    {
     "name": "stdout",
     "output_type": "stream",
     "text": [
      "\n",
      "Granger Causality\n",
      "number of lags (no zero) 1\n",
      "ssr based F test:         F=0.6934  , p=0.4055  , df_denom=405, df_num=1\n",
      "ssr based chi2 test:   chi2=0.6985  , p=0.4033  , df=1\n",
      "likelihood ratio test: chi2=0.6979  , p=0.4035  , df=1\n",
      "parameter F test:         F=0.6934  , p=0.4055  , df_denom=405, df_num=1\n",
      "\n",
      "Granger Causality\n",
      "number of lags (no zero) 2\n",
      "ssr based F test:         F=2.7657  , p=0.0641  , df_denom=402, df_num=2\n",
      "ssr based chi2 test:   chi2=5.6002  , p=0.0608  , df=2\n",
      "likelihood ratio test: chi2=5.5620  , p=0.0620  , df=2\n",
      "parameter F test:         F=2.7657  , p=0.0641  , df_denom=402, df_num=2\n",
      "\n",
      "Granger Causality\n",
      "number of lags (no zero) 3\n",
      "ssr based F test:         F=2.4546  , p=0.0628  , df_denom=399, df_num=3\n",
      "ssr based chi2 test:   chi2=7.4929  , p=0.0577  , df=3\n",
      "likelihood ratio test: chi2=7.4246  , p=0.0595  , df=3\n",
      "parameter F test:         F=2.4546  , p=0.0628  , df_denom=399, df_num=3\n",
      "\n",
      "Granger Causality\n",
      "number of lags (no zero) 4\n",
      "ssr based F test:         F=2.8397  , p=0.0241  , df_denom=396, df_num=4\n",
      "ssr based chi2 test:   chi2=11.6169 , p=0.0204  , df=4\n",
      "likelihood ratio test: chi2=11.4534 , p=0.0219  , df=4\n",
      "parameter F test:         F=2.8397  , p=0.0241  , df_denom=396, df_num=4\n",
      "\n",
      "Granger Causality\n",
      "number of lags (no zero) 5\n",
      "ssr based F test:         F=2.2360  , p=0.0501  , df_denom=393, df_num=5\n",
      "ssr based chi2 test:   chi2=11.4930 , p=0.0424  , df=5\n",
      "likelihood ratio test: chi2=11.3325 , p=0.0452  , df=5\n",
      "parameter F test:         F=2.2360  , p=0.0501  , df_denom=393, df_num=5\n",
      "\n",
      "Granger Causality\n",
      "number of lags (no zero) 6\n",
      "ssr based F test:         F=1.8799  , p=0.0831  , df_denom=390, df_num=6\n",
      "ssr based chi2 test:   chi2=11.6551 , p=0.0701  , df=6\n",
      "likelihood ratio test: chi2=11.4898 , p=0.0744  , df=6\n",
      "parameter F test:         F=1.8799  , p=0.0831  , df_denom=390, df_num=6\n",
      "\n",
      "Granger Causality\n",
      "number of lags (no zero) 7\n",
      "ssr based F test:         F=2.4217  , p=0.0195  , df_denom=387, df_num=7\n",
      "ssr based chi2 test:   chi2=17.6086 , p=0.0139  , df=7\n",
      "likelihood ratio test: chi2=17.2339 , p=0.0159  , df=7\n",
      "parameter F test:         F=2.4217  , p=0.0195  , df_denom=387, df_num=7\n",
      "\n",
      "Granger Causality\n",
      "number of lags (no zero) 8\n",
      "ssr based F test:         F=2.4097  , p=0.0151  , df_denom=384, df_num=8\n",
      "ssr based chi2 test:   chi2=20.1310 , p=0.0099  , df=8\n",
      "likelihood ratio test: chi2=19.6420 , p=0.0118  , df=8\n",
      "parameter F test:         F=2.4097  , p=0.0151  , df_denom=384, df_num=8\n"
     ]
    }
   ],
   "execution_count": 120
  },
  {
   "metadata": {
    "ExecuteTime": {
     "end_time": "2025-05-10T06:24:20.864190Z",
     "start_time": "2025-05-10T06:24:20.822625Z"
    }
   },
   "cell_type": "code",
   "source": [
    "# Grange log_volatility --> sentiment\n",
    "test_data = data_processed[['sentiment_index', 'log_volatility']].dropna()\n",
    "granger_test = grangercausalitytests(test_data, maxlag=8)"
   ],
   "id": "bb248262907ae3cb",
   "outputs": [
    {
     "name": "stdout",
     "output_type": "stream",
     "text": [
      "\n",
      "Granger Causality\n",
      "number of lags (no zero) 1\n",
      "ssr based F test:         F=1.5199  , p=0.2184  , df_denom=405, df_num=1\n",
      "ssr based chi2 test:   chi2=1.5312  , p=0.2159  , df=1\n",
      "likelihood ratio test: chi2=1.5283  , p=0.2164  , df=1\n",
      "parameter F test:         F=1.5199  , p=0.2184  , df_denom=405, df_num=1\n",
      "\n",
      "Granger Causality\n",
      "number of lags (no zero) 2\n",
      "ssr based F test:         F=1.2672  , p=0.2828  , df_denom=402, df_num=2\n",
      "ssr based chi2 test:   chi2=2.5658  , p=0.2772  , df=2\n",
      "likelihood ratio test: chi2=2.5578  , p=0.2783  , df=2\n",
      "parameter F test:         F=1.2672  , p=0.2828  , df_denom=402, df_num=2\n",
      "\n",
      "Granger Causality\n",
      "number of lags (no zero) 3\n",
      "ssr based F test:         F=2.8699  , p=0.0363  , df_denom=399, df_num=3\n",
      "ssr based chi2 test:   chi2=8.7607  , p=0.0326  , df=3\n",
      "likelihood ratio test: chi2=8.6675  , p=0.0341  , df=3\n",
      "parameter F test:         F=2.8699  , p=0.0363  , df_denom=399, df_num=3\n",
      "\n",
      "Granger Causality\n",
      "number of lags (no zero) 4\n",
      "ssr based F test:         F=2.0049  , p=0.0931  , df_denom=396, df_num=4\n",
      "ssr based chi2 test:   chi2=8.2018  , p=0.0845  , df=4\n",
      "likelihood ratio test: chi2=8.1199  , p=0.0873  , df=4\n",
      "parameter F test:         F=2.0049  , p=0.0931  , df_denom=396, df_num=4\n",
      "\n",
      "Granger Causality\n",
      "number of lags (no zero) 5\n",
      "ssr based F test:         F=1.3095  , p=0.2590  , df_denom=393, df_num=5\n",
      "ssr based chi2 test:   chi2=6.7309  , p=0.2414  , df=5\n",
      "likelihood ratio test: chi2=6.6755  , p=0.2459  , df=5\n",
      "parameter F test:         F=1.3095  , p=0.2590  , df_denom=393, df_num=5\n",
      "\n",
      "Granger Causality\n",
      "number of lags (no zero) 6\n",
      "ssr based F test:         F=1.2251  , p=0.2923  , df_denom=390, df_num=6\n",
      "ssr based chi2 test:   chi2=7.5958  , p=0.2692  , df=6\n",
      "likelihood ratio test: chi2=7.5251  , p=0.2750  , df=6\n",
      "parameter F test:         F=1.2251  , p=0.2923  , df_denom=390, df_num=6\n",
      "\n",
      "Granger Causality\n",
      "number of lags (no zero) 7\n",
      "ssr based F test:         F=1.2825  , p=0.2576  , df_denom=387, df_num=7\n",
      "ssr based chi2 test:   chi2=9.3256  , p=0.2301  , df=7\n",
      "likelihood ratio test: chi2=9.2190  , p=0.2373  , df=7\n",
      "parameter F test:         F=1.2825  , p=0.2576  , df_denom=387, df_num=7\n",
      "\n",
      "Granger Causality\n",
      "number of lags (no zero) 8\n",
      "ssr based F test:         F=2.0707  , p=0.0377  , df_denom=384, df_num=8\n",
      "ssr based chi2 test:   chi2=17.2993 , p=0.0271  , df=8\n",
      "likelihood ratio test: chi2=16.9366 , p=0.0308  , df=8\n",
      "parameter F test:         F=2.0707  , p=0.0377  , df_denom=384, df_num=8\n"
     ]
    }
   ],
   "execution_count": 121
  },
  {
   "metadata": {},
   "cell_type": "code",
   "outputs": [],
   "execution_count": null,
   "source": "",
   "id": "e11464b6c201aa87"
  },
  {
   "metadata": {},
   "cell_type": "markdown",
   "source": "### RESET检验(Ramsey) 检验是否遗漏变量",
   "id": "dbe9c90da57ca62"
  },
  {
   "metadata": {
    "ExecuteTime": {
     "end_time": "2025-05-10T08:43:39.481227Z",
     "start_time": "2025-05-10T08:43:39.476808Z"
    }
   },
   "cell_type": "code",
   "source": [
    "import pandas as pd\n",
    "import statsmodels.api as sm\n",
    "from statsmodels.stats.diagnostic import het_breuschpagan, linear_reset\n",
    "from linearmodels.iv import IV2SLS"
   ],
   "id": "38f8978ae473815d",
   "outputs": [],
   "execution_count": 130
  },
  {
   "metadata": {
    "ExecuteTime": {
     "end_time": "2025-05-10T08:43:46.148208Z",
     "start_time": "2025-05-10T08:43:46.130225Z"
    }
   },
   "cell_type": "code",
   "source": [
    "X = data_processed[['snownlp_index', 'pe_new', 'pb_new','turnover_rate_new', 'm2_yoy']]\n",
    "X = sm.add_constant(X)\n",
    "y = data_processed['returns_new']\n",
    "\n",
    "# 拟合OLS模型\n",
    "ols_model = sm.OLS(y, X).fit()\n",
    "print(ols_model.summary())"
   ],
   "id": "be01813d1d0ba51a",
   "outputs": [
    {
     "name": "stdout",
     "output_type": "stream",
     "text": [
      "                            OLS Regression Results                            \n",
      "==============================================================================\n",
      "Dep. Variable:            returns_new   R-squared:                       0.797\n",
      "Model:                            OLS   Adj. R-squared:                  0.794\n",
      "Method:                 Least Squares   F-statistic:                     316.3\n",
      "Date:                Sat, 10 May 2025   Prob (F-statistic):          4.91e-137\n",
      "Time:                        16:43:46   Log-Likelihood:                -253.86\n",
      "No. Observations:                 409   AIC:                             519.7\n",
      "Df Residuals:                     403   BIC:                             543.8\n",
      "Df Model:                           5                                         \n",
      "Covariance Type:            nonrobust                                         \n",
      "=====================================================================================\n",
      "                        coef    std err          t      P>|t|      [0.025      0.975]\n",
      "-------------------------------------------------------------------------------------\n",
      "const                 0.0021      0.023      0.093      0.926      -0.043       0.047\n",
      "snownlp_index         0.0253      0.023      1.119      0.264      -0.019       0.070\n",
      "pe_new                5.0803      0.439     11.571      0.000       4.217       5.943\n",
      "pb_new               18.4938      4.002      4.622      0.000      10.627      26.361\n",
      "turnover_rate_new     1.8238      0.379      4.809      0.000       1.078       2.569\n",
      "m2_yoy               -0.2841      0.387     -0.734      0.463      -1.045       0.477\n",
      "==============================================================================\n",
      "Omnibus:                       86.399   Durbin-Watson:                   2.281\n",
      "Prob(Omnibus):                  0.000   Jarque-Bera (JB):             1567.852\n",
      "Skew:                           0.263   Prob(JB):                         0.00\n",
      "Kurtosis:                      12.577   Cond. No.                         179.\n",
      "==============================================================================\n",
      "\n",
      "Notes:\n",
      "[1] Standard Errors assume that the covariance matrix of the errors is correctly specified.\n"
     ]
    }
   ],
   "execution_count": 131
  },
  {
   "metadata": {
    "ExecuteTime": {
     "end_time": "2025-05-10T09:06:49.234099Z",
     "start_time": "2025-05-10T09:06:49.215924Z"
    }
   },
   "cell_type": "code",
   "source": [
    "X = data_processed[['sentiment_index', 'pe_new', 'pb_new','turnover_rate_new']]\n",
    "X = sm.add_constant(X)\n",
    "y = data_processed['returns_new']\n",
    "\n",
    "# 拟合OLS模型\n",
    "ols_model = sm.OLS(y, X).fit()\n",
    "print(ols_model.summary())"
   ],
   "id": "7749a24e04465135",
   "outputs": [
    {
     "name": "stdout",
     "output_type": "stream",
     "text": [
      "                            OLS Regression Results                            \n",
      "==============================================================================\n",
      "Dep. Variable:            returns_new   R-squared:                       0.800\n",
      "Model:                            OLS   Adj. R-squared:                  0.798\n",
      "Method:                 Least Squares   F-statistic:                     403.8\n",
      "Date:                Sat, 10 May 2025   Prob (F-statistic):          1.14e-139\n",
      "Time:                        17:06:49   Log-Likelihood:                -250.80\n",
      "No. Observations:                 409   AIC:                             511.6\n",
      "Df Residuals:                     404   BIC:                             531.7\n",
      "Df Model:                           4                                         \n",
      "Covariance Type:            nonrobust                                         \n",
      "=====================================================================================\n",
      "                        coef    std err          t      P>|t|      [0.025      0.975]\n",
      "-------------------------------------------------------------------------------------\n",
      "const                 0.0052      0.022      0.235      0.814      -0.038       0.049\n",
      "sentiment_index       0.0636      0.022      2.831      0.005       0.019       0.108\n",
      "pe_new                4.9977      0.436     11.454      0.000       4.140       5.855\n",
      "pb_new               18.8925      3.967      4.762      0.000      11.094      26.691\n",
      "turnover_rate_new     1.8114      0.375      4.826      0.000       1.074       2.549\n",
      "==============================================================================\n",
      "Omnibus:                       88.655   Durbin-Watson:                   2.336\n",
      "Prob(Omnibus):                  0.000   Jarque-Bera (JB):             1728.728\n",
      "Skew:                           0.261   Prob(JB):                         0.00\n",
      "Kurtosis:                      13.058   Cond. No.                         179.\n",
      "==============================================================================\n",
      "\n",
      "Notes:\n",
      "[1] Standard Errors assume that the covariance matrix of the errors is correctly specified.\n"
     ]
    }
   ],
   "execution_count": 143
  },
  {
   "metadata": {
    "ExecuteTime": {
     "end_time": "2025-05-10T09:06:53.993076Z",
     "start_time": "2025-05-10T09:06:53.987427Z"
    }
   },
   "cell_type": "code",
   "source": [
    "reset_test = linear_reset(ols_model, power=2, use_f=True)\n",
    "print(f\"RESET检验的p值为: {reset_test.pvalue}\")"
   ],
   "id": "3d53635d5f461af0",
   "outputs": [
    {
     "name": "stdout",
     "output_type": "stream",
     "text": [
      "RESET检验的p值为: 0.0008974802545031172\n"
     ]
    }
   ],
   "execution_count": 144
  },
  {
   "metadata": {},
   "cell_type": "markdown",
   "source": "",
   "id": "ff276bde1c479b6b"
  },
  {
   "metadata": {
    "ExecuteTime": {
     "end_time": "2025-05-10T09:06:59.195658Z",
     "start_time": "2025-05-10T09:06:59.189918Z"
    }
   },
   "cell_type": "code",
   "source": [
    "# Breusch-Pagan 异方差检验\n",
    "_, pval, _, _ = het_breuschpagan(ols_model.resid, X)\n",
    "print(f\"异方差检验p值: {pval}\")"
   ],
   "id": "e590a9f08ac734be",
   "outputs": [
    {
     "name": "stdout",
     "output_type": "stream",
     "text": [
      "异方差检验p值: 2.1324630521945387e-11\n"
     ]
    }
   ],
   "execution_count": 145
  },
  {
   "metadata": {},
   "cell_type": "code",
   "outputs": [],
   "execution_count": null,
   "source": "",
   "id": "8c52662e94e07ee1"
  },
  {
   "metadata": {},
   "cell_type": "code",
   "outputs": [],
   "execution_count": null,
   "source": "",
   "id": "94e46fcc3f29a7bc"
  },
  {
   "metadata": {},
   "cell_type": "code",
   "outputs": [],
   "execution_count": null,
   "source": "",
   "id": "9d9f5748fa342d08"
  }
 ],
 "metadata": {
  "kernelspec": {
   "display_name": "Python 3",
   "language": "python",
   "name": "python3"
  },
  "language_info": {
   "codemirror_mode": {
    "name": "ipython",
    "version": 2
   },
   "file_extension": ".py",
   "mimetype": "text/x-python",
   "name": "python",
   "nbconvert_exporter": "python",
   "pygments_lexer": "ipython2",
   "version": "2.7.6"
  }
 },
 "nbformat": 4,
 "nbformat_minor": 5
}
