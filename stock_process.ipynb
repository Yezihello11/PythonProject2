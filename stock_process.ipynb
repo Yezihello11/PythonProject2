{
 "cells": [
  {
   "cell_type": "code",
   "execution_count": null,
   "id": "initial_id",
   "metadata": {
    "collapsed": true
   },
   "outputs": [],
   "source": [
    "import numpy as np\n",
    "import pandas as pd\n",
    "import re\n",
    "import matplotlib.pyplot as plt\n",
    "from datetime import datetime\n",
    "from scipy.stats import zscore\n",
    "from statsmodels.tsa.stattools import grangercausalitytests\n",
    "import jieba\n",
    "from snownlp import SnowNLP\n",
    "import tushare as ts\n",
    "import akshare as ak\n",
    "from statsmodels.tsa.stattools import adfuller, coint, kpss, grangercausalitytests\n",
    "from statsmodels.tsa.vector_ar.vecm import coint_johansen\n",
    "import statsmodels.api as sm\n",
    "from linearmodels.panel import PanelOLS, RandomEffects, compare\n",
    "from linearmodels.iv import IV2SLS\n",
    "from scipy import stats\n",
    "from statsmodels.stats.outliers_influence import variance_inflation_factor\n"
   ]
  },
  {
   "metadata": {},
   "cell_type": "code",
   "outputs": [],
   "execution_count": null,
   "source": [
    "def winsorize_series(series, lower=0.01, upper=0.99):\n",
    "    \"\"\"\n",
    "    对收益率序列进行缩尾处理\n",
    "    :param series: pandas Series, 收益率序列\n",
    "    :param lower: 下缩尾分位数（默认1%）\n",
    "    :param upper: 上缩尾分位数（默认99%）\n",
    "    :return: 缩尾后的Series\n",
    "    \"\"\"\n",
    "    # 计算分位数边界\n",
    "    lower_bound = series.quantile(lower)\n",
    "    upper_bound = series.quantile(upper)\n",
    "\n",
    "    # 执行缩尾（极端值替换为边界值）\n",
    "    return series.clip(lower=lower_bound, upper=upper_bound)"
   ],
   "id": "ba008659da5ffa28"
  },
  {
   "metadata": {},
   "cell_type": "code",
   "outputs": [],
   "execution_count": null,
   "source": [
    "def stock_processed(result):\n",
    "    result['agreement_index'] = result['sentiment_index'].apply(lambda x : 1-np.sqrt(1-x**2))\n",
    "    result['return'] = np.log(result['close']/result['close'].shift(1))*100\n",
    "    result['return'] = result['return'].fillna(0)\n",
    "    result['volatility'] = (result['high'] - result['low'])/((result['high']+result['low'])/2)*100\n",
    "    result = result[~result['sentiment_index'].isna()].reset_index(drop=True)\n",
    "    result = result.rename(columns={'return': 'returns'}).copy()\n",
    "\n",
    "    result['returns_new'] = winsorize_series(result['returns'])\n",
    "    result['log_volatility'] = np.log(result['volatility']/100 + 1e-5).pipe(lambda x: (x - x.mean())/x.std())*100\n",
    "\n",
    "    result['sentiment_index_lag_1'] = result['sentiment_index'].shift(1).fillna(0)\n",
    "\n",
    "    result['turnover_rate_new'] = result['turnover_rate'].apply(lambda x: np.log(1+x))\n",
    "    result['pe_new'] = winsorize_series(result['pe'], lower=0.01, upper=0.99)\n",
    "    result['pb_new'] = winsorize_series(result['pb'], lower=0.01, upper=0.99)\n",
    "\n",
    "    return result"
   ],
   "id": "42ef7ffa57057c45"
  },
  {
   "metadata": {},
   "cell_type": "markdown",
   "source": "",
   "id": "a29fc992f2ec23ac"
  },
  {
   "metadata": {},
   "cell_type": "code",
   "outputs": [],
   "execution_count": null,
   "source": "",
   "id": "3ccdf325b68c5ebc"
  }
 ],
 "metadata": {
  "kernelspec": {
   "display_name": "Python 3",
   "language": "python",
   "name": "python3"
  },
  "language_info": {
   "codemirror_mode": {
    "name": "ipython",
    "version": 2
   },
   "file_extension": ".py",
   "mimetype": "text/x-python",
   "name": "python",
   "nbconvert_exporter": "python",
   "pygments_lexer": "ipython2",
   "version": "2.7.6"
  }
 },
 "nbformat": 4,
 "nbformat_minor": 5
}
