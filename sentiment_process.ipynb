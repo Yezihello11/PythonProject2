{
 "cells": [
  {
   "metadata": {},
   "cell_type": "markdown",
   "source": "# Sentiment Analysis on",
   "id": "66f4cf424976f0b0"
  },
  {
   "metadata": {
    "ExecuteTime": {
     "end_time": "2025-05-08T01:27:47.317127Z",
     "start_time": "2025-05-08T01:27:47.310743Z"
    }
   },
   "cell_type": "code",
   "source": [
    "import numpy as np\n",
    "import pandas as pd\n",
    "import re\n",
    "import matplotlib.pyplot as plt\n",
    "from datetime import datetime\n",
    "from scipy.stats import zscore\n",
    "from statsmodels.tsa.stattools import grangercausalitytests\n",
    "import jieba\n",
    "from snownlp import SnowNLP\n",
    "import tushare as ts\n",
    "import akshare as ak\n",
    "from statsmodels.tsa.stattools import adfuller, coint, kpss,grangercausalitytests\n",
    "from statsmodels.tsa.vector_ar.vecm import coint_johansen\n",
    "import statsmodels.api as sm\n",
    "from linearmodels.panel import PanelOLS, RandomEffects, compare\n",
    "from linearmodels.iv import IV2SLS\n",
    "from scipy import stats\n",
    "from statsmodels.stats.outliers_influence import variance_inflation_factor"
   ],
   "id": "2e57c91adcb6ed25",
   "outputs": [],
   "execution_count": 122
  },
  {
   "metadata": {
    "ExecuteTime": {
     "end_time": "2025-05-08T01:27:48.960909Z",
     "start_time": "2025-05-08T01:27:48.953719Z"
    }
   },
   "cell_type": "code",
   "source": [
    "def test_stationarity(series, alpha=0.05):\n",
    "    # ADF检验\n",
    "    adf_result = adfuller(series.dropna())\n",
    "    print(f\"ADF Statistic: {adf_result[0]:.4f}\")\n",
    "    print(f\"ADF p-value: {adf_result[1]:.4f}\")\n",
    "    print(\"ADF结论: 序列平稳\" if adf_result[1] < alpha else \"ADF结论: 序列非平稳\")\n",
    "\n",
    "    # KPSS检验\n",
    "    kpss_result = kpss(series.dropna())\n",
    "    print(f\"\\nKPSS Statistic: {kpss_result[0]:.4f}\")\n",
    "    print(f\"KPSS p-value: {kpss_result[1]:.4f}\")\n",
    "    print(\"KPSS结论: 序列趋势平稳\" if kpss_result[1] > alpha else \"KPSS结论: 序列存在单位根\")"
   ],
   "id": "9faa0d92b84ef4f9",
   "outputs": [],
   "execution_count": 123
  },
  {
   "metadata": {
    "ExecuteTime": {
     "end_time": "2025-05-08T01:27:49.504151Z",
     "start_time": "2025-05-08T01:27:49.499123Z"
    }
   },
   "cell_type": "code",
   "source": [
    "def winsorize_series(series, lower=0.01, upper=0.99):\n",
    "    \"\"\"\n",
    "    对收益率序列进行缩尾处理\n",
    "    :param series: pandas Series, 收益率序列\n",
    "    :param lower: 下缩尾分位数（默认1%）\n",
    "    :param upper: 上缩尾分位数（默认99%）\n",
    "    :return: 缩尾后的Series\n",
    "    \"\"\"\n",
    "    # 计算分位数边界\n",
    "    lower_bound = series.quantile(lower)\n",
    "    upper_bound = series.quantile(upper)\n",
    "\n",
    "    # 执行缩尾（极端值替换为边界值）\n",
    "    return series.clip(lower=lower_bound, upper=upper_bound)"
   ],
   "id": "e3e79722bedc52e2",
   "outputs": [],
   "execution_count": 124
  },
  {
   "metadata": {
    "ExecuteTime": {
     "end_time": "2025-05-08T01:27:58.443119Z",
     "start_time": "2025-05-08T01:27:58.437752Z"
    }
   },
   "cell_type": "code",
   "source": [
    "def sentiment_analysis(text, sentiment_dict):\n",
    "    words = list(jieba.cut(text))\n",
    "\n",
    "    # 原始 counts = 0\n",
    "    nums = 0\n",
    "    for word in words:\n",
    "        if word in sentiment_dict:\n",
    "            nums += 1\n",
    "    return nums"
   ],
   "id": "ce0cb10134e3ab7f",
   "outputs": [],
   "execution_count": 125
  },
  {
   "metadata": {
    "ExecuteTime": {
     "end_time": "2025-05-08T01:27:58.968922Z",
     "start_time": "2025-05-08T01:27:58.958638Z"
    }
   },
   "cell_type": "code",
   "source": [
    "def SentimentIndex(df, stock):\n",
    "    trade_date = stock['trade_date'].tolist()\n",
    "    trade_date = sorted(trade_date)\n",
    "    for i in range(len(trade_date)-1):\n",
    "        start_time = pd.to_datetime(trade_date[i].strftime('%Y%m%d')+ ' ' + '15:00')\n",
    "        end_time = pd.to_datetime((trade_date[i+1].strftime('%Y%m%d') + ' ' + '15:00'))\n",
    "        df_sentiment = df[(df['post_datetime']>start_time) & (df['post_datetime']<=end_time)]\n",
    "        if df_sentiment.empty:\n",
    "            continue\n",
    "        else:\n",
    "            sentiment_index = (sum(df_sentiment['pos_num']) - sum(df_sentiment['neg_num']))/sum(df_sentiment['word_num'])\n",
    "            stock.loc[stock['trade_date'] == pd.to_datetime(trade_date[i+1]).strftime('%Y%m%d'), 'sentiment_index'] = sentiment_index\n",
    "            #snownlp_index = (sum(df_sentiment['snownlp'])/len(df_sentiment['snownlp']))\n",
    "            #stock.loc[stock['trade_date'] == pd.to_datetime(trade_date[i+1]).strftime('%Y%m%d'), 'snownlp_index'] = snownlp_index\n",
    "    return stock"
   ],
   "id": "b310201d09ca7fa7",
   "outputs": [],
   "execution_count": 126
  },
  {
   "metadata": {
    "ExecuteTime": {
     "end_time": "2025-05-08T01:28:01.228829Z",
     "start_time": "2025-05-08T01:28:01.221116Z"
    }
   },
   "cell_type": "code",
   "source": [
    "def get_stock_data(stock_id, start_time, end_time):\n",
    "    ## 个股数据\n",
    "\n",
    "    pro = ts.pro_api('2876ea85cb005fb5fa17c809a98174f2d5aae8b1f830110a5ead6211')\n",
    "    # 拉取数据\n",
    "\n",
    "    # 拉取数据\n",
    "    stock_daily_basic = pro.daily_basic(**{\n",
    "        \"ts_code\": stock_id,\n",
    "        \"trade_date\": \"\",\n",
    "        \"start_date\": start_time,\n",
    "        \"end_date\": end_time,\n",
    "        \"limit\": \"\",\n",
    "        \"offset\": \"\"\n",
    "    }, fields=[\n",
    "        \"ts_code\",\n",
    "        \"trade_date\",\n",
    "        \"turnover_rate\",\n",
    "        \"pe\",\n",
    "        \"pb\"\n",
    "    ])\n",
    "\n",
    "    # 拉取数据\n",
    "    stock_daily = pro.daily(**{\n",
    "        \"ts_code\": stock_id,\n",
    "        \"trade_date\": \"\",\n",
    "        \"start_date\": start_time,\n",
    "        \"end_date\": end_time,\n",
    "        \"offset\": \"\",\n",
    "        \"limit\": \"\"\n",
    "    }, fields=[\n",
    "        \"ts_code\",\n",
    "        \"trade_date\",\n",
    "        \"open\",\n",
    "        \"high\",\n",
    "        \"low\",\n",
    "        \"close\",\n",
    "        \"vol\",\n",
    "        \"amount\"\n",
    "    ])\n",
    "\n",
    "    if stock_daily.empty:\n",
    "        print(f'{stock_id} stock 行情数据 is empty')\n",
    "    if stock_daily_basic.empty:\n",
    "        print(f'{stock_id} stock 每日指标 is empty')\n",
    "    stock = stock_daily.merge(stock_daily_basic, how='left', on=['ts_code', 'trade_date'])\n",
    "    return stock"
   ],
   "id": "32f2791a8e0b785c",
   "outputs": [],
   "execution_count": 127
  },
  {
   "metadata": {
    "ExecuteTime": {
     "end_time": "2025-05-07T05:55:49.112605Z",
     "start_time": "2025-05-07T05:55:49.108012Z"
    }
   },
   "cell_type": "markdown",
   "source": "## 情绪词典处理",
   "id": "d65bb5710939ace4"
  },
  {
   "metadata": {
    "ExecuteTime": {
     "end_time": "2025-05-08T01:28:03.672381Z",
     "start_time": "2025-05-08T01:28:03.629431Z"
    }
   },
   "cell_type": "code",
   "source": [
    "txt_file = 'Sentiment dict plus.txt'\n",
    "\n",
    "# 初始化分类容器\n",
    "positive_words = []\n",
    "negative_words = []\n",
    "\n",
    "# 读取并处理文件\n",
    "try:\n",
    "    with open(txt_file , \"r\", encoding=\"utf-8\") as file:\n",
    "        for line_num, line in enumerate(file, 1):\n",
    "            # 清理并分割行内容\n",
    "            cleaned_line = line.strip()\n",
    "            if not cleaned_line:\n",
    "                continue  # 跳过空行\n",
    "\n",
    "            # 分割词语和数值（兼容空格/制表符分隔）\n",
    "            parts = cleaned_line.split(maxsplit=1)  # 最多分割一次\n",
    "            if len(parts) != 2:\n",
    "                print(f\"第 {line_num} 行格式错误：{line}\")\n",
    "                continue\n",
    "\n",
    "            word, score = parts\n",
    "            try:\n",
    "                score = int(score)\n",
    "            except ValueError:\n",
    "                print(f\"第 {line_num} 行数值格式错误：{score}\")\n",
    "                continue\n",
    "\n",
    "            # 分类存储\n",
    "            if score == 1:\n",
    "                positive_words.append(word)\n",
    "            elif score == -1:\n",
    "                negative_words.append(word)\n",
    "            else:\n",
    "                print(f\"第 {line_num} 行发现无效数值：{score}\")\n",
    "\n",
    "except FileNotFoundError:\n",
    "    print(\"错误：未找到文件 financial_words.txt\")\n",
    "except Exception as e:\n",
    "    print(f\"发生未知错误：{str(e)}\")\n",
    "\n",
    "# 输出统计结果\n",
    "print(f\"\\n积极词汇（共 {len(positive_words)} 个）：\")\n",
    "print(\", \".join(positive_words[:3]) + (\"...\" if len(positive_words) > 3 else \"\"))\n",
    "\n",
    "print(f\"\\n消极词汇（共 {len(negative_words)} 个）：\")\n",
    "print(\", \".join(negative_words[:3]) + (\"...\" if len(negative_words) > 3 else \"\"))"
   ],
   "id": "200764448ee9b9bd",
   "outputs": [
    {
     "name": "stdout",
     "output_type": "stream",
     "text": [
      "\n",
      "积极词汇（共 3645 个）：\n",
      "安定, 安康, 帮助...\n",
      "\n",
      "消极词汇（共 6177 个）：\n",
      "败坏名声, 被没收的, 变节...\n"
     ]
    }
   ],
   "execution_count": 128
  },
  {
   "metadata": {},
   "cell_type": "markdown",
   "source": "## 读取个股股评 csv",
   "id": "cb492cd5d61eab86"
  },
  {
   "metadata": {
    "ExecuteTime": {
     "end_time": "2025-05-08T03:14:56.317868Z",
     "start_time": "2025-05-08T03:14:56.314330Z"
    }
   },
   "cell_type": "code",
   "source": "stock_id_list = ['000333.SZ', '002594.SZ', '300750.SZ', '600036.SH', '600519.SH', '600900.SH','601318.SH']",
   "id": "a07e39b68e1877e4",
   "outputs": [],
   "execution_count": 187
  },
  {
   "metadata": {
    "ExecuteTime": {
     "end_time": "2025-05-08T03:14:56.735148Z",
     "start_time": "2025-05-08T03:14:56.732148Z"
    }
   },
   "cell_type": "code",
   "source": "stock_df_len = {}\n",
   "id": "ca8f9a2ee548ca01",
   "outputs": [],
   "execution_count": 188
  },
  {
   "metadata": {
    "ExecuteTime": {
     "end_time": "2025-05-08T03:14:57.098481Z",
     "start_time": "2025-05-08T03:14:57.091131Z"
    }
   },
   "cell_type": "code",
   "source": "initial_df = pd.DataFrame()",
   "id": "66aca1e5e3c8486b",
   "outputs": [],
   "execution_count": 189
  },
  {
   "metadata": {
    "ExecuteTime": {
     "end_time": "2025-05-08T03:14:57.569314Z",
     "start_time": "2025-05-08T03:14:57.562096Z"
    }
   },
   "cell_type": "code",
   "source": [
    "df_000333 = pd.DataFrame()\n",
    "df_002594 = pd.DataFrame()\n",
    "df_600519 = pd.DataFrame()\n",
    "df_600900 = pd.DataFrame()\n",
    "df_601318 = pd.DataFrame()\n",
    "df_000300 = pd.DataFrame()\n",
    "df_300750 = pd.DataFrame()\n",
    "df_600036 = pd.DataFrame()\n",
    "stock_dfs = {\n",
    "    '000333.SZ': df_000333,\n",
    "    '002594.SZ': df_002594,\n",
    "    '300750.SZ': df_300750,\n",
    "    '600519.SH': df_600519,\n",
    "    '600900.SH': df_600900,\n",
    "    '601318.SH': df_601318,\n",
    "    '600036.SH': df_600036\n",
    "}"
   ],
   "id": "9b46847b2b420a6a",
   "outputs": [],
   "execution_count": 190
  },
  {
   "metadata": {
    "ExecuteTime": {
     "end_time": "2025-05-08T03:15:00.223587Z",
     "start_time": "2025-05-08T03:14:59.574451Z"
    }
   },
   "cell_type": "code",
   "source": [
    "for stock_id in stock_id_list:\n",
    "    stock_id_str = stock_id[:6]\n",
    "    post_info = f'post_info.post_{stock_id_str}.csv'\n",
    "    df = pd.read_csv(post_info)\n",
    "    df = df.dropna()\n",
    "    if df.empty:\n",
    "        print(f'{stock_id} csv empty')\n",
    "    df['post_datetime'] = pd.to_datetime(df[\"post_date\"] + \" \" + df[\"post_time\"])\n",
    "    df  = df.sort_values(by=['post_datetime'], ascending=True)\n",
    "    stock_dfs[stock_id] = df[df['post_url'].str.contains(stock_id_str, na=False)].reset_index(drop=True).copy()\n",
    "    stock_df_len[stock_id] = len(stock_dfs[stock_id])"
   ],
   "id": "4057e8da51544a83",
   "outputs": [],
   "execution_count": 191
  },
  {
   "metadata": {
    "ExecuteTime": {
     "end_time": "2025-05-08T03:15:00.236913Z",
     "start_time": "2025-05-08T03:15:00.231971Z"
    }
   },
   "cell_type": "code",
   "source": "stock_df_len",
   "id": "737f74fc1cf9e106",
   "outputs": [
    {
     "data": {
      "text/plain": [
       "{'000333.SZ': 4631,\n",
       " '002594.SZ': 1393,\n",
       " '300750.SZ': 1640,\n",
       " '600036.SH': 5489,\n",
       " '600519.SH': 3681,\n",
       " '600900.SH': 4438,\n",
       " '601318.SH': 4009}"
      ]
     },
     "execution_count": 192,
     "metadata": {},
     "output_type": "execute_result"
    }
   ],
   "execution_count": 192
  },
  {
   "metadata": {
    "ExecuteTime": {
     "end_time": "2025-05-07T05:56:16.784232Z",
     "start_time": "2025-05-07T05:56:16.248505Z"
    }
   },
   "cell_type": "markdown",
   "source": "## 读取 沪深300指数股评csv",
   "id": "76857b4aa61618ec"
  },
  {
   "metadata": {
    "ExecuteTime": {
     "end_time": "2025-05-08T01:28:09.936442Z",
     "start_time": "2025-05-08T01:28:09.883089Z"
    }
   },
   "cell_type": "code",
   "source": [
    "post_info = 'post_info.post_zssh000300_old.csv'\n",
    "initial_df = pd.read_csv(post_info)"
   ],
   "id": "739b3f9d2a9aba5c",
   "outputs": [],
   "execution_count": 129
  },
  {
   "metadata": {
    "ExecuteTime": {
     "end_time": "2025-05-08T01:28:10.305853Z",
     "start_time": "2025-05-08T01:28:10.290401Z"
    }
   },
   "cell_type": "code",
   "source": "initial_df = initial_df[initial_df['post_url'].str.contains('zssh000300', na=False)].copy()",
   "id": "bf42ba3a297166a4",
   "outputs": [],
   "execution_count": 130
  },
  {
   "metadata": {
    "ExecuteTime": {
     "end_time": "2025-05-08T01:28:10.678494Z",
     "start_time": "2025-05-08T01:28:10.672137Z"
    }
   },
   "cell_type": "code",
   "source": "len(initial_df)",
   "id": "fda2c295ac6e341e",
   "outputs": [
    {
     "data": {
      "text/plain": [
       "8969"
      ]
     },
     "execution_count": 131,
     "metadata": {},
     "output_type": "execute_result"
    }
   ],
   "execution_count": 131
  },
  {
   "metadata": {
    "ExecuteTime": {
     "end_time": "2025-05-08T01:28:11.048743Z",
     "start_time": "2025-05-08T01:28:11.025642Z"
    }
   },
   "cell_type": "code",
   "source": [
    "initial_df['post_datetime'] = pd.to_datetime(initial_df[\"post_date\"] + \" \" + initial_df[\"post_time\"])\n",
    "initial_df  = initial_df.sort_values(by=['post_datetime'], ascending=True)"
   ],
   "id": "fc6c811a4bc6ab74",
   "outputs": [],
   "execution_count": 132
  },
  {
   "metadata": {
    "ExecuteTime": {
     "end_time": "2025-05-08T01:28:12.628042Z",
     "start_time": "2025-05-08T01:28:12.617674Z"
    }
   },
   "cell_type": "code",
   "source": "initial_df = initial_df.dropna()",
   "id": "3c346522af10e48a",
   "outputs": [],
   "execution_count": 133
  },
  {
   "metadata": {},
   "cell_type": "markdown",
   "source": "## 个股数据 sentiment整合 full_stock",
   "id": "1100fa580bfed3b5"
  },
  {
   "metadata": {
    "ExecuteTime": {
     "end_time": "2025-05-08T03:15:09.224097Z",
     "start_time": "2025-05-08T03:15:09.220573Z"
    }
   },
   "cell_type": "code",
   "source": "full_stock = pd.DataFrame()",
   "id": "132295831f4dcf0",
   "outputs": [],
   "execution_count": 193
  },
  {
   "metadata": {
    "ExecuteTime": {
     "end_time": "2025-05-08T03:15:09.535913Z",
     "start_time": "2025-05-08T03:15:09.533143Z"
    }
   },
   "cell_type": "code",
   "source": "stock_id_list = ['000333.SZ', '002594.SZ', '300750.SZ', '600036.SH', '600519.SH', '600900.SH','601318.SH']",
   "id": "ff9df4f5f74c56a",
   "outputs": [],
   "execution_count": 194
  },
  {
   "metadata": {
    "ExecuteTime": {
     "end_time": "2025-05-08T03:27:17.581075Z",
     "start_time": "2025-05-08T03:27:17.577918Z"
    }
   },
   "cell_type": "code",
   "source": "stock_id = '601318.SH'",
   "id": "6a258d92a4c7759d",
   "outputs": [],
   "execution_count": 284
  },
  {
   "metadata": {
    "ExecuteTime": {
     "end_time": "2025-05-08T03:27:17.920331Z",
     "start_time": "2025-05-08T03:27:17.917094Z"
    }
   },
   "cell_type": "code",
   "source": "initial_df = stock_dfs[stock_id]",
   "id": "2f135d00745a2857",
   "outputs": [],
   "execution_count": 285
  },
  {
   "metadata": {
    "ExecuteTime": {
     "end_time": "2025-05-08T03:27:19.169717Z",
     "start_time": "2025-05-08T03:27:18.945494Z"
    }
   },
   "cell_type": "code",
   "source": [
    "start_time = initial_df['post_datetime'].min().strftime('%Y%m%d')\n",
    "end_time = initial_df['post_datetime'].max().strftime('%Y%m%d')\n",
    "stock = get_stock_data(stock_id, start_time, end_time)"
   ],
   "id": "9844375a78a4dc75",
   "outputs": [],
   "execution_count": 286
  },
  {
   "metadata": {
    "ExecuteTime": {
     "end_time": "2025-05-08T03:27:19.182159Z",
     "start_time": "2025-05-08T03:27:19.176823Z"
    }
   },
   "cell_type": "code",
   "source": [
    "stock = stock.sort_values(by=['trade_date'], ascending=True).reset_index(drop=True)\n",
    "stock['trade_date'] = pd.to_datetime(stock['trade_date'])"
   ],
   "id": "2b3f54a140e5b80b",
   "outputs": [],
   "execution_count": 287
  },
  {
   "metadata": {
    "ExecuteTime": {
     "end_time": "2025-05-08T03:27:19.289338Z",
     "start_time": "2025-05-08T03:27:19.286269Z"
    }
   },
   "cell_type": "code",
   "source": "result = stock.copy()",
   "id": "9ecad9faedb3e7b1",
   "outputs": [],
   "execution_count": 288
  },
  {
   "metadata": {
    "ExecuteTime": {
     "end_time": "2025-05-08T03:27:19.389989Z",
     "start_time": "2025-05-08T03:27:19.383565Z"
    }
   },
   "cell_type": "code",
   "source": [
    "result['return'] = np.log(result['close']/result['close'].shift(1))*100\n",
    "result['return'] = result['return'].fillna(0)\n",
    "result['volatility'] = (result['high'] - result['low'])/((result['high']+result['low'])/2)*100"
   ],
   "id": "e3f9b6ebb9dcb6fe",
   "outputs": [],
   "execution_count": 289
  },
  {
   "metadata": {
    "ExecuteTime": {
     "end_time": "2025-05-08T03:27:19.492627Z",
     "start_time": "2025-05-08T03:27:19.488688Z"
    }
   },
   "cell_type": "code",
   "source": "result = result.rename(columns={'return': 'returns'}).copy()",
   "id": "841b4866e89aa6a1",
   "outputs": [],
   "execution_count": 290
  },
  {
   "metadata": {
    "ExecuteTime": {
     "end_time": "2025-05-08T03:27:19.591711Z",
     "start_time": "2025-05-08T03:27:19.580918Z"
    }
   },
   "cell_type": "code",
   "source": [
    "result['returns_new'] = winsorize_series(result['returns'])\n",
    "result['log_volatility'] = np.log(result['volatility']/100 + 1e-5).pipe(lambda x: (x - x.mean())/x.std())*100\n",
    "result['turnover_rate_new'] = result['turnover_rate'].apply(lambda x: np.log(1+x))\n",
    "result['pe_new'] = winsorize_series(result['pe'], lower=0.01, upper=0.99)\n",
    "result['pb_new'] = winsorize_series(result['pb'], lower=0.01, upper=0.99)"
   ],
   "id": "8bdf81448081609d",
   "outputs": [],
   "execution_count": 291
  },
  {
   "metadata": {
    "ExecuteTime": {
     "end_time": "2025-05-08T03:27:20.829309Z",
     "start_time": "2025-05-08T03:27:20.825414Z"
    }
   },
   "cell_type": "code",
   "source": "result['vol'] = result['vol']/1e6 # (百万)",
   "id": "b8f2964bbac37a42",
   "outputs": [],
   "execution_count": 292
  },
  {
   "metadata": {
    "ExecuteTime": {
     "end_time": "2025-05-08T03:27:20.966013Z",
     "start_time": "2025-05-08T03:27:20.952477Z"
    }
   },
   "cell_type": "code",
   "source": "result.head(2)",
   "id": "961e4f13050a5fe",
   "outputs": [
    {
     "data": {
      "text/plain": [
       "     ts_code trade_date   open   high    low  close       vol       amount  \\\n",
       "0  601318.SH 2025-03-03  50.55  50.82  50.06  50.33  0.423161  2135730.015   \n",
       "1  601318.SH 2025-03-04  50.08  50.29  50.00  50.08  0.372432  1867141.471   \n",
       "\n",
       "   turnover_rate       pe      pb   returns  volatility  returns_new  \\\n",
       "0         0.3932  10.6989  1.0285  0.000000    1.506741     0.000000   \n",
       "1         0.3460  10.6458  1.0234 -0.497959    0.578323    -0.497959   \n",
       "\n",
       "   log_volatility  turnover_rate_new   pe_new  pb_new  \n",
       "0       19.210973           0.331603  10.6989  1.0285  \n",
       "1     -173.401584           0.297137  10.6458  1.0234  "
      ],
      "text/html": [
       "<div>\n",
       "<style scoped>\n",
       "    .dataframe tbody tr th:only-of-type {\n",
       "        vertical-align: middle;\n",
       "    }\n",
       "\n",
       "    .dataframe tbody tr th {\n",
       "        vertical-align: top;\n",
       "    }\n",
       "\n",
       "    .dataframe thead th {\n",
       "        text-align: right;\n",
       "    }\n",
       "</style>\n",
       "<table border=\"1\" class=\"dataframe\">\n",
       "  <thead>\n",
       "    <tr style=\"text-align: right;\">\n",
       "      <th></th>\n",
       "      <th>ts_code</th>\n",
       "      <th>trade_date</th>\n",
       "      <th>open</th>\n",
       "      <th>high</th>\n",
       "      <th>low</th>\n",
       "      <th>close</th>\n",
       "      <th>vol</th>\n",
       "      <th>amount</th>\n",
       "      <th>turnover_rate</th>\n",
       "      <th>pe</th>\n",
       "      <th>pb</th>\n",
       "      <th>returns</th>\n",
       "      <th>volatility</th>\n",
       "      <th>returns_new</th>\n",
       "      <th>log_volatility</th>\n",
       "      <th>turnover_rate_new</th>\n",
       "      <th>pe_new</th>\n",
       "      <th>pb_new</th>\n",
       "    </tr>\n",
       "  </thead>\n",
       "  <tbody>\n",
       "    <tr>\n",
       "      <th>0</th>\n",
       "      <td>601318.SH</td>\n",
       "      <td>2025-03-03</td>\n",
       "      <td>50.55</td>\n",
       "      <td>50.82</td>\n",
       "      <td>50.06</td>\n",
       "      <td>50.33</td>\n",
       "      <td>0.423161</td>\n",
       "      <td>2135730.015</td>\n",
       "      <td>0.3932</td>\n",
       "      <td>10.6989</td>\n",
       "      <td>1.0285</td>\n",
       "      <td>0.000000</td>\n",
       "      <td>1.506741</td>\n",
       "      <td>0.000000</td>\n",
       "      <td>19.210973</td>\n",
       "      <td>0.331603</td>\n",
       "      <td>10.6989</td>\n",
       "      <td>1.0285</td>\n",
       "    </tr>\n",
       "    <tr>\n",
       "      <th>1</th>\n",
       "      <td>601318.SH</td>\n",
       "      <td>2025-03-04</td>\n",
       "      <td>50.08</td>\n",
       "      <td>50.29</td>\n",
       "      <td>50.00</td>\n",
       "      <td>50.08</td>\n",
       "      <td>0.372432</td>\n",
       "      <td>1867141.471</td>\n",
       "      <td>0.3460</td>\n",
       "      <td>10.6458</td>\n",
       "      <td>1.0234</td>\n",
       "      <td>-0.497959</td>\n",
       "      <td>0.578323</td>\n",
       "      <td>-0.497959</td>\n",
       "      <td>-173.401584</td>\n",
       "      <td>0.297137</td>\n",
       "      <td>10.6458</td>\n",
       "      <td>1.0234</td>\n",
       "    </tr>\n",
       "  </tbody>\n",
       "</table>\n",
       "</div>"
      ]
     },
     "execution_count": 293,
     "metadata": {},
     "output_type": "execute_result"
    }
   ],
   "execution_count": 293
  },
  {
   "metadata": {
    "ExecuteTime": {
     "end_time": "2025-05-08T03:27:21.064402Z",
     "start_time": "2025-05-08T03:27:21.060941Z"
    }
   },
   "cell_type": "code",
   "source": "len(result)",
   "id": "af8f6848ea818cb",
   "outputs": [
    {
     "data": {
      "text/plain": [
       "42"
      ]
     },
     "execution_count": 294,
     "metadata": {},
     "output_type": "execute_result"
    }
   ],
   "execution_count": 294
  },
  {
   "metadata": {
    "ExecuteTime": {
     "end_time": "2025-05-08T03:27:21.172328Z",
     "start_time": "2025-05-08T03:27:21.165070Z"
    }
   },
   "cell_type": "code",
   "source": [
    "df = initial_df.drop(columns=['_id', 'post_url', 'post_author', 'post_time'])\n",
    "df['post_date'] = pd.to_datetime(df['post_date'])"
   ],
   "id": "a22efe56154f6bc7",
   "outputs": [],
   "execution_count": 295
  },
  {
   "metadata": {
    "ExecuteTime": {
     "end_time": "2025-05-08T03:27:27.607304Z",
     "start_time": "2025-05-08T03:27:21.230543Z"
    }
   },
   "cell_type": "code",
   "source": [
    "df['pos_num'] = df['post_title'].apply(sentiment_analysis, args=(positive_words,))\n",
    "df['neg_num'] = df['post_title'].apply(sentiment_analysis, args=(negative_words,))\n",
    "df['word_num'] = df['post_title'].apply(len)"
   ],
   "id": "1f9749b1ad7f3af9",
   "outputs": [],
   "execution_count": 296
  },
  {
   "metadata": {
    "ExecuteTime": {
     "end_time": "2025-05-08T03:27:27.624882Z",
     "start_time": "2025-05-08T03:27:27.616044Z"
    }
   },
   "cell_type": "code",
   "source": "df.head(2)",
   "id": "c90164760504f0b0",
   "outputs": [
    {
     "data": {
      "text/plain": [
       "                      post_title post_view  comment_num  post_date  \\\n",
       "0   没跌几毛钱就拉有意义吗？差价都做不了，要么就直接砸到48       172            0 2025-03-03   \n",
       "1  不会涨的因为小豆丁买了一千多万必须跌到45再拉开个玩笑而已       232            2 2025-03-03   \n",
       "\n",
       "        post_datetime  pos_num  neg_num  word_num  \n",
       "0 2025-03-03 14:47:00        0        0        28  \n",
       "1 2025-03-03 15:05:00        1        0        29  "
      ],
      "text/html": [
       "<div>\n",
       "<style scoped>\n",
       "    .dataframe tbody tr th:only-of-type {\n",
       "        vertical-align: middle;\n",
       "    }\n",
       "\n",
       "    .dataframe tbody tr th {\n",
       "        vertical-align: top;\n",
       "    }\n",
       "\n",
       "    .dataframe thead th {\n",
       "        text-align: right;\n",
       "    }\n",
       "</style>\n",
       "<table border=\"1\" class=\"dataframe\">\n",
       "  <thead>\n",
       "    <tr style=\"text-align: right;\">\n",
       "      <th></th>\n",
       "      <th>post_title</th>\n",
       "      <th>post_view</th>\n",
       "      <th>comment_num</th>\n",
       "      <th>post_date</th>\n",
       "      <th>post_datetime</th>\n",
       "      <th>pos_num</th>\n",
       "      <th>neg_num</th>\n",
       "      <th>word_num</th>\n",
       "    </tr>\n",
       "  </thead>\n",
       "  <tbody>\n",
       "    <tr>\n",
       "      <th>0</th>\n",
       "      <td>没跌几毛钱就拉有意义吗？差价都做不了，要么就直接砸到48</td>\n",
       "      <td>172</td>\n",
       "      <td>0</td>\n",
       "      <td>2025-03-03</td>\n",
       "      <td>2025-03-03 14:47:00</td>\n",
       "      <td>0</td>\n",
       "      <td>0</td>\n",
       "      <td>28</td>\n",
       "    </tr>\n",
       "    <tr>\n",
       "      <th>1</th>\n",
       "      <td>不会涨的因为小豆丁买了一千多万必须跌到45再拉开个玩笑而已</td>\n",
       "      <td>232</td>\n",
       "      <td>2</td>\n",
       "      <td>2025-03-03</td>\n",
       "      <td>2025-03-03 15:05:00</td>\n",
       "      <td>1</td>\n",
       "      <td>0</td>\n",
       "      <td>29</td>\n",
       "    </tr>\n",
       "  </tbody>\n",
       "</table>\n",
       "</div>"
      ]
     },
     "execution_count": 297,
     "metadata": {},
     "output_type": "execute_result"
    }
   ],
   "execution_count": 297
  },
  {
   "metadata": {
    "ExecuteTime": {
     "end_time": "2025-05-08T03:27:27.731798Z",
     "start_time": "2025-05-08T03:27:27.650639Z"
    }
   },
   "cell_type": "code",
   "source": "result = SentimentIndex(df, result)",
   "id": "7ca3e3d51d4cd33e",
   "outputs": [],
   "execution_count": 298
  },
  {
   "metadata": {
    "ExecuteTime": {
     "end_time": "2025-05-08T03:27:27.741681Z",
     "start_time": "2025-05-08T03:27:27.736800Z"
    }
   },
   "cell_type": "code",
   "source": "result['agreement_index'] = result['sentiment_index'].apply(lambda x : 1-np.sqrt(1-x**2))",
   "id": "a2caa192252fc168",
   "outputs": [],
   "execution_count": 299
  },
  {
   "metadata": {
    "ExecuteTime": {
     "end_time": "2025-05-08T03:27:29.657810Z",
     "start_time": "2025-05-08T03:27:29.653127Z"
    }
   },
   "cell_type": "code",
   "source": "result = result[~result['sentiment_index'].isna()].reset_index(drop=True)",
   "id": "1ff2e229e5d92e6f",
   "outputs": [],
   "execution_count": 300
  },
  {
   "metadata": {
    "ExecuteTime": {
     "end_time": "2025-05-08T03:27:29.780311Z",
     "start_time": "2025-05-08T03:27:29.776588Z"
    }
   },
   "cell_type": "code",
   "source": "result['sentiment_index_lag_1'] = result['sentiment_index'].shift(1).fillna(0)",
   "id": "6b74ddb92e65de82",
   "outputs": [],
   "execution_count": 301
  },
  {
   "metadata": {
    "ExecuteTime": {
     "end_time": "2025-05-08T03:27:29.891327Z",
     "start_time": "2025-05-08T03:27:29.887564Z"
    }
   },
   "cell_type": "code",
   "source": "data_processed = result[['ts_code', 'trade_date', 'sentiment_index', 'agreement_index', 'vol', 'returns_new', 'log_volatility', 'pe_new', 'pb_new', 'turnover_rate_new', 'sentiment_index_lag_1']].copy()",
   "id": "2b030c9b79d39fc3",
   "outputs": [],
   "execution_count": 302
  },
  {
   "metadata": {
    "ExecuteTime": {
     "end_time": "2025-05-08T03:27:29.984442Z",
     "start_time": "2025-05-08T03:27:29.979895Z"
    }
   },
   "cell_type": "code",
   "source": [
    "for column in ['pe_new', 'pb_new', 'turnover_rate_new', 'vol']:\n",
    "    data_processed[column] = data_processed[column].diff()"
   ],
   "id": "b6b1f4d605d93e1f",
   "outputs": [],
   "execution_count": 303
  },
  {
   "metadata": {
    "ExecuteTime": {
     "end_time": "2025-05-08T03:27:30.095944Z",
     "start_time": "2025-05-08T03:27:30.074920Z"
    }
   },
   "cell_type": "code",
   "source": [
    "for column in ['pe_new', 'pb_new', 'turnover_rate_new', 'vol']:\n",
    "    print(f\"\\n=== {column} 平稳性检验 ===\")\n",
    "    test_stationarity(data_processed[column])"
   ],
   "id": "6ddc8bc2116976",
   "outputs": [
    {
     "name": "stdout",
     "output_type": "stream",
     "text": [
      "\n",
      "=== pe_new 平稳性检验 ===\n",
      "ADF Statistic: -6.0425\n",
      "ADF p-value: 0.0000\n",
      "ADF结论: 序列平稳\n",
      "\n",
      "KPSS Statistic: 0.1016\n",
      "KPSS p-value: 0.1000\n",
      "KPSS结论: 序列趋势平稳\n",
      "\n",
      "=== pb_new 平稳性检验 ===\n",
      "ADF Statistic: -6.2046\n",
      "ADF p-value: 0.0000\n",
      "ADF结论: 序列平稳\n",
      "\n",
      "KPSS Statistic: 0.0850\n",
      "KPSS p-value: 0.1000\n",
      "KPSS结论: 序列趋势平稳\n",
      "\n",
      "=== turnover_rate_new 平稳性检验 ===\n",
      "ADF Statistic: -8.8883\n",
      "ADF p-value: 0.0000\n",
      "ADF结论: 序列平稳\n",
      "\n",
      "KPSS Statistic: 0.2602\n",
      "KPSS p-value: 0.1000\n",
      "KPSS结论: 序列趋势平稳\n",
      "\n",
      "=== vol 平稳性检验 ===\n",
      "ADF Statistic: -8.9789\n",
      "ADF p-value: 0.0000\n",
      "ADF结论: 序列平稳\n",
      "\n",
      "KPSS Statistic: 0.3198\n",
      "KPSS p-value: 0.1000\n",
      "KPSS结论: 序列趋势平稳\n"
     ]
    },
    {
     "name": "stderr",
     "output_type": "stream",
     "text": [
      "C:\\Users\\Administrator\\AppData\\Local\\Temp\\ipykernel_28948\\2839035517.py:9: InterpolationWarning: The test statistic is outside of the range of p-values available in the\n",
      "look-up table. The actual p-value is greater than the p-value returned.\n",
      "\n",
      "  kpss_result = kpss(series.dropna())\n",
      "C:\\Users\\Administrator\\AppData\\Local\\Temp\\ipykernel_28948\\2839035517.py:9: InterpolationWarning: The test statistic is outside of the range of p-values available in the\n",
      "look-up table. The actual p-value is greater than the p-value returned.\n",
      "\n",
      "  kpss_result = kpss(series.dropna())\n",
      "C:\\Users\\Administrator\\AppData\\Local\\Temp\\ipykernel_28948\\2839035517.py:9: InterpolationWarning: The test statistic is outside of the range of p-values available in the\n",
      "look-up table. The actual p-value is greater than the p-value returned.\n",
      "\n",
      "  kpss_result = kpss(series.dropna())\n",
      "C:\\Users\\Administrator\\AppData\\Local\\Temp\\ipykernel_28948\\2839035517.py:9: InterpolationWarning: The test statistic is outside of the range of p-values available in the\n",
      "look-up table. The actual p-value is greater than the p-value returned.\n",
      "\n",
      "  kpss_result = kpss(series.dropna())\n"
     ]
    }
   ],
   "execution_count": 304
  },
  {
   "metadata": {
    "ExecuteTime": {
     "end_time": "2025-05-08T03:27:30.188652Z",
     "start_time": "2025-05-08T03:27:30.181411Z"
    }
   },
   "cell_type": "code",
   "source": [
    "# 初步数据处理，标注化\n",
    "# 1.1 Z-Score标准化（适用于收益率、波动率）\n",
    "cols_to_standardize = ['returns_new', 'log_volatility','sentiment_index', 'sentiment_index_lag_1']\n",
    "data_std = data_processed[cols_to_standardize].apply(lambda x: (x - x.mean())/x.std())\n"
   ],
   "id": "eccb2e7df4f729e1",
   "outputs": [],
   "execution_count": 305
  },
  {
   "metadata": {
    "ExecuteTime": {
     "end_time": "2025-05-07T07:45:06.706216Z",
     "start_time": "2025-05-07T07:45:06.701150Z"
    }
   },
   "cell_type": "code",
   "source": [
    "cols_to_minmax = []\n",
    "# data_minmax = data[cols_to_minmax].apply(lambda x: (x - x.min())/(x.max() - x.min()))"
   ],
   "id": "74ebbd7eb50c7595",
   "outputs": [],
   "execution_count": 363
  },
  {
   "metadata": {
    "ExecuteTime": {
     "end_time": "2025-05-07T07:45:06.916784Z",
     "start_time": "2025-05-07T07:45:06.907230Z"
    }
   },
   "cell_type": "code",
   "source": [
    "data_processed = pd.concat([data_processed.drop(columns=cols_to_standardize+cols_to_minmax),\n",
    "                           data_std], axis=1)"
   ],
   "id": "3f6f0b0975d47874",
   "outputs": [],
   "execution_count": 364
  },
  {
   "metadata": {
    "ExecuteTime": {
     "end_time": "2025-05-07T07:45:10.885569Z",
     "start_time": "2025-05-07T07:45:10.880582Z"
    }
   },
   "cell_type": "code",
   "source": "data_processed = data_processed.fillna(0)\n",
   "id": "5724d35e609f5658",
   "outputs": [],
   "execution_count": 365
  },
  {
   "metadata": {
    "ExecuteTime": {
     "end_time": "2025-05-07T07:43:59.983029Z",
     "start_time": "2025-05-07T07:43:59.977712Z"
    }
   },
   "cell_type": "code",
   "source": "full_stock = pd.concat([full_stock, data_processed], ignore_index = True)",
   "id": "11ae10305fd37023",
   "outputs": [],
   "execution_count": 340
  },
  {
   "metadata": {
    "ExecuteTime": {
     "end_time": "2025-05-07T07:44:00.501423Z",
     "start_time": "2025-05-07T07:44:00.494552Z"
    }
   },
   "cell_type": "code",
   "source": "len(full_stock)",
   "id": "32e225d7d3c78134",
   "outputs": [
    {
     "data": {
      "text/plain": [
       "331"
      ]
     },
     "execution_count": 341,
     "metadata": {},
     "output_type": "execute_result"
    }
   ],
   "execution_count": 341
  },
  {
   "metadata": {
    "ExecuteTime": {
     "end_time": "2025-05-07T07:45:29.641015Z",
     "start_time": "2025-05-07T07:45:29.635010Z"
    }
   },
   "cell_type": "code",
   "source": "len(data_processed)",
   "id": "ec8325f9b36dd3e",
   "outputs": [
    {
     "data": {
      "text/plain": [
       "13"
      ]
     },
     "execution_count": 367,
     "metadata": {},
     "output_type": "execute_result"
    }
   ],
   "execution_count": 367
  },
  {
   "metadata": {
    "ExecuteTime": {
     "end_time": "2025-05-07T07:44:08.590352Z",
     "start_time": "2025-05-07T07:44:08.571810Z"
    }
   },
   "cell_type": "code",
   "source": "full_stock.head(2)",
   "id": "122511f648677128",
   "outputs": [
    {
     "data": {
      "text/plain": [
       "     ts_code trade_date  agreement_index       vol  pe_new  pb_new  \\\n",
       "0  600036.SH 2024-10-16         0.000080  0.000000  0.0000  0.0000   \n",
       "1  600036.SH 2024-10-17         0.000019 -0.163626 -0.1738 -0.0265   \n",
       "\n",
       "   turnover_rate_new  returns_new  log_volatility  sentiment_index  \\\n",
       "0            0.00000     1.846326         1.79256         1.020653   \n",
       "1           -0.05466    -1.964721         1.62925        -0.519892   \n",
       "\n",
       "   sentiment_index_lag_1  \n",
       "0              -0.015369  \n",
       "1               1.017939  "
      ],
      "text/html": [
       "<div>\n",
       "<style scoped>\n",
       "    .dataframe tbody tr th:only-of-type {\n",
       "        vertical-align: middle;\n",
       "    }\n",
       "\n",
       "    .dataframe tbody tr th {\n",
       "        vertical-align: top;\n",
       "    }\n",
       "\n",
       "    .dataframe thead th {\n",
       "        text-align: right;\n",
       "    }\n",
       "</style>\n",
       "<table border=\"1\" class=\"dataframe\">\n",
       "  <thead>\n",
       "    <tr style=\"text-align: right;\">\n",
       "      <th></th>\n",
       "      <th>ts_code</th>\n",
       "      <th>trade_date</th>\n",
       "      <th>agreement_index</th>\n",
       "      <th>vol</th>\n",
       "      <th>pe_new</th>\n",
       "      <th>pb_new</th>\n",
       "      <th>turnover_rate_new</th>\n",
       "      <th>returns_new</th>\n",
       "      <th>log_volatility</th>\n",
       "      <th>sentiment_index</th>\n",
       "      <th>sentiment_index_lag_1</th>\n",
       "    </tr>\n",
       "  </thead>\n",
       "  <tbody>\n",
       "    <tr>\n",
       "      <th>0</th>\n",
       "      <td>600036.SH</td>\n",
       "      <td>2024-10-16</td>\n",
       "      <td>0.000080</td>\n",
       "      <td>0.000000</td>\n",
       "      <td>0.0000</td>\n",
       "      <td>0.0000</td>\n",
       "      <td>0.00000</td>\n",
       "      <td>1.846326</td>\n",
       "      <td>1.79256</td>\n",
       "      <td>1.020653</td>\n",
       "      <td>-0.015369</td>\n",
       "    </tr>\n",
       "    <tr>\n",
       "      <th>1</th>\n",
       "      <td>600036.SH</td>\n",
       "      <td>2024-10-17</td>\n",
       "      <td>0.000019</td>\n",
       "      <td>-0.163626</td>\n",
       "      <td>-0.1738</td>\n",
       "      <td>-0.0265</td>\n",
       "      <td>-0.05466</td>\n",
       "      <td>-1.964721</td>\n",
       "      <td>1.62925</td>\n",
       "      <td>-0.519892</td>\n",
       "      <td>1.017939</td>\n",
       "    </tr>\n",
       "  </tbody>\n",
       "</table>\n",
       "</div>"
      ]
     },
     "execution_count": 342,
     "metadata": {},
     "output_type": "execute_result"
    }
   ],
   "execution_count": 342
  },
  {
   "metadata": {
    "ExecuteTime": {
     "end_time": "2025-05-07T07:45:38.430491Z",
     "start_time": "2025-05-07T07:45:38.424173Z"
    }
   },
   "cell_type": "code",
   "source": "full_stock = full_stock.fillna(0)",
   "id": "4408111c59eb0ff2",
   "outputs": [],
   "execution_count": 368
  },
  {
   "metadata": {
    "ExecuteTime": {
     "end_time": "2025-05-07T07:45:38.685530Z",
     "start_time": "2025-05-07T07:45:38.675723Z"
    }
   },
   "cell_type": "code",
   "source": [
    "missing_values = full_stock.isnull().sum()\n",
    "missing_values"
   ],
   "id": "5cfff521d7df7f34",
   "outputs": [
    {
     "data": {
      "text/plain": [
       "ts_code                  0\n",
       "trade_date               0\n",
       "agreement_index          0\n",
       "vol                      0\n",
       "pe_new                   0\n",
       "pb_new                   0\n",
       "turnover_rate_new        0\n",
       "returns_new              0\n",
       "log_volatility           0\n",
       "sentiment_index          0\n",
       "sentiment_index_lag_1    0\n",
       "dtype: int64"
      ]
     },
     "execution_count": 369,
     "metadata": {},
     "output_type": "execute_result"
    }
   ],
   "execution_count": 369
  },
  {
   "metadata": {
    "ExecuteTime": {
     "end_time": "2025-05-07T07:45:46.592084Z",
     "start_time": "2025-05-07T07:45:46.573693Z"
    }
   },
   "cell_type": "code",
   "source": "data_processed.head(2)",
   "id": "4e30f012e848039a",
   "outputs": [
    {
     "data": {
      "text/plain": [
       "     ts_code trade_date  agreement_index     vol  pe_new  pb_new  \\\n",
       "0  300750.SZ 2025-04-14         0.000002  0.0000  0.0000  0.0000   \n",
       "1  300750.SZ 2025-04-15         0.000083  0.0599  0.3601 -0.2428   \n",
       "\n",
       "   turnover_rate_new  returns_new  log_volatility  sentiment_index  \\\n",
       "0           0.000000    -0.210053        0.360226        -0.760200   \n",
       "1           0.095589     1.343693        0.336742         0.762126   \n",
       "\n",
       "   sentiment_index_lag_1  \n",
       "0              -0.947351  \n",
       "1              -0.657808  "
      ],
      "text/html": [
       "<div>\n",
       "<style scoped>\n",
       "    .dataframe tbody tr th:only-of-type {\n",
       "        vertical-align: middle;\n",
       "    }\n",
       "\n",
       "    .dataframe tbody tr th {\n",
       "        vertical-align: top;\n",
       "    }\n",
       "\n",
       "    .dataframe thead th {\n",
       "        text-align: right;\n",
       "    }\n",
       "</style>\n",
       "<table border=\"1\" class=\"dataframe\">\n",
       "  <thead>\n",
       "    <tr style=\"text-align: right;\">\n",
       "      <th></th>\n",
       "      <th>ts_code</th>\n",
       "      <th>trade_date</th>\n",
       "      <th>agreement_index</th>\n",
       "      <th>vol</th>\n",
       "      <th>pe_new</th>\n",
       "      <th>pb_new</th>\n",
       "      <th>turnover_rate_new</th>\n",
       "      <th>returns_new</th>\n",
       "      <th>log_volatility</th>\n",
       "      <th>sentiment_index</th>\n",
       "      <th>sentiment_index_lag_1</th>\n",
       "    </tr>\n",
       "  </thead>\n",
       "  <tbody>\n",
       "    <tr>\n",
       "      <th>0</th>\n",
       "      <td>300750.SZ</td>\n",
       "      <td>2025-04-14</td>\n",
       "      <td>0.000002</td>\n",
       "      <td>0.0000</td>\n",
       "      <td>0.0000</td>\n",
       "      <td>0.0000</td>\n",
       "      <td>0.000000</td>\n",
       "      <td>-0.210053</td>\n",
       "      <td>0.360226</td>\n",
       "      <td>-0.760200</td>\n",
       "      <td>-0.947351</td>\n",
       "    </tr>\n",
       "    <tr>\n",
       "      <th>1</th>\n",
       "      <td>300750.SZ</td>\n",
       "      <td>2025-04-15</td>\n",
       "      <td>0.000083</td>\n",
       "      <td>0.0599</td>\n",
       "      <td>0.3601</td>\n",
       "      <td>-0.2428</td>\n",
       "      <td>0.095589</td>\n",
       "      <td>1.343693</td>\n",
       "      <td>0.336742</td>\n",
       "      <td>0.762126</td>\n",
       "      <td>-0.657808</td>\n",
       "    </tr>\n",
       "  </tbody>\n",
       "</table>\n",
       "</div>"
      ]
     },
     "execution_count": 370,
     "metadata": {},
     "output_type": "execute_result"
    }
   ],
   "execution_count": 370
  },
  {
   "metadata": {
    "ExecuteTime": {
     "end_time": "2025-05-07T07:30:04.037384Z",
     "start_time": "2025-05-07T07:30:04.033522Z"
    }
   },
   "cell_type": "code",
   "source": "",
   "id": "68a759af7fef92c0",
   "outputs": [],
   "execution_count": null
  },
  {
   "metadata": {
    "ExecuteTime": {
     "end_time": "2025-05-07T07:45:48.923849Z",
     "start_time": "2025-05-07T07:45:48.916471Z"
    }
   },
   "cell_type": "code",
   "source": "data_processed.columns",
   "id": "ba81c19168e89578",
   "outputs": [
    {
     "data": {
      "text/plain": [
       "Index(['ts_code', 'trade_date', 'agreement_index', 'vol', 'pe_new', 'pb_new',\n",
       "       'turnover_rate_new', 'returns_new', 'log_volatility', 'sentiment_index',\n",
       "       'sentiment_index_lag_1'],\n",
       "      dtype='object')"
      ]
     },
     "execution_count": 371,
     "metadata": {},
     "output_type": "execute_result"
    }
   ],
   "execution_count": 371
  },
  {
   "metadata": {},
   "cell_type": "code",
   "source": [
    "y_return = data_processed['returns_new']\n",
    "y_volume = data_processed['vol']\n",
    "y_volatility = data_processed['log_volatility']\n",
    "X = sm.add_constant(data_processed[['sentiment_index', 'agreement_index', 'pe_new', 'pb_new', 'turnover_rate_new']])\n",
    "\n",
    "model_return_ols = sm.OLS(y_return, X).fit()\n",
    "model_volume_ols = sm.OLS(y_volume, X).fit()\n",
    "model_volatility_ols = sm.OLS(y_volatility, X).fit()\n",
    "\n",
    "print(\"对数收益率 OLS 回归结果:\")\n",
    "print(model_return_ols.summary())\n",
    "print(\"成交量一阶差分 OLS 回归结果:\")\n",
    "print(model_volume_ols.summary())\n",
    "print(\"波动率 OLS 回归结果:\")\n",
    "print(model_volatility_ols.summary())"
   ],
   "id": "4a6389eb1b3a5c98",
   "outputs": [],
   "execution_count": null
  },
  {
   "metadata": {},
   "cell_type": "markdown",
   "source": "### 000333.SZ 格兰杰结果",
   "id": "4ccc9902c5b5d87c"
  },
  {
   "metadata": {
    "ExecuteTime": {
     "end_time": "2025-05-07T06:56:57.448895Z",
     "start_time": "2025-05-07T06:56:57.336497Z"
    }
   },
   "cell_type": "code",
   "source": [
    "test_data = data_processed[['returns_new', 'sentiment_index']].dropna()\n",
    "granger_test = grangercausalitytests(test_data, maxlag=8)"
   ],
   "id": "22c541e94ff74b45",
   "outputs": [
    {
     "name": "stdout",
     "output_type": "stream",
     "text": [
      "\n",
      "Granger Causality\n",
      "number of lags (no zero) 1\n",
      "ssr based F test:         F=0.5394  , p=0.4661  , df_denom=51, df_num=1\n",
      "ssr based chi2 test:   chi2=0.5711  , p=0.4498  , df=1\n",
      "likelihood ratio test: chi2=0.5681  , p=0.4510  , df=1\n",
      "parameter F test:         F=0.5394  , p=0.4661  , df_denom=51, df_num=1\n",
      "\n",
      "Granger Causality\n",
      "number of lags (no zero) 2\n",
      "ssr based F test:         F=0.1892  , p=0.8282  , df_denom=48, df_num=2\n",
      "ssr based chi2 test:   chi2=0.4179  , p=0.8114  , df=2\n",
      "likelihood ratio test: chi2=0.4163  , p=0.8121  , df=2\n",
      "parameter F test:         F=0.1892  , p=0.8282  , df_denom=48, df_num=2\n",
      "\n",
      "Granger Causality\n",
      "number of lags (no zero) 3\n",
      "ssr based F test:         F=0.4854  , p=0.6941  , df_denom=45, df_num=3\n",
      "ssr based chi2 test:   chi2=1.6828  , p=0.6408  , df=3\n",
      "likelihood ratio test: chi2=1.6561  , p=0.6467  , df=3\n",
      "parameter F test:         F=0.4854  , p=0.6941  , df_denom=45, df_num=3\n",
      "\n",
      "Granger Causality\n",
      "number of lags (no zero) 4\n",
      "ssr based F test:         F=0.2406  , p=0.9137  , df_denom=42, df_num=4\n",
      "ssr based chi2 test:   chi2=1.1687  , p=0.8832  , df=4\n",
      "likelihood ratio test: chi2=1.1555  , p=0.8854  , df=4\n",
      "parameter F test:         F=0.2406  , p=0.9137  , df_denom=42, df_num=4\n",
      "\n",
      "Granger Causality\n",
      "number of lags (no zero) 5\n",
      "ssr based F test:         F=0.6607  , p=0.6553  , df_denom=39, df_num=5\n",
      "ssr based chi2 test:   chi2=4.2353  , p=0.5161  , df=5\n",
      "likelihood ratio test: chi2=4.0654  , p=0.5400  , df=5\n",
      "parameter F test:         F=0.6607  , p=0.6553  , df_denom=39, df_num=5\n",
      "\n",
      "Granger Causality\n",
      "number of lags (no zero) 6\n",
      "ssr based F test:         F=0.3978  , p=0.8755  , df_denom=36, df_num=6\n",
      "ssr based chi2 test:   chi2=3.2488  , p=0.7770  , df=6\n",
      "likelihood ratio test: chi2=3.1456  , p=0.7904  , df=6\n",
      "parameter F test:         F=0.3978  , p=0.8755  , df_denom=36, df_num=6\n",
      "\n",
      "Granger Causality\n",
      "number of lags (no zero) 7\n",
      "ssr based F test:         F=0.4147  , p=0.8862  , df_denom=33, df_num=7\n",
      "ssr based chi2 test:   chi2=4.2222  , p=0.7539  , df=7\n",
      "likelihood ratio test: chi2=4.0467  , p=0.7744  , df=7\n",
      "parameter F test:         F=0.4147  , p=0.8862  , df_denom=33, df_num=7\n",
      "\n",
      "Granger Causality\n",
      "number of lags (no zero) 8\n",
      "ssr based F test:         F=0.3247  , p=0.9500  , df_denom=30, df_num=8\n",
      "ssr based chi2 test:   chi2=4.0702  , p=0.8507  , df=8\n",
      "likelihood ratio test: chi2=3.9035  , p=0.8657  , df=8\n",
      "parameter F test:         F=0.3247  , p=0.9500  , df_denom=30, df_num=8\n"
     ]
    }
   ],
   "execution_count": 66
  },
  {
   "metadata": {
    "ExecuteTime": {
     "end_time": "2025-05-08T03:26:36.883358Z",
     "start_time": "2025-05-08T03:26:36.868450Z"
    }
   },
   "cell_type": "code",
   "source": [
    "test_data = data_processed[['sentiment_index', 'returns_new']].dropna()\n",
    "granger_test = grangercausalitytests(test_data, maxlag=5)"
   ],
   "id": "9e5fc8808bedf0a7",
   "outputs": [
    {
     "name": "stdout",
     "output_type": "stream",
     "text": [
      "\n",
      "Granger Causality\n",
      "number of lags (no zero) 1\n",
      "ssr based F test:         F=2.2673  , p=0.1374  , df_denom=60, df_num=1\n",
      "ssr based chi2 test:   chi2=2.3807  , p=0.1228  , df=1\n",
      "likelihood ratio test: chi2=2.3368  , p=0.1264  , df=1\n",
      "parameter F test:         F=2.2673  , p=0.1374  , df_denom=60, df_num=1\n",
      "\n",
      "Granger Causality\n",
      "number of lags (no zero) 2\n",
      "ssr based F test:         F=2.2502  , p=0.1147  , df_denom=57, df_num=2\n",
      "ssr based chi2 test:   chi2=4.8951  , p=0.0865  , df=2\n",
      "likelihood ratio test: chi2=4.7115  , p=0.0948  , df=2\n",
      "parameter F test:         F=2.2502  , p=0.1147  , df_denom=57, df_num=2\n",
      "\n",
      "Granger Causality\n",
      "number of lags (no zero) 3\n",
      "ssr based F test:         F=1.5695  , p=0.2074  , df_denom=54, df_num=3\n",
      "ssr based chi2 test:   chi2=5.3190  , p=0.1499  , df=3\n",
      "likelihood ratio test: chi2=5.0997  , p=0.1646  , df=3\n",
      "parameter F test:         F=1.5695  , p=0.2074  , df_denom=54, df_num=3\n",
      "\n",
      "Granger Causality\n",
      "number of lags (no zero) 4\n",
      "ssr based F test:         F=1.5891  , p=0.1914  , df_denom=51, df_num=4\n",
      "ssr based chi2 test:   chi2=7.4781  , p=0.1127  , df=4\n",
      "likelihood ratio test: chi2=7.0475  , p=0.1334  , df=4\n",
      "parameter F test:         F=1.5891  , p=0.1914  , df_denom=51, df_num=4\n",
      "\n",
      "Granger Causality\n",
      "number of lags (no zero) 5\n",
      "ssr based F test:         F=1.3783  , p=0.2491  , df_denom=48, df_num=5\n",
      "ssr based chi2 test:   chi2=8.4706  , p=0.1321  , df=5\n",
      "likelihood ratio test: chi2=7.9151  , p=0.1610  , df=5\n",
      "parameter F test:         F=1.3783  , p=0.2491  , df_denom=48, df_num=5\n"
     ]
    }
   ],
   "execution_count": 282
  },
  {
   "metadata": {
    "ExecuteTime": {
     "end_time": "2025-05-08T03:26:49.007326Z",
     "start_time": "2025-05-08T03:26:48.990569Z"
    }
   },
   "cell_type": "code",
   "source": [
    "test_data = data_processed[['sentiment_index', 'log_volatility']].dropna()\n",
    "granger_test = grangercausalitytests(test_data, maxlag=5)"
   ],
   "id": "55eacc89fc732e4d",
   "outputs": [
    {
     "name": "stdout",
     "output_type": "stream",
     "text": [
      "\n",
      "Granger Causality\n",
      "number of lags (no zero) 1\n",
      "ssr based F test:         F=0.0723  , p=0.7889  , df_denom=60, df_num=1\n",
      "ssr based chi2 test:   chi2=0.0759  , p=0.7829  , df=1\n",
      "likelihood ratio test: chi2=0.0759  , p=0.7829  , df=1\n",
      "parameter F test:         F=0.0723  , p=0.7889  , df_denom=60, df_num=1\n",
      "\n",
      "Granger Causality\n",
      "number of lags (no zero) 2\n",
      "ssr based F test:         F=0.5725  , p=0.5673  , df_denom=57, df_num=2\n",
      "ssr based chi2 test:   chi2=1.2455  , p=0.5365  , df=2\n",
      "likelihood ratio test: chi2=1.2332  , p=0.5398  , df=2\n",
      "parameter F test:         F=0.5725  , p=0.5673  , df_denom=57, df_num=2\n",
      "\n",
      "Granger Causality\n",
      "number of lags (no zero) 3\n",
      "ssr based F test:         F=1.2514  , p=0.3003  , df_denom=54, df_num=3\n",
      "ssr based chi2 test:   chi2=4.2407  , p=0.2366  , df=3\n",
      "likelihood ratio test: chi2=4.0998  , p=0.2509  , df=3\n",
      "parameter F test:         F=1.2514  , p=0.3003  , df_denom=54, df_num=3\n",
      "\n",
      "Granger Causality\n",
      "number of lags (no zero) 4\n",
      "ssr based F test:         F=0.9058  , p=0.4676  , df_denom=51, df_num=4\n",
      "ssr based chi2 test:   chi2=4.2628  , p=0.3716  , df=4\n",
      "likelihood ratio test: chi2=4.1182  , p=0.3902  , df=4\n",
      "parameter F test:         F=0.9058  , p=0.4676  , df_denom=51, df_num=4\n",
      "\n",
      "Granger Causality\n",
      "number of lags (no zero) 5\n",
      "ssr based F test:         F=1.2577  , p=0.2976  , df_denom=48, df_num=5\n",
      "ssr based chi2 test:   chi2=7.7293  , p=0.1718  , df=5\n",
      "likelihood ratio test: chi2=7.2633  , p=0.2018  , df=5\n",
      "parameter F test:         F=1.2577  , p=0.2976  , df_denom=48, df_num=5\n"
     ]
    }
   ],
   "execution_count": 283
  },
  {
   "metadata": {},
   "cell_type": "markdown",
   "source": "#### '600519.SH'",
   "id": "6e1c418f3ef64616"
  },
  {
   "metadata": {
    "ExecuteTime": {
     "end_time": "2025-05-07T07:22:48.903142Z",
     "start_time": "2025-05-07T07:22:48.847430Z"
    }
   },
   "cell_type": "code",
   "source": [
    "test_data = data_processed[['returns_new', 'sentiment_index']].dropna()\n",
    "granger_test = grangercausalitytests(test_data, maxlag=8)"
   ],
   "id": "1adf6ef452b725ed",
   "outputs": [
    {
     "name": "stdout",
     "output_type": "stream",
     "text": [
      "\n",
      "Granger Causality\n",
      "number of lags (no zero) 1\n",
      "ssr based F test:         F=0.0037  , p=0.9518  , df_denom=28, df_num=1\n",
      "ssr based chi2 test:   chi2=0.0041  , p=0.9489  , df=1\n",
      "likelihood ratio test: chi2=0.0041  , p=0.9489  , df=1\n",
      "parameter F test:         F=0.0037  , p=0.9518  , df_denom=28, df_num=1\n",
      "\n",
      "Granger Causality\n",
      "number of lags (no zero) 2\n",
      "ssr based F test:         F=0.1206  , p=0.8869  , df_denom=25, df_num=2\n",
      "ssr based chi2 test:   chi2=0.2894  , p=0.8653  , df=2\n",
      "likelihood ratio test: chi2=0.2880  , p=0.8659  , df=2\n",
      "parameter F test:         F=0.1206  , p=0.8869  , df_denom=25, df_num=2\n",
      "\n",
      "Granger Causality\n",
      "number of lags (no zero) 3\n",
      "ssr based F test:         F=0.0803  , p=0.9700  , df_denom=22, df_num=3\n",
      "ssr based chi2 test:   chi2=0.3174  , p=0.9567  , df=3\n",
      "likelihood ratio test: chi2=0.3157  , p=0.9570  , df=3\n",
      "parameter F test:         F=0.0803  , p=0.9700  , df_denom=22, df_num=3\n",
      "\n",
      "Granger Causality\n",
      "number of lags (no zero) 4\n",
      "ssr based F test:         F=0.2666  , p=0.8958  , df_denom=19, df_num=4\n",
      "ssr based chi2 test:   chi2=1.5715  , p=0.8139  , df=4\n",
      "likelihood ratio test: chi2=1.5290  , p=0.8215  , df=4\n",
      "parameter F test:         F=0.2666  , p=0.8958  , df_denom=19, df_num=4\n",
      "\n",
      "Granger Causality\n",
      "number of lags (no zero) 5\n",
      "ssr based F test:         F=0.6243  , p=0.6836  , df_denom=16, df_num=5\n",
      "ssr based chi2 test:   chi2=5.2679  , p=0.3841  , df=5\n",
      "likelihood ratio test: chi2=4.8124  , p=0.4392  , df=5\n",
      "parameter F test:         F=0.6243  , p=0.6836  , df_denom=16, df_num=5\n",
      "\n",
      "Granger Causality\n",
      "number of lags (no zero) 6\n",
      "ssr based F test:         F=0.6851  , p=0.6653  , df_denom=13, df_num=6\n",
      "ssr based chi2 test:   chi2=8.2217  , p=0.2223  , df=6\n",
      "likelihood ratio test: chi2=7.1439  , p=0.3077  , df=6\n",
      "parameter F test:         F=0.6851  , p=0.6653  , df_denom=13, df_num=6\n",
      "\n",
      "Granger Causality\n",
      "number of lags (no zero) 7\n",
      "ssr based F test:         F=0.7165  , p=0.6618  , df_denom=10, df_num=7\n",
      "ssr based chi2 test:   chi2=12.5391 , p=0.0842  , df=7\n",
      "likelihood ratio test: chi2=10.1627 , p=0.1795  , df=7\n",
      "parameter F test:         F=0.7165  , p=0.6618  , df_denom=10, df_num=7\n",
      "\n",
      "Granger Causality\n",
      "number of lags (no zero) 8\n",
      "ssr based F test:         F=0.5138  , p=0.8146  , df_denom=7, df_num=8\n",
      "ssr based chi2 test:   chi2=14.0933 , p=0.0794  , df=8\n",
      "likelihood ratio test: chi2=11.0876 , p=0.1968  , df=8\n",
      "parameter F test:         F=0.5138  , p=0.8146  , df_denom=7, df_num=8\n"
     ]
    }
   ],
   "execution_count": 187
  },
  {
   "metadata": {},
   "cell_type": "markdown",
   "source": "#### '600900.SH'",
   "id": "9beebd71ddb217ee"
  },
  {
   "metadata": {
    "ExecuteTime": {
     "end_time": "2025-05-07T07:24:52.287741Z",
     "start_time": "2025-05-07T07:24:52.255060Z"
    }
   },
   "cell_type": "code",
   "source": [
    "test_data = data_processed[['returns_new', 'sentiment_index']].dropna()\n",
    "granger_test = grangercausalitytests(test_data, maxlag=8)"
   ],
   "id": "3ec9c0859cc4dcaf",
   "outputs": [
    {
     "name": "stdout",
     "output_type": "stream",
     "text": [
      "\n",
      "Granger Causality\n",
      "number of lags (no zero) 1\n",
      "ssr based F test:         F=0.0499  , p=0.8239  , df_denom=60, df_num=1\n",
      "ssr based chi2 test:   chi2=0.0524  , p=0.8189  , df=1\n",
      "likelihood ratio test: chi2=0.0524  , p=0.8189  , df=1\n",
      "parameter F test:         F=0.0499  , p=0.8239  , df_denom=60, df_num=1\n",
      "\n",
      "Granger Causality\n",
      "number of lags (no zero) 2\n",
      "ssr based F test:         F=0.3332  , p=0.7180  , df_denom=57, df_num=2\n",
      "ssr based chi2 test:   chi2=0.7249  , p=0.6960  , df=2\n",
      "likelihood ratio test: chi2=0.7207  , p=0.6974  , df=2\n",
      "parameter F test:         F=0.3332  , p=0.7180  , df_denom=57, df_num=2\n",
      "\n",
      "Granger Causality\n",
      "number of lags (no zero) 3\n",
      "ssr based F test:         F=0.9235  , p=0.4357  , df_denom=54, df_num=3\n",
      "ssr based chi2 test:   chi2=3.1297  , p=0.3721  , df=3\n",
      "likelihood ratio test: chi2=3.0521  , p=0.3837  , df=3\n",
      "parameter F test:         F=0.9235  , p=0.4357  , df_denom=54, df_num=3\n",
      "\n",
      "Granger Causality\n",
      "number of lags (no zero) 4\n",
      "ssr based F test:         F=0.7471  , p=0.5645  , df_denom=51, df_num=4\n",
      "ssr based chi2 test:   chi2=3.5159  , p=0.4755  , df=4\n",
      "likelihood ratio test: chi2=3.4167  , p=0.4907  , df=4\n",
      "parameter F test:         F=0.7471  , p=0.5645  , df_denom=51, df_num=4\n",
      "\n",
      "Granger Causality\n",
      "number of lags (no zero) 5\n",
      "ssr based F test:         F=0.5828  , p=0.7129  , df_denom=48, df_num=5\n",
      "ssr based chi2 test:   chi2=3.5821  , p=0.6110  , df=5\n",
      "likelihood ratio test: chi2=3.4775  , p=0.6268  , df=5\n",
      "parameter F test:         F=0.5828  , p=0.7129  , df_denom=48, df_num=5\n",
      "\n",
      "Granger Causality\n",
      "number of lags (no zero) 6\n",
      "ssr based F test:         F=0.5597  , p=0.7599  , df_denom=45, df_num=6\n",
      "ssr based chi2 test:   chi2=4.3284  , p=0.6323  , df=6\n",
      "likelihood ratio test: chi2=4.1745  , p=0.6531  , df=6\n",
      "parameter F test:         F=0.5597  , p=0.7599  , df_denom=45, df_num=6\n",
      "\n",
      "Granger Causality\n",
      "number of lags (no zero) 7\n",
      "ssr based F test:         F=0.4119  , p=0.8895  , df_denom=42, df_num=7\n",
      "ssr based chi2 test:   chi2=3.9130  , p=0.7897  , df=7\n",
      "likelihood ratio test: chi2=3.7845  , p=0.8042  , df=7\n",
      "parameter F test:         F=0.4119  , p=0.8895  , df_denom=42, df_num=7\n",
      "\n",
      "Granger Causality\n",
      "number of lags (no zero) 8\n",
      "ssr based F test:         F=0.4101  , p=0.9079  , df_denom=39, df_num=8\n",
      "ssr based chi2 test:   chi2=4.7106  , p=0.7880  , df=8\n",
      "likelihood ratio test: chi2=4.5229  , p=0.8071  , df=8\n",
      "parameter F test:         F=0.4101  , p=0.9079  , df_denom=39, df_num=8\n"
     ]
    }
   ],
   "execution_count": 221
  },
  {
   "metadata": {},
   "cell_type": "markdown",
   "source": "#### '601318.SH'",
   "id": "df37047b3e80e8fd"
  },
  {
   "metadata": {
    "ExecuteTime": {
     "end_time": "2025-05-07T07:28:31.379608Z",
     "start_time": "2025-05-07T07:28:31.342900Z"
    }
   },
   "cell_type": "code",
   "source": [
    "test_data = data_processed[['returns_new', 'sentiment_index']].dropna()\n",
    "granger_test = grangercausalitytests(test_data, maxlag=8)"
   ],
   "id": "ff0f83581d1ca051",
   "outputs": [
    {
     "name": "stdout",
     "output_type": "stream",
     "text": [
      "\n",
      "Granger Causality\n",
      "number of lags (no zero) 1\n",
      "ssr based F test:         F=0.2113  , p=0.6485  , df_denom=36, df_num=1\n",
      "ssr based chi2 test:   chi2=0.2289  , p=0.6323  , df=1\n",
      "likelihood ratio test: chi2=0.2282  , p=0.6328  , df=1\n",
      "parameter F test:         F=0.2113  , p=0.6485  , df_denom=36, df_num=1\n",
      "\n",
      "Granger Causality\n",
      "number of lags (no zero) 2\n",
      "ssr based F test:         F=0.8544  , p=0.4348  , df_denom=33, df_num=2\n",
      "ssr based chi2 test:   chi2=1.9676  , p=0.3739  , df=2\n",
      "likelihood ratio test: chi2=1.9184  , p=0.3832  , df=2\n",
      "parameter F test:         F=0.8544  , p=0.4348  , df_denom=33, df_num=2\n",
      "\n",
      "Granger Causality\n",
      "number of lags (no zero) 3\n",
      "ssr based F test:         F=2.5625  , p=0.0734  , df_denom=30, df_num=3\n",
      "ssr based chi2 test:   chi2=9.4813  , p=0.0235  , df=3\n",
      "likelihood ratio test: chi2=8.4409  , p=0.0377  , df=3\n",
      "parameter F test:         F=2.5625  , p=0.0734  , df_denom=30, df_num=3\n",
      "\n",
      "Granger Causality\n",
      "number of lags (no zero) 4\n",
      "ssr based F test:         F=1.8992  , p=0.1395  , df_denom=27, df_num=4\n",
      "ssr based chi2 test:   chi2=10.1293 , p=0.0383  , df=4\n",
      "likelihood ratio test: chi2=8.9255  , p=0.0630  , df=4\n",
      "parameter F test:         F=1.8992  , p=0.1395  , df_denom=27, df_num=4\n",
      "\n",
      "Granger Causality\n",
      "number of lags (no zero) 5\n",
      "ssr based F test:         F=1.7424  , p=0.1633  , df_denom=24, df_num=5\n",
      "ssr based chi2 test:   chi2=12.7052 , p=0.0263  , df=5\n",
      "likelihood ratio test: chi2=10.8392 , p=0.0547  , df=5\n",
      "parameter F test:         F=1.7424  , p=0.1633  , df_denom=24, df_num=5\n",
      "\n",
      "Granger Causality\n",
      "number of lags (no zero) 6\n",
      "ssr based F test:         F=1.6162  , p=0.1920  , df_denom=21, df_num=6\n",
      "ssr based chi2 test:   chi2=15.6999 , p=0.0155  , df=6\n",
      "likelihood ratio test: chi2=12.9078 , p=0.0445  , df=6\n",
      "parameter F test:         F=1.6162  , p=0.1920  , df_denom=21, df_num=6\n",
      "\n",
      "Granger Causality\n",
      "number of lags (no zero) 7\n",
      "ssr based F test:         F=1.2318  , p=0.3365  , df_denom=18, df_num=7\n",
      "ssr based chi2 test:   chi2=15.8076 , p=0.0269  , df=7\n",
      "likelihood ratio test: chi2=12.9155 , p=0.0742  , df=7\n",
      "parameter F test:         F=1.2318  , p=0.3365  , df_denom=18, df_num=7\n",
      "\n",
      "Granger Causality\n",
      "number of lags (no zero) 8\n",
      "ssr based F test:         F=0.9839  , p=0.4849  , df_denom=15, df_num=8\n",
      "ssr based chi2 test:   chi2=16.7916 , p=0.0324  , df=8\n",
      "likelihood ratio test: chi2=13.4983 , p=0.0958  , df=8\n",
      "parameter F test:         F=0.9839  , p=0.4849  , df_denom=15, df_num=8\n"
     ]
    }
   ],
   "execution_count": 255
  },
  {
   "metadata": {},
   "cell_type": "markdown",
   "source": "#### '000333.SZ'",
   "id": "270b15b3d8a8a523"
  },
  {
   "metadata": {
    "ExecuteTime": {
     "end_time": "2025-05-07T07:31:02.917431Z",
     "start_time": "2025-05-07T07:31:02.881263Z"
    }
   },
   "cell_type": "code",
   "source": [
    "test_data = data_processed[['returns_new', 'sentiment_index']].dropna()\n",
    "granger_test = grangercausalitytests(test_data, maxlag=8)"
   ],
   "id": "376bc3aa6d759c6a",
   "outputs": [
    {
     "name": "stdout",
     "output_type": "stream",
     "text": [
      "\n",
      "Granger Causality\n",
      "number of lags (no zero) 1\n",
      "ssr based F test:         F=0.5394  , p=0.4661  , df_denom=51, df_num=1\n",
      "ssr based chi2 test:   chi2=0.5711  , p=0.4498  , df=1\n",
      "likelihood ratio test: chi2=0.5681  , p=0.4510  , df=1\n",
      "parameter F test:         F=0.5394  , p=0.4661  , df_denom=51, df_num=1\n",
      "\n",
      "Granger Causality\n",
      "number of lags (no zero) 2\n",
      "ssr based F test:         F=0.1892  , p=0.8282  , df_denom=48, df_num=2\n",
      "ssr based chi2 test:   chi2=0.4179  , p=0.8114  , df=2\n",
      "likelihood ratio test: chi2=0.4163  , p=0.8121  , df=2\n",
      "parameter F test:         F=0.1892  , p=0.8282  , df_denom=48, df_num=2\n",
      "\n",
      "Granger Causality\n",
      "number of lags (no zero) 3\n",
      "ssr based F test:         F=0.4854  , p=0.6941  , df_denom=45, df_num=3\n",
      "ssr based chi2 test:   chi2=1.6828  , p=0.6408  , df=3\n",
      "likelihood ratio test: chi2=1.6561  , p=0.6467  , df=3\n",
      "parameter F test:         F=0.4854  , p=0.6941  , df_denom=45, df_num=3\n",
      "\n",
      "Granger Causality\n",
      "number of lags (no zero) 4\n",
      "ssr based F test:         F=0.2406  , p=0.9137  , df_denom=42, df_num=4\n",
      "ssr based chi2 test:   chi2=1.1687  , p=0.8832  , df=4\n",
      "likelihood ratio test: chi2=1.1555  , p=0.8854  , df=4\n",
      "parameter F test:         F=0.2406  , p=0.9137  , df_denom=42, df_num=4\n",
      "\n",
      "Granger Causality\n",
      "number of lags (no zero) 5\n",
      "ssr based F test:         F=0.6607  , p=0.6553  , df_denom=39, df_num=5\n",
      "ssr based chi2 test:   chi2=4.2353  , p=0.5161  , df=5\n",
      "likelihood ratio test: chi2=4.0654  , p=0.5400  , df=5\n",
      "parameter F test:         F=0.6607  , p=0.6553  , df_denom=39, df_num=5\n",
      "\n",
      "Granger Causality\n",
      "number of lags (no zero) 6\n",
      "ssr based F test:         F=0.3978  , p=0.8755  , df_denom=36, df_num=6\n",
      "ssr based chi2 test:   chi2=3.2488  , p=0.7770  , df=6\n",
      "likelihood ratio test: chi2=3.1456  , p=0.7904  , df=6\n",
      "parameter F test:         F=0.3978  , p=0.8755  , df_denom=36, df_num=6\n",
      "\n",
      "Granger Causality\n",
      "number of lags (no zero) 7\n",
      "ssr based F test:         F=0.4147  , p=0.8862  , df_denom=33, df_num=7\n",
      "ssr based chi2 test:   chi2=4.2222  , p=0.7539  , df=7\n",
      "likelihood ratio test: chi2=4.0467  , p=0.7744  , df=7\n",
      "parameter F test:         F=0.4147  , p=0.8862  , df_denom=33, df_num=7\n",
      "\n",
      "Granger Causality\n",
      "number of lags (no zero) 8\n",
      "ssr based F test:         F=0.3247  , p=0.9500  , df_denom=30, df_num=8\n",
      "ssr based chi2 test:   chi2=4.0702  , p=0.8507  , df=8\n",
      "likelihood ratio test: chi2=3.9035  , p=0.8657  , df=8\n",
      "parameter F test:         F=0.3247  , p=0.9500  , df_denom=30, df_num=8\n"
     ]
    }
   ],
   "execution_count": 289
  },
  {
   "metadata": {},
   "cell_type": "code",
   "outputs": [],
   "execution_count": null,
   "source": "",
   "id": "741fdd6394233d9b"
  },
  {
   "metadata": {},
   "cell_type": "markdown",
   "source": "#### 固定效应",
   "id": "f91ba6741a1e8aab"
  },
  {
   "metadata": {
    "ExecuteTime": {
     "end_time": "2025-05-07T07:46:18.045359Z",
     "start_time": "2025-05-07T07:46:18.036348Z"
    }
   },
   "cell_type": "code",
   "source": "full_stock = full_stock.set_index(['ts_code', 'trade_date'])  # 设置为面板数据索引",
   "id": "e0465a44aa97deb2",
   "outputs": [],
   "execution_count": 373
  },
  {
   "metadata": {
    "ExecuteTime": {
     "end_time": "2025-05-07T07:42:20.290205Z",
     "start_time": "2025-05-07T07:42:20.283952Z"
    }
   },
   "cell_type": "code",
   "source": "full_stock = full_stock.reset_index()",
   "id": "85ae95732e68d412",
   "outputs": [],
   "execution_count": 295
  },
  {
   "metadata": {
    "ExecuteTime": {
     "end_time": "2025-05-07T07:46:46.917804Z",
     "start_time": "2025-05-07T07:46:46.827480Z"
    }
   },
   "cell_type": "code",
   "source": [
    "# 定义变量\n",
    "dependent_var = full_stock['returns_new']  # 因变量\n",
    "independent_vars = full_stock[['sentiment_index', 'pe_new', 'pb_new', 'turnover_rate_new']]\n",
    "independent_vars = sm.add_constant(independent_vars)  # 添加截距项\n",
    "\n",
    "# 固定效应模型 (控制个体和时间效应)\n",
    "model_fe = PanelOLS(\n",
    "    dependent_var,\n",
    "    independent_vars,\n",
    "    entity_effects=True,  # 个股固定效应\n",
    "    time_effects=True     # 时间固定效应（可选）\n",
    ")\n",
    "results_fe = model_fe.fit()\n",
    "print(results_fe.summary)"
   ],
   "id": "b6413daea27657f1",
   "outputs": [
    {
     "name": "stdout",
     "output_type": "stream",
     "text": [
      "                          PanelOLS Estimation Summary                           \n",
      "================================================================================\n",
      "Dep. Variable:            returns_new   R-squared:                        0.2413\n",
      "Estimator:                   PanelOLS   R-squared (Between):          -1.827e+30\n",
      "No. Observations:                 331   R-squared (Within):               0.2227\n",
      "Date:                Wed, May 07 2025   R-squared (Overall):              0.2220\n",
      "Time:                        15:46:46   Log-likelihood                   -245.43\n",
      "Cov. Estimator:            Unadjusted                                           \n",
      "                                        F-statistic:                      15.263\n",
      "Entities:                           6   P-value                           0.0000\n",
      "Avg Obs:                       55.167   Distribution:                   F(4,192)\n",
      "Min Obs:                       13.000                                           \n",
      "Max Obs:                       127.00   F-statistic (robust):             15.263\n",
      "                                        P-value                           0.0000\n",
      "Time periods:                     130   Distribution:                   F(4,192)\n",
      "Avg Obs:                       2.5462                                           \n",
      "Min Obs:                       1.0000                                           \n",
      "Max Obs:                       6.0000                                           \n",
      "                                                                                \n",
      "                                 Parameter Estimates                                 \n",
      "=====================================================================================\n",
      "                   Parameter  Std. Err.     T-stat    P-value    Lower CI    Upper CI\n",
      "-------------------------------------------------------------------------------------\n",
      "const                 0.0196     0.0369     0.5322     0.5952     -0.0531      0.0923\n",
      "sentiment_index       0.2512     0.0510     4.9253     0.0000      0.1506      0.3518\n",
      "pe_new                0.5629     0.1332     4.2243     0.0000      0.3001      0.8257\n",
      "pb_new                0.2888     0.6425     0.4495     0.6536     -0.9784      1.5559\n",
      "turnover_rate_new     1.0381     0.4812     2.1572     0.0322      0.0889      1.9872\n",
      "=====================================================================================\n",
      "\n",
      "F-test for Poolability: 2.4310\n",
      "P-value: 0.0000\n",
      "Distribution: F(134,192)\n",
      "\n",
      "Included effects: Entity, Time\n"
     ]
    }
   ],
   "execution_count": 374
  },
  {
   "metadata": {},
   "cell_type": "code",
   "outputs": [],
   "execution_count": null,
   "source": "",
   "id": "e921c32d2706bace"
  },
  {
   "metadata": {},
   "cell_type": "markdown",
   "source": "#### 随机效应",
   "id": "76a56d7c662fd55c"
  },
  {
   "metadata": {
    "ExecuteTime": {
     "end_time": "2025-05-07T07:47:30.986819Z",
     "start_time": "2025-05-07T07:47:30.908166Z"
    }
   },
   "cell_type": "code",
   "source": [
    "model_re = RandomEffects(\n",
    "    dependent_var,\n",
    "    independent_vars\n",
    ")\n",
    "results_re = model_re.fit()\n",
    "print(results_re.summary)"
   ],
   "id": "e7d0c652fae5a145",
   "outputs": [
    {
     "name": "stdout",
     "output_type": "stream",
     "text": [
      "                        RandomEffects Estimation Summary                        \n",
      "================================================================================\n",
      "Dep. Variable:            returns_new   R-squared:                        0.2915\n",
      "Estimator:              RandomEffects   R-squared (Between):          -8.793e+30\n",
      "No. Observations:                 331   R-squared (Within):               0.2946\n",
      "Date:                Wed, May 07 2025   R-squared (Overall):              0.2915\n",
      "Time:                        15:47:30   Log-likelihood                   -409.61\n",
      "Cov. Estimator:            Unadjusted                                           \n",
      "                                        F-statistic:                      33.531\n",
      "Entities:                           6   P-value                           0.0000\n",
      "Avg Obs:                       55.167   Distribution:                   F(4,326)\n",
      "Min Obs:                       13.000                                           \n",
      "Max Obs:                       127.00   F-statistic (robust):             33.531\n",
      "                                        P-value                           0.0000\n",
      "Time periods:                     130   Distribution:                   F(4,326)\n",
      "Avg Obs:                       2.5462                                           \n",
      "Min Obs:                       1.0000                                           \n",
      "Max Obs:                       6.0000                                           \n",
      "                                                                                \n",
      "                                 Parameter Estimates                                 \n",
      "=====================================================================================\n",
      "                   Parameter  Std. Err.     T-stat    P-value    Lower CI    Upper CI\n",
      "-------------------------------------------------------------------------------------\n",
      "const                 0.0383     0.0464     0.8267     0.4090     -0.0529      0.1295\n",
      "sentiment_index       0.2285     0.0469     4.8700     0.0000      0.1362      0.3209\n",
      "pe_new                1.0013     0.1509     6.6367     0.0000      0.7045      1.2982\n",
      "pb_new                1.2378     0.7063     1.7525     0.0806     -0.1517      2.6274\n",
      "turnover_rate_new     0.1504     0.3846     0.3912     0.6959     -0.6062      0.9070\n",
      "=====================================================================================\n"
     ]
    }
   ],
   "execution_count": 375
  },
  {
   "metadata": {
    "ExecuteTime": {
     "end_time": "2025-05-07T07:47:43.696213Z",
     "start_time": "2025-05-07T07:47:43.689040Z"
    }
   },
   "cell_type": "code",
   "source": [
    "n_stocks = full_stock.index.get_level_values('ts_code').nunique()\n",
    "n_vars = independent_vars.shape[1]  # 包括截距项\n",
    "print(f\"个股数量：{n_stocks}，解释变量数：{n_vars}\")"
   ],
   "id": "2c225478c63e9c9f",
   "outputs": [
    {
     "name": "stdout",
     "output_type": "stream",
     "text": [
      "个股数量：6，解释变量数：5\n"
     ]
    }
   ],
   "execution_count": 376
  },
  {
   "metadata": {
    "ExecuteTime": {
     "end_time": "2025-05-07T07:49:02.836103Z",
     "start_time": "2025-05-07T07:49:02.814644Z"
    }
   },
   "cell_type": "code",
   "source": [
    "# 比较固定效应和随机效应\n",
    "from linearmodels.panel import compare\n",
    "\n",
    "print(compare({\"FE\": results_fe, \"RE\": results_re}))"
   ],
   "id": "ddba4f10c9497c46",
   "outputs": [
    {
     "name": "stdout",
     "output_type": "stream",
     "text": [
      "                     Model Comparison                    \n",
      "=========================================================\n",
      "                                     FE                RE\n",
      "---------------------------------------------------------\n",
      "Dep. Variable               returns_new       returns_new\n",
      "Estimator                      PanelOLS     RandomEffects\n",
      "No. Observations                    331               331\n",
      "Cov. Est.                    Unadjusted        Unadjusted\n",
      "R-squared                        0.2413            0.2915\n",
      "R-Squared (Within)               0.2227            0.2946\n",
      "R-Squared (Between)          -1.827e+30        -8.793e+30\n",
      "R-Squared (Overall)              0.2220            0.2915\n",
      "F-statistic                      15.263            33.531\n",
      "P-value (F-stat)                 0.0000            0.0000\n",
      "=====================     =============   ===============\n",
      "const                            0.0196            0.0383\n",
      "                               (0.5322)          (0.8267)\n",
      "sentiment_index                  0.2512            0.2285\n",
      "                               (4.9253)          (4.8700)\n",
      "pe_new                           0.5629            1.0013\n",
      "                               (4.2243)          (6.6367)\n",
      "pb_new                           0.2888            1.2378\n",
      "                               (0.4495)          (1.7525)\n",
      "turnover_rate_new                1.0381            0.1504\n",
      "                               (2.1572)          (0.3912)\n",
      "======================= =============== =================\n",
      "Effects                          Entity                  \n",
      "                                   Time                  \n",
      "---------------------------------------------------------\n",
      "\n",
      "T-stats reported in parentheses\n"
     ]
    }
   ],
   "execution_count": 378
  },
  {
   "metadata": {
    "ExecuteTime": {
     "end_time": "2025-05-07T07:48:08.580970Z",
     "start_time": "2025-05-07T07:48:08.532882Z"
    }
   },
   "cell_type": "code",
   "source": [
    "from statsmodels.stats.outliers_influence import variance_inflation_factor\n",
    "\n",
    "vif_data = pd.DataFrame()\n",
    "vif_data[\"Variable\"] = independent_vars.columns\n",
    "vif_data[\"VIF\"] = [variance_inflation_factor(independent_vars.values, i) for i in range(independent_vars.shape[1])]\n",
    "print(vif_data)"
   ],
   "id": "7435eb0c1d4ea6d8",
   "outputs": [
    {
     "name": "stdout",
     "output_type": "stream",
     "text": [
      "            Variable       VIF\n",
      "0              const  1.007170\n",
      "1    sentiment_index  1.013342\n",
      "2             pe_new  1.632454\n",
      "3             pb_new  1.605830\n",
      "4  turnover_rate_new  1.014184\n"
     ]
    }
   ],
   "execution_count": 377
  },
  {
   "metadata": {
    "ExecuteTime": {
     "end_time": "2025-05-07T07:56:03.004586Z",
     "start_time": "2025-05-07T07:56:02.984541Z"
    }
   },
   "cell_type": "code",
   "source": "data_processed[['returns_new', 'log_volatility', 'sentiment_index', 'pb_new', 'pe_new', 'turnover_rate_new']].corr()",
   "id": "cd911afc0cb01030",
   "outputs": [
    {
     "data": {
      "text/plain": [
       "                   returns_new  log_volatility  sentiment_index    pb_new  \\\n",
       "returns_new           1.000000        0.591862         0.390926  0.001770   \n",
       "log_volatility        0.591862        1.000000         0.320199  0.058841   \n",
       "sentiment_index       0.390926        0.320199         1.000000  0.239429   \n",
       "pb_new                0.001770        0.058841         0.239429  1.000000   \n",
       "pe_new                0.999826        0.595513         0.387644  0.012088   \n",
       "turnover_rate_new     0.595639        0.651195         0.290585 -0.230339   \n",
       "\n",
       "                     pe_new  turnover_rate_new  \n",
       "returns_new        0.999826           0.595639  \n",
       "log_volatility     0.595513           0.651195  \n",
       "sentiment_index    0.387644           0.290585  \n",
       "pb_new             0.012088          -0.230339  \n",
       "pe_new             1.000000           0.597144  \n",
       "turnover_rate_new  0.597144           1.000000  "
      ],
      "text/html": [
       "<div>\n",
       "<style scoped>\n",
       "    .dataframe tbody tr th:only-of-type {\n",
       "        vertical-align: middle;\n",
       "    }\n",
       "\n",
       "    .dataframe tbody tr th {\n",
       "        vertical-align: top;\n",
       "    }\n",
       "\n",
       "    .dataframe thead th {\n",
       "        text-align: right;\n",
       "    }\n",
       "</style>\n",
       "<table border=\"1\" class=\"dataframe\">\n",
       "  <thead>\n",
       "    <tr style=\"text-align: right;\">\n",
       "      <th></th>\n",
       "      <th>returns_new</th>\n",
       "      <th>log_volatility</th>\n",
       "      <th>sentiment_index</th>\n",
       "      <th>pb_new</th>\n",
       "      <th>pe_new</th>\n",
       "      <th>turnover_rate_new</th>\n",
       "    </tr>\n",
       "  </thead>\n",
       "  <tbody>\n",
       "    <tr>\n",
       "      <th>returns_new</th>\n",
       "      <td>1.000000</td>\n",
       "      <td>0.591862</td>\n",
       "      <td>0.390926</td>\n",
       "      <td>0.001770</td>\n",
       "      <td>0.999826</td>\n",
       "      <td>0.595639</td>\n",
       "    </tr>\n",
       "    <tr>\n",
       "      <th>log_volatility</th>\n",
       "      <td>0.591862</td>\n",
       "      <td>1.000000</td>\n",
       "      <td>0.320199</td>\n",
       "      <td>0.058841</td>\n",
       "      <td>0.595513</td>\n",
       "      <td>0.651195</td>\n",
       "    </tr>\n",
       "    <tr>\n",
       "      <th>sentiment_index</th>\n",
       "      <td>0.390926</td>\n",
       "      <td>0.320199</td>\n",
       "      <td>1.000000</td>\n",
       "      <td>0.239429</td>\n",
       "      <td>0.387644</td>\n",
       "      <td>0.290585</td>\n",
       "    </tr>\n",
       "    <tr>\n",
       "      <th>pb_new</th>\n",
       "      <td>0.001770</td>\n",
       "      <td>0.058841</td>\n",
       "      <td>0.239429</td>\n",
       "      <td>1.000000</td>\n",
       "      <td>0.012088</td>\n",
       "      <td>-0.230339</td>\n",
       "    </tr>\n",
       "    <tr>\n",
       "      <th>pe_new</th>\n",
       "      <td>0.999826</td>\n",
       "      <td>0.595513</td>\n",
       "      <td>0.387644</td>\n",
       "      <td>0.012088</td>\n",
       "      <td>1.000000</td>\n",
       "      <td>0.597144</td>\n",
       "    </tr>\n",
       "    <tr>\n",
       "      <th>turnover_rate_new</th>\n",
       "      <td>0.595639</td>\n",
       "      <td>0.651195</td>\n",
       "      <td>0.290585</td>\n",
       "      <td>-0.230339</td>\n",
       "      <td>0.597144</td>\n",
       "      <td>1.000000</td>\n",
       "    </tr>\n",
       "  </tbody>\n",
       "</table>\n",
       "</div>"
      ]
     },
     "execution_count": 379,
     "metadata": {},
     "output_type": "execute_result"
    }
   ],
   "execution_count": 379
  },
  {
   "metadata": {
    "ExecuteTime": {
     "end_time": "2025-05-07T06:05:49.740465Z",
     "start_time": "2025-05-07T06:05:49.737556Z"
    }
   },
   "cell_type": "markdown",
   "source": "## 沪深300指数股评分析",
   "id": "58173797603d2cc2"
  },
  {
   "metadata": {
    "ExecuteTime": {
     "end_time": "2025-05-07T20:05:13.206010Z",
     "start_time": "2025-05-07T20:05:13.190353Z"
    }
   },
   "cell_type": "code",
   "source": [
    "# delete unwanted columns\n",
    "df = initial_df.drop(columns=['_id', 'post_url', 'post_author', 'post_time'])\n",
    "df.head(1)"
   ],
   "id": "f7c8d17164481bdc",
   "outputs": [
    {
     "data": {
      "text/plain": [
       "                                    post_title post_view  comment_num  \\\n",
       "10588  人工智能ETF159819行业紧紧把握科技创新发展趋势积极拥抱生成式人工智能相       135            0   \n",
       "\n",
       "        post_date       post_datetime  \n",
       "10588  2023-08-07 2023-08-07 12:31:00  "
      ],
      "text/html": [
       "<div>\n",
       "<style scoped>\n",
       "    .dataframe tbody tr th:only-of-type {\n",
       "        vertical-align: middle;\n",
       "    }\n",
       "\n",
       "    .dataframe tbody tr th {\n",
       "        vertical-align: top;\n",
       "    }\n",
       "\n",
       "    .dataframe thead th {\n",
       "        text-align: right;\n",
       "    }\n",
       "</style>\n",
       "<table border=\"1\" class=\"dataframe\">\n",
       "  <thead>\n",
       "    <tr style=\"text-align: right;\">\n",
       "      <th></th>\n",
       "      <th>post_title</th>\n",
       "      <th>post_view</th>\n",
       "      <th>comment_num</th>\n",
       "      <th>post_date</th>\n",
       "      <th>post_datetime</th>\n",
       "    </tr>\n",
       "  </thead>\n",
       "  <tbody>\n",
       "    <tr>\n",
       "      <th>10588</th>\n",
       "      <td>人工智能ETF159819行业紧紧把握科技创新发展趋势积极拥抱生成式人工智能相</td>\n",
       "      <td>135</td>\n",
       "      <td>0</td>\n",
       "      <td>2023-08-07</td>\n",
       "      <td>2023-08-07 12:31:00</td>\n",
       "    </tr>\n",
       "  </tbody>\n",
       "</table>\n",
       "</div>"
      ]
     },
     "execution_count": 68,
     "metadata": {},
     "output_type": "execute_result"
    }
   ],
   "execution_count": 68
  },
  {
   "metadata": {
    "ExecuteTime": {
     "end_time": "2025-05-07T20:05:14.080669Z",
     "start_time": "2025-05-07T20:05:14.066889Z"
    }
   },
   "cell_type": "code",
   "source": "df['post_date'] = pd.to_datetime(df['post_date'])",
   "id": "ca2544a8ed5cfa0",
   "outputs": [],
   "execution_count": 69
  },
  {
   "metadata": {
    "ExecuteTime": {
     "end_time": "2025-05-07T20:05:35.746722Z",
     "start_time": "2025-05-07T20:05:15.293938Z"
    }
   },
   "cell_type": "code",
   "source": [
    "df['pos_num'] = df['post_title'].apply(sentiment_analysis, args=(positive_words,))\n",
    "df['neg_num'] = df['post_title'].apply(sentiment_analysis, args=(negative_words,))\n",
    "df['word_num'] = df['post_title'].apply(len)"
   ],
   "id": "b12ebbd34dc81246",
   "outputs": [],
   "execution_count": 70
  },
  {
   "metadata": {},
   "cell_type": "code",
   "outputs": [],
   "execution_count": null,
   "source": "",
   "id": "21a5968d6720b55d"
  },
  {
   "metadata": {
    "ExecuteTime": {
     "end_time": "2025-05-07T06:06:18.267786Z",
     "start_time": "2025-05-07T06:06:18.263354Z"
    }
   },
   "cell_type": "markdown",
   "source": "### 沪深300指数daily数据获取",
   "id": "7f97847732960609"
  },
  {
   "metadata": {
    "ExecuteTime": {
     "end_time": "2025-05-07T06:09:56.224930Z",
     "start_time": "2025-05-07T06:09:55.969368Z"
    }
   },
   "cell_type": "markdown",
   "source": "#### M2",
   "id": "181cd8b5c9f5103"
  },
  {
   "metadata": {
    "ExecuteTime": {
     "end_time": "2025-05-08T01:28:44.374578Z",
     "start_time": "2025-05-08T01:28:44.177354Z"
    }
   },
   "cell_type": "code",
   "source": [
    "ts.set_token('2876ea85cb005fb5fa17c809a98174f2d5aae8b1f830110a5ead6211')\n",
    "pro = ts.pro_api()\n",
    "# 拉取数据\n",
    "m2_yoy = pro.cn_m(**{\n",
    "    \"m\": \"\",\n",
    "    \"start_m\": 202301,\n",
    "    \"end_m\": 202505,\n",
    "    \"limit\": \"\",\n",
    "    \"offset\": \"\"\n",
    "}, fields=[\n",
    "    \"month\",\n",
    "    \"m2_yoy\"\n",
    "])\n",
    "print(m2_yoy)\n",
    "\n"
   ],
   "id": "f29534dc3d5ba58a",
   "outputs": [
    {
     "name": "stdout",
     "output_type": "stream",
     "text": [
      "     month  m2_yoy\n",
      "0   202503     7.0\n",
      "1   202502     7.0\n",
      "2   202501     7.0\n",
      "3   202412     7.3\n",
      "4   202411     7.1\n",
      "5   202410     7.5\n",
      "6   202409     6.8\n",
      "7   202408     6.3\n",
      "8   202407     6.3\n",
      "9   202406     6.2\n",
      "10  202405     7.0\n",
      "11  202404     7.2\n",
      "12  202403     8.3\n",
      "13  202402     8.7\n",
      "14  202401     8.7\n",
      "15  202312     9.7\n",
      "16  202311    10.0\n",
      "17  202310    10.3\n",
      "18  202309    10.3\n",
      "19  202308    10.6\n",
      "20  202307    10.7\n",
      "21  202306    11.3\n",
      "22  202305    11.6\n",
      "23  202304    12.4\n",
      "24  202303    12.7\n",
      "25  202302    12.9\n",
      "26  202301    12.6\n"
     ]
    }
   ],
   "execution_count": 134
  },
  {
   "metadata": {
    "ExecuteTime": {
     "end_time": "2025-05-08T01:28:47.565630Z",
     "start_time": "2025-05-08T01:28:47.559681Z"
    }
   },
   "cell_type": "code",
   "source": "m2_yoy = m2_yoy.sort_values(by='month', ascending=True)",
   "id": "47d994d2971d01b6",
   "outputs": [],
   "execution_count": 135
  },
  {
   "metadata": {
    "ExecuteTime": {
     "end_time": "2025-05-08T01:28:47.754830Z",
     "start_time": "2025-05-08T01:28:47.747968Z"
    }
   },
   "cell_type": "code",
   "source": "m2_yoy['m2_yoy_adjusted'] = m2_yoy['m2_yoy'].rolling(window=12, center=True).mean()",
   "id": "c0328d6ba6706e0f",
   "outputs": [],
   "execution_count": 136
  },
  {
   "metadata": {
    "ExecuteTime": {
     "end_time": "2025-05-08T01:28:48.314238Z",
     "start_time": "2025-05-08T01:28:48.309133Z"
    }
   },
   "cell_type": "code",
   "source": "m2_yoy['m2_yoy_lag_3'] = m2_yoy['m2_yoy_adjusted'].shift(3)",
   "id": "b0a31d276cdb122",
   "outputs": [],
   "execution_count": 137
  },
  {
   "metadata": {
    "ExecuteTime": {
     "end_time": "2025-05-08T01:28:49.694989Z",
     "start_time": "2025-05-08T01:28:49.688940Z"
    }
   },
   "cell_type": "code",
   "source": [
    "m2_yoy = m2_yoy.ffill()\n",
    "m2_yoy = m2_yoy.bfill()"
   ],
   "id": "8277f811167c3b72",
   "outputs": [],
   "execution_count": 138
  },
  {
   "metadata": {
    "ExecuteTime": {
     "end_time": "2025-05-08T01:28:50.012492Z",
     "start_time": "2025-05-08T01:28:50.002293Z"
    }
   },
   "cell_type": "code",
   "source": [
    "m2_yoy = m2_yoy[['month', 'm2_yoy_lag_3']].copy()\n",
    "m2_yoy = m2_yoy.rename(columns={'m2_yoy_lag_3': 'm2_yoy'})"
   ],
   "id": "9f5eb43e95e7e42",
   "outputs": [],
   "execution_count": 139
  },
  {
   "metadata": {
    "ExecuteTime": {
     "end_time": "2025-05-08T01:28:50.508108Z",
     "start_time": "2025-05-08T01:28:50.501110Z"
    }
   },
   "cell_type": "code",
   "source": "m2_yoy = m2_yoy.set_index('month')['m2_yoy'].to_dict()",
   "id": "41abcf41015540d6",
   "outputs": [],
   "execution_count": 140
  },
  {
   "metadata": {
    "ExecuteTime": {
     "end_time": "2025-05-08T01:28:50.897420Z",
     "start_time": "2025-05-08T01:28:50.893249Z"
    }
   },
   "cell_type": "code",
   "source": "m2_yoy['202504'] = m2_yoy['202503']",
   "id": "771a8357df34d5ce",
   "outputs": [],
   "execution_count": 141
  },
  {
   "metadata": {
    "ExecuteTime": {
     "end_time": "2025-05-08T01:28:52.217508Z",
     "start_time": "2025-05-08T01:28:52.209054Z"
    }
   },
   "cell_type": "code",
   "source": "m2_yoy",
   "id": "630e73457e1bcfc2",
   "outputs": [
    {
     "data": {
      "text/plain": [
       "{'202301': 11.258333333333333,\n",
       " '202302': 11.258333333333333,\n",
       " '202303': 11.258333333333333,\n",
       " '202304': 11.258333333333333,\n",
       " '202305': 11.258333333333333,\n",
       " '202306': 11.258333333333333,\n",
       " '202307': 11.258333333333333,\n",
       " '202308': 11.258333333333333,\n",
       " '202309': 11.258333333333333,\n",
       " '202310': 11.258333333333333,\n",
       " '202311': 10.933333333333335,\n",
       " '202312': 10.583333333333334,\n",
       " '202401': 10.216666666666667,\n",
       " '202402': 9.783333333333333,\n",
       " '202403': 9.4,\n",
       " '202404': 8.975,\n",
       " '202405': 8.608333333333333,\n",
       " '202406': 8.25,\n",
       " '202407': 7.958333333333333,\n",
       " '202408': 7.724999999999999,\n",
       " '202409': 7.483333333333333,\n",
       " '202410': 7.283333333333334,\n",
       " '202411': 7.141666666666667,\n",
       " '202412': 7.0,\n",
       " '202501': 6.891666666666667,\n",
       " '202502': 6.891666666666667,\n",
       " '202503': 6.891666666666667,\n",
       " '202504': 6.891666666666667}"
      ]
     },
     "execution_count": 142,
     "metadata": {},
     "output_type": "execute_result"
    }
   ],
   "execution_count": 142
  },
  {
   "metadata": {
    "ExecuteTime": {
     "end_time": "2025-05-07T06:16:55.890730Z",
     "start_time": "2025-05-07T06:16:55.884014Z"
    }
   },
   "cell_type": "markdown",
   "source": "#### 指数日线数据",
   "id": "1cbe570ea455df74"
  },
  {
   "metadata": {
    "ExecuteTime": {
     "end_time": "2025-05-08T01:28:54.799617Z",
     "start_time": "2025-05-08T01:28:54.490574Z"
    }
   },
   "cell_type": "code",
   "source": [
    "## HS300指数日线数据\n",
    "ts.set_token('2876ea85cb005fb5fa17c809a98174f2d5aae8b1f830110a5ead6211')\n",
    "pro = ts.pro_api()\n",
    "\n",
    "# 拉取数据\n",
    "HS300 = pro.index_daily(**{\n",
    "    \"ts_code\": \"000300.SH\",\n",
    "    \"trade_date\": \"\",\n",
    "    \"start_date\": 20230808,\n",
    "    \"end_date\": 20250418,\n",
    "    \"limit\": \"\",\n",
    "    \"offset\": \"\"\n",
    "}, fields=[\n",
    "    \"ts_code\",\n",
    "    \"trade_date\",\n",
    "    \"close\",\n",
    "    \"open\",\n",
    "    \"high\",\n",
    "    \"low\",\n",
    "    \"pre_close\",\n",
    "    \"change\",\n",
    "    \"pct_chg\",\n",
    "    \"vol\",\n",
    "    \"amount\"\n",
    "])\n",
    "print(HS300)\n",
    "\n"
   ],
   "id": "37ae2baa5406e8bf",
   "outputs": [
    {
     "name": "stdout",
     "output_type": "stream",
     "text": [
      "       ts_code trade_date      close       open       high        low  \\\n",
      "0    000300.SH   20250418  3772.5230  3760.0425  3782.0443  3754.4072   \n",
      "1    000300.SH   20250417  3772.2221  3755.0862  3779.1253  3749.5040   \n",
      "2    000300.SH   20250416  3772.8204  3757.8757  3775.1661  3721.6025   \n",
      "3    000300.SH   20250415  3761.2348  3756.4788  3764.4860  3737.8495   \n",
      "4    000300.SH   20250414  3759.1422  3772.0407  3776.6344  3754.0330   \n",
      "..         ...        ...        ...        ...        ...        ...   \n",
      "405  000300.SH   20230814  3855.9061  3840.8872  3859.4718  3814.0711   \n",
      "406  000300.SH   20230811  3884.2538  3977.9834  3977.9834  3884.2538   \n",
      "407  000300.SH   20230810  3975.7166  3962.8569  3976.4637  3945.3869   \n",
      "408  000300.SH   20230809  3967.5652  3967.3566  3982.1091  3961.8434   \n",
      "409  000300.SH   20230808  3979.7322  3980.0423  4002.2904  3963.4632   \n",
      "\n",
      "     pre_close   change  pct_chg          vol        amount  \n",
      "0    3772.2221   0.3009   0.0080  102948509.0  1.731094e+08  \n",
      "1    3772.8204  -0.5983  -0.0159  122371002.0  2.090123e+08  \n",
      "2    3761.2348  11.5856   0.3080  156359006.0  2.617111e+08  \n",
      "3    3759.1422   2.0926   0.0557  134006040.0  2.286046e+08  \n",
      "4    3750.5167   8.6255   0.2300  164462403.0  2.925713e+08  \n",
      "..         ...      ...      ...          ...           ...  \n",
      "405  3884.2538 -28.3477  -0.7298  115966336.0  1.976238e+08  \n",
      "406  3975.7166 -91.4628  -2.3005  126082931.0  2.035463e+08  \n",
      "407  3967.5652   8.1514   0.2055   97176849.0  1.756467e+08  \n",
      "408  3979.7322 -12.1670  -0.3057   94640269.0  1.743942e+08  \n",
      "409  3990.1531 -10.4209  -0.2612  109871699.0  2.026113e+08  \n",
      "\n",
      "[410 rows x 11 columns]\n"
     ]
    }
   ],
   "execution_count": 143
  },
  {
   "metadata": {
    "ExecuteTime": {
     "end_time": "2025-05-08T01:28:56.945310Z",
     "start_time": "2025-05-08T01:28:56.937482Z"
    }
   },
   "cell_type": "code",
   "source": "HS300 = HS300.sort_values(by=['trade_date'], ascending=True).reset_index(drop=True)",
   "id": "93bcb69dd31bc70d",
   "outputs": [],
   "execution_count": 144
  },
  {
   "metadata": {
    "ExecuteTime": {
     "end_time": "2025-05-07T06:19:12.345405Z",
     "start_time": "2025-05-07T06:19:05.939152Z"
    }
   },
   "cell_type": "markdown",
   "source": "#### 指数 basic 数据",
   "id": "3949ba1b96dc4e8d"
  },
  {
   "metadata": {
    "ExecuteTime": {
     "end_time": "2025-05-08T01:28:57.985604Z",
     "start_time": "2025-05-08T01:28:57.824968Z"
    }
   },
   "cell_type": "code",
   "source": [
    "ts.set_token('2876ea85cb005fb5fa17c809a98174f2d5aae8b1f830110a5ead6211')\n",
    "pro = ts.pro_api()\n",
    "\n",
    "# 拉取数据\n",
    "HS300_basic = pro.index_dailybasic(**{\n",
    "    \"trade_date\": \"\",\n",
    "    \"ts_code\": \"000300.SH\",\n",
    "    \"start_date\": 20230808,\n",
    "    \"end_date\": 20250418,\n",
    "    \"limit\": \"\",\n",
    "    \"offset\": \"\"\n",
    "}, fields=[\n",
    "    \"ts_code\",\n",
    "    \"trade_date\",\n",
    "    \"total_mv\",\n",
    "    \"float_mv\",\n",
    "    \"turnover_rate\",\n",
    "    \"pe\",\n",
    "    \"pb\",\n",
    "    \"total_share\"\n",
    "])\n",
    "print(HS300_basic)\n",
    "\n"
   ],
   "id": "56f77b93069c499c",
   "outputs": [
    {
     "name": "stdout",
     "output_type": "stream",
     "text": [
      "       ts_code trade_date      total_mv      float_mv  turnover_rate     pe  \\\n",
      "0    000300.SH   20250418  5.593480e+13  4.198855e+13           0.32  12.10   \n",
      "1    000300.SH   20250417  5.586207e+13  4.197099e+13           0.38  12.09   \n",
      "2    000300.SH   20250416  5.586239e+13  4.197110e+13           0.48  12.09   \n",
      "3    000300.SH   20250415  5.550268e+13  4.172010e+13           0.41  12.01   \n",
      "4    000300.SH   20250414  5.531078e+13  4.160352e+13           0.50  11.96   \n",
      "..         ...        ...           ...           ...            ...    ...   \n",
      "405  000300.SH   20230814  4.973195e+13  3.821329e+13           0.38  11.89   \n",
      "406  000300.SH   20230811  5.007981e+13  3.848109e+13           0.41  11.97   \n",
      "407  000300.SH   20230810  5.113598e+13  3.934532e+13           0.32  12.23   \n",
      "408  000300.SH   20230809  5.099382e+13  3.926694e+13           0.31  12.19   \n",
      "409  000300.SH   20230808  5.114554e+13  3.938285e+13           0.36  12.23   \n",
      "\n",
      "       pb   total_share  \n",
      "0    1.31  4.210865e+12  \n",
      "1    1.31  4.210550e+12  \n",
      "2    1.32  4.210550e+12  \n",
      "3    1.31  4.210561e+12  \n",
      "4    1.30  4.210561e+12  \n",
      "..    ...           ...  \n",
      "405  1.36  4.065991e+12  \n",
      "406  1.37  4.065991e+12  \n",
      "407  1.40  4.065827e+12  \n",
      "408  1.40  4.065827e+12  \n",
      "409  1.40  4.065758e+12  \n",
      "\n",
      "[410 rows x 8 columns]\n"
     ]
    }
   ],
   "execution_count": 145
  },
  {
   "metadata": {
    "ExecuteTime": {
     "end_time": "2025-05-07T06:20:46.262635Z",
     "start_time": "2025-05-07T06:20:46.155489Z"
    }
   },
   "cell_type": "markdown",
   "source": "#### 指数数据结合",
   "id": "6984a252263cfeb5"
  },
  {
   "metadata": {
    "ExecuteTime": {
     "end_time": "2025-05-08T01:29:01.153062Z",
     "start_time": "2025-05-08T01:29:01.142432Z"
    }
   },
   "cell_type": "code",
   "source": "HS300 = HS300.merge(HS300_basic, how='left', on=['ts_code', 'trade_date'])",
   "id": "c756fc57dfc443dc",
   "outputs": [],
   "execution_count": 146
  },
  {
   "metadata": {
    "ExecuteTime": {
     "end_time": "2025-05-08T01:29:01.599991Z",
     "start_time": "2025-05-08T01:29:01.593206Z"
    }
   },
   "cell_type": "code",
   "source": "HS300['trade_date'] = pd.to_datetime(HS300['trade_date'])",
   "id": "d67aa060460ae1a3",
   "outputs": [],
   "execution_count": 147
  },
  {
   "metadata": {
    "ExecuteTime": {
     "end_time": "2025-05-08T01:29:02.060876Z",
     "start_time": "2025-05-08T01:29:02.048102Z"
    }
   },
   "cell_type": "code",
   "source": "HS300['m2_yoy'] = HS300['trade_date'].apply(lambda x: m2_yoy[x.strftime('%Y%m')])",
   "id": "bb43b88a0a677e5a",
   "outputs": [],
   "execution_count": 148
  },
  {
   "metadata": {
    "ExecuteTime": {
     "end_time": "2025-05-07T06:24:30.287575Z",
     "start_time": "2025-05-07T06:24:30.282902Z"
    }
   },
   "cell_type": "markdown",
   "source": "#### 数据检查",
   "id": "758128d42d206678"
  },
  {
   "metadata": {
    "ExecuteTime": {
     "end_time": "2025-05-08T01:29:02.909613Z",
     "start_time": "2025-05-08T01:29:02.900331Z"
    }
   },
   "cell_type": "code",
   "source": [
    "missing_values = HS300.isnull().sum()\n",
    "missing_values"
   ],
   "id": "35ea3ee9acf6840d",
   "outputs": [
    {
     "data": {
      "text/plain": [
       "ts_code          0\n",
       "trade_date       0\n",
       "close            0\n",
       "open             0\n",
       "high             0\n",
       "low              0\n",
       "pre_close        0\n",
       "change           0\n",
       "pct_chg          0\n",
       "vol              0\n",
       "amount           0\n",
       "total_mv         0\n",
       "float_mv         0\n",
       "turnover_rate    0\n",
       "pe               0\n",
       "pb               0\n",
       "total_share      0\n",
       "m2_yoy           0\n",
       "dtype: int64"
      ]
     },
     "execution_count": 149,
     "metadata": {},
     "output_type": "execute_result"
    }
   ],
   "execution_count": 149
  },
  {
   "metadata": {
    "ExecuteTime": {
     "end_time": "2025-05-07T06:24:54.386810Z",
     "start_time": "2025-05-07T06:24:54.384002Z"
    }
   },
   "cell_type": "markdown",
   "source": "### 沪深300指数本数据和股票数据结合",
   "id": "93252d942508d905"
  },
  {
   "metadata": {
    "ExecuteTime": {
     "end_time": "2025-05-08T01:29:06.301334Z",
     "start_time": "2025-05-08T01:29:05.073088Z"
    }
   },
   "cell_type": "code",
   "source": "result = SentimentIndex(df, HS300)",
   "id": "9b27db908e3a2979",
   "outputs": [],
   "execution_count": 150
  },
  {
   "metadata": {
    "ExecuteTime": {
     "end_time": "2025-05-08T01:29:06.327408Z",
     "start_time": "2025-05-08T01:29:06.320355Z"
    }
   },
   "cell_type": "code",
   "source": "result['agreement_index'] = result['sentiment_index'].apply(lambda x : 1-np.sqrt(1-x**2))",
   "id": "3688dda0ca88b802",
   "outputs": [],
   "execution_count": 151
  },
  {
   "metadata": {
    "ExecuteTime": {
     "end_time": "2025-05-08T01:29:07.841534Z",
     "start_time": "2025-05-08T01:29:07.833982Z"
    }
   },
   "cell_type": "code",
   "source": "result = result[~result['sentiment_index'].isna()].reset_index(drop=True)",
   "id": "f8385576bc14aadc",
   "outputs": [],
   "execution_count": 152
  },
  {
   "metadata": {
    "ExecuteTime": {
     "end_time": "2025-05-08T01:29:08.080441Z",
     "start_time": "2025-05-08T01:29:08.072897Z"
    }
   },
   "cell_type": "code",
   "source": "result['sentiment_index_lag_1'] = result['sentiment_index'].shift(1).fillna(0)",
   "id": "216d04345e82821",
   "outputs": [],
   "execution_count": 153
  },
  {
   "metadata": {
    "ExecuteTime": {
     "end_time": "2025-05-08T01:29:09.300573Z",
     "start_time": "2025-05-08T01:29:09.288832Z"
    }
   },
   "cell_type": "code",
   "source": [
    "result['return'] = np.log(result['close']/result['close'].shift(1))*100\n",
    "result['return'] = result['return'].fillna(0)\n",
    "result['volatility'] = (result['high'] - result['low'])/((result['high']+result['low'])/2)*100"
   ],
   "id": "922b60612b8a0bb2",
   "outputs": [],
   "execution_count": 154
  },
  {
   "metadata": {
    "ExecuteTime": {
     "end_time": "2025-05-08T01:29:09.504709Z",
     "start_time": "2025-05-08T01:29:09.498476Z"
    }
   },
   "cell_type": "code",
   "source": "result = result.rename(columns={'return': 'returns'}).copy()",
   "id": "825c6fadbaa3ed56",
   "outputs": [],
   "execution_count": 155
  },
  {
   "metadata": {
    "ExecuteTime": {
     "end_time": "2025-05-08T01:29:10.623922Z",
     "start_time": "2025-05-08T01:29:10.601793Z"
    }
   },
   "cell_type": "code",
   "source": [
    "result['returns_new'] = winsorize_series(result['returns'])\n",
    "result['log_volatility'] = np.log(result['volatility']  + 1e-5).pipe(lambda x: (x - x.mean()) / x.std())\n",
    "result['turnover_rate_new'] = result['turnover_rate'].apply(lambda x: np.log(1 + x))\n",
    "result['pe_new'] = winsorize_series(result['pe'], lower=0.01, upper=0.99)\n",
    "result['pb_new'] = winsorize_series(result['pb'], lower=0.01, upper=0.99)"
   ],
   "id": "91bc61d3c1888bf6",
   "outputs": [],
   "execution_count": 156
  },
  {
   "metadata": {
    "ExecuteTime": {
     "end_time": "2025-05-08T01:29:10.857058Z",
     "start_time": "2025-05-08T01:29:10.850601Z"
    }
   },
   "cell_type": "code",
   "source": "result['vol'] = result['vol'] / 1e6  # (百万)",
   "id": "1f560678117a0c41",
   "outputs": [],
   "execution_count": 157
  },
  {
   "metadata": {
    "ExecuteTime": {
     "end_time": "2025-05-08T01:29:11.161785Z",
     "start_time": "2025-05-08T01:29:11.155415Z"
    }
   },
   "cell_type": "code",
   "source": "len(result)",
   "id": "731eb595675bc8ca",
   "outputs": [
    {
     "data": {
      "text/plain": [
       "409"
      ]
     },
     "execution_count": 158,
     "metadata": {},
     "output_type": "execute_result"
    }
   ],
   "execution_count": 158
  },
  {
   "metadata": {
    "ExecuteTime": {
     "end_time": "2025-05-08T01:29:12.283846Z",
     "start_time": "2025-05-08T01:29:12.272512Z"
    }
   },
   "cell_type": "code",
   "source": "result['volatility'].describe()",
   "id": "b8aa14370ae8625c",
   "outputs": [
    {
     "data": {
      "text/plain": [
       "count    409.000000\n",
       "mean       1.355402\n",
       "std        0.908618\n",
       "min        0.360828\n",
       "25%        0.846813\n",
       "50%        1.097468\n",
       "75%        1.499679\n",
       "max        8.332997\n",
       "Name: volatility, dtype: float64"
      ]
     },
     "execution_count": 159,
     "metadata": {},
     "output_type": "execute_result"
    }
   ],
   "execution_count": 159
  },
  {
   "metadata": {
    "ExecuteTime": {
     "end_time": "2025-05-08T01:29:13.088870Z",
     "start_time": "2025-05-08T01:29:13.079052Z"
    }
   },
   "cell_type": "code",
   "source": "result['m2_yoy'].describe()",
   "id": "887f6d293ff8bfc9",
   "outputs": [
    {
     "data": {
      "text/plain": [
       "count    409.000000\n",
       "mean       8.705949\n",
       "std        1.614093\n",
       "min        6.891667\n",
       "25%        7.141667\n",
       "50%        8.250000\n",
       "75%       10.216667\n",
       "max       11.258333\n",
       "Name: m2_yoy, dtype: float64"
      ]
     },
     "execution_count": 160,
     "metadata": {},
     "output_type": "execute_result"
    }
   ],
   "execution_count": 160
  },
  {
   "metadata": {
    "ExecuteTime": {
     "end_time": "2025-05-08T01:29:14.667033Z",
     "start_time": "2025-05-08T01:29:14.659461Z"
    }
   },
   "cell_type": "code",
   "source": "data_processed = result[['trade_date', 'sentiment_index', 'agreement_index', 'vol', 'returns_new', 'volatility','log_volatility', 'pe_new', 'pb_new', 'turnover_rate_new', 'sentiment_index_lag_1', 'm2_yoy']].copy()",
   "id": "b0d5755f7b9bb507",
   "outputs": [],
   "execution_count": 161
  },
  {
   "metadata": {
    "ExecuteTime": {
     "end_time": "2025-05-08T01:29:16.201051Z",
     "start_time": "2025-05-08T01:29:16.030368Z"
    }
   },
   "cell_type": "code",
   "source": [
    "for column in data_processed.columns:\n",
    "    print(f\"\\n=== {column} 平稳性检验 ===\")\n",
    "    test_stationarity(data_processed[column])"
   ],
   "id": "f940635ba88c3fb0",
   "outputs": [
    {
     "name": "stdout",
     "output_type": "stream",
     "text": [
      "\n",
      "=== trade_date 平稳性检验 ===\n",
      "ADF Statistic: 5.9313\n",
      "ADF p-value: 1.0000\n",
      "ADF结论: 序列非平稳\n",
      "\n",
      "KPSS Statistic: 3.2465\n",
      "KPSS p-value: 0.0100\n",
      "KPSS结论: 序列存在单位根\n",
      "\n",
      "=== sentiment_index 平稳性检验 ===\n",
      "ADF Statistic: -4.5751\n",
      "ADF p-value: 0.0001\n",
      "ADF结论: 序列平稳\n",
      "\n",
      "KPSS Statistic: 0.2273\n",
      "KPSS p-value: 0.1000\n",
      "KPSS结论: 序列趋势平稳\n",
      "\n",
      "=== agreement_index 平稳性检验 ===\n",
      "ADF Statistic: -12.2284\n",
      "ADF p-value: 0.0000\n",
      "ADF结论: 序列平稳\n",
      "\n",
      "KPSS Statistic: 0.1822\n",
      "KPSS p-value: 0.1000\n",
      "KPSS结论: 序列趋势平稳\n",
      "\n",
      "=== vol 平稳性检验 ===\n",
      "ADF Statistic: -2.0924\n",
      "ADF p-value: 0.2476\n",
      "ADF结论: 序列非平稳\n",
      "\n",
      "KPSS Statistic: 1.2049\n",
      "KPSS p-value: 0.0100\n",
      "KPSS结论: 序列存在单位根\n",
      "\n",
      "=== returns_new 平稳性检验 ===\n",
      "ADF Statistic: -11.5261\n",
      "ADF p-value: 0.0000\n",
      "ADF结论: 序列平稳\n",
      "\n",
      "KPSS Statistic: 0.1837\n",
      "KPSS p-value: 0.1000\n",
      "KPSS结论: 序列趋势平稳\n",
      "\n",
      "=== volatility 平稳性检验 ===\n",
      "ADF Statistic: -4.9723\n",
      "ADF p-value: 0.0000\n",
      "ADF结论: 序列平稳\n",
      "\n",
      "KPSS Statistic: 0.2579\n",
      "KPSS p-value: 0.1000\n",
      "KPSS结论: 序列趋势平稳\n",
      "\n",
      "=== log_volatility 平稳性检验 ===\n",
      "ADF Statistic: -4.7732\n",
      "ADF p-value: 0.0001\n",
      "ADF结论: 序列平稳\n",
      "\n",
      "KPSS Statistic: 0.2820\n",
      "KPSS p-value: 0.1000\n",
      "KPSS结论: 序列趋势平稳\n",
      "\n",
      "=== pe_new 平稳性检验 ===\n",
      "ADF Statistic: -1.9173\n",
      "ADF p-value: 0.3240\n",
      "ADF结论: 序列非平稳\n",
      "\n",
      "KPSS Statistic: 1.9541\n",
      "KPSS p-value: 0.0100\n",
      "KPSS结论: 序列存在单位根\n",
      "\n",
      "=== pb_new 平稳性检验 ===\n",
      "ADF Statistic: -2.4888\n",
      "ADF p-value: 0.1182\n",
      "ADF结论: 序列非平稳\n",
      "\n",
      "KPSS Statistic: 1.2572\n",
      "KPSS p-value: 0.0100\n",
      "KPSS结论: 序列存在单位根\n",
      "\n",
      "=== turnover_rate_new 平稳性检验 ===\n",
      "ADF Statistic: -2.0460\n",
      "ADF p-value: 0.2668\n",
      "ADF结论: 序列非平稳\n",
      "\n",
      "KPSS Statistic: 1.1723\n",
      "KPSS p-value: 0.0100\n",
      "KPSS结论: 序列存在单位根\n",
      "\n",
      "=== sentiment_index_lag_1 平稳性检验 ===\n",
      "ADF Statistic: -4.5392\n",
      "ADF p-value: 0.0002\n",
      "ADF结论: 序列平稳\n",
      "\n",
      "KPSS Statistic: 0.2274\n",
      "KPSS p-value: 0.1000\n",
      "KPSS结论: 序列趋势平稳\n",
      "\n",
      "=== m2_yoy 平稳性检验 ===\n",
      "ADF Statistic: -1.2163\n",
      "ADF p-value: 0.6665\n",
      "ADF结论: 序列非平稳\n",
      "\n",
      "KPSS Statistic: 3.1710\n",
      "KPSS p-value: 0.0100\n",
      "KPSS结论: 序列存在单位根\n"
     ]
    },
    {
     "name": "stderr",
     "output_type": "stream",
     "text": [
      "C:\\Users\\Administrator\\AppData\\Local\\Temp\\ipykernel_28948\\2839035517.py:9: InterpolationWarning: The test statistic is outside of the range of p-values available in the\n",
      "look-up table. The actual p-value is smaller than the p-value returned.\n",
      "\n",
      "  kpss_result = kpss(series.dropna())\n",
      "C:\\Users\\Administrator\\AppData\\Local\\Temp\\ipykernel_28948\\2839035517.py:9: InterpolationWarning: The test statistic is outside of the range of p-values available in the\n",
      "look-up table. The actual p-value is greater than the p-value returned.\n",
      "\n",
      "  kpss_result = kpss(series.dropna())\n",
      "C:\\Users\\Administrator\\AppData\\Local\\Temp\\ipykernel_28948\\2839035517.py:9: InterpolationWarning: The test statistic is outside of the range of p-values available in the\n",
      "look-up table. The actual p-value is greater than the p-value returned.\n",
      "\n",
      "  kpss_result = kpss(series.dropna())\n",
      "C:\\Users\\Administrator\\AppData\\Local\\Temp\\ipykernel_28948\\2839035517.py:9: InterpolationWarning: The test statistic is outside of the range of p-values available in the\n",
      "look-up table. The actual p-value is smaller than the p-value returned.\n",
      "\n",
      "  kpss_result = kpss(series.dropna())\n",
      "C:\\Users\\Administrator\\AppData\\Local\\Temp\\ipykernel_28948\\2839035517.py:9: InterpolationWarning: The test statistic is outside of the range of p-values available in the\n",
      "look-up table. The actual p-value is greater than the p-value returned.\n",
      "\n",
      "  kpss_result = kpss(series.dropna())\n",
      "C:\\Users\\Administrator\\AppData\\Local\\Temp\\ipykernel_28948\\2839035517.py:9: InterpolationWarning: The test statistic is outside of the range of p-values available in the\n",
      "look-up table. The actual p-value is greater than the p-value returned.\n",
      "\n",
      "  kpss_result = kpss(series.dropna())\n",
      "C:\\Users\\Administrator\\AppData\\Local\\Temp\\ipykernel_28948\\2839035517.py:9: InterpolationWarning: The test statistic is outside of the range of p-values available in the\n",
      "look-up table. The actual p-value is greater than the p-value returned.\n",
      "\n",
      "  kpss_result = kpss(series.dropna())\n",
      "C:\\Users\\Administrator\\AppData\\Local\\Temp\\ipykernel_28948\\2839035517.py:9: InterpolationWarning: The test statistic is outside of the range of p-values available in the\n",
      "look-up table. The actual p-value is smaller than the p-value returned.\n",
      "\n",
      "  kpss_result = kpss(series.dropna())\n",
      "C:\\Users\\Administrator\\AppData\\Local\\Temp\\ipykernel_28948\\2839035517.py:9: InterpolationWarning: The test statistic is outside of the range of p-values available in the\n",
      "look-up table. The actual p-value is smaller than the p-value returned.\n",
      "\n",
      "  kpss_result = kpss(series.dropna())\n",
      "C:\\Users\\Administrator\\AppData\\Local\\Temp\\ipykernel_28948\\2839035517.py:9: InterpolationWarning: The test statistic is outside of the range of p-values available in the\n",
      "look-up table. The actual p-value is smaller than the p-value returned.\n",
      "\n",
      "  kpss_result = kpss(series.dropna())\n",
      "C:\\Users\\Administrator\\AppData\\Local\\Temp\\ipykernel_28948\\2839035517.py:9: InterpolationWarning: The test statistic is outside of the range of p-values available in the\n",
      "look-up table. The actual p-value is greater than the p-value returned.\n",
      "\n",
      "  kpss_result = kpss(series.dropna())\n",
      "C:\\Users\\Administrator\\AppData\\Local\\Temp\\ipykernel_28948\\2839035517.py:9: InterpolationWarning: The test statistic is outside of the range of p-values available in the\n",
      "look-up table. The actual p-value is smaller than the p-value returned.\n",
      "\n",
      "  kpss_result = kpss(series.dropna())\n"
     ]
    }
   ],
   "execution_count": 162
  },
  {
   "metadata": {
    "ExecuteTime": {
     "end_time": "2025-05-08T01:29:18.018903Z",
     "start_time": "2025-05-08T01:29:18.010762Z"
    }
   },
   "cell_type": "code",
   "source": [
    "for column in ['pe_new', 'pb_new', 'turnover_rate_new', 'vol', 'm2_yoy']:\n",
    "    data_processed[column] = data_processed[column].diff()"
   ],
   "id": "443f4d11006b10fe",
   "outputs": [],
   "execution_count": 163
  },
  {
   "metadata": {
    "ExecuteTime": {
     "end_time": "2025-05-08T01:29:18.464885Z",
     "start_time": "2025-05-08T01:29:18.303469Z"
    }
   },
   "cell_type": "code",
   "source": [
    "for column in ['pe_new', 'pb_new', 'turnover_rate_new', 'vol', 'm2_yoy']:\n",
    "    print(f\"\\n=== {column} 平稳性检验 ===\")\n",
    "    test_stationarity(data_processed[column])"
   ],
   "id": "ee71f18cf6311fed",
   "outputs": [
    {
     "name": "stdout",
     "output_type": "stream",
     "text": [
      "\n",
      "=== pe_new 平稳性检验 ===\n",
      "ADF Statistic: -8.8101\n",
      "ADF p-value: 0.0000\n",
      "ADF结论: 序列平稳\n",
      "\n",
      "KPSS Statistic: 0.0991\n",
      "KPSS p-value: 0.1000\n",
      "KPSS结论: 序列趋势平稳\n",
      "\n",
      "=== pb_new 平稳性检验 ===\n",
      "ADF Statistic: -12.8356\n",
      "ADF p-value: 0.0000\n",
      "ADF结论: 序列平稳\n",
      "\n",
      "KPSS Statistic: 0.1476\n",
      "KPSS p-value: 0.1000\n",
      "KPSS结论: 序列趋势平稳\n",
      "\n",
      "=== turnover_rate_new 平稳性检验 ===\n",
      "ADF Statistic: -7.6441\n",
      "ADF p-value: 0.0000\n",
      "ADF结论: 序列平稳\n",
      "\n",
      "KPSS Statistic: 0.0761\n",
      "KPSS p-value: 0.1000\n",
      "KPSS结论: 序列趋势平稳\n",
      "\n",
      "=== vol 平稳性检验 ===\n",
      "ADF Statistic: -7.8461\n",
      "ADF p-value: 0.0000\n",
      "ADF结论: 序列平稳\n",
      "\n",
      "KPSS Statistic: 0.0608\n",
      "KPSS p-value: 0.1000\n",
      "KPSS结论: 序列趋势平稳\n",
      "\n",
      "=== m2_yoy 平稳性检验 ===\n",
      "ADF Statistic: -20.8179\n",
      "ADF p-value: 0.0000\n",
      "ADF结论: 序列平稳\n",
      "\n",
      "KPSS Statistic: 0.3147\n",
      "KPSS p-value: 0.1000\n",
      "KPSS结论: 序列趋势平稳\n"
     ]
    },
    {
     "name": "stderr",
     "output_type": "stream",
     "text": [
      "C:\\Users\\Administrator\\AppData\\Local\\Temp\\ipykernel_28948\\2839035517.py:9: InterpolationWarning: The test statistic is outside of the range of p-values available in the\n",
      "look-up table. The actual p-value is greater than the p-value returned.\n",
      "\n",
      "  kpss_result = kpss(series.dropna())\n",
      "C:\\Users\\Administrator\\AppData\\Local\\Temp\\ipykernel_28948\\2839035517.py:9: InterpolationWarning: The test statistic is outside of the range of p-values available in the\n",
      "look-up table. The actual p-value is greater than the p-value returned.\n",
      "\n",
      "  kpss_result = kpss(series.dropna())\n",
      "C:\\Users\\Administrator\\AppData\\Local\\Temp\\ipykernel_28948\\2839035517.py:9: InterpolationWarning: The test statistic is outside of the range of p-values available in the\n",
      "look-up table. The actual p-value is greater than the p-value returned.\n",
      "\n",
      "  kpss_result = kpss(series.dropna())\n",
      "C:\\Users\\Administrator\\AppData\\Local\\Temp\\ipykernel_28948\\2839035517.py:9: InterpolationWarning: The test statistic is outside of the range of p-values available in the\n",
      "look-up table. The actual p-value is greater than the p-value returned.\n",
      "\n",
      "  kpss_result = kpss(series.dropna())\n",
      "C:\\Users\\Administrator\\AppData\\Local\\Temp\\ipykernel_28948\\2839035517.py:9: InterpolationWarning: The test statistic is outside of the range of p-values available in the\n",
      "look-up table. The actual p-value is greater than the p-value returned.\n",
      "\n",
      "  kpss_result = kpss(series.dropna())\n"
     ]
    }
   ],
   "execution_count": 164
  },
  {
   "metadata": {
    "ExecuteTime": {
     "end_time": "2025-05-08T01:29:20.503738Z",
     "start_time": "2025-05-08T01:29:20.497637Z"
    }
   },
   "cell_type": "code",
   "source": "data_processed = data_processed.fillna(0)",
   "id": "533af9662bed2b8c",
   "outputs": [],
   "execution_count": 165
  },
  {
   "metadata": {
    "ExecuteTime": {
     "end_time": "2025-05-08T01:29:20.786378Z",
     "start_time": "2025-05-08T01:29:20.776484Z"
    }
   },
   "cell_type": "code",
   "source": [
    "# 初步数据处理，标注化\n",
    "# 1.1 Z-Score标准化（适用于收益率、波动率）\n",
    "cols_to_standardize = ['returns_new', 'log_volatility','sentiment_index', 'sentiment_index_lag_1', 'volatility']\n",
    "data_std = data_processed[cols_to_standardize].apply(lambda x: (x - x.mean())/x.std())"
   ],
   "id": "6cdf59ed13214168",
   "outputs": [],
   "execution_count": 166
  },
  {
   "metadata": {
    "ExecuteTime": {
     "end_time": "2025-05-08T01:29:21.628485Z",
     "start_time": "2025-05-08T01:29:21.623684Z"
    }
   },
   "cell_type": "code",
   "source": [
    "cols_to_minmax = []\n",
    "# data_minmax = data[cols_to_minmax].apply(lambda x: (x - x.min())/(x.max() - x.min()))"
   ],
   "id": "1d536557e596e44",
   "outputs": [],
   "execution_count": 167
  },
  {
   "metadata": {
    "ExecuteTime": {
     "end_time": "2025-05-08T01:29:21.911260Z",
     "start_time": "2025-05-08T01:29:21.902369Z"
    }
   },
   "cell_type": "code",
   "source": [
    "data_processed = pd.concat([data_processed.drop(columns=cols_to_standardize+cols_to_minmax),\n",
    "                           data_std], axis=1)"
   ],
   "id": "98f3abd87e88aaab",
   "outputs": [],
   "execution_count": 168
  },
  {
   "metadata": {
    "ExecuteTime": {
     "end_time": "2025-05-08T01:29:22.338685Z",
     "start_time": "2025-05-08T01:29:22.324615Z"
    }
   },
   "cell_type": "code",
   "source": "data_processed['log_volatility'].describe()",
   "id": "9ac0d6289ac4016f",
   "outputs": [
    {
     "data": {
      "text/plain": [
       "count    4.090000e+02\n",
       "mean    -2.605902e-17\n",
       "std      1.000000e+00\n",
       "min     -2.393232e+00\n",
       "25%     -6.663260e-01\n",
       "50%     -1.414527e-01\n",
       "75%      4.906389e-01\n",
       "max      3.962350e+00\n",
       "Name: log_volatility, dtype: float64"
      ]
     },
     "execution_count": 169,
     "metadata": {},
     "output_type": "execute_result"
    }
   ],
   "execution_count": 169
  },
  {
   "metadata": {},
   "cell_type": "markdown",
   "source": "### 相关性检验",
   "id": "21aa23678594adc3"
  },
  {
   "metadata": {
    "ExecuteTime": {
     "end_time": "2025-05-08T01:29:25.096413Z",
     "start_time": "2025-05-08T01:29:25.076390Z"
    }
   },
   "cell_type": "code",
   "source": "data_processed[['returns_new', 'log_volatility', 'sentiment_index', 'pb_new', 'pe_new', 'turnover_rate_new', 'm2_yoy', 'sentiment_index_lag_1']].corr()",
   "id": "5f856456fde3838a",
   "outputs": [
    {
     "data": {
      "text/plain": [
       "                       returns_new  log_volatility  sentiment_index    pb_new  \\\n",
       "returns_new               1.000000        0.223819         0.165013  0.838278   \n",
       "log_volatility            0.223819        1.000000         0.076819  0.115505   \n",
       "sentiment_index           0.165013        0.076819         1.000000  0.089726   \n",
       "pb_new                    0.838278        0.115505         0.089726  1.000000   \n",
       "pe_new                    0.880583        0.141544         0.122560  0.906296   \n",
       "turnover_rate_new         0.323064        0.435001         0.030306  0.202773   \n",
       "m2_yoy                   -0.047296       -0.034320        -0.055663 -0.010927   \n",
       "sentiment_index_lag_1     0.012967       -0.044703         0.167548 -0.017291   \n",
       "\n",
       "                         pe_new  turnover_rate_new    m2_yoy  \\\n",
       "returns_new            0.880583           0.323064 -0.047296   \n",
       "log_volatility         0.141544           0.435001 -0.034320   \n",
       "sentiment_index        0.122560           0.030306 -0.055663   \n",
       "pb_new                 0.906296           0.202773 -0.010927   \n",
       "pe_new                 1.000000           0.257529 -0.036617   \n",
       "turnover_rate_new      0.257529           1.000000 -0.031053   \n",
       "m2_yoy                -0.036617          -0.031053  1.000000   \n",
       "sentiment_index_lag_1 -0.009070          -0.053413  0.087494   \n",
       "\n",
       "                       sentiment_index_lag_1  \n",
       "returns_new                         0.012967  \n",
       "log_volatility                     -0.044703  \n",
       "sentiment_index                     0.167548  \n",
       "pb_new                             -0.017291  \n",
       "pe_new                             -0.009070  \n",
       "turnover_rate_new                  -0.053413  \n",
       "m2_yoy                              0.087494  \n",
       "sentiment_index_lag_1               1.000000  "
      ],
      "text/html": [
       "<div>\n",
       "<style scoped>\n",
       "    .dataframe tbody tr th:only-of-type {\n",
       "        vertical-align: middle;\n",
       "    }\n",
       "\n",
       "    .dataframe tbody tr th {\n",
       "        vertical-align: top;\n",
       "    }\n",
       "\n",
       "    .dataframe thead th {\n",
       "        text-align: right;\n",
       "    }\n",
       "</style>\n",
       "<table border=\"1\" class=\"dataframe\">\n",
       "  <thead>\n",
       "    <tr style=\"text-align: right;\">\n",
       "      <th></th>\n",
       "      <th>returns_new</th>\n",
       "      <th>log_volatility</th>\n",
       "      <th>sentiment_index</th>\n",
       "      <th>pb_new</th>\n",
       "      <th>pe_new</th>\n",
       "      <th>turnover_rate_new</th>\n",
       "      <th>m2_yoy</th>\n",
       "      <th>sentiment_index_lag_1</th>\n",
       "    </tr>\n",
       "  </thead>\n",
       "  <tbody>\n",
       "    <tr>\n",
       "      <th>returns_new</th>\n",
       "      <td>1.000000</td>\n",
       "      <td>0.223819</td>\n",
       "      <td>0.165013</td>\n",
       "      <td>0.838278</td>\n",
       "      <td>0.880583</td>\n",
       "      <td>0.323064</td>\n",
       "      <td>-0.047296</td>\n",
       "      <td>0.012967</td>\n",
       "    </tr>\n",
       "    <tr>\n",
       "      <th>log_volatility</th>\n",
       "      <td>0.223819</td>\n",
       "      <td>1.000000</td>\n",
       "      <td>0.076819</td>\n",
       "      <td>0.115505</td>\n",
       "      <td>0.141544</td>\n",
       "      <td>0.435001</td>\n",
       "      <td>-0.034320</td>\n",
       "      <td>-0.044703</td>\n",
       "    </tr>\n",
       "    <tr>\n",
       "      <th>sentiment_index</th>\n",
       "      <td>0.165013</td>\n",
       "      <td>0.076819</td>\n",
       "      <td>1.000000</td>\n",
       "      <td>0.089726</td>\n",
       "      <td>0.122560</td>\n",
       "      <td>0.030306</td>\n",
       "      <td>-0.055663</td>\n",
       "      <td>0.167548</td>\n",
       "    </tr>\n",
       "    <tr>\n",
       "      <th>pb_new</th>\n",
       "      <td>0.838278</td>\n",
       "      <td>0.115505</td>\n",
       "      <td>0.089726</td>\n",
       "      <td>1.000000</td>\n",
       "      <td>0.906296</td>\n",
       "      <td>0.202773</td>\n",
       "      <td>-0.010927</td>\n",
       "      <td>-0.017291</td>\n",
       "    </tr>\n",
       "    <tr>\n",
       "      <th>pe_new</th>\n",
       "      <td>0.880583</td>\n",
       "      <td>0.141544</td>\n",
       "      <td>0.122560</td>\n",
       "      <td>0.906296</td>\n",
       "      <td>1.000000</td>\n",
       "      <td>0.257529</td>\n",
       "      <td>-0.036617</td>\n",
       "      <td>-0.009070</td>\n",
       "    </tr>\n",
       "    <tr>\n",
       "      <th>turnover_rate_new</th>\n",
       "      <td>0.323064</td>\n",
       "      <td>0.435001</td>\n",
       "      <td>0.030306</td>\n",
       "      <td>0.202773</td>\n",
       "      <td>0.257529</td>\n",
       "      <td>1.000000</td>\n",
       "      <td>-0.031053</td>\n",
       "      <td>-0.053413</td>\n",
       "    </tr>\n",
       "    <tr>\n",
       "      <th>m2_yoy</th>\n",
       "      <td>-0.047296</td>\n",
       "      <td>-0.034320</td>\n",
       "      <td>-0.055663</td>\n",
       "      <td>-0.010927</td>\n",
       "      <td>-0.036617</td>\n",
       "      <td>-0.031053</td>\n",
       "      <td>1.000000</td>\n",
       "      <td>0.087494</td>\n",
       "    </tr>\n",
       "    <tr>\n",
       "      <th>sentiment_index_lag_1</th>\n",
       "      <td>0.012967</td>\n",
       "      <td>-0.044703</td>\n",
       "      <td>0.167548</td>\n",
       "      <td>-0.017291</td>\n",
       "      <td>-0.009070</td>\n",
       "      <td>-0.053413</td>\n",
       "      <td>0.087494</td>\n",
       "      <td>1.000000</td>\n",
       "    </tr>\n",
       "  </tbody>\n",
       "</table>\n",
       "</div>"
      ]
     },
     "execution_count": 170,
     "metadata": {},
     "output_type": "execute_result"
    }
   ],
   "execution_count": 170
  },
  {
   "metadata": {},
   "cell_type": "markdown",
   "source": "### 回归模型",
   "id": "ceeceec7cb7bec81"
  },
  {
   "metadata": {
    "ExecuteTime": {
     "end_time": "2025-05-08T01:30:58.747034Z",
     "start_time": "2025-05-08T01:30:58.718584Z"
    }
   },
   "cell_type": "code",
   "source": [
    "y_return = data_processed['returns_new']\n",
    "X = sm.add_constant(data_processed[['sentiment_index_lag_1','pe_new','turnover_rate_new']])\n",
    "\n",
    "model_return_ols = sm.OLS(y_return, X).fit()\n",
    "\n",
    "print(\"对数收益率 OLS 回归结果:\")\n",
    "print(model_return_ols.summary())"
   ],
   "id": "68cf85dad5fecc8c",
   "outputs": [
    {
     "name": "stdout",
     "output_type": "stream",
     "text": [
      "对数收益率 OLS 回归结果:\n",
      "                            OLS Regression Results                            \n",
      "==============================================================================\n",
      "Dep. Variable:            returns_new   R-squared:                       0.786\n",
      "Model:                            OLS   Adj. R-squared:                  0.784\n",
      "Method:                 Least Squares   F-statistic:                     496.0\n",
      "Date:                Thu, 08 May 2025   Prob (F-statistic):          3.50e-135\n",
      "Time:                        09:30:58   Log-Likelihood:                -264.51\n",
      "No. Observations:                 409   AIC:                             537.0\n",
      "Df Residuals:                     405   BIC:                             553.1\n",
      "Df Model:                           3                                         \n",
      "Covariance Type:            nonrobust                                         \n",
      "=========================================================================================\n",
      "                            coef    std err          t      P>|t|      [0.025      0.975]\n",
      "-----------------------------------------------------------------------------------------\n",
      "const                     0.0015      0.023      0.065      0.948      -0.044       0.047\n",
      "sentiment_index_lag_1     0.0263      0.023      1.142      0.254      -0.019       0.072\n",
      "pe_new                    6.9292      0.193     35.897      0.000       6.550       7.309\n",
      "turnover_rate_new         1.6992      0.387      4.390      0.000       0.938       2.460\n",
      "==============================================================================\n",
      "Omnibus:                       76.590   Durbin-Watson:                   2.214\n",
      "Prob(Omnibus):                  0.000   Jarque-Bera (JB):             1211.785\n",
      "Skew:                           0.114   Prob(JB):                    7.31e-264\n",
      "Kurtosis:                      11.429   Cond. No.                         17.0\n",
      "==============================================================================\n",
      "\n",
      "Notes:\n",
      "[1] Standard Errors assume that the covariance matrix of the errors is correctly specified.\n"
     ]
    }
   ],
   "execution_count": 173
  },
  {
   "metadata": {
    "ExecuteTime": {
     "end_time": "2025-05-07T08:24:11.426777Z",
     "start_time": "2025-05-07T08:24:11.400196Z"
    }
   },
   "cell_type": "code",
   "source": [
    "y_return = data_processed['returns_new']\n",
    "X = sm.add_constant(data_processed[['sentiment_index','pe_new', 'pb_new', 'm2_yoy', 'turnover_rate_new']])\n",
    "\n",
    "model_return_ols = sm.OLS(y_return, X).fit()\n",
    "\n",
    "print(\"对数收益率 OLS 回归结果:\")\n",
    "print(model_return_ols.summary())"
   ],
   "id": "de3aa68913cf0b5b",
   "outputs": [
    {
     "name": "stdout",
     "output_type": "stream",
     "text": [
      "对数收益率 OLS 回归结果:\n",
      "                            OLS Regression Results                            \n",
      "==============================================================================\n",
      "Dep. Variable:            returns_new   R-squared:                       0.800\n",
      "Model:                            OLS   Adj. R-squared:                  0.798\n",
      "Method:                 Least Squares   F-statistic:                     322.7\n",
      "Date:                Wed, 07 May 2025   Prob (F-statistic):          1.94e-138\n",
      "Time:                        16:24:11   Log-Likelihood:                -250.57\n",
      "No. Observations:                 409   AIC:                             513.1\n",
      "Df Residuals:                     403   BIC:                             537.2\n",
      "Df Model:                           5                                         \n",
      "Covariance Type:            nonrobust                                         \n",
      "=====================================================================================\n",
      "                        coef    std err          t      P>|t|      [0.025      0.975]\n",
      "-------------------------------------------------------------------------------------\n",
      "const                 0.0025      0.023      0.110      0.913      -0.042       0.047\n",
      "sentiment_index       0.0628      0.022      2.792      0.005       0.019       0.107\n",
      "pe_new                4.9817      0.437     11.394      0.000       4.122       5.841\n",
      "pb_new               19.0232      3.974      4.787      0.000      11.210      26.836\n",
      "m2_yoy               -0.2592      0.384     -0.676      0.500      -1.014       0.495\n",
      "turnover_rate_new     1.8066      0.376      4.810      0.000       1.068       2.545\n",
      "==============================================================================\n",
      "Omnibus:                       86.926   Durbin-Watson:                   2.331\n",
      "Prob(Omnibus):                  0.000   Jarque-Bera (JB):             1651.182\n",
      "Skew:                           0.241   Prob(JB):                         0.00\n",
      "Kurtosis:                      12.831   Cond. No.                         180.\n",
      "==============================================================================\n",
      "\n",
      "Notes:\n",
      "[1] Standard Errors assume that the covariance matrix of the errors is correctly specified.\n"
     ]
    }
   ],
   "execution_count": 458
  },
  {
   "metadata": {
    "ExecuteTime": {
     "end_time": "2025-05-07T08:23:26.820135Z",
     "start_time": "2025-05-07T08:23:26.791934Z"
    }
   },
   "cell_type": "code",
   "source": [
    "y_return = data_processed['returns_new']\n",
    "X = sm.add_constant(data_processed[['pe_new', 'pb_new', 'm2_yoy', 'turnover_rate_new']])\n",
    "\n",
    "model_return_ols = sm.OLS(y_return, X).fit()\n",
    "\n",
    "print(\"对数收益率 OLS 回归结果:\")\n",
    "print(model_return_ols.summary())"
   ],
   "id": "36eb78aab3b7ae5e",
   "outputs": [
    {
     "name": "stdout",
     "output_type": "stream",
     "text": [
      "对数收益率 OLS 回归结果:\n",
      "                            OLS Regression Results                            \n",
      "==============================================================================\n",
      "Dep. Variable:            returns_new   R-squared:                       0.796\n",
      "Model:                            OLS   Adj. R-squared:                  0.794\n",
      "Method:                 Least Squares   F-statistic:                     394.8\n",
      "Date:                Wed, 07 May 2025   Prob (F-statistic):          4.33e-138\n",
      "Time:                        16:23:26   Log-Likelihood:                -254.49\n",
      "No. Observations:                 409   AIC:                             519.0\n",
      "Df Residuals:                     404   BIC:                             539.1\n",
      "Df Model:                           4                                         \n",
      "Covariance Type:            nonrobust                                         \n",
      "=====================================================================================\n",
      "                        coef    std err          t      P>|t|      [0.025      0.975]\n",
      "-------------------------------------------------------------------------------------\n",
      "const                 0.0018      0.023      0.080      0.936      -0.043       0.047\n",
      "pe_new                5.0970      0.439     11.612      0.000       4.234       5.960\n",
      "pb_new               18.4836      4.003      4.618      0.000      10.614      26.353\n",
      "m2_yoy               -0.3119      0.386     -0.807      0.420      -1.072       0.448\n",
      "turnover_rate_new     1.8003      0.379      4.753      0.000       1.056       2.545\n",
      "==============================================================================\n",
      "Omnibus:                       85.348   Durbin-Watson:                   2.274\n",
      "Prob(Omnibus):                  0.000   Jarque-Bera (JB):             1559.638\n",
      "Skew:                           0.234   Prob(JB):                         0.00\n",
      "Kurtosis:                      12.555   Cond. No.                         179.\n",
      "==============================================================================\n",
      "\n",
      "Notes:\n",
      "[1] Standard Errors assume that the covariance matrix of the errors is correctly specified.\n"
     ]
    }
   ],
   "execution_count": 457
  },
  {
   "metadata": {
    "ExecuteTime": {
     "end_time": "2025-05-07T08:16:10.757592Z",
     "start_time": "2025-05-07T08:16:10.723991Z"
    }
   },
   "cell_type": "code",
   "source": [
    "y_vol = data_processed['vol']\n",
    "X = sm.add_constant(data_processed[['sentiment_index','pe_new', 'pb_new', 'm2_yoy', 'turnover_rate_new']])\n",
    "\n",
    "model_return_ols = sm.OLS(y_vol, X).fit()\n",
    "\n",
    "print(\"成交量一阶差分 OLS 回归结果:\")\n",
    "print(model_return_ols.summary())"
   ],
   "id": "8984ab1573ae8d7c",
   "outputs": [
    {
     "name": "stdout",
     "output_type": "stream",
     "text": [
      "成交量一阶差分 OLS 回归结果:\n",
      "                            OLS Regression Results                            \n",
      "==============================================================================\n",
      "Dep. Variable:                    vol   R-squared:                       0.968\n",
      "Model:                            OLS   Adj. R-squared:                  0.968\n",
      "Method:                 Least Squares   F-statistic:                     2031.\n",
      "Date:                Wed, 07 May 2025   Prob (F-statistic):          4.31e-297\n",
      "Time:                        16:16:10   Log-Likelihood:                -1295.5\n",
      "No. Observations:                 409   AIC:                             2605.\n",
      "Df Residuals:                     402   BIC:                             2633.\n",
      "Df Model:                           6                                         \n",
      "Covariance Type:            nonrobust                                         \n",
      "=====================================================================================\n",
      "                        coef    std err          t      P>|t|      [0.025      0.975]\n",
      "-------------------------------------------------------------------------------------\n",
      "const                -0.1337      0.370     -0.362      0.718      -0.860       0.593\n",
      "sentiment_index      -0.0249      0.324     -0.077      0.939      -0.662       0.612\n",
      "agreement_index     496.7809   1251.412      0.397      0.692   -1963.349    2956.911\n",
      "pe_new               29.7144      5.675      5.236      0.000      18.558      40.871\n",
      "pb_new             -190.4181     51.503     -3.697      0.000    -291.667     -89.169\n",
      "m2_yoy               -1.7761      4.945     -0.359      0.720     -11.497       7.945\n",
      "turnover_rate_new   507.1484      4.877    103.991      0.000     497.561     516.736\n",
      "==============================================================================\n",
      "Omnibus:                      237.462   Durbin-Watson:                   1.974\n",
      "Prob(Omnibus):                  0.000   Jarque-Bera (JB):            15472.906\n",
      "Skew:                           1.639   Prob(JB):                         0.00\n",
      "Kurtosis:                      32.953   Cond. No.                     4.37e+03\n",
      "==============================================================================\n",
      "\n",
      "Notes:\n",
      "[1] Standard Errors assume that the covariance matrix of the errors is correctly specified.\n",
      "[2] The condition number is large, 4.37e+03. This might indicate that there are\n",
      "strong multicollinearity or other numerical problems.\n"
     ]
    }
   ],
   "execution_count": 444
  },
  {
   "metadata": {
    "ExecuteTime": {
     "end_time": "2025-05-08T01:32:29.879437Z",
     "start_time": "2025-05-08T01:32:29.812955Z"
    }
   },
   "cell_type": "code",
   "source": [
    "y_volatility = data_processed['log_volatility']\n",
    "X = sm.add_constant(data_processed[['sentiment_index','agreement_index','pe_new', 'pb_new','m2_yoy','turnover_rate_new']])\n",
    "\n",
    "model_return_ols = sm.OLS(y_volatility, X).fit()\n",
    "\n",
    "print(\"波动率 回归结果:\")\n",
    "print(model_return_ols.summary())"
   ],
   "id": "b490d3ee0228b40d",
   "outputs": [
    {
     "name": "stdout",
     "output_type": "stream",
     "text": [
      "波动率 回归结果:\n",
      "                            OLS Regression Results                            \n",
      "==============================================================================\n",
      "Dep. Variable:         log_volatility   R-squared:                       0.195\n",
      "Model:                            OLS   Adj. R-squared:                  0.183\n",
      "Method:                 Least Squares   F-statistic:                     16.21\n",
      "Date:                Thu, 08 May 2025   Prob (F-statistic):           9.77e-17\n",
      "Time:                        09:32:29   Log-Likelihood:                -535.52\n",
      "No. Observations:                 409   AIC:                             1085.\n",
      "Df Residuals:                     402   BIC:                             1113.\n",
      "Df Model:                           6                                         \n",
      "Covariance Type:            nonrobust                                         \n",
      "=====================================================================================\n",
      "                        coef    std err          t      P>|t|      [0.025      0.975]\n",
      "-------------------------------------------------------------------------------------\n",
      "const                 0.0184      0.058      0.319      0.750      -0.095       0.132\n",
      "sentiment_index       0.0740      0.051      1.463      0.144      -0.025       0.173\n",
      "agreement_index    -118.1738    195.183     -0.605      0.545    -501.880     265.532\n",
      "pe_new                0.1750      0.885      0.198      0.843      -1.565       1.915\n",
      "pb_new                0.3057      8.033      0.038      0.970     -15.486      16.097\n",
      "m2_yoy               -0.2836      0.771     -0.368      0.713      -1.800       1.233\n",
      "turnover_rate_new     6.8806      0.761      9.046      0.000       5.385       8.376\n",
      "==============================================================================\n",
      "Omnibus:                       65.982   Durbin-Watson:                   0.938\n",
      "Prob(Omnibus):                  0.000   Jarque-Bera (JB):              123.267\n",
      "Skew:                           0.909   Prob(JB):                     1.71e-27\n",
      "Kurtosis:                       4.983   Cond. No.                     4.37e+03\n",
      "==============================================================================\n",
      "\n",
      "Notes:\n",
      "[1] Standard Errors assume that the covariance matrix of the errors is correctly specified.\n",
      "[2] The condition number is large, 4.37e+03. This might indicate that there are\n",
      "strong multicollinearity or other numerical problems.\n"
     ]
    }
   ],
   "execution_count": 174
  },
  {
   "metadata": {},
   "cell_type": "code",
   "outputs": [],
   "execution_count": null,
   "source": "",
   "id": "5b7362ad609bbfd8"
  },
  {
   "metadata": {
    "ExecuteTime": {
     "end_time": "2025-05-08T01:35:35.330790Z",
     "start_time": "2025-05-08T01:35:35.298324Z"
    }
   },
   "cell_type": "code",
   "source": [
    "y_volatility = data_processed['log_volatility']\n",
    "X = sm.add_constant(data_processed[['sentiment_index_lag_1','pe_new', 'turnover_rate_new']])\n",
    "\n",
    "model_return_ols = sm.OLS(y_volatility, X).fit()\n",
    "\n",
    "print(\"波动率 回归结果:\")\n",
    "print(model_return_ols.summary())"
   ],
   "id": "dd24165040380c7d",
   "outputs": [
    {
     "name": "stdout",
     "output_type": "stream",
     "text": [
      "波动率 回归结果:\n",
      "                            OLS Regression Results                            \n",
      "==============================================================================\n",
      "Dep. Variable:         log_volatility   R-squared:                       0.191\n",
      "Model:                            OLS   Adj. R-squared:                  0.185\n",
      "Method:                 Least Squares   F-statistic:                     31.80\n",
      "Date:                Thu, 08 May 2025   Prob (F-statistic):           1.78e-18\n",
      "Time:                        09:35:35   Log-Likelihood:                -536.59\n",
      "No. Observations:                 409   AIC:                             1081.\n",
      "Df Residuals:                     405   BIC:                             1097.\n",
      "Df Model:                           3                                         \n",
      "Covariance Type:            nonrobust                                         \n",
      "=========================================================================================\n",
      "                            coef    std err          t      P>|t|      [0.025      0.975]\n",
      "-----------------------------------------------------------------------------------------\n",
      "const                 -7.196e-05      0.045     -0.002      0.999      -0.088       0.088\n",
      "sentiment_index_lag_1    -0.0217      0.045     -0.484      0.628      -0.110       0.066\n",
      "pe_new                    0.2574      0.375      0.686      0.493      -0.481       0.995\n",
      "turnover_rate_new         6.9171      0.753      9.188      0.000       5.437       8.397\n",
      "==============================================================================\n",
      "Omnibus:                       71.291   Durbin-Watson:                   0.933\n",
      "Prob(Omnibus):                  0.000   Jarque-Bera (JB):              140.131\n",
      "Skew:                           0.953   Prob(JB):                     3.72e-31\n",
      "Kurtosis:                       5.143   Cond. No.                         17.0\n",
      "==============================================================================\n",
      "\n",
      "Notes:\n",
      "[1] Standard Errors assume that the covariance matrix of the errors is correctly specified.\n"
     ]
    }
   ],
   "execution_count": 178
  },
  {
   "metadata": {
    "ExecuteTime": {
     "end_time": "2025-05-08T01:34:01.406366Z",
     "start_time": "2025-05-08T01:34:01.393066Z"
    }
   },
   "cell_type": "code",
   "source": [
    "# VIF计算\n",
    "vif_data = pd.DataFrame()\n",
    "X = data_processed[['sentiment_index_lag_1','pe_new', 'turnover_rate_new']].copy()\n",
    "vif_data[\"Variable\"] = X.columns\n",
    "vif_data[\"VIF\"] = [variance_inflation_factor(X.values, i) for i in range(X.shape[1])]"
   ],
   "id": "7479ed2c311ccac",
   "outputs": [],
   "execution_count": 176
  },
  {
   "metadata": {
    "ExecuteTime": {
     "end_time": "2025-05-07T20:18:52.830238Z",
     "start_time": "2025-05-07T20:18:52.817469Z"
    }
   },
   "cell_type": "code",
   "source": "vif_data",
   "id": "bbf3fb6e14080b78",
   "outputs": [
    {
     "data": {
      "text/plain": [
       "            Variable       VIF\n",
       "0    sentiment_index  1.015252\n",
       "1             pe_new  1.086368\n",
       "2  turnover_rate_new  1.071033"
      ],
      "text/html": [
       "<div>\n",
       "<style scoped>\n",
       "    .dataframe tbody tr th:only-of-type {\n",
       "        vertical-align: middle;\n",
       "    }\n",
       "\n",
       "    .dataframe tbody tr th {\n",
       "        vertical-align: top;\n",
       "    }\n",
       "\n",
       "    .dataframe thead th {\n",
       "        text-align: right;\n",
       "    }\n",
       "</style>\n",
       "<table border=\"1\" class=\"dataframe\">\n",
       "  <thead>\n",
       "    <tr style=\"text-align: right;\">\n",
       "      <th></th>\n",
       "      <th>Variable</th>\n",
       "      <th>VIF</th>\n",
       "    </tr>\n",
       "  </thead>\n",
       "  <tbody>\n",
       "    <tr>\n",
       "      <th>0</th>\n",
       "      <td>sentiment_index</td>\n",
       "      <td>1.015252</td>\n",
       "    </tr>\n",
       "    <tr>\n",
       "      <th>1</th>\n",
       "      <td>pe_new</td>\n",
       "      <td>1.086368</td>\n",
       "    </tr>\n",
       "    <tr>\n",
       "      <th>2</th>\n",
       "      <td>turnover_rate_new</td>\n",
       "      <td>1.071033</td>\n",
       "    </tr>\n",
       "  </tbody>\n",
       "</table>\n",
       "</div>"
      ]
     },
     "execution_count": 121,
     "metadata": {},
     "output_type": "execute_result"
    }
   ],
   "execution_count": 121
  },
  {
   "metadata": {},
   "cell_type": "markdown",
   "source": "### 格兰杰因果检验",
   "id": "e63166dd1ccdc28b"
  },
  {
   "metadata": {
    "ExecuteTime": {
     "end_time": "2025-05-08T02:47:36.451817Z",
     "start_time": "2025-05-08T02:47:36.376571Z"
    }
   },
   "cell_type": "code",
   "source": [
    "test_data = data_processed[['returns_new', 'sentiment_index_lag_1']].dropna()\n",
    "granger_test = grangercausalitytests(test_data, maxlag=8)"
   ],
   "id": "3a66762a8003b156",
   "outputs": [
    {
     "name": "stdout",
     "output_type": "stream",
     "text": [
      "\n",
      "Granger Causality\n",
      "number of lags (no zero) 1\n",
      "ssr based F test:         F=0.0014  , p=0.9706  , df_denom=405, df_num=1\n",
      "ssr based chi2 test:   chi2=0.0014  , p=0.9705  , df=1\n",
      "likelihood ratio test: chi2=0.0014  , p=0.9705  , df=1\n",
      "parameter F test:         F=0.0014  , p=0.9706  , df_denom=405, df_num=1\n",
      "\n",
      "Granger Causality\n",
      "number of lags (no zero) 2\n",
      "ssr based F test:         F=0.7004  , p=0.4970  , df_denom=402, df_num=2\n",
      "ssr based chi2 test:   chi2=1.4183  , p=0.4921  , df=2\n",
      "likelihood ratio test: chi2=1.4158  , p=0.4927  , df=2\n",
      "parameter F test:         F=0.7004  , p=0.4970  , df_denom=402, df_num=2\n",
      "\n",
      "Granger Causality\n",
      "number of lags (no zero) 3\n",
      "ssr based F test:         F=0.6113  , p=0.6080  , df_denom=399, df_num=3\n",
      "ssr based chi2 test:   chi2=1.8660  , p=0.6007  , df=3\n",
      "likelihood ratio test: chi2=1.8617  , p=0.6016  , df=3\n",
      "parameter F test:         F=0.6113  , p=0.6080  , df_denom=399, df_num=3\n",
      "\n",
      "Granger Causality\n",
      "number of lags (no zero) 4\n",
      "ssr based F test:         F=0.8134  , p=0.5171  , df_denom=396, df_num=4\n",
      "ssr based chi2 test:   chi2=3.3275  , p=0.5046  , df=4\n",
      "likelihood ratio test: chi2=3.3139  , p=0.5067  , df=4\n",
      "parameter F test:         F=0.8134  , p=0.5171  , df_denom=396, df_num=4\n",
      "\n",
      "Granger Causality\n",
      "number of lags (no zero) 5\n",
      "ssr based F test:         F=0.6297  , p=0.6772  , df_denom=393, df_num=5\n",
      "ssr based chi2 test:   chi2=3.2365  , p=0.6636  , df=5\n",
      "likelihood ratio test: chi2=3.2236  , p=0.6656  , df=5\n",
      "parameter F test:         F=0.6297  , p=0.6772  , df_denom=393, df_num=5\n",
      "\n",
      "Granger Causality\n",
      "number of lags (no zero) 6\n",
      "ssr based F test:         F=0.4463  , p=0.8475  , df_denom=390, df_num=6\n",
      "ssr based chi2 test:   chi2=2.7674  , p=0.8374  , df=6\n",
      "likelihood ratio test: chi2=2.7579  , p=0.8386  , df=6\n",
      "parameter F test:         F=0.4463  , p=0.8475  , df_denom=390, df_num=6\n",
      "\n",
      "Granger Causality\n",
      "number of lags (no zero) 7\n",
      "ssr based F test:         F=0.4431  , p=0.8747  , df_denom=387, df_num=7\n",
      "ssr based chi2 test:   chi2=3.2219  , p=0.8637  , df=7\n",
      "likelihood ratio test: chi2=3.2091  , p=0.8650  , df=7\n",
      "parameter F test:         F=0.4431  , p=0.8747  , df_denom=387, df_num=7\n",
      "\n",
      "Granger Causality\n",
      "number of lags (no zero) 8\n",
      "ssr based F test:         F=0.9560  , p=0.4702  , df_denom=384, df_num=8\n",
      "ssr based chi2 test:   chi2=7.9865  , p=0.4348  , df=8\n",
      "likelihood ratio test: chi2=7.9080  , p=0.4425  , df=8\n",
      "parameter F test:         F=0.9560  , p=0.4702  , df_denom=384, df_num=8\n"
     ]
    }
   ],
   "execution_count": 180
  },
  {
   "metadata": {
    "ExecuteTime": {
     "end_time": "2025-05-08T03:13:05.521879Z",
     "start_time": "2025-05-08T03:13:05.492460Z"
    }
   },
   "cell_type": "code",
   "source": [
    "test_data_reverse = data_processed[['sentiment_index', 'log_volatility']].dropna()\n",
    "granger_test_reverse = grangercausalitytests(test_data_reverse, maxlag=8)"
   ],
   "id": "9615b75d6083cc2a",
   "outputs": [
    {
     "name": "stdout",
     "output_type": "stream",
     "text": [
      "\n",
      "Granger Causality\n",
      "number of lags (no zero) 1\n",
      "ssr based F test:         F=1.4282  , p=0.2328  , df_denom=405, df_num=1\n",
      "ssr based chi2 test:   chi2=1.4388  , p=0.2303  , df=1\n",
      "likelihood ratio test: chi2=1.4363  , p=0.2307  , df=1\n",
      "parameter F test:         F=1.4282  , p=0.2328  , df_denom=405, df_num=1\n",
      "\n",
      "Granger Causality\n",
      "number of lags (no zero) 2\n",
      "ssr based F test:         F=2.9581  , p=0.0531  , df_denom=402, df_num=2\n",
      "ssr based chi2 test:   chi2=5.9897  , p=0.0500  , df=2\n",
      "likelihood ratio test: chi2=5.9461  , p=0.0511  , df=2\n",
      "parameter F test:         F=2.9581  , p=0.0531  , df_denom=402, df_num=2\n",
      "\n",
      "Granger Causality\n",
      "number of lags (no zero) 3\n",
      "ssr based F test:         F=2.7936  , p=0.0401  , df_denom=399, df_num=3\n",
      "ssr based chi2 test:   chi2=8.5279  , p=0.0363  , df=3\n",
      "likelihood ratio test: chi2=8.4396  , p=0.0377  , df=3\n",
      "parameter F test:         F=2.7936  , p=0.0401  , df_denom=399, df_num=3\n",
      "\n",
      "Granger Causality\n",
      "number of lags (no zero) 4\n",
      "ssr based F test:         F=3.3181  , p=0.0109  , df_denom=396, df_num=4\n",
      "ssr based chi2 test:   chi2=13.5741 , p=0.0088  , df=4\n",
      "likelihood ratio test: chi2=13.3515 , p=0.0097  , df=4\n",
      "parameter F test:         F=3.3181  , p=0.0109  , df_denom=396, df_num=4\n",
      "\n",
      "Granger Causality\n",
      "number of lags (no zero) 5\n",
      "ssr based F test:         F=2.5086  , p=0.0298  , df_denom=393, df_num=5\n",
      "ssr based chi2 test:   chi2=12.8943 , p=0.0244  , df=5\n",
      "likelihood ratio test: chi2=12.6928 , p=0.0264  , df=5\n",
      "parameter F test:         F=2.5086  , p=0.0298  , df_denom=393, df_num=5\n",
      "\n",
      "Granger Causality\n",
      "number of lags (no zero) 6\n",
      "ssr based F test:         F=2.1383  , p=0.0483  , df_denom=390, df_num=6\n",
      "ssr based chi2 test:   chi2=13.2576 , p=0.0391  , df=6\n",
      "likelihood ratio test: chi2=13.0442 , p=0.0423  , df=6\n",
      "parameter F test:         F=2.1383  , p=0.0483  , df_denom=390, df_num=6\n",
      "\n",
      "Granger Causality\n",
      "number of lags (no zero) 7\n",
      "ssr based F test:         F=2.7605  , p=0.0083  , df_denom=387, df_num=7\n",
      "ssr based chi2 test:   chi2=20.0722 , p=0.0054  , df=7\n",
      "likelihood ratio test: chi2=19.5871 , p=0.0065  , df=7\n",
      "parameter F test:         F=2.7605  , p=0.0083  , df_denom=387, df_num=7\n",
      "\n",
      "Granger Causality\n",
      "number of lags (no zero) 8\n",
      "ssr based F test:         F=2.5177  , p=0.0112  , df_denom=384, df_num=8\n",
      "ssr based chi2 test:   chi2=21.0334 , p=0.0071  , df=8\n",
      "likelihood ratio test: chi2=20.5003 , p=0.0086  , df=8\n",
      "parameter F test:         F=2.5177  , p=0.0112  , df_denom=384, df_num=8\n"
     ]
    }
   ],
   "execution_count": 186
  },
  {
   "metadata": {
    "ExecuteTime": {
     "end_time": "2025-05-08T02:49:14.635465Z",
     "start_time": "2025-05-08T02:49:14.585026Z"
    }
   },
   "cell_type": "code",
   "source": [
    "test_data = data_processed[['', 'sentiment_index_lag_1']].dropna()\n",
    "granger_test = grangercausalitytests(test_data, maxlag=8)"
   ],
   "id": "d12b21d06cec854f",
   "outputs": [
    {
     "name": "stdout",
     "output_type": "stream",
     "text": [
      "\n",
      "Granger Causality\n",
      "number of lags (no zero) 1\n",
      "ssr based F test:         F=0.2149  , p=0.6432  , df_denom=405, df_num=1\n",
      "ssr based chi2 test:   chi2=0.2165  , p=0.6417  , df=1\n",
      "likelihood ratio test: chi2=0.2164  , p=0.6418  , df=1\n",
      "parameter F test:         F=0.2149  , p=0.6432  , df_denom=405, df_num=1\n",
      "\n",
      "Granger Causality\n",
      "number of lags (no zero) 2\n",
      "ssr based F test:         F=1.5617  , p=0.2111  , df_denom=402, df_num=2\n",
      "ssr based chi2 test:   chi2=3.1622  , p=0.2057  , df=2\n",
      "likelihood ratio test: chi2=3.1500  , p=0.2070  , df=2\n",
      "parameter F test:         F=1.5617  , p=0.2111  , df_denom=402, df_num=2\n",
      "\n",
      "Granger Causality\n",
      "number of lags (no zero) 3\n",
      "ssr based F test:         F=0.9975  , p=0.3939  , df_denom=399, df_num=3\n",
      "ssr based chi2 test:   chi2=3.0451  , p=0.3847  , df=3\n",
      "likelihood ratio test: chi2=3.0337  , p=0.3865  , df=3\n",
      "parameter F test:         F=0.9975  , p=0.3939  , df_denom=399, df_num=3\n",
      "\n",
      "Granger Causality\n",
      "number of lags (no zero) 4\n",
      "ssr based F test:         F=0.7959  , p=0.5284  , df_denom=396, df_num=4\n",
      "ssr based chi2 test:   chi2=3.2558  , p=0.5160  , df=4\n",
      "likelihood ratio test: chi2=3.2427  , p=0.5181  , df=4\n",
      "parameter F test:         F=0.7959  , p=0.5284  , df_denom=396, df_num=4\n",
      "\n",
      "Granger Causality\n",
      "number of lags (no zero) 5\n",
      "ssr based F test:         F=0.5055  , p=0.7721  , df_denom=393, df_num=5\n",
      "ssr based chi2 test:   chi2=2.5985  , p=0.7616  , df=5\n",
      "likelihood ratio test: chi2=2.5901  , p=0.7629  , df=5\n",
      "parameter F test:         F=0.5055  , p=0.7721  , df_denom=393, df_num=5\n",
      "\n",
      "Granger Causality\n",
      "number of lags (no zero) 6\n",
      "ssr based F test:         F=0.5035  , p=0.8058  , df_denom=390, df_num=6\n",
      "ssr based chi2 test:   chi2=3.1215  , p=0.7935  , df=6\n",
      "likelihood ratio test: chi2=3.1095  , p=0.7950  , df=6\n",
      "parameter F test:         F=0.5035  , p=0.8058  , df_denom=390, df_num=6\n",
      "\n",
      "Granger Causality\n",
      "number of lags (no zero) 7\n",
      "ssr based F test:         F=1.2920  , p=0.2528  , df_denom=387, df_num=7\n",
      "ssr based chi2 test:   chi2=9.3949  , p=0.2255  , df=7\n",
      "likelihood ratio test: chi2=9.2868  , p=0.2327  , df=7\n",
      "parameter F test:         F=1.2920  , p=0.2528  , df_denom=387, df_num=7\n",
      "\n",
      "Granger Causality\n",
      "number of lags (no zero) 8\n",
      "ssr based F test:         F=1.1654  , p=0.3189  , df_denom=384, df_num=8\n",
      "ssr based chi2 test:   chi2=9.7363  , p=0.2840  , df=8\n",
      "likelihood ratio test: chi2=9.6200  , p=0.2927  , df=8\n",
      "parameter F test:         F=1.1654  , p=0.3189  , df_denom=384, df_num=8\n"
     ]
    }
   ],
   "execution_count": 181
  },
  {
   "metadata": {
    "ExecuteTime": {
     "end_time": "2025-05-07T08:21:01.232741Z",
     "start_time": "2025-05-07T08:21:01.189442Z"
    }
   },
   "cell_type": "code",
   "source": [
    "test_data = data_processed[['vol', 'sentiment_index']].dropna()\n",
    "granger_test = grangercausalitytests(test_data, maxlag=8)"
   ],
   "id": "d84cff1a574405db",
   "outputs": [
    {
     "name": "stdout",
     "output_type": "stream",
     "text": [
      "\n",
      "Granger Causality\n",
      "number of lags (no zero) 1\n",
      "ssr based F test:         F=0.8039  , p=0.3705  , df_denom=405, df_num=1\n",
      "ssr based chi2 test:   chi2=0.8099  , p=0.3682  , df=1\n",
      "likelihood ratio test: chi2=0.8091  , p=0.3684  , df=1\n",
      "parameter F test:         F=0.8039  , p=0.3705  , df_denom=405, df_num=1\n",
      "\n",
      "Granger Causality\n",
      "number of lags (no zero) 2\n",
      "ssr based F test:         F=0.4013  , p=0.6697  , df_denom=402, df_num=2\n",
      "ssr based chi2 test:   chi2=0.8126  , p=0.6661  , df=2\n",
      "likelihood ratio test: chi2=0.8118  , p=0.6664  , df=2\n",
      "parameter F test:         F=0.4013  , p=0.6697  , df_denom=402, df_num=2\n",
      "\n",
      "Granger Causality\n",
      "number of lags (no zero) 3\n",
      "ssr based F test:         F=0.2053  , p=0.8927  , df_denom=399, df_num=3\n",
      "ssr based chi2 test:   chi2=0.6266  , p=0.8903  , df=3\n",
      "likelihood ratio test: chi2=0.6261  , p=0.8904  , df=3\n",
      "parameter F test:         F=0.2053  , p=0.8927  , df_denom=399, df_num=3\n",
      "\n",
      "Granger Causality\n",
      "number of lags (no zero) 4\n",
      "ssr based F test:         F=0.1563  , p=0.9601  , df_denom=396, df_num=4\n",
      "ssr based chi2 test:   chi2=0.6396  , p=0.9586  , df=4\n",
      "likelihood ratio test: chi2=0.6391  , p=0.9586  , df=4\n",
      "parameter F test:         F=0.1563  , p=0.9601  , df_denom=396, df_num=4\n",
      "\n",
      "Granger Causality\n",
      "number of lags (no zero) 5\n",
      "ssr based F test:         F=0.3245  , p=0.8982  , df_denom=393, df_num=5\n",
      "ssr based chi2 test:   chi2=1.6678  , p=0.8929  , df=5\n",
      "likelihood ratio test: chi2=1.6644  , p=0.8934  , df=5\n",
      "parameter F test:         F=0.3245  , p=0.8982  , df_denom=393, df_num=5\n",
      "\n",
      "Granger Causality\n",
      "number of lags (no zero) 6\n",
      "ssr based F test:         F=0.2727  , p=0.9496  , df_denom=390, df_num=6\n",
      "ssr based chi2 test:   chi2=1.6910  , p=0.9458  , df=6\n",
      "likelihood ratio test: chi2=1.6874  , p=0.9461  , df=6\n",
      "parameter F test:         F=0.2727  , p=0.9496  , df_denom=390, df_num=6\n",
      "\n",
      "Granger Causality\n",
      "number of lags (no zero) 7\n",
      "ssr based F test:         F=0.2942  , p=0.9560  , df_denom=387, df_num=7\n",
      "ssr based chi2 test:   chi2=2.1389  , p=0.9518  , df=7\n",
      "likelihood ratio test: chi2=2.1332  , p=0.9521  , df=7\n",
      "parameter F test:         F=0.2942  , p=0.9560  , df_denom=387, df_num=7\n",
      "\n",
      "Granger Causality\n",
      "number of lags (no zero) 8\n",
      "ssr based F test:         F=0.2928  , p=0.9682  , df_denom=384, df_num=8\n",
      "ssr based chi2 test:   chi2=2.4464  , p=0.9642  , df=8\n",
      "likelihood ratio test: chi2=2.4390  , p=0.9645  , df=8\n",
      "parameter F test:         F=0.2928  , p=0.9682  , df_denom=384, df_num=8\n"
     ]
    }
   ],
   "execution_count": 456
  },
  {
   "metadata": {
    "ExecuteTime": {
     "end_time": "2025-05-07T11:03:26.025796Z",
     "start_time": "2025-05-07T11:03:25.723650Z"
    }
   },
   "cell_type": "code",
   "source": "data_processed['log_volatility'].describe()",
   "id": "cd97ccb8291689c4",
   "outputs": [
    {
     "ename": "NameError",
     "evalue": "name 'data_processed' is not defined",
     "output_type": "error",
     "traceback": [
      "\u001B[1;31m---------------------------------------------------------------------------\u001B[0m",
      "\u001B[1;31mNameError\u001B[0m                                 Traceback (most recent call last)",
      "Cell \u001B[1;32mIn[1], line 1\u001B[0m\n\u001B[1;32m----> 1\u001B[0m \u001B[43mdata_processed\u001B[49m[\u001B[38;5;124m'\u001B[39m\u001B[38;5;124mlog_volatility\u001B[39m\u001B[38;5;124m'\u001B[39m]\u001B[38;5;241m.\u001B[39mdescribe()\n",
      "\u001B[1;31mNameError\u001B[0m: name 'data_processed' is not defined"
     ]
    }
   ],
   "execution_count": 1
  },
  {
   "metadata": {
    "ExecuteTime": {
     "end_time": "2025-05-07T06:28:51.911835Z",
     "start_time": "2025-05-07T06:28:51.906255Z"
    }
   },
   "cell_type": "markdown",
   "source": "",
   "id": "6002fe1bd1bd0656"
  }
 ],
 "metadata": {
  "kernelspec": {
   "display_name": "Python 3",
   "language": "python",
   "name": "python3"
  },
  "language_info": {
   "codemirror_mode": {
    "name": "ipython",
    "version": 2
   },
   "file_extension": ".py",
   "mimetype": "text/x-python",
   "name": "python",
   "nbconvert_exporter": "python",
   "pygments_lexer": "ipython2",
   "version": "2.7.6"
  }
 },
 "nbformat": 4,
 "nbformat_minor": 5
}
