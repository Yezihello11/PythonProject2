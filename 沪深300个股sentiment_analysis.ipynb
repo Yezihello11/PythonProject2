{
 "cells": [
  {
   "metadata": {},
   "cell_type": "markdown",
   "source": "# Sentiment Analysis on",
   "id": "66f4cf424976f0b0"
  },
  {
   "metadata": {
    "ExecuteTime": {
     "end_time": "2025-05-13T04:10:12.749316Z",
     "start_time": "2025-05-13T04:10:12.703679Z"
    }
   },
   "cell_type": "code",
   "source": [
    "import numpy as np\n",
    "import pandas as pd\n",
    "import re\n",
    "import matplotlib.pyplot as plt\n",
    "from datetime import datetime\n",
    "from scipy.stats import zscore\n",
    "from statsmodels.tsa.stattools import grangercausalitytests\n",
    "import jieba\n",
    "from snownlp import SnowNLP\n",
    "import tushare as ts\n",
    "import akshare as ak\n",
    "from statsmodels.tsa.stattools import adfuller, coint, kpss,grangercausalitytests\n",
    "from statsmodels.tsa.vector_ar.vecm import coint_johansen\n",
    "import statsmodels.api as sm\n",
    "from linearmodels.panel import PanelOLS, RandomEffects, compare\n",
    "from linearmodels.iv import IV2SLS\n",
    "from scipy import stats\n",
    "from statsmodels.stats.outliers_influence import variance_inflation_factor"
   ],
   "id": "2e57c91adcb6ed25",
   "outputs": [],
   "execution_count": 3
  },
  {
   "metadata": {
    "ExecuteTime": {
     "end_time": "2025-05-13T04:10:13.218453Z",
     "start_time": "2025-05-13T04:10:13.208934Z"
    }
   },
   "cell_type": "code",
   "source": [
    "def test_stationarity(series, alpha=0.05):\n",
    "    # ADF检验\n",
    "    adf_result = adfuller(series.dropna())\n",
    "    print(f\"ADF Statistic: {adf_result[0]:.4f}\")\n",
    "    print(f\"ADF p-value: {adf_result[1]:.4f}\")\n",
    "    print(\"ADF结论: 序列平稳\" if adf_result[1] < alpha else \"ADF结论: 序列非平稳\")\n",
    "\n",
    "    # KPSS检验\n",
    "    kpss_result = kpss(series.dropna())\n",
    "    print(f\"\\nKPSS Statistic: {kpss_result[0]:.4f}\")\n",
    "    print(f\"KPSS p-value: {kpss_result[1]:.4f}\")\n",
    "    print(\"KPSS结论: 序列趋势平稳\" if kpss_result[1] > alpha else \"KPSS结论: 序列存在单位根\")"
   ],
   "id": "9faa0d92b84ef4f9",
   "outputs": [],
   "execution_count": 4
  },
  {
   "metadata": {
    "ExecuteTime": {
     "end_time": "2025-05-13T04:10:15.534499Z",
     "start_time": "2025-05-13T04:10:15.529084Z"
    }
   },
   "cell_type": "code",
   "source": [
    "def winsorize_series(series, lower=0.01, upper=0.99):\n",
    "    \"\"\"\n",
    "    对收益率序列进行缩尾处理\n",
    "    :param series: pandas Series, 收益率序列\n",
    "    :param lower: 下缩尾分位数（默认1%）\n",
    "    :param upper: 上缩尾分位数（默认99%）\n",
    "    :return: 缩尾后的Series\n",
    "    \"\"\"\n",
    "    # 计算分位数边界\n",
    "    lower_bound = series.quantile(lower)\n",
    "    upper_bound = series.quantile(upper)\n",
    "\n",
    "    # 执行缩尾（极端值替换为边界值）\n",
    "    return series.clip(lower=lower_bound, upper=upper_bound)"
   ],
   "id": "e3e79722bedc52e2",
   "outputs": [],
   "execution_count": 5
  },
  {
   "metadata": {
    "ExecuteTime": {
     "end_time": "2025-05-13T04:10:15.945397Z",
     "start_time": "2025-05-13T04:10:15.939624Z"
    }
   },
   "cell_type": "code",
   "source": [
    "def sentiment_analysis(text, sentiment_dict):\n",
    "    words = list(jieba.cut(text))\n",
    "\n",
    "    # 原始 counts = 0\n",
    "    nums = 0\n",
    "    for word in words:\n",
    "        if word in sentiment_dict:\n",
    "            nums += 1\n",
    "    return nums"
   ],
   "id": "ce0cb10134e3ab7f",
   "outputs": [],
   "execution_count": 6
  },
  {
   "metadata": {
    "ExecuteTime": {
     "end_time": "2025-05-13T04:10:16.278920Z",
     "start_time": "2025-05-13T04:10:16.269515Z"
    }
   },
   "cell_type": "code",
   "source": [
    "def SentimentIndex(df, stock):\n",
    "    trade_date = stock['trade_date'].tolist()\n",
    "    trade_date = sorted(trade_date)\n",
    "    for i in range(len(trade_date)-1):\n",
    "        start_time = pd.to_datetime(trade_date[i].strftime('%Y%m%d')+ ' ' + '15:00')\n",
    "        end_time = pd.to_datetime((trade_date[i+1].strftime('%Y%m%d') + ' ' + '15:00'))\n",
    "        df_sentiment = df[(df['post_datetime']>start_time) & (df['post_datetime']<=end_time)]\n",
    "        if df_sentiment.empty:\n",
    "            continue\n",
    "        else:\n",
    "            sentiment_index = (sum(df_sentiment['pos_num']) - sum(df_sentiment['neg_num']))/sum(df_sentiment['word_num'])\n",
    "            stock.loc[stock['trade_date'] == pd.to_datetime(trade_date[i+1]).strftime('%Y%m%d'), 'sentiment_index'] = sentiment_index\n",
    "            #snownlp_index = (sum(df_sentiment['snownlp'])/len(df_sentiment['snownlp']))\n",
    "            #stock.loc[stock['trade_date'] == pd.to_datetime(trade_date[i+1]).strftime('%Y%m%d'), 'snownlp_index'] = snownlp_index\n",
    "    return stock"
   ],
   "id": "b310201d09ca7fa7",
   "outputs": [],
   "execution_count": 7
  },
  {
   "metadata": {
    "ExecuteTime": {
     "end_time": "2025-05-13T04:10:16.630235Z",
     "start_time": "2025-05-13T04:10:16.616939Z"
    }
   },
   "cell_type": "code",
   "source": [
    "def get_stock_data(stock_id, start_time, end_time):\n",
    "    ## 个股数据\n",
    "\n",
    "    pro = ts.pro_api('2876ea85cb005fb5fa17c809a98174f2d5aae8b1f830110a5ead6211')\n",
    "    # 拉取数据\n",
    "\n",
    "    # 拉取数据\n",
    "    stock_daily_basic = pro.daily_basic(**{\n",
    "        \"ts_code\": stock_id,\n",
    "        \"trade_date\": \"\",\n",
    "        \"start_date\": start_time,\n",
    "        \"end_date\": end_time,\n",
    "        \"limit\": \"\",\n",
    "        \"offset\": \"\"\n",
    "    }, fields=[\n",
    "        \"ts_code\",\n",
    "        \"trade_date\",\n",
    "        \"turnover_rate\",\n",
    "        \"pe\",\n",
    "        \"pb\"\n",
    "    ])\n",
    "\n",
    "    # 拉取数据\n",
    "    stock_daily = pro.daily(**{\n",
    "        \"ts_code\": stock_id,\n",
    "        \"trade_date\": \"\",\n",
    "        \"start_date\": start_time,\n",
    "        \"end_date\": end_time,\n",
    "        \"offset\": \"\",\n",
    "        \"limit\": \"\"\n",
    "    }, fields=[\n",
    "        \"ts_code\",\n",
    "        \"trade_date\",\n",
    "        \"open\",\n",
    "        \"high\",\n",
    "        \"low\",\n",
    "        \"close\",\n",
    "        \"vol\",\n",
    "        \"amount\"\n",
    "    ])\n",
    "\n",
    "    if stock_daily.empty:\n",
    "        print(f'{stock_id} stock 行情数据 is empty')\n",
    "    if stock_daily_basic.empty:\n",
    "        print(f'{stock_id} stock 每日指标 is empty')\n",
    "    stock = stock_daily.merge(stock_daily_basic, how='left', on=['ts_code', 'trade_date'])\n",
    "    return stock"
   ],
   "id": "32f2791a8e0b785c",
   "outputs": [],
   "execution_count": 8
  },
  {
   "metadata": {
    "ExecuteTime": {
     "end_time": "2025-05-07T05:55:49.112605Z",
     "start_time": "2025-05-07T05:55:49.108012Z"
    }
   },
   "cell_type": "markdown",
   "source": "## 情绪词典处理",
   "id": "d65bb5710939ace4"
  },
  {
   "metadata": {
    "ExecuteTime": {
     "end_time": "2025-05-13T04:10:17.480651Z",
     "start_time": "2025-05-13T04:10:17.429767Z"
    }
   },
   "cell_type": "code",
   "source": [
    "txt_file = 'Sentiment dict plus.txt'\n",
    "\n",
    "# 初始化分类容器\n",
    "positive_words = []\n",
    "negative_words = []\n",
    "\n",
    "# 读取并处理文件\n",
    "try:\n",
    "    with open(txt_file , \"r\", encoding=\"utf-8\") as file:\n",
    "        for line_num, line in enumerate(file, 1):\n",
    "            # 清理并分割行内容\n",
    "            cleaned_line = line.strip()\n",
    "            if not cleaned_line:\n",
    "                continue  # 跳过空行\n",
    "\n",
    "            # 分割词语和数值（兼容空格/制表符分隔）\n",
    "            parts = cleaned_line.split(maxsplit=1)  # 最多分割一次\n",
    "            if len(parts) != 2:\n",
    "                print(f\"第 {line_num} 行格式错误：{line}\")\n",
    "                continue\n",
    "\n",
    "            word, score = parts\n",
    "            try:\n",
    "                score = int(score)\n",
    "            except ValueError:\n",
    "                print(f\"第 {line_num} 行数值格式错误：{score}\")\n",
    "                continue\n",
    "\n",
    "            # 分类存储\n",
    "            if score == 1:\n",
    "                positive_words.append(word)\n",
    "            elif score == -1:\n",
    "                negative_words.append(word)\n",
    "            else:\n",
    "                print(f\"第 {line_num} 行发现无效数值：{score}\")\n",
    "\n",
    "except FileNotFoundError:\n",
    "    print(\"错误：未找到文件 financial_words.txt\")\n",
    "except Exception as e:\n",
    "    print(f\"发生未知错误：{str(e)}\")\n",
    "\n",
    "# 输出统计结果\n",
    "print(f\"\\n积极词汇（共 {len(positive_words)} 个）：\")\n",
    "print(\", \".join(positive_words[:3]) + (\"...\" if len(positive_words) > 3 else \"\"))\n",
    "\n",
    "print(f\"\\n消极词汇（共 {len(negative_words)} 个）：\")\n",
    "print(\", \".join(negative_words[:3]) + (\"...\" if len(negative_words) > 3 else \"\"))"
   ],
   "id": "200764448ee9b9bd",
   "outputs": [
    {
     "name": "stdout",
     "output_type": "stream",
     "text": [
      "\n",
      "积极词汇（共 3645 个）：\n",
      "安定, 安康, 帮助...\n",
      "\n",
      "消极词汇（共 6177 个）：\n",
      "败坏名声, 被没收的, 变节...\n"
     ]
    }
   ],
   "execution_count": 9
  },
  {
   "metadata": {},
   "cell_type": "markdown",
   "source": "## 读取个股股评 csv",
   "id": "cb492cd5d61eab86"
  },
  {
   "metadata": {
    "ExecuteTime": {
     "end_time": "2025-05-13T04:10:20.809190Z",
     "start_time": "2025-05-13T04:10:20.802913Z"
    }
   },
   "cell_type": "code",
   "source": "stock_id_list = ['000333.SZ', '002594.SZ', '300750.SZ', '600036.SH', '600519.SH', '600900.SH','601318.SH']",
   "id": "a07e39b68e1877e4",
   "outputs": [],
   "execution_count": 10
  },
  {
   "metadata": {
    "ExecuteTime": {
     "end_time": "2025-05-13T04:10:21.106879Z",
     "start_time": "2025-05-13T04:10:21.103147Z"
    }
   },
   "cell_type": "code",
   "source": "stock_df_len = {}\n",
   "id": "ca8f9a2ee548ca01",
   "outputs": [],
   "execution_count": 11
  },
  {
   "metadata": {
    "ExecuteTime": {
     "end_time": "2025-05-13T04:10:23.288758Z",
     "start_time": "2025-05-13T04:10:23.219314Z"
    }
   },
   "cell_type": "code",
   "source": "initial_df = pd.DataFrame()",
   "id": "66aca1e5e3c8486b",
   "outputs": [],
   "execution_count": 12
  },
  {
   "metadata": {
    "ExecuteTime": {
     "end_time": "2025-05-13T04:10:25.264783Z",
     "start_time": "2025-05-13T04:10:25.255621Z"
    }
   },
   "cell_type": "code",
   "source": [
    "df_000333 = pd.DataFrame()\n",
    "df_002594 = pd.DataFrame()\n",
    "df_600519 = pd.DataFrame()\n",
    "df_600900 = pd.DataFrame()\n",
    "df_601318 = pd.DataFrame()\n",
    "df_000300 = pd.DataFrame()\n",
    "df_300750 = pd.DataFrame()\n",
    "df_600036 = pd.DataFrame()\n",
    "stock_dfs = {\n",
    "    '000333.SZ': df_000333,\n",
    "    '002594.SZ': df_002594,\n",
    "    '300750.SZ': df_300750,\n",
    "    '600519.SH': df_600519,\n",
    "    '600900.SH': df_600900,\n",
    "    '601318.SH': df_601318,\n",
    "    '600036.SH': df_600036\n",
    "}"
   ],
   "id": "9b46847b2b420a6a",
   "outputs": [],
   "execution_count": 13
  },
  {
   "metadata": {
    "ExecuteTime": {
     "end_time": "2025-05-13T04:10:28.488619Z",
     "start_time": "2025-05-13T04:10:27.721479Z"
    }
   },
   "cell_type": "code",
   "source": [
    "for stock_id in stock_id_list:\n",
    "    stock_id_str = stock_id[:6]\n",
    "    post_info = f'post_info.post_{stock_id_str}.csv'\n",
    "    df = pd.read_csv(post_info)\n",
    "    df = df.dropna()\n",
    "    if df.empty:\n",
    "        print(f'{stock_id} csv empty')\n",
    "    df['post_datetime'] = pd.to_datetime(df[\"post_date\"] + \" \" + df[\"post_time\"])\n",
    "    df  = df.sort_values(by=['post_datetime'], ascending=True)\n",
    "    stock_dfs[stock_id] = df[df['post_url'].str.contains(stock_id_str, na=False)].reset_index(drop=True).copy()\n",
    "    stock_df_len[stock_id] = len(stock_dfs[stock_id])"
   ],
   "id": "4057e8da51544a83",
   "outputs": [],
   "execution_count": 14
  },
  {
   "metadata": {},
   "cell_type": "markdown",
   "source": "",
   "id": "a971f7a17ec64e01"
  },
  {
   "metadata": {},
   "cell_type": "markdown",
   "source": "",
   "id": "654b25f658bfb49c"
  },
  {
   "metadata": {
    "ExecuteTime": {
     "end_time": "2025-05-13T04:10:30.216118Z",
     "start_time": "2025-05-13T04:10:30.202366Z"
    }
   },
   "cell_type": "code",
   "source": "stock_df_len",
   "id": "737f74fc1cf9e106",
   "outputs": [
    {
     "data": {
      "text/plain": [
       "{'000333.SZ': 4631,\n",
       " '002594.SZ': 1393,\n",
       " '300750.SZ': 1640,\n",
       " '600036.SH': 5489,\n",
       " '600519.SH': 3681,\n",
       " '600900.SH': 4438,\n",
       " '601318.SH': 4009}"
      ]
     },
     "execution_count": 15,
     "metadata": {},
     "output_type": "execute_result"
    }
   ],
   "execution_count": 15
  },
  {
   "metadata": {},
   "cell_type": "markdown",
   "source": "## 个股数据 sentiment整合 full_stock",
   "id": "1100fa580bfed3b5"
  },
  {
   "metadata": {
    "ExecuteTime": {
     "end_time": "2025-05-13T04:10:33.330013Z",
     "start_time": "2025-05-13T04:10:33.324705Z"
    }
   },
   "cell_type": "code",
   "source": "full_stock = pd.DataFrame()",
   "id": "132295831f4dcf0",
   "outputs": [],
   "execution_count": 16
  },
  {
   "metadata": {
    "ExecuteTime": {
     "end_time": "2025-05-13T04:10:34.118832Z",
     "start_time": "2025-05-13T04:10:34.115608Z"
    }
   },
   "cell_type": "code",
   "source": "stock_id_list = ['000333.SZ', '300750.SZ', '600036.SH', '600519.SH', '600900.SH','601318.SH']",
   "id": "ff9df4f5f74c56a",
   "outputs": [],
   "execution_count": 17
  },
  {
   "metadata": {
    "ExecuteTime": {
     "end_time": "2025-05-13T04:17:51.137926Z",
     "start_time": "2025-05-13T04:17:51.134032Z"
    }
   },
   "cell_type": "code",
   "source": "stock_id = '601318.SH'",
   "id": "6a258d92a4c7759d",
   "outputs": [],
   "execution_count": 189
  },
  {
   "metadata": {
    "ExecuteTime": {
     "end_time": "2025-05-13T04:17:53.137018Z",
     "start_time": "2025-05-13T04:17:53.134135Z"
    }
   },
   "cell_type": "code",
   "source": "initial_df = stock_dfs[stock_id]",
   "id": "2f135d00745a2857",
   "outputs": [],
   "execution_count": 190
  },
  {
   "metadata": {
    "ExecuteTime": {
     "end_time": "2025-05-13T04:17:53.718462Z",
     "start_time": "2025-05-13T04:17:53.395491Z"
    }
   },
   "cell_type": "code",
   "source": [
    "start_time = initial_df['post_datetime'].min().strftime('%Y%m%d')\n",
    "end_time = initial_df['post_datetime'].max().strftime('%Y%m%d')\n",
    "stock = get_stock_data(stock_id, start_time, end_time)"
   ],
   "id": "9844375a78a4dc75",
   "outputs": [],
   "execution_count": 191
  },
  {
   "metadata": {
    "ExecuteTime": {
     "end_time": "2025-05-13T04:17:53.732111Z",
     "start_time": "2025-05-13T04:17:53.728131Z"
    }
   },
   "cell_type": "code",
   "source": "print(start_time,end_time)",
   "id": "efd7366145534242",
   "outputs": [
    {
     "name": "stdout",
     "output_type": "stream",
     "text": [
      "20250303 20250505\n"
     ]
    }
   ],
   "execution_count": 192
  },
  {
   "metadata": {
    "ExecuteTime": {
     "end_time": "2025-05-13T04:17:55.307448Z",
     "start_time": "2025-05-13T04:17:55.302495Z"
    }
   },
   "cell_type": "code",
   "source": [
    "stock = stock.sort_values(by=['trade_date'], ascending=True).reset_index(drop=True)\n",
    "stock['trade_date'] = pd.to_datetime(stock['trade_date'])"
   ],
   "id": "2b3f54a140e5b80b",
   "outputs": [],
   "execution_count": 193
  },
  {
   "metadata": {
    "ExecuteTime": {
     "end_time": "2025-05-13T04:17:55.504962Z",
     "start_time": "2025-05-13T04:17:55.501506Z"
    }
   },
   "cell_type": "code",
   "source": "result = stock.copy()",
   "id": "9ecad9faedb3e7b1",
   "outputs": [],
   "execution_count": 194
  },
  {
   "metadata": {
    "ExecuteTime": {
     "end_time": "2025-05-13T04:17:55.740015Z",
     "start_time": "2025-05-13T04:17:55.735339Z"
    }
   },
   "cell_type": "code",
   "source": "result['return'] = np.log(result['close']/result['close'].shift(1))*100",
   "id": "dcf9ea2b7c1fa0a0",
   "outputs": [],
   "execution_count": 195
  },
  {
   "metadata": {
    "ExecuteTime": {
     "end_time": "2025-05-13T04:17:57.277894Z",
     "start_time": "2025-05-13T04:17:57.266597Z"
    }
   },
   "cell_type": "code",
   "source": "result.head(2)",
   "id": "8a3aab73be7f07e5",
   "outputs": [
    {
     "data": {
      "text/plain": [
       "     ts_code trade_date   open   high    low  close        vol       amount  \\\n",
       "0  601318.SH 2025-03-03  50.55  50.82  50.06  50.33  423160.83  2135730.015   \n",
       "1  601318.SH 2025-03-04  50.08  50.29  50.00  50.08  372431.63  1867141.471   \n",
       "\n",
       "   turnover_rate       pe      pb    return  \n",
       "0         0.3932  10.6989  1.0285       NaN  \n",
       "1         0.3460  10.6458  1.0234 -0.497959  "
      ],
      "text/html": [
       "<div>\n",
       "<style scoped>\n",
       "    .dataframe tbody tr th:only-of-type {\n",
       "        vertical-align: middle;\n",
       "    }\n",
       "\n",
       "    .dataframe tbody tr th {\n",
       "        vertical-align: top;\n",
       "    }\n",
       "\n",
       "    .dataframe thead th {\n",
       "        text-align: right;\n",
       "    }\n",
       "</style>\n",
       "<table border=\"1\" class=\"dataframe\">\n",
       "  <thead>\n",
       "    <tr style=\"text-align: right;\">\n",
       "      <th></th>\n",
       "      <th>ts_code</th>\n",
       "      <th>trade_date</th>\n",
       "      <th>open</th>\n",
       "      <th>high</th>\n",
       "      <th>low</th>\n",
       "      <th>close</th>\n",
       "      <th>vol</th>\n",
       "      <th>amount</th>\n",
       "      <th>turnover_rate</th>\n",
       "      <th>pe</th>\n",
       "      <th>pb</th>\n",
       "      <th>return</th>\n",
       "    </tr>\n",
       "  </thead>\n",
       "  <tbody>\n",
       "    <tr>\n",
       "      <th>0</th>\n",
       "      <td>601318.SH</td>\n",
       "      <td>2025-03-03</td>\n",
       "      <td>50.55</td>\n",
       "      <td>50.82</td>\n",
       "      <td>50.06</td>\n",
       "      <td>50.33</td>\n",
       "      <td>423160.83</td>\n",
       "      <td>2135730.015</td>\n",
       "      <td>0.3932</td>\n",
       "      <td>10.6989</td>\n",
       "      <td>1.0285</td>\n",
       "      <td>NaN</td>\n",
       "    </tr>\n",
       "    <tr>\n",
       "      <th>1</th>\n",
       "      <td>601318.SH</td>\n",
       "      <td>2025-03-04</td>\n",
       "      <td>50.08</td>\n",
       "      <td>50.29</td>\n",
       "      <td>50.00</td>\n",
       "      <td>50.08</td>\n",
       "      <td>372431.63</td>\n",
       "      <td>1867141.471</td>\n",
       "      <td>0.3460</td>\n",
       "      <td>10.6458</td>\n",
       "      <td>1.0234</td>\n",
       "      <td>-0.497959</td>\n",
       "    </tr>\n",
       "  </tbody>\n",
       "</table>\n",
       "</div>"
      ]
     },
     "execution_count": 196,
     "metadata": {},
     "output_type": "execute_result"
    }
   ],
   "execution_count": 196
  },
  {
   "metadata": {
    "ExecuteTime": {
     "end_time": "2025-05-13T04:17:59.136182Z",
     "start_time": "2025-05-13T04:17:59.131365Z"
    }
   },
   "cell_type": "code",
   "source": [
    "result['return'] = result['return'].fillna(0)\n",
    "result['volatility'] = (result['high'] - result['low'])/((result['high']+result['low'])/2)*100"
   ],
   "id": "e3f9b6ebb9dcb6fe",
   "outputs": [],
   "execution_count": 197
  },
  {
   "metadata": {
    "ExecuteTime": {
     "end_time": "2025-05-13T04:17:59.387578Z",
     "start_time": "2025-05-13T04:17:59.382399Z"
    }
   },
   "cell_type": "code",
   "source": "result = result.rename(columns={'return': 'returns'}).copy()",
   "id": "841b4866e89aa6a1",
   "outputs": [],
   "execution_count": 198
  },
  {
   "metadata": {
    "ExecuteTime": {
     "end_time": "2025-05-13T04:17:59.644471Z",
     "start_time": "2025-05-13T04:17:59.632505Z"
    }
   },
   "cell_type": "code",
   "source": [
    "result['returns_new'] = winsorize_series(result['returns'])\n",
    "result['log_volatility'] = np.log(result['volatility']/100 + 1e-5).pipe(lambda x: (x - x.mean())/x.std())*100\n",
    "result['turnover_rate_new'] = result['turnover_rate'].apply(lambda x: np.log(1+x))\n",
    "result['pe_new'] = winsorize_series(result['pe'], lower=0.01, upper=0.99)\n",
    "result['pb_new'] = winsorize_series(result['pb'], lower=0.01, upper=0.99)"
   ],
   "id": "8bdf81448081609d",
   "outputs": [],
   "execution_count": 199
  },
  {
   "metadata": {
    "ExecuteTime": {
     "end_time": "2025-05-13T04:18:01.130638Z",
     "start_time": "2025-05-13T04:18:01.126470Z"
    }
   },
   "cell_type": "code",
   "source": "result['vol'] = result['vol']/1e6 # (百万)",
   "id": "b8f2964bbac37a42",
   "outputs": [],
   "execution_count": 200
  },
  {
   "metadata": {
    "ExecuteTime": {
     "end_time": "2025-05-13T04:18:01.389855Z",
     "start_time": "2025-05-13T04:18:01.377341Z"
    }
   },
   "cell_type": "code",
   "source": "result.head(2)",
   "id": "961e4f13050a5fe",
   "outputs": [
    {
     "data": {
      "text/plain": [
       "     ts_code trade_date   open   high    low  close       vol       amount  \\\n",
       "0  601318.SH 2025-03-03  50.55  50.82  50.06  50.33  0.423161  2135730.015   \n",
       "1  601318.SH 2025-03-04  50.08  50.29  50.00  50.08  0.372432  1867141.471   \n",
       "\n",
       "   turnover_rate       pe      pb   returns  volatility  returns_new  \\\n",
       "0         0.3932  10.6989  1.0285  0.000000    1.506741     0.000000   \n",
       "1         0.3460  10.6458  1.0234 -0.497959    0.578323    -0.497959   \n",
       "\n",
       "   log_volatility  turnover_rate_new   pe_new  pb_new  \n",
       "0       19.210973           0.331603  10.6989  1.0285  \n",
       "1     -173.401584           0.297137  10.6458  1.0234  "
      ],
      "text/html": [
       "<div>\n",
       "<style scoped>\n",
       "    .dataframe tbody tr th:only-of-type {\n",
       "        vertical-align: middle;\n",
       "    }\n",
       "\n",
       "    .dataframe tbody tr th {\n",
       "        vertical-align: top;\n",
       "    }\n",
       "\n",
       "    .dataframe thead th {\n",
       "        text-align: right;\n",
       "    }\n",
       "</style>\n",
       "<table border=\"1\" class=\"dataframe\">\n",
       "  <thead>\n",
       "    <tr style=\"text-align: right;\">\n",
       "      <th></th>\n",
       "      <th>ts_code</th>\n",
       "      <th>trade_date</th>\n",
       "      <th>open</th>\n",
       "      <th>high</th>\n",
       "      <th>low</th>\n",
       "      <th>close</th>\n",
       "      <th>vol</th>\n",
       "      <th>amount</th>\n",
       "      <th>turnover_rate</th>\n",
       "      <th>pe</th>\n",
       "      <th>pb</th>\n",
       "      <th>returns</th>\n",
       "      <th>volatility</th>\n",
       "      <th>returns_new</th>\n",
       "      <th>log_volatility</th>\n",
       "      <th>turnover_rate_new</th>\n",
       "      <th>pe_new</th>\n",
       "      <th>pb_new</th>\n",
       "    </tr>\n",
       "  </thead>\n",
       "  <tbody>\n",
       "    <tr>\n",
       "      <th>0</th>\n",
       "      <td>601318.SH</td>\n",
       "      <td>2025-03-03</td>\n",
       "      <td>50.55</td>\n",
       "      <td>50.82</td>\n",
       "      <td>50.06</td>\n",
       "      <td>50.33</td>\n",
       "      <td>0.423161</td>\n",
       "      <td>2135730.015</td>\n",
       "      <td>0.3932</td>\n",
       "      <td>10.6989</td>\n",
       "      <td>1.0285</td>\n",
       "      <td>0.000000</td>\n",
       "      <td>1.506741</td>\n",
       "      <td>0.000000</td>\n",
       "      <td>19.210973</td>\n",
       "      <td>0.331603</td>\n",
       "      <td>10.6989</td>\n",
       "      <td>1.0285</td>\n",
       "    </tr>\n",
       "    <tr>\n",
       "      <th>1</th>\n",
       "      <td>601318.SH</td>\n",
       "      <td>2025-03-04</td>\n",
       "      <td>50.08</td>\n",
       "      <td>50.29</td>\n",
       "      <td>50.00</td>\n",
       "      <td>50.08</td>\n",
       "      <td>0.372432</td>\n",
       "      <td>1867141.471</td>\n",
       "      <td>0.3460</td>\n",
       "      <td>10.6458</td>\n",
       "      <td>1.0234</td>\n",
       "      <td>-0.497959</td>\n",
       "      <td>0.578323</td>\n",
       "      <td>-0.497959</td>\n",
       "      <td>-173.401584</td>\n",
       "      <td>0.297137</td>\n",
       "      <td>10.6458</td>\n",
       "      <td>1.0234</td>\n",
       "    </tr>\n",
       "  </tbody>\n",
       "</table>\n",
       "</div>"
      ]
     },
     "execution_count": 201,
     "metadata": {},
     "output_type": "execute_result"
    }
   ],
   "execution_count": 201
  },
  {
   "metadata": {
    "ExecuteTime": {
     "end_time": "2025-05-13T04:18:03.205217Z",
     "start_time": "2025-05-13T04:18:03.201614Z"
    }
   },
   "cell_type": "code",
   "source": "len(result)",
   "id": "af8f6848ea818cb",
   "outputs": [
    {
     "data": {
      "text/plain": [
       "42"
      ]
     },
     "execution_count": 202,
     "metadata": {},
     "output_type": "execute_result"
    }
   ],
   "execution_count": 202
  },
  {
   "metadata": {
    "ExecuteTime": {
     "end_time": "2025-05-13T04:18:03.519706Z",
     "start_time": "2025-05-13T04:18:03.512536Z"
    }
   },
   "cell_type": "code",
   "source": [
    "df = initial_df.drop(columns=['_id', 'post_url', 'post_author', 'post_time'])\n",
    "df['post_date'] = pd.to_datetime(df['post_date'])"
   ],
   "id": "a22efe56154f6bc7",
   "outputs": [],
   "execution_count": 203
  },
  {
   "metadata": {
    "ExecuteTime": {
     "end_time": "2025-05-13T04:18:11.579520Z",
     "start_time": "2025-05-13T04:18:05.305835Z"
    }
   },
   "cell_type": "code",
   "source": [
    "df['pos_num'] = df['post_title'].apply(sentiment_analysis, args=(positive_words,))\n",
    "df['neg_num'] = df['post_title'].apply(sentiment_analysis, args=(negative_words,))\n",
    "df['word_num'] = df['post_title'].apply(len)"
   ],
   "id": "1f9749b1ad7f3af9",
   "outputs": [],
   "execution_count": 204
  },
  {
   "metadata": {
    "ExecuteTime": {
     "end_time": "2025-05-13T04:18:13.496158Z",
     "start_time": "2025-05-13T04:18:13.487239Z"
    }
   },
   "cell_type": "code",
   "source": "df.head(2)",
   "id": "c90164760504f0b0",
   "outputs": [
    {
     "data": {
      "text/plain": [
       "                      post_title post_view  comment_num  post_date  \\\n",
       "0   没跌几毛钱就拉有意义吗？差价都做不了，要么就直接砸到48       172            0 2025-03-03   \n",
       "1  不会涨的因为小豆丁买了一千多万必须跌到45再拉开个玩笑而已       232            2 2025-03-03   \n",
       "\n",
       "        post_datetime  pos_num  neg_num  word_num  \n",
       "0 2025-03-03 14:47:00        0        0        28  \n",
       "1 2025-03-03 15:05:00        1        0        29  "
      ],
      "text/html": [
       "<div>\n",
       "<style scoped>\n",
       "    .dataframe tbody tr th:only-of-type {\n",
       "        vertical-align: middle;\n",
       "    }\n",
       "\n",
       "    .dataframe tbody tr th {\n",
       "        vertical-align: top;\n",
       "    }\n",
       "\n",
       "    .dataframe thead th {\n",
       "        text-align: right;\n",
       "    }\n",
       "</style>\n",
       "<table border=\"1\" class=\"dataframe\">\n",
       "  <thead>\n",
       "    <tr style=\"text-align: right;\">\n",
       "      <th></th>\n",
       "      <th>post_title</th>\n",
       "      <th>post_view</th>\n",
       "      <th>comment_num</th>\n",
       "      <th>post_date</th>\n",
       "      <th>post_datetime</th>\n",
       "      <th>pos_num</th>\n",
       "      <th>neg_num</th>\n",
       "      <th>word_num</th>\n",
       "    </tr>\n",
       "  </thead>\n",
       "  <tbody>\n",
       "    <tr>\n",
       "      <th>0</th>\n",
       "      <td>没跌几毛钱就拉有意义吗？差价都做不了，要么就直接砸到48</td>\n",
       "      <td>172</td>\n",
       "      <td>0</td>\n",
       "      <td>2025-03-03</td>\n",
       "      <td>2025-03-03 14:47:00</td>\n",
       "      <td>0</td>\n",
       "      <td>0</td>\n",
       "      <td>28</td>\n",
       "    </tr>\n",
       "    <tr>\n",
       "      <th>1</th>\n",
       "      <td>不会涨的因为小豆丁买了一千多万必须跌到45再拉开个玩笑而已</td>\n",
       "      <td>232</td>\n",
       "      <td>2</td>\n",
       "      <td>2025-03-03</td>\n",
       "      <td>2025-03-03 15:05:00</td>\n",
       "      <td>1</td>\n",
       "      <td>0</td>\n",
       "      <td>29</td>\n",
       "    </tr>\n",
       "  </tbody>\n",
       "</table>\n",
       "</div>"
      ]
     },
     "execution_count": 205,
     "metadata": {},
     "output_type": "execute_result"
    }
   ],
   "execution_count": 205
  },
  {
   "metadata": {
    "ExecuteTime": {
     "end_time": "2025-05-13T04:18:15.595696Z",
     "start_time": "2025-05-13T04:18:15.521373Z"
    }
   },
   "cell_type": "code",
   "source": "result = SentimentIndex(df, result)",
   "id": "7ca3e3d51d4cd33e",
   "outputs": [],
   "execution_count": 206
  },
  {
   "metadata": {
    "ExecuteTime": {
     "end_time": "2025-05-13T04:18:15.683205Z",
     "start_time": "2025-05-13T04:18:15.679498Z"
    }
   },
   "cell_type": "code",
   "source": "result['agreement_index'] = result['sentiment_index'].apply(lambda x : 1-np.sqrt(1-x**2))",
   "id": "a2caa192252fc168",
   "outputs": [],
   "execution_count": 207
  },
  {
   "metadata": {
    "ExecuteTime": {
     "end_time": "2025-05-13T04:18:15.868208Z",
     "start_time": "2025-05-13T04:18:15.862813Z"
    }
   },
   "cell_type": "code",
   "source": "result = result[~result['sentiment_index'].isna()].reset_index(drop=True)",
   "id": "1ff2e229e5d92e6f",
   "outputs": [],
   "execution_count": 208
  },
  {
   "metadata": {
    "ExecuteTime": {
     "end_time": "2025-05-13T04:18:16.037018Z",
     "start_time": "2025-05-13T04:18:16.032651Z"
    }
   },
   "cell_type": "code",
   "source": "result['sentiment_index_lag_1'] = result['sentiment_index'].shift(1).fillna(0)",
   "id": "6b74ddb92e65de82",
   "outputs": [],
   "execution_count": 209
  },
  {
   "metadata": {
    "ExecuteTime": {
     "end_time": "2025-05-13T04:18:16.223915Z",
     "start_time": "2025-05-13T04:18:16.219282Z"
    }
   },
   "cell_type": "code",
   "source": "data_processed = result[['ts_code', 'trade_date', 'sentiment_index', 'agreement_index', 'vol', 'returns_new', 'log_volatility', 'pe_new', 'pb_new', 'turnover_rate_new', 'sentiment_index_lag_1']].copy()",
   "id": "2b030c9b79d39fc3",
   "outputs": [],
   "execution_count": 210
  },
  {
   "metadata": {
    "ExecuteTime": {
     "end_time": "2025-05-13T04:18:16.708163Z",
     "start_time": "2025-05-13T04:18:16.703329Z"
    }
   },
   "cell_type": "code",
   "source": [
    "for column in ['pe_new', 'pb_new', 'turnover_rate_new', 'vol']:\n",
    "    data_processed[column] = data_processed[column].diff()"
   ],
   "id": "b6b1f4d605d93e1f",
   "outputs": [],
   "execution_count": 211
  },
  {
   "metadata": {
    "ExecuteTime": {
     "end_time": "2025-05-13T04:18:18.942198Z",
     "start_time": "2025-05-13T04:18:18.915450Z"
    }
   },
   "cell_type": "code",
   "source": [
    "for column in ['pe_new', 'pb_new', 'turnover_rate_new', 'vol']:\n",
    "    print(f\"\\n=== {column} 平稳性检验 ===\")\n",
    "    test_stationarity(data_processed[column])"
   ],
   "id": "6ddc8bc2116976",
   "outputs": [
    {
     "name": "stdout",
     "output_type": "stream",
     "text": [
      "\n",
      "=== pe_new 平稳性检验 ===\n",
      "ADF Statistic: -6.0425\n",
      "ADF p-value: 0.0000\n",
      "ADF结论: 序列平稳\n",
      "\n",
      "KPSS Statistic: 0.1016\n",
      "KPSS p-value: 0.1000\n",
      "KPSS结论: 序列趋势平稳\n",
      "\n",
      "=== pb_new 平稳性检验 ===\n",
      "ADF Statistic: -6.2046\n",
      "ADF p-value: 0.0000\n",
      "ADF结论: 序列平稳\n",
      "\n",
      "KPSS Statistic: 0.0850\n",
      "KPSS p-value: 0.1000\n",
      "KPSS结论: 序列趋势平稳\n",
      "\n",
      "=== turnover_rate_new 平稳性检验 ===\n",
      "ADF Statistic: -8.8883\n",
      "ADF p-value: 0.0000\n",
      "ADF结论: 序列平稳\n",
      "\n",
      "KPSS Statistic: 0.2602\n",
      "KPSS p-value: 0.1000\n",
      "KPSS结论: 序列趋势平稳\n",
      "\n",
      "=== vol 平稳性检验 ===\n",
      "ADF Statistic: -8.9789\n",
      "ADF p-value: 0.0000\n",
      "ADF结论: 序列平稳\n",
      "\n",
      "KPSS Statistic: 0.3198\n",
      "KPSS p-value: 0.1000\n",
      "KPSS结论: 序列趋势平稳\n"
     ]
    },
    {
     "name": "stderr",
     "output_type": "stream",
     "text": [
      "C:\\Users\\Administrator\\AppData\\Local\\Temp\\ipykernel_12596\\2839035517.py:9: InterpolationWarning: The test statistic is outside of the range of p-values available in the\n",
      "look-up table. The actual p-value is greater than the p-value returned.\n",
      "\n",
      "  kpss_result = kpss(series.dropna())\n",
      "C:\\Users\\Administrator\\AppData\\Local\\Temp\\ipykernel_12596\\2839035517.py:9: InterpolationWarning: The test statistic is outside of the range of p-values available in the\n",
      "look-up table. The actual p-value is greater than the p-value returned.\n",
      "\n",
      "  kpss_result = kpss(series.dropna())\n",
      "C:\\Users\\Administrator\\AppData\\Local\\Temp\\ipykernel_12596\\2839035517.py:9: InterpolationWarning: The test statistic is outside of the range of p-values available in the\n",
      "look-up table. The actual p-value is greater than the p-value returned.\n",
      "\n",
      "  kpss_result = kpss(series.dropna())\n",
      "C:\\Users\\Administrator\\AppData\\Local\\Temp\\ipykernel_12596\\2839035517.py:9: InterpolationWarning: The test statistic is outside of the range of p-values available in the\n",
      "look-up table. The actual p-value is greater than the p-value returned.\n",
      "\n",
      "  kpss_result = kpss(series.dropna())\n"
     ]
    }
   ],
   "execution_count": 212
  },
  {
   "metadata": {
    "ExecuteTime": {
     "end_time": "2025-05-13T04:18:20.471836Z",
     "start_time": "2025-05-13T04:18:20.464667Z"
    }
   },
   "cell_type": "code",
   "source": [
    "# 初步数据处理，标注化\n",
    "# 1.1 Z-Score标准化（适用于收益率、波动率）\n",
    "cols_to_standardize = ['returns_new', 'log_volatility','sentiment_index', 'sentiment_index_lag_1']\n",
    "data_std = data_processed[cols_to_standardize].apply(lambda x: (x - x.mean())/x.std())\n"
   ],
   "id": "eccb2e7df4f729e1",
   "outputs": [],
   "execution_count": 213
  },
  {
   "metadata": {
    "ExecuteTime": {
     "end_time": "2025-05-13T04:18:20.640119Z",
     "start_time": "2025-05-13T04:18:20.637071Z"
    }
   },
   "cell_type": "code",
   "source": [
    "cols_to_minmax = []\n",
    "# data_minmax = data[cols_to_minmax].apply(lambda x: (x - x.min())/(x.max() - x.min()))"
   ],
   "id": "74ebbd7eb50c7595",
   "outputs": [],
   "execution_count": 214
  },
  {
   "metadata": {
    "ExecuteTime": {
     "end_time": "2025-05-13T04:18:20.796448Z",
     "start_time": "2025-05-13T04:18:20.792001Z"
    }
   },
   "cell_type": "code",
   "source": [
    "data_processed = pd.concat([data_processed.drop(columns=cols_to_standardize+cols_to_minmax),\n",
    "                           data_std], axis=1)"
   ],
   "id": "3f6f0b0975d47874",
   "outputs": [],
   "execution_count": 215
  },
  {
   "metadata": {
    "ExecuteTime": {
     "end_time": "2025-05-13T04:18:20.908162Z",
     "start_time": "2025-05-13T04:18:20.904210Z"
    }
   },
   "cell_type": "code",
   "source": "data_processed = data_processed.fillna(0)\n",
   "id": "5724d35e609f5658",
   "outputs": [],
   "execution_count": 216
  },
  {
   "metadata": {
    "ExecuteTime": {
     "end_time": "2025-05-13T04:18:22.524074Z",
     "start_time": "2025-05-13T04:18:22.520233Z"
    }
   },
   "cell_type": "code",
   "source": "full_stock = pd.concat([full_stock, data_processed], ignore_index = True)",
   "id": "11ae10305fd37023",
   "outputs": [],
   "execution_count": 217
  },
  {
   "metadata": {
    "ExecuteTime": {
     "end_time": "2025-05-13T04:18:22.791246Z",
     "start_time": "2025-05-13T04:18:22.786662Z"
    }
   },
   "cell_type": "code",
   "source": "len(full_stock)",
   "id": "32e225d7d3c78134",
   "outputs": [
    {
     "data": {
      "text/plain": [
       "331"
      ]
     },
     "execution_count": 218,
     "metadata": {},
     "output_type": "execute_result"
    }
   ],
   "execution_count": 218
  },
  {
   "metadata": {
    "ExecuteTime": {
     "end_time": "2025-05-13T04:18:23.266781Z",
     "start_time": "2025-05-13T04:18:23.263194Z"
    }
   },
   "cell_type": "code",
   "source": "len(data_processed)",
   "id": "ec8325f9b36dd3e",
   "outputs": [
    {
     "data": {
      "text/plain": [
       "40"
      ]
     },
     "execution_count": 219,
     "metadata": {},
     "output_type": "execute_result"
    }
   ],
   "execution_count": 219
  },
  {
   "metadata": {
    "ExecuteTime": {
     "end_time": "2025-05-13T04:18:23.676535Z",
     "start_time": "2025-05-13T04:18:23.665902Z"
    }
   },
   "cell_type": "code",
   "source": "full_stock.head(2)",
   "id": "122511f648677128",
   "outputs": [
    {
     "data": {
      "text/plain": [
       "     ts_code trade_date  agreement_index       vol  pe_new  pb_new  \\\n",
       "0  600036.SH 2024-10-16         0.000080  0.000000  0.0000  0.0000   \n",
       "1  600036.SH 2024-10-17         0.000019 -0.163626 -0.1738 -0.0265   \n",
       "\n",
       "   turnover_rate_new  returns_new  log_volatility  sentiment_index  \\\n",
       "0            0.00000     1.846326         1.79256         1.020653   \n",
       "1           -0.05466    -1.964721         1.62925        -0.519892   \n",
       "\n",
       "   sentiment_index_lag_1  \n",
       "0              -0.015369  \n",
       "1               1.017939  "
      ],
      "text/html": [
       "<div>\n",
       "<style scoped>\n",
       "    .dataframe tbody tr th:only-of-type {\n",
       "        vertical-align: middle;\n",
       "    }\n",
       "\n",
       "    .dataframe tbody tr th {\n",
       "        vertical-align: top;\n",
       "    }\n",
       "\n",
       "    .dataframe thead th {\n",
       "        text-align: right;\n",
       "    }\n",
       "</style>\n",
       "<table border=\"1\" class=\"dataframe\">\n",
       "  <thead>\n",
       "    <tr style=\"text-align: right;\">\n",
       "      <th></th>\n",
       "      <th>ts_code</th>\n",
       "      <th>trade_date</th>\n",
       "      <th>agreement_index</th>\n",
       "      <th>vol</th>\n",
       "      <th>pe_new</th>\n",
       "      <th>pb_new</th>\n",
       "      <th>turnover_rate_new</th>\n",
       "      <th>returns_new</th>\n",
       "      <th>log_volatility</th>\n",
       "      <th>sentiment_index</th>\n",
       "      <th>sentiment_index_lag_1</th>\n",
       "    </tr>\n",
       "  </thead>\n",
       "  <tbody>\n",
       "    <tr>\n",
       "      <th>0</th>\n",
       "      <td>600036.SH</td>\n",
       "      <td>2024-10-16</td>\n",
       "      <td>0.000080</td>\n",
       "      <td>0.000000</td>\n",
       "      <td>0.0000</td>\n",
       "      <td>0.0000</td>\n",
       "      <td>0.00000</td>\n",
       "      <td>1.846326</td>\n",
       "      <td>1.79256</td>\n",
       "      <td>1.020653</td>\n",
       "      <td>-0.015369</td>\n",
       "    </tr>\n",
       "    <tr>\n",
       "      <th>1</th>\n",
       "      <td>600036.SH</td>\n",
       "      <td>2024-10-17</td>\n",
       "      <td>0.000019</td>\n",
       "      <td>-0.163626</td>\n",
       "      <td>-0.1738</td>\n",
       "      <td>-0.0265</td>\n",
       "      <td>-0.05466</td>\n",
       "      <td>-1.964721</td>\n",
       "      <td>1.62925</td>\n",
       "      <td>-0.519892</td>\n",
       "      <td>1.017939</td>\n",
       "    </tr>\n",
       "  </tbody>\n",
       "</table>\n",
       "</div>"
      ]
     },
     "execution_count": 220,
     "metadata": {},
     "output_type": "execute_result"
    }
   ],
   "execution_count": 220
  },
  {
   "metadata": {
    "ExecuteTime": {
     "end_time": "2025-05-13T04:18:25.660639Z",
     "start_time": "2025-05-13T04:18:25.656675Z"
    }
   },
   "cell_type": "code",
   "source": "full_stock = full_stock.fillna(0)",
   "id": "4408111c59eb0ff2",
   "outputs": [],
   "execution_count": 221
  },
  {
   "metadata": {
    "ExecuteTime": {
     "end_time": "2025-05-13T04:18:26.334237Z",
     "start_time": "2025-05-13T04:18:26.328724Z"
    }
   },
   "cell_type": "code",
   "source": [
    "missing_values = full_stock.isnull().sum()\n",
    "missing_values"
   ],
   "id": "5cfff521d7df7f34",
   "outputs": [
    {
     "data": {
      "text/plain": [
       "ts_code                  0\n",
       "trade_date               0\n",
       "agreement_index          0\n",
       "vol                      0\n",
       "pe_new                   0\n",
       "pb_new                   0\n",
       "turnover_rate_new        0\n",
       "returns_new              0\n",
       "log_volatility           0\n",
       "sentiment_index          0\n",
       "sentiment_index_lag_1    0\n",
       "dtype: int64"
      ]
     },
     "execution_count": 222,
     "metadata": {},
     "output_type": "execute_result"
    }
   ],
   "execution_count": 222
  },
  {
   "metadata": {
    "ExecuteTime": {
     "end_time": "2025-05-13T04:11:50.119220Z",
     "start_time": "2025-05-13T04:11:50.107819Z"
    }
   },
   "cell_type": "code",
   "source": "data_processed.head(2)",
   "id": "4e30f012e848039a",
   "outputs": [
    {
     "data": {
      "text/plain": [
       "     ts_code trade_date  agreement_index       vol  pe_new  pb_new  \\\n",
       "0  600036.SH 2024-10-16         0.000080  0.000000  0.0000  0.0000   \n",
       "1  600036.SH 2024-10-17         0.000019 -0.163626 -0.1738 -0.0265   \n",
       "\n",
       "   turnover_rate_new  returns_new  log_volatility  sentiment_index  \\\n",
       "0            0.00000     1.846326         1.79256         1.020653   \n",
       "1           -0.05466    -1.964721         1.62925        -0.519892   \n",
       "\n",
       "   sentiment_index_lag_1  \n",
       "0              -0.015369  \n",
       "1               1.017939  "
      ],
      "text/html": [
       "<div>\n",
       "<style scoped>\n",
       "    .dataframe tbody tr th:only-of-type {\n",
       "        vertical-align: middle;\n",
       "    }\n",
       "\n",
       "    .dataframe tbody tr th {\n",
       "        vertical-align: top;\n",
       "    }\n",
       "\n",
       "    .dataframe thead th {\n",
       "        text-align: right;\n",
       "    }\n",
       "</style>\n",
       "<table border=\"1\" class=\"dataframe\">\n",
       "  <thead>\n",
       "    <tr style=\"text-align: right;\">\n",
       "      <th></th>\n",
       "      <th>ts_code</th>\n",
       "      <th>trade_date</th>\n",
       "      <th>agreement_index</th>\n",
       "      <th>vol</th>\n",
       "      <th>pe_new</th>\n",
       "      <th>pb_new</th>\n",
       "      <th>turnover_rate_new</th>\n",
       "      <th>returns_new</th>\n",
       "      <th>log_volatility</th>\n",
       "      <th>sentiment_index</th>\n",
       "      <th>sentiment_index_lag_1</th>\n",
       "    </tr>\n",
       "  </thead>\n",
       "  <tbody>\n",
       "    <tr>\n",
       "      <th>0</th>\n",
       "      <td>600036.SH</td>\n",
       "      <td>2024-10-16</td>\n",
       "      <td>0.000080</td>\n",
       "      <td>0.000000</td>\n",
       "      <td>0.0000</td>\n",
       "      <td>0.0000</td>\n",
       "      <td>0.00000</td>\n",
       "      <td>1.846326</td>\n",
       "      <td>1.79256</td>\n",
       "      <td>1.020653</td>\n",
       "      <td>-0.015369</td>\n",
       "    </tr>\n",
       "    <tr>\n",
       "      <th>1</th>\n",
       "      <td>600036.SH</td>\n",
       "      <td>2024-10-17</td>\n",
       "      <td>0.000019</td>\n",
       "      <td>-0.163626</td>\n",
       "      <td>-0.1738</td>\n",
       "      <td>-0.0265</td>\n",
       "      <td>-0.05466</td>\n",
       "      <td>-1.964721</td>\n",
       "      <td>1.62925</td>\n",
       "      <td>-0.519892</td>\n",
       "      <td>1.017939</td>\n",
       "    </tr>\n",
       "  </tbody>\n",
       "</table>\n",
       "</div>"
      ]
     },
     "execution_count": 52,
     "metadata": {},
     "output_type": "execute_result"
    }
   ],
   "execution_count": 52
  },
  {
   "metadata": {
    "ExecuteTime": {
     "end_time": "2025-05-13T04:11:52.561633Z",
     "start_time": "2025-05-13T04:11:52.559540Z"
    }
   },
   "cell_type": "code",
   "source": "",
   "id": "68a759af7fef92c0",
   "outputs": [],
   "execution_count": null
  },
  {
   "metadata": {
    "ExecuteTime": {
     "end_time": "2025-05-13T04:11:52.785043Z",
     "start_time": "2025-05-13T04:11:52.780983Z"
    }
   },
   "cell_type": "code",
   "source": "data_processed.columns",
   "id": "ba81c19168e89578",
   "outputs": [
    {
     "data": {
      "text/plain": [
       "Index(['ts_code', 'trade_date', 'agreement_index', 'vol', 'pe_new', 'pb_new',\n",
       "       'turnover_rate_new', 'returns_new', 'log_volatility', 'sentiment_index',\n",
       "       'sentiment_index_lag_1'],\n",
       "      dtype='object')"
      ]
     },
     "execution_count": 53,
     "metadata": {},
     "output_type": "execute_result"
    }
   ],
   "execution_count": 53
  },
  {
   "metadata": {
    "ExecuteTime": {
     "end_time": "2025-05-13T04:23:20.658775Z",
     "start_time": "2025-05-13T04:23:20.621581Z"
    }
   },
   "cell_type": "code",
   "source": [
    "y_return = data_processed['returns_new']\n",
    "y_volume = data_processed['vol']\n",
    "y_volatility = data_processed['log_volatility']\n",
    "X = sm.add_constant(data_processed[['sentiment_index', 'agreement_index', 'pe_new', 'pb_new', 'turnover_rate_new']])\n",
    "\n",
    "model_return_ols = sm.OLS(y_return, X).fit()\n",
    "model_volume_ols = sm.OLS(y_volume, X).fit()\n",
    "model_volatility_ols = sm.OLS(y_volatility, X).fit()\n",
    "\n",
    "print(\"对数收益率 OLS 回归结果:\")\n",
    "print(model_return_ols.summary())\n",
    "print(\"成交量一阶差分 OLS 回归结果:\")\n",
    "print(model_volume_ols.summary())\n",
    "print(\"波动率 OLS 回归结果:\")\n",
    "print(model_volatility_ols.summary())"
   ],
   "id": "4a6389eb1b3a5c98",
   "outputs": [
    {
     "name": "stdout",
     "output_type": "stream",
     "text": [
      "对数收益率 OLS 回归结果:\n",
      "                            OLS Regression Results                            \n",
      "==============================================================================\n",
      "Dep. Variable:            returns_new   R-squared:                       0.968\n",
      "Model:                            OLS   Adj. R-squared:                  0.963\n",
      "Method:                 Least Squares   F-statistic:                     204.0\n",
      "Date:                Tue, 13 May 2025   Prob (F-statistic):           2.48e-24\n",
      "Time:                        12:23:20   Log-Likelihood:                 12.428\n",
      "No. Observations:                  40   AIC:                            -12.86\n",
      "Df Residuals:                      34   BIC:                            -2.723\n",
      "Df Model:                           5                                         \n",
      "Covariance Type:            nonrobust                                         \n",
      "=====================================================================================\n",
      "                        coef    std err          t      P>|t|      [0.025      0.975]\n",
      "-------------------------------------------------------------------------------------\n",
      "const                 0.0513      0.119      0.430      0.670      -0.191       0.294\n",
      "sentiment_index       0.0091      0.099      0.091      0.928      -0.192       0.211\n",
      "agreement_index    -138.6300    444.227     -0.312      0.757   -1041.409     764.149\n",
      "pe_new               -0.6421      0.081     -7.928      0.000      -0.807      -0.478\n",
      "pb_new               68.3231      2.779     24.587      0.000      62.676      73.970\n",
      "turnover_rate_new     0.2164      0.163      1.325      0.194      -0.115       0.548\n",
      "==============================================================================\n",
      "Omnibus:                       23.207   Durbin-Watson:                   2.084\n",
      "Prob(Omnibus):                  0.000   Jarque-Bera (JB):               54.794\n",
      "Skew:                           1.351   Prob(JB):                     1.26e-12\n",
      "Kurtosis:                       8.057   Cond. No.                     1.47e+04\n",
      "==============================================================================\n",
      "\n",
      "Notes:\n",
      "[1] Standard Errors assume that the covariance matrix of the errors is correctly specified.\n",
      "[2] The condition number is large, 1.47e+04. This might indicate that there are\n",
      "strong multicollinearity or other numerical problems.\n",
      "成交量一阶差分 OLS 回归结果:\n",
      "                            OLS Regression Results                            \n",
      "==============================================================================\n",
      "Dep. Variable:                    vol   R-squared:                       0.993\n",
      "Model:                            OLS   Adj. R-squared:                  0.992\n",
      "Method:                 Least Squares   F-statistic:                     937.4\n",
      "Date:                Tue, 13 May 2025   Prob (F-statistic):           2.19e-35\n",
      "Time:                        12:23:20   Log-Likelihood:                 79.403\n",
      "No. Observations:                  40   AIC:                            -146.8\n",
      "Df Residuals:                      34   BIC:                            -136.7\n",
      "Df Model:                           5                                         \n",
      "Covariance Type:            nonrobust                                         \n",
      "=====================================================================================\n",
      "                        coef    std err          t      P>|t|      [0.025      0.975]\n",
      "-------------------------------------------------------------------------------------\n",
      "const                -0.0444      0.022     -1.985      0.055      -0.090       0.001\n",
      "sentiment_index      -0.0364      0.019     -1.957      0.059      -0.074       0.001\n",
      "agreement_index     173.8319     83.261      2.088      0.044       4.625     343.038\n",
      "pe_new                0.0057      0.015      0.374      0.710      -0.025       0.037\n",
      "pb_new               -0.1767      0.521     -0.339      0.737      -1.235       0.882\n",
      "turnover_rate_new     1.9398      0.031     63.388      0.000       1.878       2.002\n",
      "==============================================================================\n",
      "Omnibus:                       18.516   Durbin-Watson:                   2.419\n",
      "Prob(Omnibus):                  0.000   Jarque-Bera (JB):               26.092\n",
      "Skew:                          -1.356   Prob(JB):                     2.16e-06\n",
      "Kurtosis:                       5.881   Cond. No.                     1.47e+04\n",
      "==============================================================================\n",
      "\n",
      "Notes:\n",
      "[1] Standard Errors assume that the covariance matrix of the errors is correctly specified.\n",
      "[2] The condition number is large, 1.47e+04. This might indicate that there are\n",
      "strong multicollinearity or other numerical problems.\n",
      "波动率 OLS 回归结果:\n",
      "                            OLS Regression Results                            \n",
      "==============================================================================\n",
      "Dep. Variable:         log_volatility   R-squared:                       0.488\n",
      "Model:                            OLS   Adj. R-squared:                  0.413\n",
      "Method:                 Least Squares   F-statistic:                     6.494\n",
      "Date:                Tue, 13 May 2025   Prob (F-statistic):           0.000245\n",
      "Time:                        12:23:20   Log-Likelihood:                -42.843\n",
      "No. Observations:                  40   AIC:                             97.69\n",
      "Df Residuals:                      34   BIC:                             107.8\n",
      "Df Model:                           5                                         \n",
      "Covariance Type:            nonrobust                                         \n",
      "=====================================================================================\n",
      "                        coef    std err          t      P>|t|      [0.025      0.975]\n",
      "-------------------------------------------------------------------------------------\n",
      "const                 0.3887      0.475      0.818      0.419      -0.576       1.354\n",
      "sentiment_index       0.2034      0.395      0.515      0.610      -0.599       1.006\n",
      "agreement_index   -1564.9021   1768.915     -0.885      0.383   -5159.770    2029.965\n",
      "pe_new               -0.1489      0.323     -0.462      0.647      -0.804       0.507\n",
      "pb_new               -0.1652     11.065     -0.015      0.988     -22.653      22.323\n",
      "turnover_rate_new     3.2775      0.650      5.041      0.000       1.956       4.599\n",
      "==============================================================================\n",
      "Omnibus:                        1.206   Durbin-Watson:                   1.467\n",
      "Prob(Omnibus):                  0.547   Jarque-Bera (JB):                0.427\n",
      "Skew:                          -0.137   Prob(JB):                        0.808\n",
      "Kurtosis:                       3.426   Cond. No.                     1.47e+04\n",
      "==============================================================================\n",
      "\n",
      "Notes:\n",
      "[1] Standard Errors assume that the covariance matrix of the errors is correctly specified.\n",
      "[2] The condition number is large, 1.47e+04. This might indicate that there are\n",
      "strong multicollinearity or other numerical problems.\n"
     ]
    }
   ],
   "execution_count": 223
  },
  {
   "metadata": {},
   "cell_type": "markdown",
   "source": "### 000333.SZ 格兰杰结果",
   "id": "4ccc9902c5b5d87c"
  },
  {
   "metadata": {
    "ExecuteTime": {
     "end_time": "2025-05-07T06:56:57.448895Z",
     "start_time": "2025-05-07T06:56:57.336497Z"
    }
   },
   "cell_type": "code",
   "source": [
    "test_data = data_processed[['returns_new', 'sentiment_index']].dropna()\n",
    "granger_test = grangercausalitytests(test_data, maxlag=8)"
   ],
   "id": "22c541e94ff74b45",
   "outputs": [
    {
     "name": "stdout",
     "output_type": "stream",
     "text": [
      "\n",
      "Granger Causality\n",
      "number of lags (no zero) 1\n",
      "ssr based F test:         F=0.5394  , p=0.4661  , df_denom=51, df_num=1\n",
      "ssr based chi2 test:   chi2=0.5711  , p=0.4498  , df=1\n",
      "likelihood ratio test: chi2=0.5681  , p=0.4510  , df=1\n",
      "parameter F test:         F=0.5394  , p=0.4661  , df_denom=51, df_num=1\n",
      "\n",
      "Granger Causality\n",
      "number of lags (no zero) 2\n",
      "ssr based F test:         F=0.1892  , p=0.8282  , df_denom=48, df_num=2\n",
      "ssr based chi2 test:   chi2=0.4179  , p=0.8114  , df=2\n",
      "likelihood ratio test: chi2=0.4163  , p=0.8121  , df=2\n",
      "parameter F test:         F=0.1892  , p=0.8282  , df_denom=48, df_num=2\n",
      "\n",
      "Granger Causality\n",
      "number of lags (no zero) 3\n",
      "ssr based F test:         F=0.4854  , p=0.6941  , df_denom=45, df_num=3\n",
      "ssr based chi2 test:   chi2=1.6828  , p=0.6408  , df=3\n",
      "likelihood ratio test: chi2=1.6561  , p=0.6467  , df=3\n",
      "parameter F test:         F=0.4854  , p=0.6941  , df_denom=45, df_num=3\n",
      "\n",
      "Granger Causality\n",
      "number of lags (no zero) 4\n",
      "ssr based F test:         F=0.2406  , p=0.9137  , df_denom=42, df_num=4\n",
      "ssr based chi2 test:   chi2=1.1687  , p=0.8832  , df=4\n",
      "likelihood ratio test: chi2=1.1555  , p=0.8854  , df=4\n",
      "parameter F test:         F=0.2406  , p=0.9137  , df_denom=42, df_num=4\n",
      "\n",
      "Granger Causality\n",
      "number of lags (no zero) 5\n",
      "ssr based F test:         F=0.6607  , p=0.6553  , df_denom=39, df_num=5\n",
      "ssr based chi2 test:   chi2=4.2353  , p=0.5161  , df=5\n",
      "likelihood ratio test: chi2=4.0654  , p=0.5400  , df=5\n",
      "parameter F test:         F=0.6607  , p=0.6553  , df_denom=39, df_num=5\n",
      "\n",
      "Granger Causality\n",
      "number of lags (no zero) 6\n",
      "ssr based F test:         F=0.3978  , p=0.8755  , df_denom=36, df_num=6\n",
      "ssr based chi2 test:   chi2=3.2488  , p=0.7770  , df=6\n",
      "likelihood ratio test: chi2=3.1456  , p=0.7904  , df=6\n",
      "parameter F test:         F=0.3978  , p=0.8755  , df_denom=36, df_num=6\n",
      "\n",
      "Granger Causality\n",
      "number of lags (no zero) 7\n",
      "ssr based F test:         F=0.4147  , p=0.8862  , df_denom=33, df_num=7\n",
      "ssr based chi2 test:   chi2=4.2222  , p=0.7539  , df=7\n",
      "likelihood ratio test: chi2=4.0467  , p=0.7744  , df=7\n",
      "parameter F test:         F=0.4147  , p=0.8862  , df_denom=33, df_num=7\n",
      "\n",
      "Granger Causality\n",
      "number of lags (no zero) 8\n",
      "ssr based F test:         F=0.3247  , p=0.9500  , df_denom=30, df_num=8\n",
      "ssr based chi2 test:   chi2=4.0702  , p=0.8507  , df=8\n",
      "likelihood ratio test: chi2=3.9035  , p=0.8657  , df=8\n",
      "parameter F test:         F=0.3247  , p=0.9500  , df_denom=30, df_num=8\n"
     ]
    }
   ],
   "execution_count": 66
  },
  {
   "metadata": {
    "ExecuteTime": {
     "end_time": "2025-05-08T03:26:36.883358Z",
     "start_time": "2025-05-08T03:26:36.868450Z"
    }
   },
   "cell_type": "code",
   "source": [
    "test_data = data_processed[['sentiment_index', 'returns_new']].dropna()\n",
    "granger_test = grangercausalitytests(test_data, maxlag=5)"
   ],
   "id": "9e5fc8808bedf0a7",
   "outputs": [
    {
     "name": "stdout",
     "output_type": "stream",
     "text": [
      "\n",
      "Granger Causality\n",
      "number of lags (no zero) 1\n",
      "ssr based F test:         F=2.2673  , p=0.1374  , df_denom=60, df_num=1\n",
      "ssr based chi2 test:   chi2=2.3807  , p=0.1228  , df=1\n",
      "likelihood ratio test: chi2=2.3368  , p=0.1264  , df=1\n",
      "parameter F test:         F=2.2673  , p=0.1374  , df_denom=60, df_num=1\n",
      "\n",
      "Granger Causality\n",
      "number of lags (no zero) 2\n",
      "ssr based F test:         F=2.2502  , p=0.1147  , df_denom=57, df_num=2\n",
      "ssr based chi2 test:   chi2=4.8951  , p=0.0865  , df=2\n",
      "likelihood ratio test: chi2=4.7115  , p=0.0948  , df=2\n",
      "parameter F test:         F=2.2502  , p=0.1147  , df_denom=57, df_num=2\n",
      "\n",
      "Granger Causality\n",
      "number of lags (no zero) 3\n",
      "ssr based F test:         F=1.5695  , p=0.2074  , df_denom=54, df_num=3\n",
      "ssr based chi2 test:   chi2=5.3190  , p=0.1499  , df=3\n",
      "likelihood ratio test: chi2=5.0997  , p=0.1646  , df=3\n",
      "parameter F test:         F=1.5695  , p=0.2074  , df_denom=54, df_num=3\n",
      "\n",
      "Granger Causality\n",
      "number of lags (no zero) 4\n",
      "ssr based F test:         F=1.5891  , p=0.1914  , df_denom=51, df_num=4\n",
      "ssr based chi2 test:   chi2=7.4781  , p=0.1127  , df=4\n",
      "likelihood ratio test: chi2=7.0475  , p=0.1334  , df=4\n",
      "parameter F test:         F=1.5891  , p=0.1914  , df_denom=51, df_num=4\n",
      "\n",
      "Granger Causality\n",
      "number of lags (no zero) 5\n",
      "ssr based F test:         F=1.3783  , p=0.2491  , df_denom=48, df_num=5\n",
      "ssr based chi2 test:   chi2=8.4706  , p=0.1321  , df=5\n",
      "likelihood ratio test: chi2=7.9151  , p=0.1610  , df=5\n",
      "parameter F test:         F=1.3783  , p=0.2491  , df_denom=48, df_num=5\n"
     ]
    }
   ],
   "execution_count": 282
  },
  {
   "metadata": {
    "ExecuteTime": {
     "end_time": "2025-05-08T03:26:49.007326Z",
     "start_time": "2025-05-08T03:26:48.990569Z"
    }
   },
   "cell_type": "code",
   "source": [
    "test_data = data_processed[['sentiment_index', 'log_volatility']].dropna()\n",
    "granger_test = grangercausalitytests(test_data, maxlag=5)"
   ],
   "id": "55eacc89fc732e4d",
   "outputs": [
    {
     "name": "stdout",
     "output_type": "stream",
     "text": [
      "\n",
      "Granger Causality\n",
      "number of lags (no zero) 1\n",
      "ssr based F test:         F=0.0723  , p=0.7889  , df_denom=60, df_num=1\n",
      "ssr based chi2 test:   chi2=0.0759  , p=0.7829  , df=1\n",
      "likelihood ratio test: chi2=0.0759  , p=0.7829  , df=1\n",
      "parameter F test:         F=0.0723  , p=0.7889  , df_denom=60, df_num=1\n",
      "\n",
      "Granger Causality\n",
      "number of lags (no zero) 2\n",
      "ssr based F test:         F=0.5725  , p=0.5673  , df_denom=57, df_num=2\n",
      "ssr based chi2 test:   chi2=1.2455  , p=0.5365  , df=2\n",
      "likelihood ratio test: chi2=1.2332  , p=0.5398  , df=2\n",
      "parameter F test:         F=0.5725  , p=0.5673  , df_denom=57, df_num=2\n",
      "\n",
      "Granger Causality\n",
      "number of lags (no zero) 3\n",
      "ssr based F test:         F=1.2514  , p=0.3003  , df_denom=54, df_num=3\n",
      "ssr based chi2 test:   chi2=4.2407  , p=0.2366  , df=3\n",
      "likelihood ratio test: chi2=4.0998  , p=0.2509  , df=3\n",
      "parameter F test:         F=1.2514  , p=0.3003  , df_denom=54, df_num=3\n",
      "\n",
      "Granger Causality\n",
      "number of lags (no zero) 4\n",
      "ssr based F test:         F=0.9058  , p=0.4676  , df_denom=51, df_num=4\n",
      "ssr based chi2 test:   chi2=4.2628  , p=0.3716  , df=4\n",
      "likelihood ratio test: chi2=4.1182  , p=0.3902  , df=4\n",
      "parameter F test:         F=0.9058  , p=0.4676  , df_denom=51, df_num=4\n",
      "\n",
      "Granger Causality\n",
      "number of lags (no zero) 5\n",
      "ssr based F test:         F=1.2577  , p=0.2976  , df_denom=48, df_num=5\n",
      "ssr based chi2 test:   chi2=7.7293  , p=0.1718  , df=5\n",
      "likelihood ratio test: chi2=7.2633  , p=0.2018  , df=5\n",
      "parameter F test:         F=1.2577  , p=0.2976  , df_denom=48, df_num=5\n"
     ]
    }
   ],
   "execution_count": 283
  },
  {
   "metadata": {},
   "cell_type": "markdown",
   "source": "#### '600519.SH'",
   "id": "6e1c418f3ef64616"
  },
  {
   "metadata": {
    "ExecuteTime": {
     "end_time": "2025-05-07T07:22:48.903142Z",
     "start_time": "2025-05-07T07:22:48.847430Z"
    }
   },
   "cell_type": "code",
   "source": [
    "test_data = data_processed[['returns_new', 'sentiment_index']].dropna()\n",
    "granger_test = grangercausalitytests(test_data, maxlag=8)"
   ],
   "id": "1adf6ef452b725ed",
   "outputs": [
    {
     "name": "stdout",
     "output_type": "stream",
     "text": [
      "\n",
      "Granger Causality\n",
      "number of lags (no zero) 1\n",
      "ssr based F test:         F=0.0037  , p=0.9518  , df_denom=28, df_num=1\n",
      "ssr based chi2 test:   chi2=0.0041  , p=0.9489  , df=1\n",
      "likelihood ratio test: chi2=0.0041  , p=0.9489  , df=1\n",
      "parameter F test:         F=0.0037  , p=0.9518  , df_denom=28, df_num=1\n",
      "\n",
      "Granger Causality\n",
      "number of lags (no zero) 2\n",
      "ssr based F test:         F=0.1206  , p=0.8869  , df_denom=25, df_num=2\n",
      "ssr based chi2 test:   chi2=0.2894  , p=0.8653  , df=2\n",
      "likelihood ratio test: chi2=0.2880  , p=0.8659  , df=2\n",
      "parameter F test:         F=0.1206  , p=0.8869  , df_denom=25, df_num=2\n",
      "\n",
      "Granger Causality\n",
      "number of lags (no zero) 3\n",
      "ssr based F test:         F=0.0803  , p=0.9700  , df_denom=22, df_num=3\n",
      "ssr based chi2 test:   chi2=0.3174  , p=0.9567  , df=3\n",
      "likelihood ratio test: chi2=0.3157  , p=0.9570  , df=3\n",
      "parameter F test:         F=0.0803  , p=0.9700  , df_denom=22, df_num=3\n",
      "\n",
      "Granger Causality\n",
      "number of lags (no zero) 4\n",
      "ssr based F test:         F=0.2666  , p=0.8958  , df_denom=19, df_num=4\n",
      "ssr based chi2 test:   chi2=1.5715  , p=0.8139  , df=4\n",
      "likelihood ratio test: chi2=1.5290  , p=0.8215  , df=4\n",
      "parameter F test:         F=0.2666  , p=0.8958  , df_denom=19, df_num=4\n",
      "\n",
      "Granger Causality\n",
      "number of lags (no zero) 5\n",
      "ssr based F test:         F=0.6243  , p=0.6836  , df_denom=16, df_num=5\n",
      "ssr based chi2 test:   chi2=5.2679  , p=0.3841  , df=5\n",
      "likelihood ratio test: chi2=4.8124  , p=0.4392  , df=5\n",
      "parameter F test:         F=0.6243  , p=0.6836  , df_denom=16, df_num=5\n",
      "\n",
      "Granger Causality\n",
      "number of lags (no zero) 6\n",
      "ssr based F test:         F=0.6851  , p=0.6653  , df_denom=13, df_num=6\n",
      "ssr based chi2 test:   chi2=8.2217  , p=0.2223  , df=6\n",
      "likelihood ratio test: chi2=7.1439  , p=0.3077  , df=6\n",
      "parameter F test:         F=0.6851  , p=0.6653  , df_denom=13, df_num=6\n",
      "\n",
      "Granger Causality\n",
      "number of lags (no zero) 7\n",
      "ssr based F test:         F=0.7165  , p=0.6618  , df_denom=10, df_num=7\n",
      "ssr based chi2 test:   chi2=12.5391 , p=0.0842  , df=7\n",
      "likelihood ratio test: chi2=10.1627 , p=0.1795  , df=7\n",
      "parameter F test:         F=0.7165  , p=0.6618  , df_denom=10, df_num=7\n",
      "\n",
      "Granger Causality\n",
      "number of lags (no zero) 8\n",
      "ssr based F test:         F=0.5138  , p=0.8146  , df_denom=7, df_num=8\n",
      "ssr based chi2 test:   chi2=14.0933 , p=0.0794  , df=8\n",
      "likelihood ratio test: chi2=11.0876 , p=0.1968  , df=8\n",
      "parameter F test:         F=0.5138  , p=0.8146  , df_denom=7, df_num=8\n"
     ]
    }
   ],
   "execution_count": 187
  },
  {
   "metadata": {},
   "cell_type": "markdown",
   "source": "#### '600900.SH'",
   "id": "9beebd71ddb217ee"
  },
  {
   "metadata": {
    "ExecuteTime": {
     "end_time": "2025-05-07T07:24:52.287741Z",
     "start_time": "2025-05-07T07:24:52.255060Z"
    }
   },
   "cell_type": "code",
   "source": [
    "test_data = data_processed[['returns_new', 'sentiment_index']].dropna()\n",
    "granger_test = grangercausalitytests(test_data, maxlag=8)"
   ],
   "id": "3ec9c0859cc4dcaf",
   "outputs": [
    {
     "name": "stdout",
     "output_type": "stream",
     "text": [
      "\n",
      "Granger Causality\n",
      "number of lags (no zero) 1\n",
      "ssr based F test:         F=0.0499  , p=0.8239  , df_denom=60, df_num=1\n",
      "ssr based chi2 test:   chi2=0.0524  , p=0.8189  , df=1\n",
      "likelihood ratio test: chi2=0.0524  , p=0.8189  , df=1\n",
      "parameter F test:         F=0.0499  , p=0.8239  , df_denom=60, df_num=1\n",
      "\n",
      "Granger Causality\n",
      "number of lags (no zero) 2\n",
      "ssr based F test:         F=0.3332  , p=0.7180  , df_denom=57, df_num=2\n",
      "ssr based chi2 test:   chi2=0.7249  , p=0.6960  , df=2\n",
      "likelihood ratio test: chi2=0.7207  , p=0.6974  , df=2\n",
      "parameter F test:         F=0.3332  , p=0.7180  , df_denom=57, df_num=2\n",
      "\n",
      "Granger Causality\n",
      "number of lags (no zero) 3\n",
      "ssr based F test:         F=0.9235  , p=0.4357  , df_denom=54, df_num=3\n",
      "ssr based chi2 test:   chi2=3.1297  , p=0.3721  , df=3\n",
      "likelihood ratio test: chi2=3.0521  , p=0.3837  , df=3\n",
      "parameter F test:         F=0.9235  , p=0.4357  , df_denom=54, df_num=3\n",
      "\n",
      "Granger Causality\n",
      "number of lags (no zero) 4\n",
      "ssr based F test:         F=0.7471  , p=0.5645  , df_denom=51, df_num=4\n",
      "ssr based chi2 test:   chi2=3.5159  , p=0.4755  , df=4\n",
      "likelihood ratio test: chi2=3.4167  , p=0.4907  , df=4\n",
      "parameter F test:         F=0.7471  , p=0.5645  , df_denom=51, df_num=4\n",
      "\n",
      "Granger Causality\n",
      "number of lags (no zero) 5\n",
      "ssr based F test:         F=0.5828  , p=0.7129  , df_denom=48, df_num=5\n",
      "ssr based chi2 test:   chi2=3.5821  , p=0.6110  , df=5\n",
      "likelihood ratio test: chi2=3.4775  , p=0.6268  , df=5\n",
      "parameter F test:         F=0.5828  , p=0.7129  , df_denom=48, df_num=5\n",
      "\n",
      "Granger Causality\n",
      "number of lags (no zero) 6\n",
      "ssr based F test:         F=0.5597  , p=0.7599  , df_denom=45, df_num=6\n",
      "ssr based chi2 test:   chi2=4.3284  , p=0.6323  , df=6\n",
      "likelihood ratio test: chi2=4.1745  , p=0.6531  , df=6\n",
      "parameter F test:         F=0.5597  , p=0.7599  , df_denom=45, df_num=6\n",
      "\n",
      "Granger Causality\n",
      "number of lags (no zero) 7\n",
      "ssr based F test:         F=0.4119  , p=0.8895  , df_denom=42, df_num=7\n",
      "ssr based chi2 test:   chi2=3.9130  , p=0.7897  , df=7\n",
      "likelihood ratio test: chi2=3.7845  , p=0.8042  , df=7\n",
      "parameter F test:         F=0.4119  , p=0.8895  , df_denom=42, df_num=7\n",
      "\n",
      "Granger Causality\n",
      "number of lags (no zero) 8\n",
      "ssr based F test:         F=0.4101  , p=0.9079  , df_denom=39, df_num=8\n",
      "ssr based chi2 test:   chi2=4.7106  , p=0.7880  , df=8\n",
      "likelihood ratio test: chi2=4.5229  , p=0.8071  , df=8\n",
      "parameter F test:         F=0.4101  , p=0.9079  , df_denom=39, df_num=8\n"
     ]
    }
   ],
   "execution_count": 221
  },
  {
   "metadata": {},
   "cell_type": "markdown",
   "source": "#### '601318.SH'",
   "id": "df37047b3e80e8fd"
  },
  {
   "metadata": {
    "ExecuteTime": {
     "end_time": "2025-05-07T07:28:31.379608Z",
     "start_time": "2025-05-07T07:28:31.342900Z"
    }
   },
   "cell_type": "code",
   "source": [
    "test_data = data_processed[['returns_new', 'sentiment_index']].dropna()\n",
    "granger_test = grangercausalitytests(test_data, maxlag=8)"
   ],
   "id": "ff0f83581d1ca051",
   "outputs": [
    {
     "name": "stdout",
     "output_type": "stream",
     "text": [
      "\n",
      "Granger Causality\n",
      "number of lags (no zero) 1\n",
      "ssr based F test:         F=0.2113  , p=0.6485  , df_denom=36, df_num=1\n",
      "ssr based chi2 test:   chi2=0.2289  , p=0.6323  , df=1\n",
      "likelihood ratio test: chi2=0.2282  , p=0.6328  , df=1\n",
      "parameter F test:         F=0.2113  , p=0.6485  , df_denom=36, df_num=1\n",
      "\n",
      "Granger Causality\n",
      "number of lags (no zero) 2\n",
      "ssr based F test:         F=0.8544  , p=0.4348  , df_denom=33, df_num=2\n",
      "ssr based chi2 test:   chi2=1.9676  , p=0.3739  , df=2\n",
      "likelihood ratio test: chi2=1.9184  , p=0.3832  , df=2\n",
      "parameter F test:         F=0.8544  , p=0.4348  , df_denom=33, df_num=2\n",
      "\n",
      "Granger Causality\n",
      "number of lags (no zero) 3\n",
      "ssr based F test:         F=2.5625  , p=0.0734  , df_denom=30, df_num=3\n",
      "ssr based chi2 test:   chi2=9.4813  , p=0.0235  , df=3\n",
      "likelihood ratio test: chi2=8.4409  , p=0.0377  , df=3\n",
      "parameter F test:         F=2.5625  , p=0.0734  , df_denom=30, df_num=3\n",
      "\n",
      "Granger Causality\n",
      "number of lags (no zero) 4\n",
      "ssr based F test:         F=1.8992  , p=0.1395  , df_denom=27, df_num=4\n",
      "ssr based chi2 test:   chi2=10.1293 , p=0.0383  , df=4\n",
      "likelihood ratio test: chi2=8.9255  , p=0.0630  , df=4\n",
      "parameter F test:         F=1.8992  , p=0.1395  , df_denom=27, df_num=4\n",
      "\n",
      "Granger Causality\n",
      "number of lags (no zero) 5\n",
      "ssr based F test:         F=1.7424  , p=0.1633  , df_denom=24, df_num=5\n",
      "ssr based chi2 test:   chi2=12.7052 , p=0.0263  , df=5\n",
      "likelihood ratio test: chi2=10.8392 , p=0.0547  , df=5\n",
      "parameter F test:         F=1.7424  , p=0.1633  , df_denom=24, df_num=5\n",
      "\n",
      "Granger Causality\n",
      "number of lags (no zero) 6\n",
      "ssr based F test:         F=1.6162  , p=0.1920  , df_denom=21, df_num=6\n",
      "ssr based chi2 test:   chi2=15.6999 , p=0.0155  , df=6\n",
      "likelihood ratio test: chi2=12.9078 , p=0.0445  , df=6\n",
      "parameter F test:         F=1.6162  , p=0.1920  , df_denom=21, df_num=6\n",
      "\n",
      "Granger Causality\n",
      "number of lags (no zero) 7\n",
      "ssr based F test:         F=1.2318  , p=0.3365  , df_denom=18, df_num=7\n",
      "ssr based chi2 test:   chi2=15.8076 , p=0.0269  , df=7\n",
      "likelihood ratio test: chi2=12.9155 , p=0.0742  , df=7\n",
      "parameter F test:         F=1.2318  , p=0.3365  , df_denom=18, df_num=7\n",
      "\n",
      "Granger Causality\n",
      "number of lags (no zero) 8\n",
      "ssr based F test:         F=0.9839  , p=0.4849  , df_denom=15, df_num=8\n",
      "ssr based chi2 test:   chi2=16.7916 , p=0.0324  , df=8\n",
      "likelihood ratio test: chi2=13.4983 , p=0.0958  , df=8\n",
      "parameter F test:         F=0.9839  , p=0.4849  , df_denom=15, df_num=8\n"
     ]
    }
   ],
   "execution_count": 255
  },
  {
   "metadata": {},
   "cell_type": "markdown",
   "source": "#### '000333.SZ'",
   "id": "270b15b3d8a8a523"
  },
  {
   "metadata": {
    "ExecuteTime": {
     "end_time": "2025-05-07T07:31:02.917431Z",
     "start_time": "2025-05-07T07:31:02.881263Z"
    }
   },
   "cell_type": "code",
   "source": [
    "test_data = data_processed[['returns_new', 'sentiment_index']].dropna()\n",
    "granger_test = grangercausalitytests(test_data, maxlag=8)"
   ],
   "id": "376bc3aa6d759c6a",
   "outputs": [
    {
     "name": "stdout",
     "output_type": "stream",
     "text": [
      "\n",
      "Granger Causality\n",
      "number of lags (no zero) 1\n",
      "ssr based F test:         F=0.5394  , p=0.4661  , df_denom=51, df_num=1\n",
      "ssr based chi2 test:   chi2=0.5711  , p=0.4498  , df=1\n",
      "likelihood ratio test: chi2=0.5681  , p=0.4510  , df=1\n",
      "parameter F test:         F=0.5394  , p=0.4661  , df_denom=51, df_num=1\n",
      "\n",
      "Granger Causality\n",
      "number of lags (no zero) 2\n",
      "ssr based F test:         F=0.1892  , p=0.8282  , df_denom=48, df_num=2\n",
      "ssr based chi2 test:   chi2=0.4179  , p=0.8114  , df=2\n",
      "likelihood ratio test: chi2=0.4163  , p=0.8121  , df=2\n",
      "parameter F test:         F=0.1892  , p=0.8282  , df_denom=48, df_num=2\n",
      "\n",
      "Granger Causality\n",
      "number of lags (no zero) 3\n",
      "ssr based F test:         F=0.4854  , p=0.6941  , df_denom=45, df_num=3\n",
      "ssr based chi2 test:   chi2=1.6828  , p=0.6408  , df=3\n",
      "likelihood ratio test: chi2=1.6561  , p=0.6467  , df=3\n",
      "parameter F test:         F=0.4854  , p=0.6941  , df_denom=45, df_num=3\n",
      "\n",
      "Granger Causality\n",
      "number of lags (no zero) 4\n",
      "ssr based F test:         F=0.2406  , p=0.9137  , df_denom=42, df_num=4\n",
      "ssr based chi2 test:   chi2=1.1687  , p=0.8832  , df=4\n",
      "likelihood ratio test: chi2=1.1555  , p=0.8854  , df=4\n",
      "parameter F test:         F=0.2406  , p=0.9137  , df_denom=42, df_num=4\n",
      "\n",
      "Granger Causality\n",
      "number of lags (no zero) 5\n",
      "ssr based F test:         F=0.6607  , p=0.6553  , df_denom=39, df_num=5\n",
      "ssr based chi2 test:   chi2=4.2353  , p=0.5161  , df=5\n",
      "likelihood ratio test: chi2=4.0654  , p=0.5400  , df=5\n",
      "parameter F test:         F=0.6607  , p=0.6553  , df_denom=39, df_num=5\n",
      "\n",
      "Granger Causality\n",
      "number of lags (no zero) 6\n",
      "ssr based F test:         F=0.3978  , p=0.8755  , df_denom=36, df_num=6\n",
      "ssr based chi2 test:   chi2=3.2488  , p=0.7770  , df=6\n",
      "likelihood ratio test: chi2=3.1456  , p=0.7904  , df=6\n",
      "parameter F test:         F=0.3978  , p=0.8755  , df_denom=36, df_num=6\n",
      "\n",
      "Granger Causality\n",
      "number of lags (no zero) 7\n",
      "ssr based F test:         F=0.4147  , p=0.8862  , df_denom=33, df_num=7\n",
      "ssr based chi2 test:   chi2=4.2222  , p=0.7539  , df=7\n",
      "likelihood ratio test: chi2=4.0467  , p=0.7744  , df=7\n",
      "parameter F test:         F=0.4147  , p=0.8862  , df_denom=33, df_num=7\n",
      "\n",
      "Granger Causality\n",
      "number of lags (no zero) 8\n",
      "ssr based F test:         F=0.3247  , p=0.9500  , df_denom=30, df_num=8\n",
      "ssr based chi2 test:   chi2=4.0702  , p=0.8507  , df=8\n",
      "likelihood ratio test: chi2=3.9035  , p=0.8657  , df=8\n",
      "parameter F test:         F=0.3247  , p=0.9500  , df_denom=30, df_num=8\n"
     ]
    }
   ],
   "execution_count": 289
  },
  {
   "metadata": {},
   "cell_type": "code",
   "outputs": [],
   "execution_count": null,
   "source": "",
   "id": "741fdd6394233d9b"
  },
  {
   "metadata": {},
   "cell_type": "markdown",
   "source": "#### 固定效应",
   "id": "f91ba6741a1e8aab"
  },
  {
   "metadata": {
    "ExecuteTime": {
     "end_time": "2025-05-13T04:24:20.312735Z",
     "start_time": "2025-05-13T04:24:20.307516Z"
    }
   },
   "cell_type": "code",
   "source": "full_stock = full_stock.set_index(['ts_code', 'trade_date'])  # 设置为面板数据索引",
   "id": "e0465a44aa97deb2",
   "outputs": [],
   "execution_count": 228
  },
  {
   "metadata": {
    "ExecuteTime": {
     "end_time": "2025-05-13T04:24:09.579844Z",
     "start_time": "2025-05-13T04:24:09.574496Z"
    }
   },
   "cell_type": "code",
   "source": "full_stock = full_stock.reset_index()",
   "id": "85ae95732e68d412",
   "outputs": [],
   "execution_count": 226
  },
  {
   "metadata": {
    "ExecuteTime": {
     "end_time": "2025-05-13T04:24:21.919936Z",
     "start_time": "2025-05-13T04:24:21.838053Z"
    }
   },
   "cell_type": "code",
   "source": [
    "# 定义变量\n",
    "dependent_var = full_stock['returns_new']  # 因变量\n",
    "independent_vars = full_stock[['sentiment_index', 'pe_new', 'pb_new', 'turnover_rate_new']]\n",
    "independent_vars = sm.add_constant(independent_vars)  # 添加截距项\n",
    "\n",
    "# 固定效应模型 (控制个体和时间效应)\n",
    "model_fe = PanelOLS(\n",
    "    dependent_var,\n",
    "    independent_vars,\n",
    "    entity_effects=True,  # 个股固定效应\n",
    "    time_effects=True     # 时间固定效应（可选）\n",
    ")\n",
    "results_fe = model_fe.fit()\n",
    "print(results_fe.summary)"
   ],
   "id": "b6413daea27657f1",
   "outputs": [
    {
     "name": "stdout",
     "output_type": "stream",
     "text": [
      "                          PanelOLS Estimation Summary                           \n",
      "================================================================================\n",
      "Dep. Variable:            returns_new   R-squared:                        0.2413\n",
      "Estimator:                   PanelOLS   R-squared (Between):          -1.827e+30\n",
      "No. Observations:                 331   R-squared (Within):               0.2227\n",
      "Date:                Tue, May 13 2025   R-squared (Overall):              0.2220\n",
      "Time:                        12:24:21   Log-likelihood                   -245.43\n",
      "Cov. Estimator:            Unadjusted                                           \n",
      "                                        F-statistic:                      15.263\n",
      "Entities:                           6   P-value                           0.0000\n",
      "Avg Obs:                       55.167   Distribution:                   F(4,192)\n",
      "Min Obs:                       13.000                                           \n",
      "Max Obs:                       127.00   F-statistic (robust):             15.263\n",
      "                                        P-value                           0.0000\n",
      "Time periods:                     130   Distribution:                   F(4,192)\n",
      "Avg Obs:                       2.5462                                           \n",
      "Min Obs:                       1.0000                                           \n",
      "Max Obs:                       6.0000                                           \n",
      "                                                                                \n",
      "                                 Parameter Estimates                                 \n",
      "=====================================================================================\n",
      "                   Parameter  Std. Err.     T-stat    P-value    Lower CI    Upper CI\n",
      "-------------------------------------------------------------------------------------\n",
      "const                 0.0196     0.0369     0.5322     0.5952     -0.0531      0.0923\n",
      "sentiment_index       0.2512     0.0510     4.9253     0.0000      0.1506      0.3518\n",
      "pe_new                0.5629     0.1332     4.2243     0.0000      0.3001      0.8257\n",
      "pb_new                0.2888     0.6425     0.4495     0.6536     -0.9784      1.5559\n",
      "turnover_rate_new     1.0381     0.4812     2.1572     0.0322      0.0889      1.9872\n",
      "=====================================================================================\n",
      "\n",
      "F-test for Poolability: 2.4310\n",
      "P-value: 0.0000\n",
      "Distribution: F(134,192)\n",
      "\n",
      "Included effects: Entity, Time\n"
     ]
    }
   ],
   "execution_count": 229
  },
  {
   "metadata": {},
   "cell_type": "code",
   "outputs": [],
   "execution_count": null,
   "source": "",
   "id": "e921c32d2706bace"
  },
  {
   "metadata": {},
   "cell_type": "markdown",
   "source": "#### 随机效应",
   "id": "76a56d7c662fd55c"
  },
  {
   "metadata": {
    "ExecuteTime": {
     "end_time": "2025-05-07T07:47:30.986819Z",
     "start_time": "2025-05-07T07:47:30.908166Z"
    }
   },
   "cell_type": "code",
   "source": [
    "model_re = RandomEffects(\n",
    "    dependent_var,\n",
    "    independent_vars\n",
    ")\n",
    "results_re = model_re.fit()\n",
    "print(results_re.summary)"
   ],
   "id": "e7d0c652fae5a145",
   "outputs": [
    {
     "name": "stdout",
     "output_type": "stream",
     "text": [
      "                        RandomEffects Estimation Summary                        \n",
      "================================================================================\n",
      "Dep. Variable:            returns_new   R-squared:                        0.2915\n",
      "Estimator:              RandomEffects   R-squared (Between):          -8.793e+30\n",
      "No. Observations:                 331   R-squared (Within):               0.2946\n",
      "Date:                Wed, May 07 2025   R-squared (Overall):              0.2915\n",
      "Time:                        15:47:30   Log-likelihood                   -409.61\n",
      "Cov. Estimator:            Unadjusted                                           \n",
      "                                        F-statistic:                      33.531\n",
      "Entities:                           6   P-value                           0.0000\n",
      "Avg Obs:                       55.167   Distribution:                   F(4,326)\n",
      "Min Obs:                       13.000                                           \n",
      "Max Obs:                       127.00   F-statistic (robust):             33.531\n",
      "                                        P-value                           0.0000\n",
      "Time periods:                     130   Distribution:                   F(4,326)\n",
      "Avg Obs:                       2.5462                                           \n",
      "Min Obs:                       1.0000                                           \n",
      "Max Obs:                       6.0000                                           \n",
      "                                                                                \n",
      "                                 Parameter Estimates                                 \n",
      "=====================================================================================\n",
      "                   Parameter  Std. Err.     T-stat    P-value    Lower CI    Upper CI\n",
      "-------------------------------------------------------------------------------------\n",
      "const                 0.0383     0.0464     0.8267     0.4090     -0.0529      0.1295\n",
      "sentiment_index       0.2285     0.0469     4.8700     0.0000      0.1362      0.3209\n",
      "pe_new                1.0013     0.1509     6.6367     0.0000      0.7045      1.2982\n",
      "pb_new                1.2378     0.7063     1.7525     0.0806     -0.1517      2.6274\n",
      "turnover_rate_new     0.1504     0.3846     0.3912     0.6959     -0.6062      0.9070\n",
      "=====================================================================================\n"
     ]
    }
   ],
   "execution_count": 375
  },
  {
   "metadata": {
    "ExecuteTime": {
     "end_time": "2025-05-07T07:47:43.696213Z",
     "start_time": "2025-05-07T07:47:43.689040Z"
    }
   },
   "cell_type": "code",
   "source": [
    "n_stocks = full_stock.index.get_level_values('ts_code').nunique()\n",
    "n_vars = independent_vars.shape[1]  # 包括截距项\n",
    "print(f\"个股数量：{n_stocks}，解释变量数：{n_vars}\")"
   ],
   "id": "2c225478c63e9c9f",
   "outputs": [
    {
     "name": "stdout",
     "output_type": "stream",
     "text": [
      "个股数量：6，解释变量数：5\n"
     ]
    }
   ],
   "execution_count": 376
  },
  {
   "metadata": {
    "ExecuteTime": {
     "end_time": "2025-05-07T07:49:02.836103Z",
     "start_time": "2025-05-07T07:49:02.814644Z"
    }
   },
   "cell_type": "code",
   "source": [
    "# 比较固定效应和随机效应\n",
    "from linearmodels.panel import compare\n",
    "\n",
    "print(compare({\"FE\": results_fe, \"RE\": results_re}))"
   ],
   "id": "ddba4f10c9497c46",
   "outputs": [
    {
     "name": "stdout",
     "output_type": "stream",
     "text": [
      "                     Model Comparison                    \n",
      "=========================================================\n",
      "                                     FE                RE\n",
      "---------------------------------------------------------\n",
      "Dep. Variable               returns_new       returns_new\n",
      "Estimator                      PanelOLS     RandomEffects\n",
      "No. Observations                    331               331\n",
      "Cov. Est.                    Unadjusted        Unadjusted\n",
      "R-squared                        0.2413            0.2915\n",
      "R-Squared (Within)               0.2227            0.2946\n",
      "R-Squared (Between)          -1.827e+30        -8.793e+30\n",
      "R-Squared (Overall)              0.2220            0.2915\n",
      "F-statistic                      15.263            33.531\n",
      "P-value (F-stat)                 0.0000            0.0000\n",
      "=====================     =============   ===============\n",
      "const                            0.0196            0.0383\n",
      "                               (0.5322)          (0.8267)\n",
      "sentiment_index                  0.2512            0.2285\n",
      "                               (4.9253)          (4.8700)\n",
      "pe_new                           0.5629            1.0013\n",
      "                               (4.2243)          (6.6367)\n",
      "pb_new                           0.2888            1.2378\n",
      "                               (0.4495)          (1.7525)\n",
      "turnover_rate_new                1.0381            0.1504\n",
      "                               (2.1572)          (0.3912)\n",
      "======================= =============== =================\n",
      "Effects                          Entity                  \n",
      "                                   Time                  \n",
      "---------------------------------------------------------\n",
      "\n",
      "T-stats reported in parentheses\n"
     ]
    }
   ],
   "execution_count": 378
  },
  {
   "metadata": {
    "ExecuteTime": {
     "end_time": "2025-05-07T07:48:08.580970Z",
     "start_time": "2025-05-07T07:48:08.532882Z"
    }
   },
   "cell_type": "code",
   "source": [
    "from statsmodels.stats.outliers_influence import variance_inflation_factor\n",
    "\n",
    "vif_data = pd.DataFrame()\n",
    "vif_data[\"Variable\"] = independent_vars.columns\n",
    "vif_data[\"VIF\"] = [variance_inflation_factor(independent_vars.values, i) for i in range(independent_vars.shape[1])]\n",
    "print(vif_data)"
   ],
   "id": "7435eb0c1d4ea6d8",
   "outputs": [
    {
     "name": "stdout",
     "output_type": "stream",
     "text": [
      "            Variable       VIF\n",
      "0              const  1.007170\n",
      "1    sentiment_index  1.013342\n",
      "2             pe_new  1.632454\n",
      "3             pb_new  1.605830\n",
      "4  turnover_rate_new  1.014184\n"
     ]
    }
   ],
   "execution_count": 377
  },
  {
   "metadata": {
    "ExecuteTime": {
     "end_time": "2025-05-07T07:56:03.004586Z",
     "start_time": "2025-05-07T07:56:02.984541Z"
    }
   },
   "cell_type": "code",
   "source": "data_processed[['returns_new', 'log_volatility', 'sentiment_index', 'pb_new', 'pe_new', 'turnover_rate_new']].corr()",
   "id": "cd911afc0cb01030",
   "outputs": [
    {
     "data": {
      "text/plain": [
       "                   returns_new  log_volatility  sentiment_index    pb_new  \\\n",
       "returns_new           1.000000        0.591862         0.390926  0.001770   \n",
       "log_volatility        0.591862        1.000000         0.320199  0.058841   \n",
       "sentiment_index       0.390926        0.320199         1.000000  0.239429   \n",
       "pb_new                0.001770        0.058841         0.239429  1.000000   \n",
       "pe_new                0.999826        0.595513         0.387644  0.012088   \n",
       "turnover_rate_new     0.595639        0.651195         0.290585 -0.230339   \n",
       "\n",
       "                     pe_new  turnover_rate_new  \n",
       "returns_new        0.999826           0.595639  \n",
       "log_volatility     0.595513           0.651195  \n",
       "sentiment_index    0.387644           0.290585  \n",
       "pb_new             0.012088          -0.230339  \n",
       "pe_new             1.000000           0.597144  \n",
       "turnover_rate_new  0.597144           1.000000  "
      ],
      "text/html": [
       "<div>\n",
       "<style scoped>\n",
       "    .dataframe tbody tr th:only-of-type {\n",
       "        vertical-align: middle;\n",
       "    }\n",
       "\n",
       "    .dataframe tbody tr th {\n",
       "        vertical-align: top;\n",
       "    }\n",
       "\n",
       "    .dataframe thead th {\n",
       "        text-align: right;\n",
       "    }\n",
       "</style>\n",
       "<table border=\"1\" class=\"dataframe\">\n",
       "  <thead>\n",
       "    <tr style=\"text-align: right;\">\n",
       "      <th></th>\n",
       "      <th>returns_new</th>\n",
       "      <th>log_volatility</th>\n",
       "      <th>sentiment_index</th>\n",
       "      <th>pb_new</th>\n",
       "      <th>pe_new</th>\n",
       "      <th>turnover_rate_new</th>\n",
       "    </tr>\n",
       "  </thead>\n",
       "  <tbody>\n",
       "    <tr>\n",
       "      <th>returns_new</th>\n",
       "      <td>1.000000</td>\n",
       "      <td>0.591862</td>\n",
       "      <td>0.390926</td>\n",
       "      <td>0.001770</td>\n",
       "      <td>0.999826</td>\n",
       "      <td>0.595639</td>\n",
       "    </tr>\n",
       "    <tr>\n",
       "      <th>log_volatility</th>\n",
       "      <td>0.591862</td>\n",
       "      <td>1.000000</td>\n",
       "      <td>0.320199</td>\n",
       "      <td>0.058841</td>\n",
       "      <td>0.595513</td>\n",
       "      <td>0.651195</td>\n",
       "    </tr>\n",
       "    <tr>\n",
       "      <th>sentiment_index</th>\n",
       "      <td>0.390926</td>\n",
       "      <td>0.320199</td>\n",
       "      <td>1.000000</td>\n",
       "      <td>0.239429</td>\n",
       "      <td>0.387644</td>\n",
       "      <td>0.290585</td>\n",
       "    </tr>\n",
       "    <tr>\n",
       "      <th>pb_new</th>\n",
       "      <td>0.001770</td>\n",
       "      <td>0.058841</td>\n",
       "      <td>0.239429</td>\n",
       "      <td>1.000000</td>\n",
       "      <td>0.012088</td>\n",
       "      <td>-0.230339</td>\n",
       "    </tr>\n",
       "    <tr>\n",
       "      <th>pe_new</th>\n",
       "      <td>0.999826</td>\n",
       "      <td>0.595513</td>\n",
       "      <td>0.387644</td>\n",
       "      <td>0.012088</td>\n",
       "      <td>1.000000</td>\n",
       "      <td>0.597144</td>\n",
       "    </tr>\n",
       "    <tr>\n",
       "      <th>turnover_rate_new</th>\n",
       "      <td>0.595639</td>\n",
       "      <td>0.651195</td>\n",
       "      <td>0.290585</td>\n",
       "      <td>-0.230339</td>\n",
       "      <td>0.597144</td>\n",
       "      <td>1.000000</td>\n",
       "    </tr>\n",
       "  </tbody>\n",
       "</table>\n",
       "</div>"
      ]
     },
     "execution_count": 379,
     "metadata": {},
     "output_type": "execute_result"
    }
   ],
   "execution_count": 379
  }
 ],
 "metadata": {
  "kernelspec": {
   "display_name": "Python 3",
   "language": "python",
   "name": "python3"
  },
  "language_info": {
   "codemirror_mode": {
    "name": "ipython",
    "version": 2
   },
   "file_extension": ".py",
   "mimetype": "text/x-python",
   "name": "python",
   "nbconvert_exporter": "python",
   "pygments_lexer": "ipython2",
   "version": "2.7.6"
  }
 },
 "nbformat": 4,
 "nbformat_minor": 5
}
