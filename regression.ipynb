{
 "cells": [
  {
   "cell_type": "code",
   "execution_count": null,
   "id": "initial_id",
   "metadata": {
    "collapsed": true
   },
   "outputs": [],
   "source": [
    "import numpy as np\n",
    "import pandas as pd\n",
    "import re\n",
    "import matplotlib.pyplot as plt\n",
    "from datetime import datetime\n",
    "from scipy.stats import zscore\n",
    "from statsmodels.tsa.stattools import grangercausalitytests\n",
    "import jieba\n",
    "from snownlp import SnowNLP\n",
    "import tushare as ts\n",
    "import akshare as ak\n",
    "from statsmodels.tsa.stattools import adfuller, coint, kpss,grangercausalitytests\n",
    "from statsmodels.tsa.vector_ar.vecm import coint_johansen\n",
    "import statsmodels.api as sm\n",
    "from linearmodels.panel import PanelOLS, RandomEffects, compare\n",
    "from linearmodels.iv import IV2SLS\n",
    "from scipy import stats\n",
    "from statsmodels.stats.outliers_influence import variance_inflation_factor"
   ]
  },
  {
   "metadata": {},
   "cell_type": "code",
   "outputs": [],
   "execution_count": null,
   "source": [
    "# 平稳性检验\n",
    "# 单位根检验\n",
    "def adf_test(series):\n",
    "    target = adfuller(series)\n",
    "    print('ADF Statistic: {}'.format(target[0]))\n",
    "    print('p-value: {}'.format(target[1]))\n",
    "    print('Critical Values:')\n",
    "    for key, value in target[4].items():\n",
    "        print('\\t{}: {}'.format(key, value))\n",
    "    if target[1] <= 0.05:\n",
    "        print(\"序列平稳\")\n",
    "    else:\n",
    "        print(\"序列不平稳\")"
   ],
   "id": "9d57d6d9f3b9e03c"
  },
  {
   "metadata": {},
   "cell_type": "code",
   "outputs": [],
   "execution_count": null,
   "source": [
    "def stock_test(result):\n",
    "    for column in result.columns:\n",
    "        print(f\"单位根检验 - {column}:\")\n",
    "        adf_test(result[column])"
   ],
   "id": "20967849aedd26ee"
  },
  {
   "metadata": {},
   "cell_type": "code",
   "outputs": [],
   "execution_count": null,
   "source": [
    "def stock_diff_process(data_processed):\n",
    "    for column in ['pe_new', 'pb_new', 'turnover_rate_new']:\n",
    "        data_processed[column] = data_processed[column].diff()\n",
    "    return data_processed"
   ],
   "id": "401e59d16f3f6235"
  },
  {
   "metadata": {},
   "cell_type": "code",
   "outputs": [],
   "execution_count": null,
   "source": [
    "def test_stationarity(series, alpha=0.05):\n",
    "    # ADF检验\n",
    "    adf_result = adfuller(series.dropna())\n",
    "    print(f\"ADF Statistic: {adf_result[0]:.4f}\")\n",
    "    print(f\"ADF p-value: {adf_result[1]:.4f}\")\n",
    "    print(\"ADF结论: 序列平稳\" if adf_result[1] < alpha else \"ADF结论: 序列非平稳\")\n",
    "\n",
    "    # KPSS检验\n",
    "    kpss_result = kpss(series.dropna())\n",
    "    print(f\"\\nKPSS Statistic: {kpss_result[0]:.4f}\")\n",
    "    print(f\"KPSS p-value: {kpss_result[1]:.4f}\")\n",
    "    print(\"KPSS结论: 序列趋势平稳\" if kpss_result[1] > alpha else \"KPSS结论: 序列存在单位根\")\n",
    "\n",
    "# 对每个变量执行检验"
   ],
   "id": "90291f302d8264d8"
  },
  {
   "metadata": {},
   "cell_type": "markdown",
   "source": "## 数据载入",
   "id": "eca1a7082d90edf0"
  },
  {
   "metadata": {},
   "cell_type": "code",
   "outputs": [],
   "execution_count": null,
   "source": "",
   "id": "ed179cf7ebd92241"
  },
  {
   "metadata": {},
   "cell_type": "code",
   "outputs": [],
   "execution_count": null,
   "source": [
    "data = result[['trade_date', 'sentiment_index', 'sentiment_index_lag_1', 'sentiment_index_square', 'agreement_index',\n",
    "               'returns_new', 'volatility', 'log_volatility', 'pe_new', 'pe', 'pb', 'pb_new', 'm2_yoy',\n",
    "               'turnover_rate_new']].copy()"
   ],
   "id": "7a2a6ec69d2cad0e"
  },
  {
   "metadata": {},
   "cell_type": "markdown",
   "source": "## 数据处理",
   "id": "618909127f113283"
  },
  {
   "metadata": {},
   "cell_type": "code",
   "outputs": [],
   "execution_count": null,
   "source": [
    "# 初步数据处理，标注化\n",
    "# 1.1 Z-Score标准化（适用于收益率、波动率）\n",
    "cols_to_standardize = ['returns_new', 'log_volatility', 'sentiment_index', 'sentiment_index_lag_1']\n",
    "data_std = data[cols_to_standardize].apply(lambda x: (x - x.mean()) / x.std())\n"
   ],
   "id": "11ab2ca287d3cd8"
  },
  {
   "metadata": {},
   "cell_type": "code",
   "outputs": [],
   "execution_count": null,
   "source": [
    "# 1.2 Min-Max标准化（适用于交易量）\n",
    "cols_to_minmax = []\n",
    "# data_minmax = data[cols_to_minmax].apply(lambda x: (x - x.min())/(x.max() - x.min()))"
   ],
   "id": "2c59328d9853d06d"
  },
  {
   "metadata": {},
   "cell_type": "code",
   "outputs": [],
   "execution_count": null,
   "source": [
    "# 合并标准化后数据（保留原始数据）\n",
    "data_processed = pd.concat([data.drop(columns=cols_to_standardize + cols_to_minmax),\n",
    "                            data_std], axis=1)"
   ],
   "id": "e5f7a4d0f6c365f0"
  },
  {
   "metadata": {},
   "cell_type": "markdown",
   "source": "## 单位根平稳性检验",
   "id": "cfcaea444a2a324f"
  },
  {
   "metadata": {},
   "cell_type": "code",
   "outputs": [],
   "execution_count": null,
   "source": "",
   "id": "e933c3b403010e3e"
  },
  {
   "metadata": {},
   "cell_type": "code",
   "outputs": [],
   "execution_count": null,
   "source": [
    "for stock_id in stock_id_list:\n",
    "    test_data = data_processed[data_processed['ts_code'] == stock_id]\n",
    "    print(f\"\\n=== {stock_id} 平稳性检验 ===\")\n",
    "    stock_test(dtest_data)\n",
    "    test_data = stock_diff_process(test_data)\n",
    "\n",
    "    for column in ['pe_new', 'pb_new', 'turnover_rate_new']:\n",
    "        print(f\"\\n=== {stock_id}_{column} 平稳性检验 ===\")\n",
    "        test_stationarity(test_data[column])\n"
   ],
   "id": "e0a85b745e2a9616"
  }
 ],
 "metadata": {
  "kernelspec": {
   "display_name": "Python 3",
   "language": "python",
   "name": "python3"
  },
  "language_info": {
   "codemirror_mode": {
    "name": "ipython",
    "version": 2
   },
   "file_extension": ".py",
   "mimetype": "text/x-python",
   "name": "python",
   "nbconvert_exporter": "python",
   "pygments_lexer": "ipython2",
   "version": "2.7.6"
  }
 },
 "nbformat": 4,
 "nbformat_minor": 5
}
